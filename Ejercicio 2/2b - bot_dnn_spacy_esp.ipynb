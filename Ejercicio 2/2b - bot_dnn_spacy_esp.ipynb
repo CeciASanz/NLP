{
  "cells": [
    {
      "cell_type": "markdown",
      "metadata": {
        "id": "view-in-github",
        "colab_type": "text"
      },
      "source": [
        "<a href=\"https://colab.research.google.com/github/CeciASanz/NLP/blob/main/Ejercicio%202/2b%20-%20bot_dnn_spacy_esp.ipynb\" target=\"_parent\"><img src=\"https://colab.research.google.com/assets/colab-badge.svg\" alt=\"Open In Colab\"/></a>"
      ]
    },
    {
      "cell_type": "markdown",
      "metadata": {
        "id": "NV8wZ0MTKjv_"
      },
      "source": [
        "<img src=\"https://github.com/hernancontigiani/ceia_memorias_especializacion/raw/master/Figures/logoFIUBA.jpg\" width=\"500\" align=\"center\">\n",
        "\n",
        "\n",
        "# Procesamiento de lenguaje natural\n",
        "## Bot de consulta abierta y respuestas predeterminadas con DNN + Spacy"
      ]
    },
    {
      "cell_type": "markdown",
      "metadata": {
        "id": "Z_9z3H-yKrcK"
      },
      "source": [
        "#### Datos\n",
        "Este ejemplo se inspiró en otro Bot en inglés creado con NLTK, lo tienen como referencia para hacer lo mismo en inglés:\\\n",
        "[LINK](https://towardsdatascience.com/a-simple-chatbot-in-python-with-deep-learning-3e8669997758)"
      ]
    },
    {
      "cell_type": "markdown",
      "metadata": {
        "id": "oCVZakCzAjGN"
      },
      "source": [
        "### 1 - Instalar dependencias\n",
        "Para poder utilizar Spacy en castellano es necesario agregar la librería \"spacy-stanza\" para lematizar palabras en español."
      ]
    },
    {
      "cell_type": "code",
      "execution_count": 1,
      "metadata": {
        "id": "Zd8NLa4gsSmT",
        "outputId": "7d44377f-e84a-410f-cfd2-b669cdddb7c6",
        "colab": {
          "base_uri": "https://localhost:8080/"
        }
      },
      "outputs": [
        {
          "output_type": "stream",
          "name": "stdout",
          "text": [
            "\u001b[?25l     \u001b[90m━━━━━━━━━━━━━━━━━━━━━━━━━━━━━━━━━━━━━━━━\u001b[0m \u001b[32m0.0/1.0 MB\u001b[0m \u001b[31m?\u001b[0m eta \u001b[36m-:--:--\u001b[0m\r\u001b[2K     \u001b[91m━\u001b[0m\u001b[91m╸\u001b[0m\u001b[90m━━━━━━━━━━━━━━━━━━━━━━━━━━━━━━━━━━━━━━\u001b[0m \u001b[32m0.0/1.0 MB\u001b[0m \u001b[31m1.1 MB/s\u001b[0m eta \u001b[36m0:00:01\u001b[0m\r\u001b[2K     \u001b[91m━━━━━━━━━━━━\u001b[0m\u001b[90m╺\u001b[0m\u001b[90m━━━━━━━━━━━━━━━━━━━━━━━━━━━\u001b[0m \u001b[32m0.3/1.0 MB\u001b[0m \u001b[31m4.4 MB/s\u001b[0m eta \u001b[36m0:00:01\u001b[0m\r\u001b[2K     \u001b[91m━━━━━━━━━━━━━━━━━━━━━━━━━━━━━━\u001b[0m\u001b[91m╸\u001b[0m\u001b[90m━━━━━━━━━\u001b[0m \u001b[32m0.8/1.0 MB\u001b[0m \u001b[31m7.1 MB/s\u001b[0m eta \u001b[36m0:00:01\u001b[0m\r\u001b[2K     \u001b[91m━━━━━━━━━━━━━━━━━━━━━━━━━━━━━━━━━━━━━━━\u001b[0m\u001b[91m╸\u001b[0m \u001b[32m1.0/1.0 MB\u001b[0m \u001b[31m7.9 MB/s\u001b[0m eta \u001b[36m0:00:01\u001b[0m\r\u001b[2K     \u001b[90m━━━━━━━━━━━━━━━━━━━━━━━━━━━━━━━━━━━━━━━━\u001b[0m \u001b[32m1.0/1.0 MB\u001b[0m \u001b[31m6.6 MB/s\u001b[0m eta \u001b[36m0:00:00\u001b[0m\n",
            "\u001b[?25h  Installing build dependencies ... \u001b[?25l\u001b[?25hdone\n",
            "  Getting requirements to build wheel ... \u001b[?25l\u001b[?25hdone\n",
            "  Installing backend dependencies ... \u001b[?25l\u001b[?25hdone\n",
            "  Preparing metadata (pyproject.toml) ... \u001b[?25l\u001b[?25hdone\n",
            "\u001b[2K     \u001b[90m━━━━━━━━━━━━━━━━━━━━━━━━━━━━━━━━━━━━━━━━\u001b[0m \u001b[32m82.8/82.8 kB\u001b[0m \u001b[31m7.1 MB/s\u001b[0m eta \u001b[36m0:00:00\u001b[0m\n",
            "\u001b[?25h  Building wheel for spacy (pyproject.toml) ... \u001b[?25l\u001b[?25hdone\n",
            "\u001b[31mERROR: pip's dependency resolver does not currently take into account all the packages that are installed. This behaviour is the source of the following dependency conflicts.\n",
            "fiona 1.9.4.post1 requires click~=8.0, but you have click 7.1.2 which is incompatible.\n",
            "flask 2.2.5 requires click>=8.0, but you have click 7.1.2 which is incompatible.\n",
            "en-core-web-sm 3.5.0 requires spacy<3.6.0,>=3.5.0, but you have spacy 3.1.0 which is incompatible.\n",
            "inflect 6.0.5 requires pydantic<2,>=1.9.1, but you have pydantic 1.8.2 which is incompatible.\n",
            "pip-tools 6.13.0 requires click>=8, but you have click 7.1.2 which is incompatible.\u001b[0m\u001b[31m\n",
            "\u001b[2K     \u001b[90m━━━━━━━━━━━━━━━━━━━━━━━━━━━━━━━━━━━━━━━\u001b[0m \u001b[32m342.1/342.1 kB\u001b[0m \u001b[31m5.0 MB/s\u001b[0m eta \u001b[36m0:00:00\u001b[0m\n",
            "\u001b[?25h"
          ]
        }
      ],
      "source": [
        "# La última versión de spacy-stanza (>1.0) es compatible solo con spacy >=3.0\n",
        "# Nota: spacy 3.0 incorpora al pipeline NLP transformers\n",
        "!pip install -U spacy==3.1 --quiet\n",
        "!pip install -U spacy-stanza==1.0.0 --quiet"
      ]
    },
    {
      "cell_type": "code",
      "execution_count": 2,
      "metadata": {
        "id": "kzao7XO9NJAq"
      },
      "outputs": [],
      "source": [
        "import json\n",
        "import string\n",
        "import random\n",
        "import numpy as np\n",
        "\n",
        "import tensorflow as tf\n",
        "from tensorflow.keras import Sequential\n",
        "from tensorflow.keras.layers import Dense, Dropout"
      ]
    },
    {
      "cell_type": "code",
      "execution_count": 3,
      "metadata": {
        "id": "Z_ExOb8uvjqK",
        "outputId": "1f3a536c-3929-4da0-fad7-8aab383e965b",
        "colab": {
          "base_uri": "https://localhost:8080/",
          "height": 463,
          "referenced_widgets": [
            "40b80cee266547afb5f47f250d52b0bc",
            "f994d4bdebb94eb78774e2b9398f99c9",
            "1f3116c78fde4d0cb87b360311eef330",
            "61d1956cf49e4d5da59fb910301df1ad",
            "8f4dea66d1bb4734a1b2057c879a2a4d",
            "10cab8b7c74947308f81162ba05ad0da",
            "82104a876289498a869749fec2d8a777",
            "1f711d2a88d14a66afe6fade3b4c7d78",
            "0154a628917a4ba5a916613570c02bf9",
            "9454f06e53d84291a24182aab1cef0c3",
            "ab31e2caf1464af084b88d820ee239c2",
            "be908e42053249009d2f66bbcc6d5d35",
            "26c5e4d58bcd496ba1737e7d488f6044",
            "293683432a4a4dc8aa40cafc38539d12",
            "9b1d9d6a504b45b1934b0025ab113807",
            "ea575c833017418cade3489786573b2f",
            "16a9b9c1398243ff9010877c8cdcc6d8",
            "c74e1732f4cd41dbbb964cd52588d6f1",
            "ee1fd9e85e664b34a1cbad28c94679eb",
            "a98a761a347d4a48872ae335ee24bcd0",
            "b07964bde56148398f843e5e8feacf06",
            "f174cd6f7c7e4ef2aab0da2394111cfe"
          ]
        }
      },
      "outputs": [
        {
          "output_type": "display_data",
          "data": {
            "text/plain": [
              "Downloading https://raw.githubusercontent.com/stanfordnlp/stanza-resources/main/resources_1.2.2.json:   0%|   …"
            ],
            "application/vnd.jupyter.widget-view+json": {
              "version_major": 2,
              "version_minor": 0,
              "model_id": "40b80cee266547afb5f47f250d52b0bc"
            }
          },
          "metadata": {}
        },
        {
          "output_type": "stream",
          "name": "stderr",
          "text": [
            "INFO:stanza:Downloading default packages for language: es (Spanish)...\n"
          ]
        },
        {
          "output_type": "display_data",
          "data": {
            "text/plain": [
              "Downloading http://nlp.stanford.edu/software/stanza/1.2.2/es/default.zip:   0%|          | 0.00/566M [00:00<?,…"
            ],
            "application/vnd.jupyter.widget-view+json": {
              "version_major": 2,
              "version_minor": 0,
              "model_id": "be908e42053249009d2f66bbcc6d5d35"
            }
          },
          "metadata": {}
        },
        {
          "output_type": "stream",
          "name": "stderr",
          "text": [
            "INFO:stanza:Finished downloading models and saved to /root/stanza_resources.\n",
            "INFO:stanza:Loading these models for language: es (Spanish):\n",
            "=======================\n",
            "| Processor | Package |\n",
            "-----------------------\n",
            "| tokenize  | ancora  |\n",
            "| mwt       | ancora  |\n",
            "| pos       | ancora  |\n",
            "| lemma     | ancora  |\n",
            "| depparse  | ancora  |\n",
            "| ner       | conll02 |\n",
            "=======================\n",
            "\n",
            "INFO:stanza:Use device: cpu\n",
            "INFO:stanza:Loading: tokenize\n",
            "INFO:stanza:Loading: mwt\n",
            "INFO:stanza:Loading: pos\n",
            "INFO:stanza:Loading: lemma\n",
            "INFO:stanza:Loading: depparse\n",
            "INFO:stanza:Loading: ner\n",
            "INFO:stanza:Done loading processors!\n"
          ]
        }
      ],
      "source": [
        "import stanza\n",
        "import spacy_stanza\n",
        "\n",
        "# Vamos a usar SpaCy-Stanza. Stanza es una librería de NLP de Stanford\n",
        "# SpaCy armó un wrapper para los pipelines y modelos de Stanza\n",
        "# https://stanfordnlp.github.io/stanza/\n",
        "\n",
        "# Descargar el diccionario en español y armar el pipeline de NLP con spacy\n",
        "stanza.download(\"es\")\n",
        "nlp = spacy_stanza.load_pipeline(\"es\")"
      ]
    },
    {
      "cell_type": "markdown",
      "metadata": {
        "id": "_wF10RjVMBdV"
      },
      "source": [
        "### 2 - Herramientas de preprocesamiento de datos\n",
        "Entre las tareas de procesamiento de texto en español se implementa:\n",
        "- Quitar acentos y caracteres especiales\n",
        "- Quitar números\n",
        "- Quitar símbolos de puntuación"
      ]
    },
    {
      "cell_type": "code",
      "execution_count": 4,
      "metadata": {
        "id": "ZxoD2hEExmuX"
      },
      "outputs": [],
      "source": [
        "import re\n",
        "import unicodedata\n",
        "\n",
        "# El preprocesamento en castellano requiere más trabajo\n",
        "\n",
        "# Referencia de regex:\n",
        "# https://docs.python.org/3/library/re.html\n",
        "\n",
        "def preprocess_clean_text(text):\n",
        "    # sacar tildes de las palabras:\n",
        "    text = unicodedata.normalize('NFKD', text).encode('ascii', 'ignore').decode('utf-8', 'ignore')\n",
        "    # quitar caracteres especiales\n",
        "    pattern = r'[^a-zA-z0-9.,!?/:;\\\"\\'\\s]' # [^ : ningún caracter de todos estos\n",
        "    # (termina eliminando cualquier caracter distinto de los del regex)\n",
        "    text = re.sub(pattern, '', text)\n",
        "    pattern = r'[^a-zA-z.,!?/:;\\\"\\'\\s]' # igual al anterior pero sin cifras numéricas\n",
        "    # quitar números\n",
        "    text = re.sub(pattern, '', text)\n",
        "    # quitar caracteres de puntuación\n",
        "    text = ''.join([c for c in text if c not in string.punctuation])\n",
        "    return text"
      ]
    },
    {
      "cell_type": "code",
      "execution_count": 5,
      "metadata": {
        "id": "q-MiMZjh5fu2",
        "outputId": "99ad16f4-9fe8-4499-fc3c-1cadfcf2378a",
        "colab": {
          "base_uri": "https://localhost:8080/",
          "height": 35
        }
      },
      "outputs": [
        {
          "output_type": "execute_result",
          "data": {
            "text/plain": [
              "'personas ideas estas cosas y los peces y los murcielagos'"
            ],
            "application/vnd.google.colaboratory.intrinsic+json": {
              "type": "string"
            }
          },
          "metadata": {},
          "execution_count": 5
        }
      ],
      "source": [
        "text = \"personas Ideas! estás cosas y los peces y los murciélagos\"\n",
        "\n",
        "# Antes de preprocesar los datos se pasa a minúsculas todo el texto\n",
        "preprocess_clean_text(text.lower())"
      ]
    },
    {
      "cell_type": "code",
      "execution_count": 6,
      "metadata": {
        "id": "I9V-S8JbrtNn",
        "outputId": "994240f4-6ce4-4659-a1f6-9655cd01dee3",
        "colab": {
          "base_uri": "https://localhost:8080/"
        }
      },
      "outputs": [
        {
          "output_type": "stream",
          "name": "stdout",
          "text": [
            "tokens: hola personas ideas estas cosas y los peces y los murcielagos\n",
            "Lematización de cada token:\n",
            "[hola, 'holar']\n",
            "[personas, 'persona']\n",
            "[ideas, 'idea']\n",
            "[estas, 'este']\n",
            "[cosas, 'cosa']\n",
            "[y, 'y']\n",
            "[los, 'el']\n",
            "[peces, 'pez']\n",
            "[y, 'y']\n",
            "[los, 'el']\n",
            "[murcielagos, 'murcielago']\n"
          ]
        }
      ],
      "source": [
        "# Ejemplo de como funciona\n",
        "text = \"hola personas Ideas! estás cosas y los peces y los murciélagos\"\n",
        "\n",
        "# Antes de preprocesar los datos se pasa a minúsculas todo el texto\n",
        "tokens = nlp(preprocess_clean_text(text.lower()))\n",
        "print(\"tokens:\", tokens)\n",
        "print(\"Lematización de cada token:\")\n",
        "for token in tokens:\n",
        "    print([token, token.lemma_])"
      ]
    },
    {
      "cell_type": "markdown",
      "metadata": {
        "id": "ilRbn0KfMm2r"
      },
      "source": [
        "### 3 - Diccionario de entrada"
      ]
    },
    {
      "cell_type": "code",
      "execution_count": 20,
      "metadata": {
        "id": "NgIGpjymNEH7"
      },
      "outputs": [],
      "source": [
        "# Dataset en formato JSON que representa las posibles preguntas (patterns)\n",
        "# y las posibles respuestas por categoría (tag)\n",
        "# Los \"patterns\" van a formar el corpus para entrenar el clasificador que clasifica en tags\n",
        "# \"respones\" son las respuestas predeterminadas posibles para cada tag\n",
        "dataset = {\"intents\": [\n",
        "             {\"tag\": \"bienvenida\",\n",
        "              \"patterns\": [\"Hola\", \"¿Cómo estás?\", \"¿Qué tal?\"],\n",
        "              \"responses\": [\"Hola!\", \"Hola, ¿Cómo estás?\"],\n",
        "             },\n",
        "             {\"tag\": \"nombre\",\n",
        "              \"patterns\": [\"¿Cúal es tu nombre?\", \"¿Quién sos?\"],\n",
        "              \"responses\": [\"Mi nombre es Ayla Pilates\", \"Somos Ayla Pilates\"]\n",
        "             },\n",
        "            {\"tag\": \"contacto\",\n",
        "              \"patterns\": [\"contacto\", \"número de contacto\", \"número de teléfono\", \"número de whatsapp\", \"whatsapp\"],\n",
        "              \"responses\": [\"Podes contactarnos al siguiente <numero>\", \"Contactos al whatsapp <numero>\"]\n",
        "             },\n",
        "            {\"tag\": \"clases\",\n",
        "              \"patterns\": [\"¿Cuanto duran las clases?\", \"¿Cuantas personas por clase?\"],\n",
        "              \"responses\": [\"Las clases duran 50 minutos son de hasta 7 alumnos por clase.\"]\n",
        "             },\n",
        "            {\"tag\": \"horarios\",\n",
        "              \"patterns\": [\"horarios\", \"Me podrás pasar los horarios\", \"¿En que horario?\", \"¿Que días?\"],\n",
        "              \"responses\": [\"Lunes, miércoles y viernes de 8 a 15hs, martes y jueves de 8 a 13hs y de lunes a viernes de 16 a 21hs\"]\n",
        "             },\n",
        "            {\"tag\": \"precio\",\n",
        "              \"patterns\": [\"precios\", \"Me podrás pasar los precios\", \"¿Cual es el precio?\"],\n",
        "              \"responses\": [\"1 vez por semana $6200, 2 veces por semana $7400, 3 veces por semana $8200, 4 veces por semana $9400\"]\n",
        "             },\n",
        "            {\"tag\": \"pagos\",\n",
        "              \"patterns\": [\"medios de pago\", \"tarjeta de crédito\", \"tarjetas\", \"cuotas\"],\n",
        "              \"responses\": [\"Podes pagarnos en efectivo o con Mercafo Pago\"]\n",
        "             },\n",
        "            {\"tag\": \"agradecimientos\",\n",
        "              \"patterns\": [ \"Muchas gracias\", \"Gracias\"],\n",
        "              \"responses\": [\"Por nada!, cualquier otra consulta podes escribirme\"]\n",
        "             },\n",
        "             {\"tag\": \"despedida\",\n",
        "              \"patterns\": [ \"Chau\", \"Hasta luego!\"],\n",
        "              \"responses\": [\"Hasta luego!\", \"Hablamos luego!\"]\n",
        "             }\n",
        "]}"
      ]
    },
    {
      "cell_type": "markdown",
      "metadata": {
        "id": "19PEDmIDfLRu"
      },
      "source": [
        "### 4 - Preprocesamiento y armado del dataset"
      ]
    },
    {
      "cell_type": "code",
      "execution_count": 21,
      "metadata": {
        "id": "b3HP8abHNRk3"
      },
      "outputs": [],
      "source": [
        "# Datos que necesitaremos, las palabras o vocabulario\n",
        "words = []\n",
        "classes = []\n",
        "doc_X = []\n",
        "doc_y = []\n",
        "\n",
        "# Por cada intención (intents) debemos tomar los patrones que la caracterizan\n",
        "# a esa intención y transformarla a tokens para almacenar en doc_X\n",
        "\n",
        "# El tag de cada intención se almacena como doc_Y (la clase a predecir)\n",
        "# En `words` vamos a guardar el vocabulario\n",
        "# En `class` las posibles clases o tags\n",
        "\n",
        "for intent in dataset[\"intents\"]:\n",
        "    for pattern in intent[\"patterns\"]:\n",
        "        # trasformar el patron a tokens\n",
        "        tokens = nlp(preprocess_clean_text(pattern.lower()))\n",
        "        # lematizar los tokens\n",
        "        for token in tokens:\n",
        "            words.append(token.lemma_)\n",
        "\n",
        "        doc_X.append(pattern)\n",
        "        doc_y.append(intent[\"tag\"])\n",
        "\n",
        "    # Agregar el tag a las clases\n",
        "    if intent[\"tag\"] not in classes:\n",
        "        classes.append(intent[\"tag\"])\n",
        "\n",
        "# Elminar duplicados con \"set\" y ordenar el vocubulario y las clases por orden alfabético\n",
        "words = sorted(set(words))\n",
        "classes = sorted(set(classes))"
      ]
    },
    {
      "cell_type": "code",
      "execution_count": 22,
      "metadata": {
        "id": "Acy-gcugNbMH",
        "outputId": "3408216a-3ef6-4331-f880-2ca9f05f49e8",
        "colab": {
          "base_uri": "https://localhost:8080/"
        }
      },
      "outputs": [
        {
          "output_type": "stream",
          "name": "stdout",
          "text": [
            "words: ['chau', 'clase', 'como', 'contacto', 'credito', 'cual', 'cuanto', 'cuota', 'de', 'dia', 'durar', 'el', 'en', 'este', 'gracias', 'hasta', 'holar', 'horario', 'luego', 'medio', 'mucho', 'nombre', 'numero', 'pago', 'pasar', 'persona', 'poder', 'por', 'precio', 'que', 'quien', 'ser', 'tal', 'tarjeta', 'telefono', 'tu', 'whatsapp', 'yo']\n",
            "classes: ['agradecimientos', 'bienvenida', 'clases', 'contacto', 'despedida', 'horarios', 'nombre', 'pagos', 'precio']\n",
            "doc_X: ['Hola', '¿Cómo estás?', '¿Qué tal?', '¿Cúal es tu nombre?', '¿Quién sos?', 'contacto', 'número de contacto', 'número de teléfono', 'número de whatsapp', 'whatsapp', '¿Cuanto duran las clases?', '¿Cuantas personas por clase?', 'horarios', 'Me podrás pasar los horarios', '¿En que horario?', '¿Que días?', 'precios', 'Me podrás pasar los precios', '¿Cual es el precio?', 'medios de pago', 'tarjeta de crédito', 'tarjetas', 'cuotas', 'Muchas gracias', 'Gracias', 'Chau', 'Hasta luego!']\n",
            "doc_y: ['bienvenida', 'bienvenida', 'bienvenida', 'nombre', 'nombre', 'contacto', 'contacto', 'contacto', 'contacto', 'contacto', 'clases', 'clases', 'horarios', 'horarios', 'horarios', 'horarios', 'precio', 'precio', 'precio', 'pagos', 'pagos', 'pagos', 'pagos', 'agradecimientos', 'agradecimientos', 'despedida', 'despedida']\n"
          ]
        }
      ],
      "source": [
        "print(\"words:\", words)\n",
        "print(\"classes:\", classes)\n",
        "print(\"doc_X:\", doc_X)\n",
        "print(\"doc_y:\", doc_y)"
      ]
    },
    {
      "cell_type": "code",
      "execution_count": 23,
      "metadata": {
        "id": "YI0L2U7IQcvy",
        "outputId": "0fc15bf5-152d-4645-97bb-1865abacaec5",
        "colab": {
          "base_uri": "https://localhost:8080/"
        }
      },
      "outputs": [
        {
          "output_type": "stream",
          "name": "stdout",
          "text": [
            "Vocabulario: 38\n"
          ]
        }
      ],
      "source": [
        "# Tamaño del vocabulario\n",
        "print(\"Vocabulario:\", len(words))"
      ]
    },
    {
      "cell_type": "code",
      "execution_count": 24,
      "metadata": {
        "id": "hqBeGKRk_q4r",
        "outputId": "a0e29240-af15-4025-fac6-1b848bfe7517",
        "colab": {
          "base_uri": "https://localhost:8080/"
        }
      },
      "outputs": [
        {
          "output_type": "stream",
          "name": "stdout",
          "text": [
            "Tags: 9\n"
          ]
        }
      ],
      "source": [
        "# Cantidad de tags\n",
        "print(\"Tags:\", len(classes))"
      ]
    },
    {
      "cell_type": "code",
      "execution_count": 25,
      "metadata": {
        "id": "vpbJ0guPN2Uq",
        "outputId": "79f59085-4203-4bf1-9542-114ac92982d7",
        "colab": {
          "base_uri": "https://localhost:8080/"
        }
      },
      "outputs": [
        {
          "output_type": "stream",
          "name": "stdout",
          "text": [
            "X: [0, 0, 0, 0, 0, 0, 0, 0, 0, 0, 0, 0, 0, 0, 0, 0, 1, 0, 0, 0, 0, 0, 0, 0, 0, 0, 0, 0, 0, 0, 0, 0, 0, 0, 0, 0, 0, 0] y: [0, 1, 0, 0, 0, 0, 0, 0, 0]\n",
            "X: [0, 0, 1, 0, 0, 0, 0, 0, 0, 0, 0, 0, 0, 1, 0, 0, 0, 0, 0, 0, 0, 0, 0, 0, 0, 0, 0, 0, 0, 0, 0, 0, 0, 0, 0, 0, 0, 0] y: [0, 1, 0, 0, 0, 0, 0, 0, 0]\n",
            "X: [0, 0, 0, 0, 0, 0, 0, 0, 0, 0, 0, 0, 0, 0, 0, 0, 0, 0, 0, 0, 0, 0, 0, 0, 0, 0, 0, 0, 0, 1, 0, 0, 1, 0, 0, 0, 0, 0] y: [0, 1, 0, 0, 0, 0, 0, 0, 0]\n",
            "X: [0, 0, 0, 0, 0, 1, 0, 0, 0, 0, 0, 0, 0, 0, 0, 0, 0, 0, 0, 0, 0, 1, 0, 0, 0, 0, 0, 0, 0, 0, 0, 1, 0, 0, 0, 1, 0, 0] y: [0, 0, 0, 0, 0, 0, 1, 0, 0]\n",
            "X: [0, 0, 0, 0, 0, 0, 0, 0, 0, 0, 0, 0, 0, 0, 0, 0, 0, 0, 0, 0, 0, 0, 0, 0, 0, 0, 0, 0, 0, 0, 1, 1, 0, 0, 0, 0, 0, 0] y: [0, 0, 0, 0, 0, 0, 1, 0, 0]\n",
            "X: [0, 0, 0, 1, 0, 0, 0, 0, 0, 0, 0, 0, 0, 0, 0, 0, 0, 0, 0, 0, 0, 0, 0, 0, 0, 0, 0, 0, 0, 0, 0, 0, 0, 0, 0, 0, 0, 0] y: [0, 0, 0, 1, 0, 0, 0, 0, 0]\n",
            "X: [0, 0, 0, 1, 0, 0, 0, 0, 1, 0, 0, 0, 0, 0, 0, 0, 0, 0, 0, 0, 0, 0, 1, 0, 0, 0, 0, 0, 0, 0, 0, 0, 0, 0, 0, 0, 0, 0] y: [0, 0, 0, 1, 0, 0, 0, 0, 0]\n",
            "X: [0, 0, 0, 0, 0, 0, 0, 0, 1, 0, 0, 0, 0, 0, 0, 0, 0, 0, 0, 0, 0, 0, 1, 0, 0, 0, 0, 0, 0, 0, 0, 0, 0, 0, 1, 0, 0, 0] y: [0, 0, 0, 1, 0, 0, 0, 0, 0]\n",
            "X: [0, 0, 0, 0, 0, 0, 0, 0, 1, 0, 0, 0, 0, 0, 0, 0, 0, 0, 0, 0, 0, 0, 1, 0, 0, 0, 0, 0, 0, 0, 0, 0, 0, 0, 0, 0, 1, 0] y: [0, 0, 0, 1, 0, 0, 0, 0, 0]\n",
            "X: [0, 0, 0, 0, 0, 0, 0, 0, 0, 0, 0, 0, 0, 0, 0, 0, 0, 0, 0, 0, 0, 0, 0, 0, 0, 0, 0, 0, 0, 0, 0, 0, 0, 0, 0, 0, 1, 0] y: [0, 0, 0, 1, 0, 0, 0, 0, 0]\n",
            "X: [0, 1, 0, 0, 0, 0, 1, 0, 0, 0, 1, 1, 0, 0, 0, 0, 0, 0, 0, 0, 0, 0, 0, 0, 0, 0, 0, 0, 0, 0, 0, 0, 0, 0, 0, 0, 0, 0] y: [0, 0, 1, 0, 0, 0, 0, 0, 0]\n",
            "X: [0, 1, 0, 0, 0, 0, 1, 0, 0, 0, 0, 0, 0, 0, 0, 0, 0, 0, 0, 0, 0, 0, 0, 0, 0, 1, 0, 1, 0, 0, 0, 0, 0, 0, 0, 0, 0, 0] y: [0, 0, 1, 0, 0, 0, 0, 0, 0]\n",
            "X: [0, 0, 0, 0, 0, 0, 0, 0, 0, 0, 0, 0, 0, 0, 0, 0, 0, 1, 0, 0, 0, 0, 0, 0, 0, 0, 0, 0, 0, 0, 0, 0, 0, 0, 0, 0, 0, 0] y: [0, 0, 0, 0, 0, 1, 0, 0, 0]\n",
            "X: [0, 0, 0, 0, 0, 0, 0, 0, 0, 0, 0, 1, 0, 0, 0, 0, 0, 1, 0, 0, 0, 0, 0, 0, 1, 0, 1, 0, 0, 0, 0, 0, 0, 0, 0, 0, 0, 1] y: [0, 0, 0, 0, 0, 1, 0, 0, 0]\n",
            "X: [0, 0, 0, 0, 0, 0, 0, 0, 0, 0, 0, 0, 1, 0, 0, 0, 0, 1, 0, 0, 0, 0, 0, 0, 0, 0, 0, 0, 0, 1, 0, 0, 0, 0, 0, 0, 0, 0] y: [0, 0, 0, 0, 0, 1, 0, 0, 0]\n",
            "X: [0, 0, 0, 0, 0, 0, 0, 0, 0, 1, 0, 0, 0, 0, 0, 0, 0, 0, 0, 0, 0, 0, 0, 0, 0, 0, 0, 0, 0, 1, 0, 0, 0, 0, 0, 0, 0, 0] y: [0, 0, 0, 0, 0, 1, 0, 0, 0]\n",
            "X: [0, 0, 0, 0, 0, 0, 0, 0, 0, 0, 0, 0, 0, 0, 0, 0, 0, 0, 0, 0, 0, 0, 0, 0, 0, 0, 0, 0, 1, 0, 0, 0, 0, 0, 0, 0, 0, 0] y: [0, 0, 0, 0, 0, 0, 0, 0, 1]\n",
            "X: [0, 0, 0, 0, 0, 0, 0, 0, 0, 0, 0, 1, 0, 0, 0, 0, 0, 0, 0, 0, 0, 0, 0, 0, 1, 0, 1, 0, 1, 0, 0, 0, 0, 0, 0, 0, 0, 1] y: [0, 0, 0, 0, 0, 0, 0, 0, 1]\n",
            "X: [0, 0, 0, 0, 0, 1, 0, 0, 0, 0, 0, 1, 0, 0, 0, 0, 0, 0, 0, 0, 0, 0, 0, 0, 0, 0, 0, 0, 1, 0, 0, 1, 0, 0, 0, 0, 0, 0] y: [0, 0, 0, 0, 0, 0, 0, 0, 1]\n",
            "X: [0, 0, 0, 0, 0, 0, 0, 0, 1, 0, 0, 0, 0, 0, 0, 0, 0, 0, 0, 1, 0, 0, 0, 1, 0, 0, 0, 0, 0, 0, 0, 0, 0, 0, 0, 0, 0, 0] y: [0, 0, 0, 0, 0, 0, 0, 1, 0]\n",
            "X: [0, 0, 0, 0, 1, 0, 0, 0, 1, 0, 0, 0, 0, 0, 0, 0, 0, 0, 0, 0, 0, 0, 0, 0, 0, 0, 0, 0, 0, 0, 0, 0, 0, 1, 0, 0, 0, 0] y: [0, 0, 0, 0, 0, 0, 0, 1, 0]\n",
            "X: [0, 0, 0, 0, 0, 0, 0, 0, 0, 0, 0, 0, 0, 0, 0, 0, 0, 0, 0, 0, 0, 0, 0, 0, 0, 0, 0, 0, 0, 0, 0, 0, 0, 1, 0, 0, 0, 0] y: [0, 0, 0, 0, 0, 0, 0, 1, 0]\n",
            "X: [0, 0, 0, 0, 0, 0, 0, 1, 0, 0, 0, 0, 0, 0, 0, 0, 0, 0, 0, 0, 0, 0, 0, 0, 0, 0, 0, 0, 0, 0, 0, 0, 0, 0, 0, 0, 0, 0] y: [0, 0, 0, 0, 0, 0, 0, 1, 0]\n",
            "X: [0, 0, 0, 0, 0, 0, 0, 0, 0, 0, 0, 0, 0, 0, 1, 0, 0, 0, 0, 0, 1, 0, 0, 0, 0, 0, 0, 0, 0, 0, 0, 0, 0, 0, 0, 0, 0, 0] y: [1, 0, 0, 0, 0, 0, 0, 0, 0]\n",
            "X: [0, 0, 0, 0, 0, 0, 0, 0, 0, 0, 0, 0, 0, 0, 1, 0, 0, 0, 0, 0, 0, 0, 0, 0, 0, 0, 0, 0, 0, 0, 0, 0, 0, 0, 0, 0, 0, 0] y: [1, 0, 0, 0, 0, 0, 0, 0, 0]\n",
            "X: [1, 0, 0, 0, 0, 0, 0, 0, 0, 0, 0, 0, 0, 0, 0, 0, 0, 0, 0, 0, 0, 0, 0, 0, 0, 0, 0, 0, 0, 0, 0, 0, 0, 0, 0, 0, 0, 0] y: [0, 0, 0, 0, 1, 0, 0, 0, 0]\n",
            "X: [0, 0, 0, 0, 0, 0, 0, 0, 0, 0, 0, 0, 0, 0, 0, 1, 0, 0, 1, 0, 0, 0, 0, 0, 0, 0, 0, 0, 0, 0, 0, 0, 0, 0, 0, 0, 0, 0] y: [0, 0, 0, 0, 1, 0, 0, 0, 0]\n"
          ]
        }
      ],
      "source": [
        "# Transformar doc_X en bag of words por oneHotEncoding\n",
        "# Transformar doc_Y en un vector de clases multicategórico con oneHotEncoding\n",
        "\n",
        "training = []\n",
        "out_empty = [0] * len(classes)\n",
        "\n",
        "for idx, doc in enumerate(doc_X):\n",
        "    # Transformar la pregunta (input) en tokens y lematizar\n",
        "    text = []\n",
        "    tokens = nlp(preprocess_clean_text(doc.lower()))\n",
        "    for token in tokens:\n",
        "        text.append(token.lemma_)\n",
        "\n",
        "    # Transformar los tokens en \"Bag of words\" (arrays de 1 y 0)\n",
        "    bow = []\n",
        "    for word in words:\n",
        "        bow.append(1) if word in text else bow.append(0)\n",
        "\n",
        "    # Crear el array de salida (class output) correspondiente\n",
        "    output_row = list(out_empty)\n",
        "    output_row[classes.index(doc_y[idx])] = 1\n",
        "\n",
        "    print(\"X:\", bow, \"y:\", output_row)\n",
        "    training.append([bow, output_row])\n",
        "\n",
        "# Mezclar los datos\n",
        "random.shuffle(training)\n",
        "training = np.array(training, dtype=object)\n",
        "# Dividir en datos de entrada y salida\n",
        "train_X = np.array(list(training[:, 0]))\n",
        "train_y = np.array(list(training[:, 1]))"
      ]
    },
    {
      "cell_type": "markdown",
      "metadata": {
        "id": "a_Hr8QaDfRf3"
      },
      "source": [
        "### 5 - Entrenamiento del modelo"
      ]
    },
    {
      "cell_type": "code",
      "execution_count": 26,
      "metadata": {
        "id": "fopb3NqcAGTz",
        "outputId": "b593f21f-b4e0-4105-c53f-b901aecb4e0b",
        "colab": {
          "base_uri": "https://localhost:8080/"
        }
      },
      "outputs": [
        {
          "output_type": "stream",
          "name": "stdout",
          "text": [
            "input: (38,) output: 9\n"
          ]
        }
      ],
      "source": [
        "# Shape de entrada y salida\n",
        "input_shape = (train_X.shape[1],)\n",
        "output_shape = train_y.shape[1]\n",
        "print(\"input:\", input_shape, \"output:\", output_shape)"
      ]
    },
    {
      "cell_type": "code",
      "execution_count": 27,
      "metadata": {
        "id": "xy7tzkwdOZx9",
        "outputId": "f10847d8-008e-4b27-94ef-05986e53d225",
        "colab": {
          "base_uri": "https://localhost:8080/"
        }
      },
      "outputs": [
        {
          "output_type": "stream",
          "name": "stdout",
          "text": [
            "Model: \"sequential_1\"\n",
            "_________________________________________________________________\n",
            " Layer (type)                Output Shape              Param #   \n",
            "=================================================================\n",
            " dense_3 (Dense)             (None, 128)               4992      \n",
            "                                                                 \n",
            " dropout_2 (Dropout)         (None, 128)               0         \n",
            "                                                                 \n",
            " dense_4 (Dense)             (None, 64)                8256      \n",
            "                                                                 \n",
            " dropout_3 (Dropout)         (None, 64)                0         \n",
            "                                                                 \n",
            " dense_5 (Dense)             (None, 9)                 585       \n",
            "                                                                 \n",
            "=================================================================\n",
            "Total params: 13,833\n",
            "Trainable params: 13,833\n",
            "Non-trainable params: 0\n",
            "_________________________________________________________________\n",
            "None\n"
          ]
        }
      ],
      "source": [
        "# Entrenamiento del modelo DNN\n",
        "# - Modelo secuencial\n",
        "# - Con regularización\n",
        "# - softmax y optimizador Adam\n",
        "model = Sequential()\n",
        "model.add(Dense(128, input_shape=input_shape, activation=\"relu\"))\n",
        "model.add(Dropout(0.5))\n",
        "model.add(Dense(64, activation=\"relu\"))\n",
        "model.add(Dropout(0.5))\n",
        "model.add(Dense(output_shape, activation = \"softmax\"))\n",
        "\n",
        "model.compile(loss='categorical_crossentropy',\n",
        "              optimizer=\"Adam\",\n",
        "              metrics=[\"accuracy\"])\n",
        "print(model.summary())"
      ]
    },
    {
      "cell_type": "code",
      "execution_count": 28,
      "metadata": {
        "id": "r6hi4EcdOghm",
        "outputId": "eae1ca72-e70a-4ca3-cf98-ead00d129744",
        "colab": {
          "base_uri": "https://localhost:8080/"
        }
      },
      "outputs": [
        {
          "output_type": "stream",
          "name": "stdout",
          "text": [
            "Epoch 1/200\n",
            "1/1 [==============================] - 2s 2s/step - loss: 2.3276 - accuracy: 0.0741\n",
            "Epoch 2/200\n",
            "1/1 [==============================] - 0s 14ms/step - loss: 2.2350 - accuracy: 0.1111\n",
            "Epoch 3/200\n",
            "1/1 [==============================] - 0s 13ms/step - loss: 2.1907 - accuracy: 0.1481\n",
            "Epoch 4/200\n",
            "1/1 [==============================] - 0s 14ms/step - loss: 2.1924 - accuracy: 0.0741\n",
            "Epoch 5/200\n",
            "1/1 [==============================] - 0s 13ms/step - loss: 2.2495 - accuracy: 0.0741\n",
            "Epoch 6/200\n",
            "1/1 [==============================] - 0s 14ms/step - loss: 2.1590 - accuracy: 0.2593\n",
            "Epoch 7/200\n",
            "1/1 [==============================] - 0s 14ms/step - loss: 2.1904 - accuracy: 0.1111\n",
            "Epoch 8/200\n",
            "1/1 [==============================] - 0s 17ms/step - loss: 2.1534 - accuracy: 0.1111\n",
            "Epoch 9/200\n",
            "1/1 [==============================] - 0s 18ms/step - loss: 2.1139 - accuracy: 0.1852\n",
            "Epoch 10/200\n",
            "1/1 [==============================] - 0s 19ms/step - loss: 2.0920 - accuracy: 0.2222\n",
            "Epoch 11/200\n",
            "1/1 [==============================] - 0s 12ms/step - loss: 2.0304 - accuracy: 0.3333\n",
            "Epoch 12/200\n",
            "1/1 [==============================] - 0s 23ms/step - loss: 2.1274 - accuracy: 0.2593\n",
            "Epoch 13/200\n",
            "1/1 [==============================] - 0s 20ms/step - loss: 2.1199 - accuracy: 0.2963\n",
            "Epoch 14/200\n",
            "1/1 [==============================] - 0s 19ms/step - loss: 2.1213 - accuracy: 0.1481\n",
            "Epoch 15/200\n",
            "1/1 [==============================] - 0s 18ms/step - loss: 2.0987 - accuracy: 0.1852\n",
            "Epoch 16/200\n",
            "1/1 [==============================] - 0s 18ms/step - loss: 2.0607 - accuracy: 0.1852\n",
            "Epoch 17/200\n",
            "1/1 [==============================] - 0s 13ms/step - loss: 2.0551 - accuracy: 0.1852\n",
            "Epoch 18/200\n",
            "1/1 [==============================] - 0s 13ms/step - loss: 2.0577 - accuracy: 0.3704\n",
            "Epoch 19/200\n",
            "1/1 [==============================] - 0s 12ms/step - loss: 2.1261 - accuracy: 0.1481\n",
            "Epoch 20/200\n",
            "1/1 [==============================] - 0s 12ms/step - loss: 2.0156 - accuracy: 0.3704\n",
            "Epoch 21/200\n",
            "1/1 [==============================] - 0s 12ms/step - loss: 2.0198 - accuracy: 0.2963\n",
            "Epoch 22/200\n",
            "1/1 [==============================] - 0s 13ms/step - loss: 1.9754 - accuracy: 0.4074\n",
            "Epoch 23/200\n",
            "1/1 [==============================] - 0s 11ms/step - loss: 1.9796 - accuracy: 0.3333\n",
            "Epoch 24/200\n",
            "1/1 [==============================] - 0s 17ms/step - loss: 1.9710 - accuracy: 0.4074\n",
            "Epoch 25/200\n",
            "1/1 [==============================] - 0s 17ms/step - loss: 1.9571 - accuracy: 0.4074\n",
            "Epoch 26/200\n",
            "1/1 [==============================] - 0s 11ms/step - loss: 1.9487 - accuracy: 0.3333\n",
            "Epoch 27/200\n",
            "1/1 [==============================] - 0s 10ms/step - loss: 1.9493 - accuracy: 0.4074\n",
            "Epoch 28/200\n",
            "1/1 [==============================] - 0s 11ms/step - loss: 1.9604 - accuracy: 0.4815\n",
            "Epoch 29/200\n",
            "1/1 [==============================] - 0s 14ms/step - loss: 1.8690 - accuracy: 0.5926\n",
            "Epoch 30/200\n",
            "1/1 [==============================] - 0s 13ms/step - loss: 1.8548 - accuracy: 0.4815\n",
            "Epoch 31/200\n",
            "1/1 [==============================] - 0s 9ms/step - loss: 1.8882 - accuracy: 0.4815\n",
            "Epoch 32/200\n",
            "1/1 [==============================] - 0s 14ms/step - loss: 1.9238 - accuracy: 0.4074\n",
            "Epoch 33/200\n",
            "1/1 [==============================] - 0s 13ms/step - loss: 1.8565 - accuracy: 0.5556\n",
            "Epoch 34/200\n",
            "1/1 [==============================] - 0s 11ms/step - loss: 1.9194 - accuracy: 0.4074\n",
            "Epoch 35/200\n",
            "1/1 [==============================] - 0s 14ms/step - loss: 1.8645 - accuracy: 0.5556\n",
            "Epoch 36/200\n",
            "1/1 [==============================] - 0s 14ms/step - loss: 1.8285 - accuracy: 0.4815\n",
            "Epoch 37/200\n",
            "1/1 [==============================] - 0s 14ms/step - loss: 1.8655 - accuracy: 0.4815\n",
            "Epoch 38/200\n",
            "1/1 [==============================] - 0s 11ms/step - loss: 1.8478 - accuracy: 0.5556\n",
            "Epoch 39/200\n",
            "1/1 [==============================] - 0s 14ms/step - loss: 1.8116 - accuracy: 0.5556\n",
            "Epoch 40/200\n",
            "1/1 [==============================] - 0s 15ms/step - loss: 1.8029 - accuracy: 0.5556\n",
            "Epoch 41/200\n",
            "1/1 [==============================] - 0s 15ms/step - loss: 1.7687 - accuracy: 0.5926\n",
            "Epoch 42/200\n",
            "1/1 [==============================] - 0s 17ms/step - loss: 1.7402 - accuracy: 0.5185\n",
            "Epoch 43/200\n",
            "1/1 [==============================] - 0s 16ms/step - loss: 1.6996 - accuracy: 0.6667\n",
            "Epoch 44/200\n",
            "1/1 [==============================] - 0s 11ms/step - loss: 1.7734 - accuracy: 0.5556\n",
            "Epoch 45/200\n",
            "1/1 [==============================] - 0s 13ms/step - loss: 1.7527 - accuracy: 0.5185\n",
            "Epoch 46/200\n",
            "1/1 [==============================] - 0s 14ms/step - loss: 1.5926 - accuracy: 0.6296\n",
            "Epoch 47/200\n",
            "1/1 [==============================] - 0s 12ms/step - loss: 1.6411 - accuracy: 0.7407\n",
            "Epoch 48/200\n",
            "1/1 [==============================] - 0s 15ms/step - loss: 1.5489 - accuracy: 0.7037\n",
            "Epoch 49/200\n",
            "1/1 [==============================] - 0s 12ms/step - loss: 1.6777 - accuracy: 0.6667\n",
            "Epoch 50/200\n",
            "1/1 [==============================] - 0s 15ms/step - loss: 1.6532 - accuracy: 0.5926\n",
            "Epoch 51/200\n",
            "1/1 [==============================] - 0s 16ms/step - loss: 1.5689 - accuracy: 0.7407\n",
            "Epoch 52/200\n",
            "1/1 [==============================] - 0s 12ms/step - loss: 1.5864 - accuracy: 0.5556\n",
            "Epoch 53/200\n",
            "1/1 [==============================] - 0s 11ms/step - loss: 1.6608 - accuracy: 0.5926\n",
            "Epoch 54/200\n",
            "1/1 [==============================] - 0s 12ms/step - loss: 1.4725 - accuracy: 0.7407\n",
            "Epoch 55/200\n",
            "1/1 [==============================] - 0s 12ms/step - loss: 1.5939 - accuracy: 0.6667\n",
            "Epoch 56/200\n",
            "1/1 [==============================] - 0s 13ms/step - loss: 1.4779 - accuracy: 0.6667\n",
            "Epoch 57/200\n",
            "1/1 [==============================] - 0s 14ms/step - loss: 1.5449 - accuracy: 0.5926\n",
            "Epoch 58/200\n",
            "1/1 [==============================] - 0s 13ms/step - loss: 1.5383 - accuracy: 0.6296\n",
            "Epoch 59/200\n",
            "1/1 [==============================] - 0s 13ms/step - loss: 1.5375 - accuracy: 0.6667\n",
            "Epoch 60/200\n",
            "1/1 [==============================] - 0s 13ms/step - loss: 1.4714 - accuracy: 0.7407\n",
            "Epoch 61/200\n",
            "1/1 [==============================] - 0s 14ms/step - loss: 1.4346 - accuracy: 0.6667\n",
            "Epoch 62/200\n",
            "1/1 [==============================] - 0s 14ms/step - loss: 1.3918 - accuracy: 0.7037\n",
            "Epoch 63/200\n",
            "1/1 [==============================] - 0s 11ms/step - loss: 1.4216 - accuracy: 0.7037\n",
            "Epoch 64/200\n",
            "1/1 [==============================] - 0s 12ms/step - loss: 1.3540 - accuracy: 0.7778\n",
            "Epoch 65/200\n",
            "1/1 [==============================] - 0s 11ms/step - loss: 1.4159 - accuracy: 0.6667\n",
            "Epoch 66/200\n",
            "1/1 [==============================] - 0s 12ms/step - loss: 1.3836 - accuracy: 0.7037\n",
            "Epoch 67/200\n",
            "1/1 [==============================] - 0s 14ms/step - loss: 1.3079 - accuracy: 0.7407\n",
            "Epoch 68/200\n",
            "1/1 [==============================] - 0s 17ms/step - loss: 1.4149 - accuracy: 0.7778\n",
            "Epoch 69/200\n",
            "1/1 [==============================] - 0s 14ms/step - loss: 1.1205 - accuracy: 0.7778\n",
            "Epoch 70/200\n",
            "1/1 [==============================] - 0s 11ms/step - loss: 1.2340 - accuracy: 0.7778\n",
            "Epoch 71/200\n",
            "1/1 [==============================] - 0s 17ms/step - loss: 1.1893 - accuracy: 0.7778\n",
            "Epoch 72/200\n",
            "1/1 [==============================] - 0s 11ms/step - loss: 1.3134 - accuracy: 0.8148\n",
            "Epoch 73/200\n",
            "1/1 [==============================] - 0s 13ms/step - loss: 1.1693 - accuracy: 0.8519\n",
            "Epoch 74/200\n",
            "1/1 [==============================] - 0s 14ms/step - loss: 1.2090 - accuracy: 0.8148\n",
            "Epoch 75/200\n",
            "1/1 [==============================] - 0s 12ms/step - loss: 1.1345 - accuracy: 0.7778\n",
            "Epoch 76/200\n",
            "1/1 [==============================] - 0s 11ms/step - loss: 1.2735 - accuracy: 0.7778\n",
            "Epoch 77/200\n",
            "1/1 [==============================] - 0s 15ms/step - loss: 1.2578 - accuracy: 0.7407\n",
            "Epoch 78/200\n",
            "1/1 [==============================] - 0s 11ms/step - loss: 1.0660 - accuracy: 0.7407\n",
            "Epoch 79/200\n",
            "1/1 [==============================] - 0s 10ms/step - loss: 0.9822 - accuracy: 0.8519\n",
            "Epoch 80/200\n",
            "1/1 [==============================] - 0s 13ms/step - loss: 1.1060 - accuracy: 0.8148\n",
            "Epoch 81/200\n",
            "1/1 [==============================] - 0s 13ms/step - loss: 1.1105 - accuracy: 0.7407\n",
            "Epoch 82/200\n",
            "1/1 [==============================] - 0s 14ms/step - loss: 1.1151 - accuracy: 0.7407\n",
            "Epoch 83/200\n",
            "1/1 [==============================] - 0s 11ms/step - loss: 1.0534 - accuracy: 0.8148\n",
            "Epoch 84/200\n",
            "1/1 [==============================] - 0s 11ms/step - loss: 1.0140 - accuracy: 0.8519\n",
            "Epoch 85/200\n",
            "1/1 [==============================] - 0s 15ms/step - loss: 0.9586 - accuracy: 0.8519\n",
            "Epoch 86/200\n",
            "1/1 [==============================] - 0s 11ms/step - loss: 1.0186 - accuracy: 0.8148\n",
            "Epoch 87/200\n",
            "1/1 [==============================] - 0s 10ms/step - loss: 1.0707 - accuracy: 0.8148\n",
            "Epoch 88/200\n",
            "1/1 [==============================] - 0s 13ms/step - loss: 0.8724 - accuracy: 0.9259\n",
            "Epoch 89/200\n",
            "1/1 [==============================] - 0s 10ms/step - loss: 0.9533 - accuracy: 0.8889\n",
            "Epoch 90/200\n",
            "1/1 [==============================] - 0s 10ms/step - loss: 1.0618 - accuracy: 0.7778\n",
            "Epoch 91/200\n",
            "1/1 [==============================] - 0s 14ms/step - loss: 0.7688 - accuracy: 0.9259\n",
            "Epoch 92/200\n",
            "1/1 [==============================] - 0s 10ms/step - loss: 0.8649 - accuracy: 0.8889\n",
            "Epoch 93/200\n",
            "1/1 [==============================] - 0s 14ms/step - loss: 1.0367 - accuracy: 0.8148\n",
            "Epoch 94/200\n",
            "1/1 [==============================] - 0s 12ms/step - loss: 0.9604 - accuracy: 0.7407\n",
            "Epoch 95/200\n",
            "1/1 [==============================] - 0s 13ms/step - loss: 0.9575 - accuracy: 0.8519\n",
            "Epoch 96/200\n",
            "1/1 [==============================] - 0s 13ms/step - loss: 0.8190 - accuracy: 0.8889\n",
            "Epoch 97/200\n",
            "1/1 [==============================] - 0s 13ms/step - loss: 0.7633 - accuracy: 0.9259\n",
            "Epoch 98/200\n",
            "1/1 [==============================] - 0s 14ms/step - loss: 0.8814 - accuracy: 0.8889\n",
            "Epoch 99/200\n",
            "1/1 [==============================] - 0s 14ms/step - loss: 0.7810 - accuracy: 0.9259\n",
            "Epoch 100/200\n",
            "1/1 [==============================] - 0s 13ms/step - loss: 0.8341 - accuracy: 0.8148\n",
            "Epoch 101/200\n",
            "1/1 [==============================] - 0s 13ms/step - loss: 0.7808 - accuracy: 0.8889\n",
            "Epoch 102/200\n",
            "1/1 [==============================] - 0s 12ms/step - loss: 0.9400 - accuracy: 0.8519\n",
            "Epoch 103/200\n",
            "1/1 [==============================] - 0s 12ms/step - loss: 0.6971 - accuracy: 0.8889\n",
            "Epoch 104/200\n",
            "1/1 [==============================] - 0s 15ms/step - loss: 0.6098 - accuracy: 0.9259\n",
            "Epoch 105/200\n",
            "1/1 [==============================] - 0s 12ms/step - loss: 0.6780 - accuracy: 0.8889\n",
            "Epoch 106/200\n",
            "1/1 [==============================] - 0s 12ms/step - loss: 0.7065 - accuracy: 0.9259\n",
            "Epoch 107/200\n",
            "1/1 [==============================] - 0s 13ms/step - loss: 0.6769 - accuracy: 0.9630\n",
            "Epoch 108/200\n",
            "1/1 [==============================] - 0s 11ms/step - loss: 0.5211 - accuracy: 0.9630\n",
            "Epoch 109/200\n",
            "1/1 [==============================] - 0s 14ms/step - loss: 0.6577 - accuracy: 0.9259\n",
            "Epoch 110/200\n",
            "1/1 [==============================] - 0s 10ms/step - loss: 0.6554 - accuracy: 0.8889\n",
            "Epoch 111/200\n",
            "1/1 [==============================] - 0s 11ms/step - loss: 0.5813 - accuracy: 0.9630\n",
            "Epoch 112/200\n",
            "1/1 [==============================] - 0s 13ms/step - loss: 0.6205 - accuracy: 0.9259\n",
            "Epoch 113/200\n",
            "1/1 [==============================] - 0s 13ms/step - loss: 0.5038 - accuracy: 1.0000\n",
            "Epoch 114/200\n",
            "1/1 [==============================] - 0s 12ms/step - loss: 0.6500 - accuracy: 0.8889\n",
            "Epoch 115/200\n",
            "1/1 [==============================] - 0s 13ms/step - loss: 0.6051 - accuracy: 0.9630\n",
            "Epoch 116/200\n",
            "1/1 [==============================] - 0s 12ms/step - loss: 0.5677 - accuracy: 0.9630\n",
            "Epoch 117/200\n",
            "1/1 [==============================] - 0s 13ms/step - loss: 0.6232 - accuracy: 0.8889\n",
            "Epoch 118/200\n",
            "1/1 [==============================] - 0s 13ms/step - loss: 0.5663 - accuracy: 0.9259\n",
            "Epoch 119/200\n",
            "1/1 [==============================] - 0s 13ms/step - loss: 0.6277 - accuracy: 0.8889\n",
            "Epoch 120/200\n",
            "1/1 [==============================] - 0s 13ms/step - loss: 0.5858 - accuracy: 0.9630\n",
            "Epoch 121/200\n",
            "1/1 [==============================] - 0s 12ms/step - loss: 0.4926 - accuracy: 1.0000\n",
            "Epoch 122/200\n",
            "1/1 [==============================] - 0s 12ms/step - loss: 0.4643 - accuracy: 1.0000\n",
            "Epoch 123/200\n",
            "1/1 [==============================] - 0s 11ms/step - loss: 0.4591 - accuracy: 1.0000\n",
            "Epoch 124/200\n",
            "1/1 [==============================] - 0s 13ms/step - loss: 0.4151 - accuracy: 1.0000\n",
            "Epoch 125/200\n",
            "1/1 [==============================] - 0s 14ms/step - loss: 0.4064 - accuracy: 1.0000\n",
            "Epoch 126/200\n",
            "1/1 [==============================] - 0s 12ms/step - loss: 0.5094 - accuracy: 0.9630\n",
            "Epoch 127/200\n",
            "1/1 [==============================] - 0s 14ms/step - loss: 0.4528 - accuracy: 0.9630\n",
            "Epoch 128/200\n",
            "1/1 [==============================] - 0s 11ms/step - loss: 0.4717 - accuracy: 0.9630\n",
            "Epoch 129/200\n",
            "1/1 [==============================] - 0s 13ms/step - loss: 0.4788 - accuracy: 0.9259\n",
            "Epoch 130/200\n",
            "1/1 [==============================] - 0s 14ms/step - loss: 0.5810 - accuracy: 0.8889\n",
            "Epoch 131/200\n",
            "1/1 [==============================] - 0s 13ms/step - loss: 0.5143 - accuracy: 0.9259\n",
            "Epoch 132/200\n",
            "1/1 [==============================] - 0s 11ms/step - loss: 0.4309 - accuracy: 0.8519\n",
            "Epoch 133/200\n",
            "1/1 [==============================] - 0s 13ms/step - loss: 0.3803 - accuracy: 1.0000\n",
            "Epoch 134/200\n",
            "1/1 [==============================] - 0s 15ms/step - loss: 0.3986 - accuracy: 1.0000\n",
            "Epoch 135/200\n",
            "1/1 [==============================] - 0s 11ms/step - loss: 0.4279 - accuracy: 0.9259\n",
            "Epoch 136/200\n",
            "1/1 [==============================] - 0s 14ms/step - loss: 0.3324 - accuracy: 0.9630\n",
            "Epoch 137/200\n",
            "1/1 [==============================] - 0s 10ms/step - loss: 0.3546 - accuracy: 0.9630\n",
            "Epoch 138/200\n",
            "1/1 [==============================] - 0s 11ms/step - loss: 0.3776 - accuracy: 0.9259\n",
            "Epoch 139/200\n",
            "1/1 [==============================] - 0s 13ms/step - loss: 0.3496 - accuracy: 0.8889\n",
            "Epoch 140/200\n",
            "1/1 [==============================] - 0s 10ms/step - loss: 0.5372 - accuracy: 0.8519\n",
            "Epoch 141/200\n",
            "1/1 [==============================] - 0s 11ms/step - loss: 0.4633 - accuracy: 0.9630\n",
            "Epoch 142/200\n",
            "1/1 [==============================] - 0s 11ms/step - loss: 0.3270 - accuracy: 0.9630\n",
            "Epoch 143/200\n",
            "1/1 [==============================] - 0s 14ms/step - loss: 0.5023 - accuracy: 0.9259\n",
            "Epoch 144/200\n",
            "1/1 [==============================] - 0s 12ms/step - loss: 0.4301 - accuracy: 0.9259\n",
            "Epoch 145/200\n",
            "1/1 [==============================] - 0s 12ms/step - loss: 0.2518 - accuracy: 1.0000\n",
            "Epoch 146/200\n",
            "1/1 [==============================] - 0s 12ms/step - loss: 0.5509 - accuracy: 0.9259\n",
            "Epoch 147/200\n",
            "1/1 [==============================] - 0s 15ms/step - loss: 0.3243 - accuracy: 1.0000\n",
            "Epoch 148/200\n",
            "1/1 [==============================] - 0s 14ms/step - loss: 0.3485 - accuracy: 0.9259\n",
            "Epoch 149/200\n",
            "1/1 [==============================] - 0s 11ms/step - loss: 0.3055 - accuracy: 1.0000\n",
            "Epoch 150/200\n",
            "1/1 [==============================] - 0s 11ms/step - loss: 0.4467 - accuracy: 0.8889\n",
            "Epoch 151/200\n",
            "1/1 [==============================] - 0s 11ms/step - loss: 0.3685 - accuracy: 0.8889\n",
            "Epoch 152/200\n",
            "1/1 [==============================] - 0s 11ms/step - loss: 0.3971 - accuracy: 0.9259\n",
            "Epoch 153/200\n",
            "1/1 [==============================] - 0s 11ms/step - loss: 0.3681 - accuracy: 1.0000\n",
            "Epoch 154/200\n",
            "1/1 [==============================] - 0s 12ms/step - loss: 0.4441 - accuracy: 0.9259\n",
            "Epoch 155/200\n",
            "1/1 [==============================] - 0s 12ms/step - loss: 0.3474 - accuracy: 0.9630\n",
            "Epoch 156/200\n",
            "1/1 [==============================] - 0s 15ms/step - loss: 0.2141 - accuracy: 1.0000\n",
            "Epoch 157/200\n",
            "1/1 [==============================] - 0s 12ms/step - loss: 0.3338 - accuracy: 0.9259\n",
            "Epoch 158/200\n",
            "1/1 [==============================] - 0s 13ms/step - loss: 0.2926 - accuracy: 0.9259\n",
            "Epoch 159/200\n",
            "1/1 [==============================] - 0s 11ms/step - loss: 0.3128 - accuracy: 1.0000\n",
            "Epoch 160/200\n",
            "1/1 [==============================] - 0s 11ms/step - loss: 0.3024 - accuracy: 1.0000\n",
            "Epoch 161/200\n",
            "1/1 [==============================] - 0s 14ms/step - loss: 0.1564 - accuracy: 1.0000\n",
            "Epoch 162/200\n",
            "1/1 [==============================] - 0s 14ms/step - loss: 0.3321 - accuracy: 0.9259\n",
            "Epoch 163/200\n",
            "1/1 [==============================] - 0s 14ms/step - loss: 0.3291 - accuracy: 0.9259\n",
            "Epoch 164/200\n",
            "1/1 [==============================] - 0s 12ms/step - loss: 0.2997 - accuracy: 1.0000\n",
            "Epoch 165/200\n",
            "1/1 [==============================] - 0s 12ms/step - loss: 0.3206 - accuracy: 0.9630\n",
            "Epoch 166/200\n",
            "1/1 [==============================] - 0s 11ms/step - loss: 0.2611 - accuracy: 1.0000\n",
            "Epoch 167/200\n",
            "1/1 [==============================] - 0s 13ms/step - loss: 0.1758 - accuracy: 1.0000\n",
            "Epoch 168/200\n",
            "1/1 [==============================] - 0s 11ms/step - loss: 0.2514 - accuracy: 1.0000\n",
            "Epoch 169/200\n",
            "1/1 [==============================] - 0s 13ms/step - loss: 0.2391 - accuracy: 1.0000\n",
            "Epoch 170/200\n",
            "1/1 [==============================] - 0s 13ms/step - loss: 0.1825 - accuracy: 1.0000\n",
            "Epoch 171/200\n",
            "1/1 [==============================] - 0s 13ms/step - loss: 0.3016 - accuracy: 0.9630\n",
            "Epoch 172/200\n",
            "1/1 [==============================] - 0s 12ms/step - loss: 0.2372 - accuracy: 0.9630\n",
            "Epoch 173/200\n",
            "1/1 [==============================] - 0s 13ms/step - loss: 0.2275 - accuracy: 1.0000\n",
            "Epoch 174/200\n",
            "1/1 [==============================] - 0s 11ms/step - loss: 0.3103 - accuracy: 0.9259\n",
            "Epoch 175/200\n",
            "1/1 [==============================] - 0s 11ms/step - loss: 0.2987 - accuracy: 1.0000\n",
            "Epoch 176/200\n",
            "1/1 [==============================] - 0s 12ms/step - loss: 0.3270 - accuracy: 0.9259\n",
            "Epoch 177/200\n",
            "1/1 [==============================] - 0s 12ms/step - loss: 0.2455 - accuracy: 0.9630\n",
            "Epoch 178/200\n",
            "1/1 [==============================] - 0s 11ms/step - loss: 0.1872 - accuracy: 1.0000\n",
            "Epoch 179/200\n",
            "1/1 [==============================] - 0s 12ms/step - loss: 0.1643 - accuracy: 1.0000\n",
            "Epoch 180/200\n",
            "1/1 [==============================] - 0s 13ms/step - loss: 0.1433 - accuracy: 1.0000\n",
            "Epoch 181/200\n",
            "1/1 [==============================] - 0s 12ms/step - loss: 0.2504 - accuracy: 0.9630\n",
            "Epoch 182/200\n",
            "1/1 [==============================] - 0s 14ms/step - loss: 0.1435 - accuracy: 1.0000\n",
            "Epoch 183/200\n",
            "1/1 [==============================] - 0s 12ms/step - loss: 0.1341 - accuracy: 1.0000\n",
            "Epoch 184/200\n",
            "1/1 [==============================] - 0s 11ms/step - loss: 0.2494 - accuracy: 0.9630\n",
            "Epoch 185/200\n",
            "1/1 [==============================] - 0s 12ms/step - loss: 0.1836 - accuracy: 1.0000\n",
            "Epoch 186/200\n",
            "1/1 [==============================] - 0s 14ms/step - loss: 0.2371 - accuracy: 1.0000\n",
            "Epoch 187/200\n",
            "1/1 [==============================] - 0s 18ms/step - loss: 0.2191 - accuracy: 0.9630\n",
            "Epoch 188/200\n",
            "1/1 [==============================] - 0s 16ms/step - loss: 0.1704 - accuracy: 1.0000\n",
            "Epoch 189/200\n",
            "1/1 [==============================] - 0s 16ms/step - loss: 0.1586 - accuracy: 1.0000\n",
            "Epoch 190/200\n",
            "1/1 [==============================] - 0s 14ms/step - loss: 0.2009 - accuracy: 1.0000\n",
            "Epoch 191/200\n",
            "1/1 [==============================] - 0s 14ms/step - loss: 0.1989 - accuracy: 1.0000\n",
            "Epoch 192/200\n",
            "1/1 [==============================] - 0s 15ms/step - loss: 0.2249 - accuracy: 0.9630\n",
            "Epoch 193/200\n",
            "1/1 [==============================] - 0s 17ms/step - loss: 0.2375 - accuracy: 1.0000\n",
            "Epoch 194/200\n",
            "1/1 [==============================] - 0s 14ms/step - loss: 0.1475 - accuracy: 1.0000\n",
            "Epoch 195/200\n",
            "1/1 [==============================] - 0s 14ms/step - loss: 0.2250 - accuracy: 1.0000\n",
            "Epoch 196/200\n",
            "1/1 [==============================] - 0s 15ms/step - loss: 0.1690 - accuracy: 0.9259\n",
            "Epoch 197/200\n",
            "1/1 [==============================] - 0s 15ms/step - loss: 0.2242 - accuracy: 0.9630\n",
            "Epoch 198/200\n",
            "1/1 [==============================] - 0s 11ms/step - loss: 0.1041 - accuracy: 1.0000\n",
            "Epoch 199/200\n",
            "1/1 [==============================] - 0s 11ms/step - loss: 0.0990 - accuracy: 1.0000\n",
            "Epoch 200/200\n",
            "1/1 [==============================] - 0s 13ms/step - loss: 0.1419 - accuracy: 1.0000\n"
          ]
        }
      ],
      "source": [
        "hist = model.fit(x=train_X, y=train_y, epochs=200)"
      ]
    },
    {
      "cell_type": "code",
      "execution_count": 29,
      "metadata": {
        "id": "Pb1GZDjGRP6Q",
        "outputId": "3c3fb1f7-8270-4f6e-c517-391775e73340",
        "colab": {
          "base_uri": "https://localhost:8080/",
          "height": 430
        }
      },
      "outputs": [
        {
          "output_type": "display_data",
          "data": {
            "text/plain": [
              "<Figure size 640x480 with 1 Axes>"
            ],
            "image/png": "[encoded data removed]"
          },
          "metadata": {}
        }
      ],
      "source": [
        "import matplotlib.pyplot as plt\n",
        "import seaborn as sns\n",
        "\n",
        "# Entrenamiento\n",
        "epoch_count = range(1, len(hist.history['accuracy']) + 1)\n",
        "sns.lineplot(x=epoch_count,  y=hist.history['accuracy'], label='train')\n",
        "plt.show()"
      ]
    },
    {
      "cell_type": "code",
      "execution_count": 30,
      "metadata": {
        "id": "eTVDnrV0mDRf"
      },
      "outputs": [],
      "source": [
        "# Guardar lo necesario para poder re-utilizar este modelo en el futuro\n",
        "# el vocabulario utilizado (words)\n",
        "# las posibles clases\n",
        "# el modelo\n",
        "import pickle\n",
        "pickle.dump(words, open('words.pkl','wb'))\n",
        "pickle.dump(classes, open('classes.pkl','wb'))\n",
        "model.save('chatbot_model.h5')"
      ]
    },
    {
      "cell_type": "markdown",
      "metadata": {
        "id": "TnD1WvhBfVYR"
      },
      "source": [
        "### 6 - Testing y validación"
      ]
    },
    {
      "cell_type": "code",
      "execution_count": 31,
      "metadata": {
        "id": "kqBdSGt8Orkm"
      },
      "outputs": [],
      "source": [
        "# convertir texto de entrada del usuario a tokens\n",
        "def text_to_tokens(text):\n",
        "    lemma_tokens = []\n",
        "    tokens = nlp(preprocess_clean_text(text.lower()))\n",
        "    for token in tokens:\n",
        "        lemma_tokens.append(token.lemma_)\n",
        "    #print(lemma_tokens)\n",
        "    return lemma_tokens\n",
        "\n",
        "# transformar el texto de entrada tokenizado a una representación OHE\n",
        "def bag_of_words(text, vocab):\n",
        "    tokens = text_to_tokens(text)\n",
        "    bow = [0] * len(vocab)\n",
        "    for w in tokens:\n",
        "        for idx, word in enumerate(vocab):\n",
        "            if word == w:\n",
        "                bow[idx] = 1\n",
        "    #print(bow)\n",
        "    return np.array(bow)\n",
        "\n",
        "# usar modelo con la entrada en OHE y los labels posibles (tags)\n",
        "def pred_class(text, vocab, labels):\n",
        "    bow = bag_of_words(text, vocab)\n",
        "    words_recognized = sum(bow)\n",
        "\n",
        "    return_list = []\n",
        "    if words_recognized > 0: # sólo si reconoció alguna palabra del vocabulario\n",
        "        result = model.predict(np.array([bow]))[0] # es un array de softmax\n",
        "        thresh = 0.2\n",
        "        # filtrar aquellas entradas menores al umbral `thresh`\n",
        "        y_pred = [[idx, res] for idx, res in enumerate(result) if res > thresh]\n",
        "        # ordenar keys de acuerdo al valor softmax\n",
        "        y_pred.sort(key=lambda x: x[1], reverse=True)\n",
        "\n",
        "        # return_list es una lista de los labels de mayor a menor\n",
        "        for r in y_pred:\n",
        "            return_list.append(labels[r[0]])\n",
        "            #print(labels[r[0]], r[1])\n",
        "\n",
        "    # si no reconoció palabras del vocabulario se devuelve una lista vacía\n",
        "    return return_list\n",
        "\n",
        "# obtener una respuesta predeterminada\n",
        "def get_response(intents_list, intents_json):\n",
        "    tag = intents_list[0] # tomar el tag con el mejor valor softmax\n",
        "    list_of_intents = intents_json[\"intents\"] # intents_json es todo el dataset\n",
        "    for i in list_of_intents:\n",
        "        if i[\"tag\"] == tag: # buscar el tag correspoindiente y dar una respuesta predeterminada aleatoria\n",
        "            result = random.choice(i[\"responses\"])\n",
        "            break\n",
        "    return result"
      ]
    },
    {
      "cell_type": "code",
      "execution_count": null,
      "metadata": {
        "id": "Xp1vXQwdOvl7",
        "outputId": "05b8fca9-17cb-4253-886a-e1d9c7a741de",
        "colab": {
          "base_uri": "https://localhost:8080/"
        }
      },
      "outputs": [
        {
          "metadata": {
            "tags": null
          },
          "name": "stdout",
          "output_type": "stream",
          "text": [
            "Q: en que los\n",
            "1/1 [==============================] - 0s 28ms/step\n",
            "BOT: Lunes, miércoles y viernes de 8 a 15hs, martes y jueves de 8 a 13hs y de lunes a viernes de 16 a 21hs\n",
            "Q: los\n",
            "BOT: Perdón, no comprendo la pregunta.\n",
            "Q: que los en\n",
            "1/1 [==============================] - 0s 23ms/step\n",
            "BOT: Lunes, miércoles y viernes de 8 a 15hs, martes y jueves de 8 a 13hs y de lunes a viernes de 16 a 21hs\n",
            "Q: que\n",
            "1/1 [==============================] - 0s 41ms/step\n",
            "BOT: Lunes, miércoles y viernes de 8 a 15hs, martes y jueves de 8 a 13hs y de lunes a viernes de 16 a 21hs\n",
            "Q: los\n",
            "BOT: Perdón, no comprendo la pregunta.\n",
            "Q: en\n",
            "1/1 [==============================] - 0s 23ms/step\n",
            "BOT: Lunes, miércoles y viernes de 8 a 15hs, martes y jueves de 8 a 13hs y de lunes a viernes de 16 a 21hs\n"
          ]
        }
      ],
      "source": [
        "while True:\n",
        "    # pedir input al usuario\n",
        "    message = input(\"\")\n",
        "    print(\"Q:\", message)\n",
        "\n",
        "    intents = pred_class(message, words, classes)\n",
        "    if len(intents) > 0:\n",
        "        result = get_response(intents, dataset)\n",
        "        print(\"BOT:\", result)\n",
        "    else: # si no hubo ningún resultado que supere el umbral\n",
        "        print(\"BOT: Perdón, no comprendo la pregunta.\")\n",
        ""
      ]
    },
    {
      "cell_type": "markdown",
      "metadata": {
        "id": "ayatkwp4fYQx"
      },
      "source": [
        "### 7 - Conclusiones\n",
        "El bot tal cual está definido es capaz de responder a bastantes tipos de preguntas con gran precisión. Algunas técnicas que podrían ensayarse para evaluar como impactan en el sistema son:\n",
        "- Filtrar los stop words\n",
        "- Utilizar TF-IDF en vez de bag of words"
      ]
    },
    {
      "cell_type": "markdown",
      "metadata": {
        "id": "tEsPjZE0X7tb"
      },
      "source": [
        "### Alumno"
      ]
    },
    {
      "cell_type": "markdown",
      "metadata": {
        "id": "t_Vi8EcqX7te"
      },
      "source": [
        "- Tomar un ejemplo de los bots utilizados (uno de los dos) y construir el propio.\n",
        "- Sacar conclusiones de los resultados.\n",
        "\n",
        "__IMPORTANTE__: Recuerde para la entrega del ejercicio debe quedar registrado en el colab las preguntas y las respuestas del BOT para que podamos evaluar el desempeño final."
      ]
    }
  ],
  "metadata": {
    "colab": {
      "name": "2b - bot_dnn_spacy_esp.ipynb",
      "provenance": [],
      "include_colab_link": true
    },
    "kernelspec": {
      "display_name": "Python 3 (ipykernel)",
      "language": "python",
      "name": "python3"
    },
    "language_info": {
      "codemirror_mode": {
        "name": "ipython",
        "version": 3
      },
      "file_extension": ".py",
      "mimetype": "text/x-python",
      "name": "python",
      "nbconvert_exporter": "python",
      "pygments_lexer": "ipython3",
      "version": "3.10.6"
    },
    "widgets": {
      "application/vnd.jupyter.widget-state+json": {
        "40b80cee266547afb5f47f250d52b0bc": {
          "model_module": "@jupyter-widgets/controls",
          "model_name": "HBoxModel",
          "model_module_version": "1.5.0",
          "state": {
            "_dom_classes": [],
            "_model_module": "@jupyter-widgets/controls",
            "_model_module_version": "1.5.0",
            "_model_name": "HBoxModel",
            "_view_count": null,
            "_view_module": "@jupyter-widgets/controls",
            "_view_module_version": "1.5.0",
            "_view_name": "HBoxView",
            "box_style": "",
            "children": [
              "IPY_MODEL_f994d4bdebb94eb78774e2b9398f99c9",
              "IPY_MODEL_1f3116c78fde4d0cb87b360311eef330",
              "IPY_MODEL_61d1956cf49e4d5da59fb910301df1ad"
            ],
            "layout": "IPY_MODEL_8f4dea66d1bb4734a1b2057c879a2a4d"
          }
        },
        "f994d4bdebb94eb78774e2b9398f99c9": {
          "model_module": "@jupyter-widgets/controls",
          "model_name": "HTMLModel",
          "model_module_version": "1.5.0",
          "state": {
            "_dom_classes": [],
            "_model_module": "@jupyter-widgets/controls",
            "_model_module_version": "1.5.0",
            "_model_name": "HTMLModel",
            "_view_count": null,
            "_view_module": "@jupyter-widgets/controls",
            "_view_module_version": "1.5.0",
            "_view_name": "HTMLView",
            "description": "",
            "description_tooltip": null,
            "layout": "IPY_MODEL_10cab8b7c74947308f81162ba05ad0da",
            "placeholder": "​",
            "style": "IPY_MODEL_82104a876289498a869749fec2d8a777",
            "value": "Downloading https://raw.githubusercontent.com/stanfordnlp/stanza-resources/main/resources_1.2.2.json: "
          }
        },
        "1f3116c78fde4d0cb87b360311eef330": {
          "model_module": "@jupyter-widgets/controls",
          "model_name": "FloatProgressModel",
          "model_module_version": "1.5.0",
          "state": {
            "_dom_classes": [],
            "_model_module": "@jupyter-widgets/controls",
            "_model_module_version": "1.5.0",
            "_model_name": "FloatProgressModel",
            "_view_count": null,
            "_view_module": "@jupyter-widgets/controls",
            "_view_module_version": "1.5.0",
            "_view_name": "ProgressView",
            "bar_style": "success",
            "description": "",
            "description_tooltip": null,
            "layout": "IPY_MODEL_1f711d2a88d14a66afe6fade3b4c7d78",
            "max": 24144,
            "min": 0,
            "orientation": "horizontal",
            "style": "IPY_MODEL_0154a628917a4ba5a916613570c02bf9",
            "value": 24144
          }
        },
        "61d1956cf49e4d5da59fb910301df1ad": {
          "model_module": "@jupyter-widgets/controls",
          "model_name": "HTMLModel",
          "model_module_version": "1.5.0",
          "state": {
            "_dom_classes": [],
            "_model_module": "@jupyter-widgets/controls",
            "_model_module_version": "1.5.0",
            "_model_name": "HTMLModel",
            "_view_count": null,
            "_view_module": "@jupyter-widgets/controls",
            "_view_module_version": "1.5.0",
            "_view_name": "HTMLView",
            "description": "",
            "description_tooltip": null,
            "layout": "IPY_MODEL_9454f06e53d84291a24182aab1cef0c3",
            "placeholder": "​",
            "style": "IPY_MODEL_ab31e2caf1464af084b88d820ee239c2",
            "value": " 140k/? [00:00&lt;00:00, 3.01MB/s]"
          }
        },
        "8f4dea66d1bb4734a1b2057c879a2a4d": {
          "model_module": "@jupyter-widgets/base",
          "model_name": "LayoutModel",
          "model_module_version": "1.2.0",
          "state": {
            "_model_module": "@jupyter-widgets/base",
            "_model_module_version": "1.2.0",
            "_model_name": "LayoutModel",
            "_view_count": null,
            "_view_module": "@jupyter-widgets/base",
            "_view_module_version": "1.2.0",
            "_view_name": "LayoutView",
            "align_content": null,
            "align_items": null,
            "align_self": null,
            "border": null,
            "bottom": null,
            "display": null,
            "flex": null,
            "flex_flow": null,
            "grid_area": null,
            "grid_auto_columns": null,
            "grid_auto_flow": null,
            "grid_auto_rows": null,
            "grid_column": null,
            "grid_gap": null,
            "grid_row": null,
            "grid_template_areas": null,
            "grid_template_columns": null,
            "grid_template_rows": null,
            "height": null,
            "justify_content": null,
            "justify_items": null,
            "left": null,
            "margin": null,
            "max_height": null,
            "max_width": null,
            "min_height": null,
            "min_width": null,
            "object_fit": null,
            "object_position": null,
            "order": null,
            "overflow": null,
            "overflow_x": null,
            "overflow_y": null,
            "padding": null,
            "right": null,
            "top": null,
            "visibility": null,
            "width": null
          }
        },
        "10cab8b7c74947308f81162ba05ad0da": {
          "model_module": "@jupyter-widgets/base",
          "model_name": "LayoutModel",
          "model_module_version": "1.2.0",
          "state": {
            "_model_module": "@jupyter-widgets/base",
            "_model_module_version": "1.2.0",
            "_model_name": "LayoutModel",
            "_view_count": null,
            "_view_module": "@jupyter-widgets/base",
            "_view_module_version": "1.2.0",
            "_view_name": "LayoutView",
            "align_content": null,
            "align_items": null,
            "align_self": null,
            "border": null,
            "bottom": null,
            "display": null,
            "flex": null,
            "flex_flow": null,
            "grid_area": null,
            "grid_auto_columns": null,
            "grid_auto_flow": null,
            "grid_auto_rows": null,
            "grid_column": null,
            "grid_gap": null,
            "grid_row": null,
            "grid_template_areas": null,
            "grid_template_columns": null,
            "grid_template_rows": null,
            "height": null,
            "justify_content": null,
            "justify_items": null,
            "left": null,
            "margin": null,
            "max_height": null,
            "max_width": null,
            "min_height": null,
            "min_width": null,
            "object_fit": null,
            "object_position": null,
            "order": null,
            "overflow": null,
            "overflow_x": null,
            "overflow_y": null,
            "padding": null,
            "right": null,
            "top": null,
            "visibility": null,
            "width": null
          }
        },
        "82104a876289498a869749fec2d8a777": {
          "model_module": "@jupyter-widgets/controls",
          "model_name": "DescriptionStyleModel",
          "model_module_version": "1.5.0",
          "state": {
            "_model_module": "@jupyter-widgets/controls",
            "_model_module_version": "1.5.0",
            "_model_name": "DescriptionStyleModel",
            "_view_count": null,
            "_view_module": "@jupyter-widgets/base",
            "_view_module_version": "1.2.0",
            "_view_name": "StyleView",
            "description_width": ""
          }
        },
        "1f711d2a88d14a66afe6fade3b4c7d78": {
          "model_module": "@jupyter-widgets/base",
          "model_name": "LayoutModel",
          "model_module_version": "1.2.0",
          "state": {
            "_model_module": "@jupyter-widgets/base",
            "_model_module_version": "1.2.0",
            "_model_name": "LayoutModel",
            "_view_count": null,
            "_view_module": "@jupyter-widgets/base",
            "_view_module_version": "1.2.0",
            "_view_name": "LayoutView",
            "align_content": null,
            "align_items": null,
            "align_self": null,
            "border": null,
            "bottom": null,
            "display": null,
            "flex": null,
            "flex_flow": null,
            "grid_area": null,
            "grid_auto_columns": null,
            "grid_auto_flow": null,
            "grid_auto_rows": null,
            "grid_column": null,
            "grid_gap": null,
            "grid_row": null,
            "grid_template_areas": null,
            "grid_template_columns": null,
            "grid_template_rows": null,
            "height": null,
            "justify_content": null,
            "justify_items": null,
            "left": null,
            "margin": null,
            "max_height": null,
            "max_width": null,
            "min_height": null,
            "min_width": null,
            "object_fit": null,
            "object_position": null,
            "order": null,
            "overflow": null,
            "overflow_x": null,
            "overflow_y": null,
            "padding": null,
            "right": null,
            "top": null,
            "visibility": null,
            "width": null
          }
        },
        "0154a628917a4ba5a916613570c02bf9": {
          "model_module": "@jupyter-widgets/controls",
          "model_name": "ProgressStyleModel",
          "model_module_version": "1.5.0",
          "state": {
            "_model_module": "@jupyter-widgets/controls",
            "_model_module_version": "1.5.0",
            "_model_name": "ProgressStyleModel",
            "_view_count": null,
            "_view_module": "@jupyter-widgets/base",
            "_view_module_version": "1.2.0",
            "_view_name": "StyleView",
            "bar_color": null,
            "description_width": ""
          }
        },
        "9454f06e53d84291a24182aab1cef0c3": {
          "model_module": "@jupyter-widgets/base",
          "model_name": "LayoutModel",
          "model_module_version": "1.2.0",
          "state": {
            "_model_module": "@jupyter-widgets/base",
            "_model_module_version": "1.2.0",
            "_model_name": "LayoutModel",
            "_view_count": null,
            "_view_module": "@jupyter-widgets/base",
            "_view_module_version": "1.2.0",
            "_view_name": "LayoutView",
            "align_content": null,
            "align_items": null,
            "align_self": null,
            "border": null,
            "bottom": null,
            "display": null,
            "flex": null,
            "flex_flow": null,
            "grid_area": null,
            "grid_auto_columns": null,
            "grid_auto_flow": null,
            "grid_auto_rows": null,
            "grid_column": null,
            "grid_gap": null,
            "grid_row": null,
            "grid_template_areas": null,
            "grid_template_columns": null,
            "grid_template_rows": null,
            "height": null,
            "justify_content": null,
            "justify_items": null,
            "left": null,
            "margin": null,
            "max_height": null,
            "max_width": null,
            "min_height": null,
            "min_width": null,
            "object_fit": null,
            "object_position": null,
            "order": null,
            "overflow": null,
            "overflow_x": null,
            "overflow_y": null,
            "padding": null,
            "right": null,
            "top": null,
            "visibility": null,
            "width": null
          }
        },
        "ab31e2caf1464af084b88d820ee239c2": {
          "model_module": "@jupyter-widgets/controls",
          "model_name": "DescriptionStyleModel",
          "model_module_version": "1.5.0",
          "state": {
            "_model_module": "@jupyter-widgets/controls",
            "_model_module_version": "1.5.0",
            "_model_name": "DescriptionStyleModel",
            "_view_count": null,
            "_view_module": "@jupyter-widgets/base",
            "_view_module_version": "1.2.0",
            "_view_name": "StyleView",
            "description_width": ""
          }
        },
        "be908e42053249009d2f66bbcc6d5d35": {
          "model_module": "@jupyter-widgets/controls",
          "model_name": "HBoxModel",
          "model_module_version": "1.5.0",
          "state": {
            "_dom_classes": [],
            "_model_module": "@jupyter-widgets/controls",
            "_model_module_version": "1.5.0",
            "_model_name": "HBoxModel",
            "_view_count": null,
            "_view_module": "@jupyter-widgets/controls",
            "_view_module_version": "1.5.0",
            "_view_name": "HBoxView",
            "box_style": "",
            "children": [
              "IPY_MODEL_26c5e4d58bcd496ba1737e7d488f6044",
              "IPY_MODEL_293683432a4a4dc8aa40cafc38539d12",
              "IPY_MODEL_9b1d9d6a504b45b1934b0025ab113807"
            ],
            "layout": "IPY_MODEL_ea575c833017418cade3489786573b2f"
          }
        },
        "26c5e4d58bcd496ba1737e7d488f6044": {
          "model_module": "@jupyter-widgets/controls",
          "model_name": "HTMLModel",
          "model_module_version": "1.5.0",
          "state": {
            "_dom_classes": [],
            "_model_module": "@jupyter-widgets/controls",
            "_model_module_version": "1.5.0",
            "_model_name": "HTMLModel",
            "_view_count": null,
            "_view_module": "@jupyter-widgets/controls",
            "_view_module_version": "1.5.0",
            "_view_name": "HTMLView",
            "description": "",
            "description_tooltip": null,
            "layout": "IPY_MODEL_16a9b9c1398243ff9010877c8cdcc6d8",
            "placeholder": "​",
            "style": "IPY_MODEL_c74e1732f4cd41dbbb964cd52588d6f1",
            "value": "Downloading http://nlp.stanford.edu/software/stanza/1.2.2/es/default.zip: 100%"
          }
        },
        "293683432a4a4dc8aa40cafc38539d12": {
          "model_module": "@jupyter-widgets/controls",
          "model_name": "FloatProgressModel",
          "model_module_version": "1.5.0",
          "state": {
            "_dom_classes": [],
            "_model_module": "@jupyter-widgets/controls",
            "_model_module_version": "1.5.0",
            "_model_name": "FloatProgressModel",
            "_view_count": null,
            "_view_module": "@jupyter-widgets/controls",
            "_view_module_version": "1.5.0",
            "_view_name": "ProgressView",
            "bar_style": "success",
            "description": "",
            "description_tooltip": null,
            "layout": "IPY_MODEL_ee1fd9e85e664b34a1cbad28c94679eb",
            "max": 565553347,
            "min": 0,
            "orientation": "horizontal",
            "style": "IPY_MODEL_a98a761a347d4a48872ae335ee24bcd0",
            "value": 565553347
          }
        },
        "9b1d9d6a504b45b1934b0025ab113807": {
          "model_module": "@jupyter-widgets/controls",
          "model_name": "HTMLModel",
          "model_module_version": "1.5.0",
          "state": {
            "_dom_classes": [],
            "_model_module": "@jupyter-widgets/controls",
            "_model_module_version": "1.5.0",
            "_model_name": "HTMLModel",
            "_view_count": null,
            "_view_module": "@jupyter-widgets/controls",
            "_view_module_version": "1.5.0",
            "_view_name": "HTMLView",
            "description": "",
            "description_tooltip": null,
            "layout": "IPY_MODEL_b07964bde56148398f843e5e8feacf06",
            "placeholder": "​",
            "style": "IPY_MODEL_f174cd6f7c7e4ef2aab0da2394111cfe",
            "value": " 566M/566M [01:42&lt;00:00, 5.33MB/s]"
          }
        },
        "ea575c833017418cade3489786573b2f": {
          "model_module": "@jupyter-widgets/base",
          "model_name": "LayoutModel",
          "model_module_version": "1.2.0",
          "state": {
            "_model_module": "@jupyter-widgets/base",
            "_model_module_version": "1.2.0",
            "_model_name": "LayoutModel",
            "_view_count": null,
            "_view_module": "@jupyter-widgets/base",
            "_view_module_version": "1.2.0",
            "_view_name": "LayoutView",
            "align_content": null,
            "align_items": null,
            "align_self": null,
            "border": null,
            "bottom": null,
            "display": null,
            "flex": null,
            "flex_flow": null,
            "grid_area": null,
            "grid_auto_columns": null,
            "grid_auto_flow": null,
            "grid_auto_rows": null,
            "grid_column": null,
            "grid_gap": null,
            "grid_row": null,
            "grid_template_areas": null,
            "grid_template_columns": null,
            "grid_template_rows": null,
            "height": null,
            "justify_content": null,
            "justify_items": null,
            "left": null,
            "margin": null,
            "max_height": null,
            "max_width": null,
            "min_height": null,
            "min_width": null,
            "object_fit": null,
            "object_position": null,
            "order": null,
            "overflow": null,
            "overflow_x": null,
            "overflow_y": null,
            "padding": null,
            "right": null,
            "top": null,
            "visibility": null,
            "width": null
          }
        },
        "16a9b9c1398243ff9010877c8cdcc6d8": {
          "model_module": "@jupyter-widgets/base",
          "model_name": "LayoutModel",
          "model_module_version": "1.2.0",
          "state": {
            "_model_module": "@jupyter-widgets/base",
            "_model_module_version": "1.2.0",
            "_model_name": "LayoutModel",
            "_view_count": null,
            "_view_module": "@jupyter-widgets/base",
            "_view_module_version": "1.2.0",
            "_view_name": "LayoutView",
            "align_content": null,
            "align_items": null,
            "align_self": null,
            "border": null,
            "bottom": null,
            "display": null,
            "flex": null,
            "flex_flow": null,
            "grid_area": null,
            "grid_auto_columns": null,
            "grid_auto_flow": null,
            "grid_auto_rows": null,
            "grid_column": null,
            "grid_gap": null,
            "grid_row": null,
            "grid_template_areas": null,
            "grid_template_columns": null,
            "grid_template_rows": null,
            "height": null,
            "justify_content": null,
            "justify_items": null,
            "left": null,
            "margin": null,
            "max_height": null,
            "max_width": null,
            "min_height": null,
            "min_width": null,
            "object_fit": null,
            "object_position": null,
            "order": null,
            "overflow": null,
            "overflow_x": null,
            "overflow_y": null,
            "padding": null,
            "right": null,
            "top": null,
            "visibility": null,
            "width": null
          }
        },
        "c74e1732f4cd41dbbb964cd52588d6f1": {
          "model_module": "@jupyter-widgets/controls",
          "model_name": "DescriptionStyleModel",
          "model_module_version": "1.5.0",
          "state": {
            "_model_module": "@jupyter-widgets/controls",
            "_model_module_version": "1.5.0",
            "_model_name": "DescriptionStyleModel",
            "_view_count": null,
            "_view_module": "@jupyter-widgets/base",
            "_view_module_version": "1.2.0",
            "_view_name": "StyleView",
            "description_width": ""
          }
        },
        "ee1fd9e85e664b34a1cbad28c94679eb": {
          "model_module": "@jupyter-widgets/base",
          "model_name": "LayoutModel",
          "model_module_version": "1.2.0",
          "state": {
            "_model_module": "@jupyter-widgets/base",
            "_model_module_version": "1.2.0",
            "_model_name": "LayoutModel",
            "_view_count": null,
            "_view_module": "@jupyter-widgets/base",
            "_view_module_version": "1.2.0",
            "_view_name": "LayoutView",
            "align_content": null,
            "align_items": null,
            "align_self": null,
            "border": null,
            "bottom": null,
            "display": null,
            "flex": null,
            "flex_flow": null,
            "grid_area": null,
            "grid_auto_columns": null,
            "grid_auto_flow": null,
            "grid_auto_rows": null,
            "grid_column": null,
            "grid_gap": null,
            "grid_row": null,
            "grid_template_areas": null,
            "grid_template_columns": null,
            "grid_template_rows": null,
            "height": null,
            "justify_content": null,
            "justify_items": null,
            "left": null,
            "margin": null,
            "max_height": null,
            "max_width": null,
            "min_height": null,
            "min_width": null,
            "object_fit": null,
            "object_position": null,
            "order": null,
            "overflow": null,
            "overflow_x": null,
            "overflow_y": null,
            "padding": null,
            "right": null,
            "top": null,
            "visibility": null,
            "width": null
          }
        },
        "a98a761a347d4a48872ae335ee24bcd0": {
          "model_module": "@jupyter-widgets/controls",
          "model_name": "ProgressStyleModel",
          "model_module_version": "1.5.0",
          "state": {
            "_model_module": "@jupyter-widgets/controls",
            "_model_module_version": "1.5.0",
            "_model_name": "ProgressStyleModel",
            "_view_count": null,
            "_view_module": "@jupyter-widgets/base",
            "_view_module_version": "1.2.0",
            "_view_name": "StyleView",
            "bar_color": null,
            "description_width": ""
          }
        },
        "b07964bde56148398f843e5e8feacf06": {
          "model_module": "@jupyter-widgets/base",
          "model_name": "LayoutModel",
          "model_module_version": "1.2.0",
          "state": {
            "_model_module": "@jupyter-widgets/base",
            "_model_module_version": "1.2.0",
            "_model_name": "LayoutModel",
            "_view_count": null,
            "_view_module": "@jupyter-widgets/base",
            "_view_module_version": "1.2.0",
            "_view_name": "LayoutView",
            "align_content": null,
            "align_items": null,
            "align_self": null,
            "border": null,
            "bottom": null,
            "display": null,
            "flex": null,
            "flex_flow": null,
            "grid_area": null,
            "grid_auto_columns": null,
            "grid_auto_flow": null,
            "grid_auto_rows": null,
            "grid_column": null,
            "grid_gap": null,
            "grid_row": null,
            "grid_template_areas": null,
            "grid_template_columns": null,
            "grid_template_rows": null,
            "height": null,
            "justify_content": null,
            "justify_items": null,
            "left": null,
            "margin": null,
            "max_height": null,
            "max_width": null,
            "min_height": null,
            "min_width": null,
            "object_fit": null,
            "object_position": null,
            "order": null,
            "overflow": null,
            "overflow_x": null,
            "overflow_y": null,
            "padding": null,
            "right": null,
            "top": null,
            "visibility": null,
            "width": null
          }
        },
        "f174cd6f7c7e4ef2aab0da2394111cfe": {
          "model_module": "@jupyter-widgets/controls",
          "model_name": "DescriptionStyleModel",
          "model_module_version": "1.5.0",
          "state": {
            "_model_module": "@jupyter-widgets/controls",
            "_model_module_version": "1.5.0",
            "_model_name": "DescriptionStyleModel",
            "_view_count": null,
            "_view_module": "@jupyter-widgets/base",
            "_view_module_version": "1.2.0",
            "_view_name": "StyleView",
            "description_width": ""
          }
        }
      }
    }
  },
  "nbformat": 4,
  "nbformat_minor": 0
}