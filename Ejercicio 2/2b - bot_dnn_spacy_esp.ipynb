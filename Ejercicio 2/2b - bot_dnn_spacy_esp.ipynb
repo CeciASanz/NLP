{
  "cells": [
    {
      "cell_type": "markdown",
      "metadata": {
        "id": "view-in-github",
        "colab_type": "text"
      },
      "source": [
        "<a href=\"https://colab.research.google.com/github/CeciASanz/NLP/blob/main/Ejercicio%202/2b%20-%20bot_dnn_spacy_esp.ipynb\" target=\"_parent\"><img src=\"https://colab.research.google.com/assets/colab-badge.svg\" alt=\"Open In Colab\"/></a>"
      ]
    },
    {
      "cell_type": "markdown",
      "metadata": {
        "id": "NV8wZ0MTKjv_"
      },
      "source": [
        "<img src=\"https://github.com/hernancontigiani/ceia_memorias_especializacion/raw/master/Figures/logoFIUBA.jpg\" width=\"500\" align=\"center\">\n",
        "\n",
        "\n",
        "# Procesamiento de lenguaje natural\n",
        "## Bot de consulta abierta y respuestas predeterminadas con DNN + Spacy"
      ]
    },
    {
      "cell_type": "markdown",
      "metadata": {
        "id": "Z_9z3H-yKrcK"
      },
      "source": [
        "#### Datos\n",
        "Este ejemplo se inspiró en otro Bot en inglés creado con NLTK, lo tienen como referencia para hacer lo mismo en inglés:\\\n",
        "[LINK](https://towardsdatascience.com/a-simple-chatbot-in-python-with-deep-learning-3e8669997758)"
      ]
    },
    {
      "cell_type": "markdown",
      "metadata": {
        "id": "oCVZakCzAjGN"
      },
      "source": [
        "### 1 - Instalar dependencias\n",
        "Para poder utilizar Spacy en castellano es necesario agregar la librería \"spacy-stanza\" para lematizar palabras en español."
      ]
    },
    {
      "cell_type": "code",
      "execution_count": 1,
      "metadata": {
        "id": "Zd8NLa4gsSmT",
        "outputId": "4860ff2c-4b68-47e7-9a1c-68be078694ce",
        "colab": {
          "base_uri": "https://localhost:8080/"
        }
      },
      "outputs": [
        {
          "output_type": "stream",
          "name": "stdout",
          "text": [
            "\u001b[?25l     \u001b[90m━━━━━━━━━━━━━━━━━━━━━━━━━━━━━━━━━━━━━━━━\u001b[0m \u001b[32m0.0/1.0 MB\u001b[0m \u001b[31m?\u001b[0m eta \u001b[36m-:--:--\u001b[0m\r\u001b[2K     \u001b[91m━━━━━━\u001b[0m\u001b[91m╸\u001b[0m\u001b[90m━━━━━━━━━━━━━━━━━━━━━━━━━━━━━━━━━\u001b[0m \u001b[32m0.2/1.0 MB\u001b[0m \u001b[31m5.3 MB/s\u001b[0m eta \u001b[36m0:00:01\u001b[0m\r\u001b[2K     \u001b[91m━━━━━━━━━━━━━━━━━━━━━━━━\u001b[0m\u001b[90m╺\u001b[0m\u001b[90m━━━━━━━━━━━━━━━\u001b[0m \u001b[32m0.6/1.0 MB\u001b[0m \u001b[31m9.1 MB/s\u001b[0m eta \u001b[36m0:00:01\u001b[0m\r\u001b[2K     \u001b[91m━━━━━━━━━━━━━━━━━━━━━━━━━━━━━━━━━━━━━━━\u001b[0m\u001b[91m╸\u001b[0m \u001b[32m1.0/1.0 MB\u001b[0m \u001b[31m10.5 MB/s\u001b[0m eta \u001b[36m0:00:01\u001b[0m\r\u001b[2K     \u001b[90m━━━━━━━━━━━━━━━━━━━━━━━━━━━━━━━━━━━━━━━━\u001b[0m \u001b[32m1.0/1.0 MB\u001b[0m \u001b[31m9.5 MB/s\u001b[0m eta \u001b[36m0:00:00\u001b[0m\n",
            "\u001b[?25h  Installing build dependencies ... \u001b[?25l\u001b[?25hdone\n",
            "  Getting requirements to build wheel ... \u001b[?25l\u001b[?25hdone\n",
            "  Installing backend dependencies ... \u001b[?25l\u001b[?25hdone\n",
            "  Preparing metadata (pyproject.toml) ... \u001b[?25l\u001b[?25hdone\n",
            "\u001b[2K     \u001b[90m━━━━━━━━━━━━━━━━━━━━━━━━━━━━━━━━━━━━━━━━\u001b[0m \u001b[32m82.8/82.8 kB\u001b[0m \u001b[31m11.5 MB/s\u001b[0m eta \u001b[36m0:00:00\u001b[0m\n",
            "\u001b[?25h  Building wheel for spacy (pyproject.toml) ... \u001b[?25l\u001b[?25hdone\n",
            "\u001b[31mERROR: pip's dependency resolver does not currently take into account all the packages that are installed. This behaviour is the source of the following dependency conflicts.\n",
            "fiona 1.9.4.post1 requires click~=8.0, but you have click 7.1.2 which is incompatible.\n",
            "flask 2.2.5 requires click>=8.0, but you have click 7.1.2 which is incompatible.\n",
            "dask 2023.8.0 requires click>=8.0, but you have click 7.1.2 which is incompatible.\n",
            "distributed 2023.8.0 requires click>=8.0, but you have click 7.1.2 which is incompatible.\n",
            "en-core-web-sm 3.6.0 requires spacy<3.7.0,>=3.6.0, but you have spacy 3.1.0 which is incompatible.\n",
            "inflect 7.0.0 requires pydantic>=1.9.1, but you have pydantic 1.8.2 which is incompatible.\n",
            "pip-tools 6.13.0 requires click>=8, but you have click 7.1.2 which is incompatible.\u001b[0m\u001b[31m\n",
            "\u001b[2K     \u001b[90m━━━━━━━━━━━━━━━━━━━━━━━━━━━━━━━━━━━━━━━\u001b[0m \u001b[32m342.1/342.1 kB\u001b[0m \u001b[31m5.8 MB/s\u001b[0m eta \u001b[36m0:00:00\u001b[0m\n",
            "\u001b[?25h"
          ]
        }
      ],
      "source": [
        "# La última versión de spacy-stanza (>1.0) es compatible solo con spacy >=3.0\n",
        "# Nota: spacy 3.0 incorpora al pipeline NLP transformers\n",
        "!pip install -U spacy==3.1 --quiet\n",
        "!pip install -U spacy-stanza==1.0.0 --quiet"
      ]
    },
    {
      "cell_type": "code",
      "execution_count": 2,
      "metadata": {
        "id": "kzao7XO9NJAq"
      },
      "outputs": [],
      "source": [
        "import json\n",
        "import string\n",
        "import random\n",
        "import numpy as np\n",
        "\n",
        "import tensorflow as tf\n",
        "from tensorflow.keras import Sequential\n",
        "from tensorflow.keras.layers import Dense, Dropout"
      ]
    },
    {
      "cell_type": "code",
      "execution_count": 3,
      "metadata": {
        "id": "Z_ExOb8uvjqK",
        "outputId": "f1932234-2900-407f-c799-41385e471db3",
        "colab": {
          "base_uri": "https://localhost:8080/",
          "height": 463,
          "referenced_widgets": [
            "51dd8d92b7fb4e4fb5d516678cd09566",
            "c0f09ee64aee441db18878759b3ac049",
            "64e8cdab9c2a491c9827ed714c787188",
            "3197c1eafa1842618f3f7e0d8daef75a",
            "7cd294f150084be29417a0a01016363e",
            "0c8bdee754ab4b82988be151e35e04d9",
            "7c8a46b659a447beac9e06d233b062f8",
            "3a409353b3c04cec87a61a85bfae2e33",
            "be1e1ac72d5d48578fe0b575b214fc05",
            "42cc30aff52a455e9a577e92bb9a3638",
            "5053a6e3d49347cb99bcb65b12d61a5e",
            "c1f990df15e4400096aa1fcab125cf4d",
            "5fe4f0b81bd242378570d085b825f110",
            "2be296619a9246acb79a31134f2c210e",
            "8d16f346011b4868add88e4d0f7f1dc7",
            "c9f98459ee5c4169a87b7dbaa9c5bd3d",
            "72e4e9743537402e8620377c1e320e81",
            "9652fe227b424c87a41a181ce7eca30a",
            "9799ca6c2f1646d89ec2127318181c73",
            "353b4a5ff6074f4484519dd87d69d39b",
            "06f8116fe1a34c0fb923e5eeae9c6745",
            "6303db70841f4d159a6efbe7446bbd07"
          ]
        }
      },
      "outputs": [
        {
          "output_type": "display_data",
          "data": {
            "text/plain": [
              "Downloading https://raw.githubusercontent.com/stanfordnlp/stanza-resources/main/resources_1.2.2.json:   0%|   …"
            ],
            "application/vnd.jupyter.widget-view+json": {
              "version_major": 2,
              "version_minor": 0,
              "model_id": "51dd8d92b7fb4e4fb5d516678cd09566"
            }
          },
          "metadata": {}
        },
        {
          "output_type": "stream",
          "name": "stderr",
          "text": [
            "INFO:stanza:Downloading default packages for language: es (Spanish)...\n"
          ]
        },
        {
          "output_type": "display_data",
          "data": {
            "text/plain": [
              "Downloading http://nlp.stanford.edu/software/stanza/1.2.2/es/default.zip:   0%|          | 0.00/566M [00:00<?,…"
            ],
            "application/vnd.jupyter.widget-view+json": {
              "version_major": 2,
              "version_minor": 0,
              "model_id": "c1f990df15e4400096aa1fcab125cf4d"
            }
          },
          "metadata": {}
        },
        {
          "output_type": "stream",
          "name": "stderr",
          "text": [
            "INFO:stanza:Finished downloading models and saved to /root/stanza_resources.\n",
            "INFO:stanza:Loading these models for language: es (Spanish):\n",
            "=======================\n",
            "| Processor | Package |\n",
            "-----------------------\n",
            "| tokenize  | ancora  |\n",
            "| mwt       | ancora  |\n",
            "| pos       | ancora  |\n",
            "| lemma     | ancora  |\n",
            "| depparse  | ancora  |\n",
            "| ner       | conll02 |\n",
            "=======================\n",
            "\n",
            "INFO:stanza:Use device: cpu\n",
            "INFO:stanza:Loading: tokenize\n",
            "INFO:stanza:Loading: mwt\n",
            "INFO:stanza:Loading: pos\n",
            "INFO:stanza:Loading: lemma\n",
            "INFO:stanza:Loading: depparse\n",
            "INFO:stanza:Loading: ner\n",
            "INFO:stanza:Done loading processors!\n"
          ]
        }
      ],
      "source": [
        "import stanza\n",
        "import spacy_stanza\n",
        "\n",
        "# Vamos a usar SpaCy-Stanza. Stanza es una librería de NLP de Stanford\n",
        "# SpaCy armó un wrapper para los pipelines y modelos de Stanza\n",
        "# https://stanfordnlp.github.io/stanza/\n",
        "\n",
        "# Descargar el diccionario en español y armar el pipeline de NLP con spacy\n",
        "stanza.download(\"es\")\n",
        "nlp = spacy_stanza.load_pipeline(\"es\")"
      ]
    },
    {
      "cell_type": "markdown",
      "metadata": {
        "id": "_wF10RjVMBdV"
      },
      "source": [
        "### 2 - Herramientas de preprocesamiento de datos\n",
        "Entre las tareas de procesamiento de texto en español se implementa:\n",
        "- Quitar acentos y caracteres especiales\n",
        "- Quitar números\n",
        "- Quitar símbolos de puntuación"
      ]
    },
    {
      "cell_type": "code",
      "execution_count": 25,
      "metadata": {
        "id": "ZxoD2hEExmuX"
      },
      "outputs": [],
      "source": [
        "import re\n",
        "import unicodedata\n",
        "\n",
        "# El preprocesamento en castellano requiere más trabajo\n",
        "\n",
        "# Referencia de regex:\n",
        "# https://docs.python.org/3/library/re.html\n",
        "\n",
        "def preprocess_clean_text(text):\n",
        "    # sacar tildes de las palabras:\n",
        "    text = unicodedata.normalize('NFKD', text).encode('ascii', 'ignore').decode('utf-8', 'ignore')\n",
        "    # quitar caracteres especiales\n",
        "    pattern = r'[^a-zA-z0-9.,!?/:;\\\"\\'\\s]' # [^ : ningún caracter de todos estos\n",
        "    # (termina eliminando cualquier caracter distinto de los del regex)\n",
        "    text = re.sub(pattern, '', text)\n",
        "    pattern = r'[^a-zA-z.,!?/:;\\\"\\'\\s]' # igual al anterior pero sin cifras numéricas\n",
        "    # quitar números\n",
        "    text = re.sub(pattern, '', text)\n",
        "    # quitar caracteres de puntuación\n",
        "    text = ''.join([c for c in text if c not in string.punctuation])\n",
        "    return text"
      ]
    },
    {
      "cell_type": "code",
      "execution_count": 21,
      "metadata": {
        "id": "q-MiMZjh5fu2",
        "outputId": "6b6c00c4-ee26-499d-e1fa-219e429d7bfb",
        "colab": {
          "base_uri": "https://localhost:8080/",
          "height": 338
        }
      },
      "outputs": [
        {
          "output_type": "error",
          "ename": "AttributeError",
          "evalue": "ignored",
          "traceback": [
            "\u001b[0;31m---------------------------------------------------------------------------\u001b[0m",
            "\u001b[0;31mAttributeError\u001b[0m                            Traceback (most recent call last)",
            "\u001b[0;32m<ipython-input-21-ce22cfa51b63>\u001b[0m in \u001b[0;36m<cell line: 4>\u001b[0;34m()\u001b[0m\n\u001b[1;32m      2\u001b[0m \u001b[0;34m\u001b[0m\u001b[0m\n\u001b[1;32m      3\u001b[0m \u001b[0;31m# Antes de preprocesar los datos se pasa a minúsculas todo el texto\u001b[0m\u001b[0;34m\u001b[0m\u001b[0;34m\u001b[0m\u001b[0m\n\u001b[0;32m----> 4\u001b[0;31m \u001b[0mpreprocess_clean_text\u001b[0m\u001b[0;34m(\u001b[0m\u001b[0mtext\u001b[0m\u001b[0;34m.\u001b[0m\u001b[0mlower\u001b[0m\u001b[0;34m(\u001b[0m\u001b[0;34m)\u001b[0m\u001b[0;34m)\u001b[0m\u001b[0;34m\u001b[0m\u001b[0;34m\u001b[0m\u001b[0m\n\u001b[0m",
            "\u001b[0;32m<ipython-input-20-0ba9858109a2>\u001b[0m in \u001b[0;36mpreprocess_clean_text\u001b[0;34m(text)\u001b[0m\n\u001b[1;32m     20\u001b[0m     \u001b[0mtext\u001b[0m \u001b[0;34m=\u001b[0m \u001b[0;34m''\u001b[0m\u001b[0;34m.\u001b[0m\u001b[0mjoin\u001b[0m\u001b[0;34m(\u001b[0m\u001b[0;34m[\u001b[0m\u001b[0mc\u001b[0m \u001b[0;32mfor\u001b[0m \u001b[0mc\u001b[0m \u001b[0;32min\u001b[0m \u001b[0mtext\u001b[0m \u001b[0;32mif\u001b[0m \u001b[0mc\u001b[0m \u001b[0;32mnot\u001b[0m \u001b[0;32min\u001b[0m \u001b[0mstring\u001b[0m\u001b[0;34m.\u001b[0m\u001b[0mpunctuation\u001b[0m\u001b[0;34m]\u001b[0m\u001b[0;34m)\u001b[0m\u001b[0;34m\u001b[0m\u001b[0;34m\u001b[0m\u001b[0m\n\u001b[1;32m     21\u001b[0m     \u001b[0;31m#quitar stop words\u001b[0m\u001b[0;34m\u001b[0m\u001b[0;34m\u001b[0m\u001b[0m\n\u001b[0;32m---> 22\u001b[0;31m     \u001b[0mtext\u001b[0m \u001b[0;34m=\u001b[0m \u001b[0;34m''\u001b[0m\u001b[0;34m.\u001b[0m\u001b[0mjoin\u001b[0m\u001b[0;34m(\u001b[0m\u001b[0;34m[\u001b[0m\u001b[0mt\u001b[0m\u001b[0;34m.\u001b[0m\u001b[0mtext\u001b[0m \u001b[0;32mfor\u001b[0m \u001b[0mt\u001b[0m \u001b[0;32min\u001b[0m \u001b[0mtext\u001b[0m \u001b[0;32mif\u001b[0m \u001b[0;32mnot\u001b[0m \u001b[0mt\u001b[0m\u001b[0;34m.\u001b[0m\u001b[0mis_stop\u001b[0m\u001b[0;34m]\u001b[0m\u001b[0;34m)\u001b[0m\u001b[0;34m\u001b[0m\u001b[0;34m\u001b[0m\u001b[0m\n\u001b[0m\u001b[1;32m     23\u001b[0m     \u001b[0;32mreturn\u001b[0m \u001b[0mtext\u001b[0m\u001b[0;34m\u001b[0m\u001b[0;34m\u001b[0m\u001b[0m\n",
            "\u001b[0;32m<ipython-input-20-0ba9858109a2>\u001b[0m in \u001b[0;36m<listcomp>\u001b[0;34m(.0)\u001b[0m\n\u001b[1;32m     20\u001b[0m     \u001b[0mtext\u001b[0m \u001b[0;34m=\u001b[0m \u001b[0;34m''\u001b[0m\u001b[0;34m.\u001b[0m\u001b[0mjoin\u001b[0m\u001b[0;34m(\u001b[0m\u001b[0;34m[\u001b[0m\u001b[0mc\u001b[0m \u001b[0;32mfor\u001b[0m \u001b[0mc\u001b[0m \u001b[0;32min\u001b[0m \u001b[0mtext\u001b[0m \u001b[0;32mif\u001b[0m \u001b[0mc\u001b[0m \u001b[0;32mnot\u001b[0m \u001b[0;32min\u001b[0m \u001b[0mstring\u001b[0m\u001b[0;34m.\u001b[0m\u001b[0mpunctuation\u001b[0m\u001b[0;34m]\u001b[0m\u001b[0;34m)\u001b[0m\u001b[0;34m\u001b[0m\u001b[0;34m\u001b[0m\u001b[0m\n\u001b[1;32m     21\u001b[0m     \u001b[0;31m#quitar stop words\u001b[0m\u001b[0;34m\u001b[0m\u001b[0;34m\u001b[0m\u001b[0m\n\u001b[0;32m---> 22\u001b[0;31m     \u001b[0mtext\u001b[0m \u001b[0;34m=\u001b[0m \u001b[0;34m''\u001b[0m\u001b[0;34m.\u001b[0m\u001b[0mjoin\u001b[0m\u001b[0;34m(\u001b[0m\u001b[0;34m[\u001b[0m\u001b[0mt\u001b[0m\u001b[0;34m.\u001b[0m\u001b[0mtext\u001b[0m \u001b[0;32mfor\u001b[0m \u001b[0mt\u001b[0m \u001b[0;32min\u001b[0m \u001b[0mtext\u001b[0m \u001b[0;32mif\u001b[0m \u001b[0;32mnot\u001b[0m \u001b[0mt\u001b[0m\u001b[0;34m.\u001b[0m\u001b[0mis_stop\u001b[0m\u001b[0;34m]\u001b[0m\u001b[0;34m)\u001b[0m\u001b[0;34m\u001b[0m\u001b[0;34m\u001b[0m\u001b[0m\n\u001b[0m\u001b[1;32m     23\u001b[0m     \u001b[0;32mreturn\u001b[0m \u001b[0mtext\u001b[0m\u001b[0;34m\u001b[0m\u001b[0;34m\u001b[0m\u001b[0m\n",
            "\u001b[0;31mAttributeError\u001b[0m: 'str' object has no attribute 'is_stop'"
          ]
        }
      ],
      "source": [
        "text = \"personas Ideas! estás cosas y los peces y los murciélagos\"\n",
        "\n",
        "# Antes de preprocesar los datos se pasa a minúsculas todo el texto\n",
        "preprocess_clean_text(text.lower())"
      ]
    },
    {
      "cell_type": "code",
      "execution_count": 24,
      "metadata": {
        "id": "I9V-S8JbrtNn",
        "outputId": "1263bb85-d161-4a0c-df8f-bb9917d28218",
        "colab": {
          "base_uri": "https://localhost:8080/"
        }
      },
      "outputs": [
        {
          "output_type": "stream",
          "name": "stdout",
          "text": [
            "tokens: hola personas ideas estas cosas y los peces y los murcielagos\n",
            "Lematización de cada token:\n",
            "[hola, 'holar'] False\n",
            "[personas, 'persona'] False\n",
            "[ideas, 'idea'] False\n",
            "[estas, 'este'] True\n",
            "[cosas, 'cosa'] True\n",
            "[y, 'y'] False\n",
            "[los, 'el'] True\n",
            "[peces, 'pez'] False\n",
            "[y, 'y'] False\n",
            "[los, 'el'] True\n",
            "[murcielagos, 'murcielago'] False\n"
          ]
        }
      ],
      "source": [
        "# Ejemplo de como funciona\n",
        "text = \"hola personas Ideas! estás cosas y los peces y los murciélagos\"\n",
        "\n",
        "# Antes de preprocesar los datos se pasa a minúsculas todo el texto\n",
        "tokens = nlp(preprocess_clean_text(text.lower()))\n",
        "print(\"tokens:\", tokens)\n",
        "print(\"Lematización de cada token:\")\n",
        "for token in tokens:\n",
        "    print([token, token.lemma_], token.is_stop)\n",
        ""
      ]
    },
    {
      "cell_type": "markdown",
      "metadata": {
        "id": "ilRbn0KfMm2r"
      },
      "source": [
        "### 3 - Diccionario de entrada"
      ]
    },
    {
      "cell_type": "code",
      "execution_count": 7,
      "metadata": {
        "id": "NgIGpjymNEH7"
      },
      "outputs": [],
      "source": [
        "# Dataset en formato JSON que representa las posibles preguntas (patterns)\n",
        "# y las posibles respuestas por categoría (tag)\n",
        "# Los \"patterns\" van a formar el corpus para entrenar el clasificador que clasifica en tags\n",
        "# \"respones\" son las respuestas predeterminadas posibles para cada tag\n",
        "dataset = {\"intents\": [\n",
        "             {\"tag\": \"bienvenida\",\n",
        "              \"patterns\": [\"Hola\", \"¿Cómo estás?\", \"¿Qué tal?\"],\n",
        "              \"responses\": [\"Hola!\", \"Hola, ¿Cómo estás?\"],\n",
        "             },\n",
        "             {\"tag\": \"nombre\",\n",
        "              \"patterns\": [\"¿Cúal es tu nombre?\", \"¿Quién sos?\"],\n",
        "              \"responses\": [\"Mi nombre es Ayla Pilates\", \"Somos Ayla Pilates\"]\n",
        "             },\n",
        "            {\"tag\": \"contacto\",\n",
        "              \"patterns\": [\"contacto\", \"número de contacto\", \"número de teléfono\", \"número de whatsapp\", \"whatsapp\"],\n",
        "              \"responses\": [\"Podes contactarnos al siguiente <numero>\", \"Contactos al whatsapp <numero>\"]\n",
        "             },\n",
        "            {\"tag\": \"clases\",\n",
        "              \"patterns\": [\"¿Cuanto duran las clases?\", \"¿Cuantas personas por clase?\"],\n",
        "              \"responses\": [\"Las clases duran 50 minutos son de hasta 7 alumnos por clase.\"]\n",
        "             },\n",
        "            {\"tag\": \"horarios\",\n",
        "              \"patterns\": [\"horarios\", \"Me podrás pasar los horarios\", \"¿En que horario?\", \"¿Que días?\"],\n",
        "              \"responses\": [\"Lunes, miércoles y viernes de 8 a 15hs, martes y jueves de 8 a 13hs y de lunes a viernes de 16 a 21hs\"]\n",
        "             },\n",
        "            {\"tag\": \"precio\",\n",
        "              \"patterns\": [\"precios\", \"Me podrás pasar los precios\", \"¿Cual es el precio?\"],\n",
        "              \"responses\": [\"1 vez por semana $6200, 2 veces por semana $7400, 3 veces por semana $8200, 4 veces por semana $9400\"]\n",
        "             },\n",
        "            {\"tag\": \"pagos\",\n",
        "              \"patterns\": [\"medios de pago\", \"tarjeta de crédito\", \"tarjetas\", \"cuotas\"],\n",
        "              \"responses\": [\"Podes pagarnos en efectivo o con Mercafo Pago\"]\n",
        "             },\n",
        "            {\"tag\": \"agradecimientos\",\n",
        "              \"patterns\": [ \"Muchas gracias\", \"Gracias\"],\n",
        "              \"responses\": [\"Por nada!, cualquier otra consulta podes escribirme\"]\n",
        "             },\n",
        "             {\"tag\": \"despedida\",\n",
        "              \"patterns\": [ \"Chau\", \"Hasta luego!\"],\n",
        "              \"responses\": [\"Hasta luego!\", \"Hablamos luego!\"]\n",
        "             }\n",
        "]}"
      ]
    },
    {
      "cell_type": "markdown",
      "metadata": {
        "id": "19PEDmIDfLRu"
      },
      "source": [
        "### 4 - Preprocesamiento y armado del dataset"
      ]
    },
    {
      "cell_type": "code",
      "execution_count": 29,
      "metadata": {
        "id": "b3HP8abHNRk3"
      },
      "outputs": [],
      "source": [
        "# Datos que necesitaremos, las palabras o vocabulario\n",
        "words = []\n",
        "classes = []\n",
        "doc_X = []\n",
        "doc_y = []\n",
        "\n",
        "# Por cada intención (intents) debemos tomar los patrones que la caracterizan\n",
        "# a esa intención y transformarla a tokens para almacenar en doc_X\n",
        "\n",
        "# El tag de cada intención se almacena como doc_Y (la clase a predecir)\n",
        "# En `words` vamos a guardar el vocabulario\n",
        "# En `class` las posibles clases o tags\n",
        "\n",
        "for intent in dataset[\"intents\"]:\n",
        "    for pattern in intent[\"patterns\"]:\n",
        "        # trasformar el patron a tokens\n",
        "        tokens = nlp(preprocess_clean_text(pattern.lower()))\n",
        "        # lematizar los tokens si no son stop words\n",
        "        for token in tokens:\n",
        "          if not token.is_stop:\n",
        "            words.append(token.lemma_)\n",
        "\n",
        "        doc_X.append(pattern)\n",
        "        doc_y.append(intent[\"tag\"])\n",
        "\n",
        "    # Agregar el tag a las clases\n",
        "    if intent[\"tag\"] not in classes:\n",
        "        classes.append(intent[\"tag\"])\n",
        "\n",
        "# Elminar duplicados con \"set\" y ordenar el vocubulario y las clases por orden alfabético\n",
        "words = sorted(set(words))\n",
        "classes = sorted(set(classes))"
      ]
    },
    {
      "cell_type": "code",
      "execution_count": 30,
      "metadata": {
        "id": "Acy-gcugNbMH",
        "outputId": "bc513925-9056-4517-aeb0-8083dac1c99e",
        "colab": {
          "base_uri": "https://localhost:8080/"
        }
      },
      "outputs": [
        {
          "output_type": "stream",
          "name": "stdout",
          "text": [
            "words: ['chau', 'clase', 'contacto', 'credito', 'cuota', 'durar', 'gracias', 'holar', 'horario', 'medio', 'nombre', 'numero', 'pago', 'pasar', 'persona', 'poder', 'precio', 'ser', 'tarjeta', 'telefono', 'whatsapp']\n",
            "classes: ['agradecimientos', 'bienvenida', 'clases', 'contacto', 'despedida', 'horarios', 'nombre', 'pagos', 'precio']\n",
            "doc_X: ['Hola', '¿Cómo estás?', '¿Qué tal?', '¿Cúal es tu nombre?', '¿Quién sos?', 'contacto', 'número de contacto', 'número de teléfono', 'número de whatsapp', 'whatsapp', '¿Cuanto duran las clases?', '¿Cuantas personas por clase?', 'horarios', 'Me podrás pasar los horarios', '¿En que horario?', '¿Que días?', 'precios', 'Me podrás pasar los precios', '¿Cual es el precio?', 'medios de pago', 'tarjeta de crédito', 'tarjetas', 'cuotas', 'Muchas gracias', 'Gracias', 'Chau', 'Hasta luego!']\n",
            "doc_y: ['bienvenida', 'bienvenida', 'bienvenida', 'nombre', 'nombre', 'contacto', 'contacto', 'contacto', 'contacto', 'contacto', 'clases', 'clases', 'horarios', 'horarios', 'horarios', 'horarios', 'precio', 'precio', 'precio', 'pagos', 'pagos', 'pagos', 'pagos', 'agradecimientos', 'agradecimientos', 'despedida', 'despedida']\n"
          ]
        }
      ],
      "source": [
        "print(\"words:\", words)\n",
        "print(\"classes:\", classes)\n",
        "print(\"doc_X:\", doc_X)\n",
        "print(\"doc_y:\", doc_y)"
      ]
    },
    {
      "cell_type": "code",
      "execution_count": 31,
      "metadata": {
        "id": "YI0L2U7IQcvy",
        "outputId": "8ad749fd-055c-4f64-d5ec-4a7ee5ee4ee9",
        "colab": {
          "base_uri": "https://localhost:8080/"
        }
      },
      "outputs": [
        {
          "output_type": "stream",
          "name": "stdout",
          "text": [
            "Vocabulario: 21\n"
          ]
        }
      ],
      "source": [
        "# Tamaño del vocabulario\n",
        "print(\"Vocabulario:\", len(words))"
      ]
    },
    {
      "cell_type": "code",
      "execution_count": 32,
      "metadata": {
        "id": "hqBeGKRk_q4r",
        "outputId": "44e3246d-d463-4397-c1c7-4dc4e9c58ee6",
        "colab": {
          "base_uri": "https://localhost:8080/"
        }
      },
      "outputs": [
        {
          "output_type": "stream",
          "name": "stdout",
          "text": [
            "Tags: 9\n"
          ]
        }
      ],
      "source": [
        "# Cantidad de tags\n",
        "print(\"Tags:\", len(classes))"
      ]
    },
    {
      "cell_type": "code",
      "execution_count": 33,
      "metadata": {
        "id": "vpbJ0guPN2Uq",
        "outputId": "29287732-d789-4d03-f561-d9f8ca19d469",
        "colab": {
          "base_uri": "https://localhost:8080/"
        }
      },
      "outputs": [
        {
          "output_type": "stream",
          "name": "stdout",
          "text": [
            "X: [0, 0, 0, 0, 0, 0, 0, 1, 0, 0, 0, 0, 0, 0, 0, 0, 0, 0, 0, 0, 0] y: [0, 1, 0, 0, 0, 0, 0, 0, 0]\n",
            "X: [0, 0, 0, 0, 0, 0, 0, 0, 0, 0, 0, 0, 0, 0, 0, 0, 0, 0, 0, 0, 0] y: [0, 1, 0, 0, 0, 0, 0, 0, 0]\n",
            "X: [0, 0, 0, 0, 0, 0, 0, 0, 0, 0, 0, 0, 0, 0, 0, 0, 0, 0, 0, 0, 0] y: [0, 1, 0, 0, 0, 0, 0, 0, 0]\n",
            "X: [0, 0, 0, 0, 0, 0, 0, 0, 0, 0, 1, 0, 0, 0, 0, 0, 0, 1, 0, 0, 0] y: [0, 0, 0, 0, 0, 0, 1, 0, 0]\n",
            "X: [0, 0, 0, 0, 0, 0, 0, 0, 0, 0, 0, 0, 0, 0, 0, 0, 0, 1, 0, 0, 0] y: [0, 0, 0, 0, 0, 0, 1, 0, 0]\n",
            "X: [0, 0, 1, 0, 0, 0, 0, 0, 0, 0, 0, 0, 0, 0, 0, 0, 0, 0, 0, 0, 0] y: [0, 0, 0, 1, 0, 0, 0, 0, 0]\n",
            "X: [0, 0, 1, 0, 0, 0, 0, 0, 0, 0, 0, 1, 0, 0, 0, 0, 0, 0, 0, 0, 0] y: [0, 0, 0, 1, 0, 0, 0, 0, 0]\n",
            "X: [0, 0, 0, 0, 0, 0, 0, 0, 0, 0, 0, 1, 0, 0, 0, 0, 0, 0, 0, 1, 0] y: [0, 0, 0, 1, 0, 0, 0, 0, 0]\n",
            "X: [0, 0, 0, 0, 0, 0, 0, 0, 0, 0, 0, 1, 0, 0, 0, 0, 0, 0, 0, 0, 1] y: [0, 0, 0, 1, 0, 0, 0, 0, 0]\n",
            "X: [0, 0, 0, 0, 0, 0, 0, 0, 0, 0, 0, 0, 0, 0, 0, 0, 0, 0, 0, 0, 1] y: [0, 0, 0, 1, 0, 0, 0, 0, 0]\n",
            "X: [0, 1, 0, 0, 0, 1, 0, 0, 0, 0, 0, 0, 0, 0, 0, 0, 0, 0, 0, 0, 0] y: [0, 0, 1, 0, 0, 0, 0, 0, 0]\n",
            "X: [0, 1, 0, 0, 0, 0, 0, 0, 0, 0, 0, 0, 0, 0, 1, 0, 0, 0, 0, 0, 0] y: [0, 0, 1, 0, 0, 0, 0, 0, 0]\n",
            "X: [0, 0, 0, 0, 0, 0, 0, 0, 1, 0, 0, 0, 0, 0, 0, 0, 0, 0, 0, 0, 0] y: [0, 0, 0, 0, 0, 1, 0, 0, 0]\n",
            "X: [0, 0, 0, 0, 0, 0, 0, 0, 1, 0, 0, 0, 0, 1, 0, 1, 0, 0, 0, 0, 0] y: [0, 0, 0, 0, 0, 1, 0, 0, 0]\n",
            "X: [0, 0, 0, 0, 0, 0, 0, 0, 1, 0, 0, 0, 0, 0, 0, 0, 0, 0, 0, 0, 0] y: [0, 0, 0, 0, 0, 1, 0, 0, 0]\n",
            "X: [0, 0, 0, 0, 0, 0, 0, 0, 0, 0, 0, 0, 0, 0, 0, 0, 0, 0, 0, 0, 0] y: [0, 0, 0, 0, 0, 1, 0, 0, 0]\n",
            "X: [0, 0, 0, 0, 0, 0, 0, 0, 0, 0, 0, 0, 0, 0, 0, 0, 1, 0, 0, 0, 0] y: [0, 0, 0, 0, 0, 0, 0, 0, 1]\n",
            "X: [0, 0, 0, 0, 0, 0, 0, 0, 0, 0, 0, 0, 0, 1, 0, 1, 1, 0, 0, 0, 0] y: [0, 0, 0, 0, 0, 0, 0, 0, 1]\n",
            "X: [0, 0, 0, 0, 0, 0, 0, 0, 0, 0, 0, 0, 0, 0, 0, 0, 1, 1, 0, 0, 0] y: [0, 0, 0, 0, 0, 0, 0, 0, 1]\n",
            "X: [0, 0, 0, 0, 0, 0, 0, 0, 0, 1, 0, 0, 1, 0, 0, 0, 0, 0, 0, 0, 0] y: [0, 0, 0, 0, 0, 0, 0, 1, 0]\n",
            "X: [0, 0, 0, 1, 0, 0, 0, 0, 0, 0, 0, 0, 0, 0, 0, 0, 0, 0, 1, 0, 0] y: [0, 0, 0, 0, 0, 0, 0, 1, 0]\n",
            "X: [0, 0, 0, 0, 0, 0, 0, 0, 0, 0, 0, 0, 0, 0, 0, 0, 0, 0, 1, 0, 0] y: [0, 0, 0, 0, 0, 0, 0, 1, 0]\n",
            "X: [0, 0, 0, 0, 1, 0, 0, 0, 0, 0, 0, 0, 0, 0, 0, 0, 0, 0, 0, 0, 0] y: [0, 0, 0, 0, 0, 0, 0, 1, 0]\n",
            "X: [0, 0, 0, 0, 0, 0, 1, 0, 0, 0, 0, 0, 0, 0, 0, 0, 0, 0, 0, 0, 0] y: [1, 0, 0, 0, 0, 0, 0, 0, 0]\n",
            "X: [0, 0, 0, 0, 0, 0, 1, 0, 0, 0, 0, 0, 0, 0, 0, 0, 0, 0, 0, 0, 0] y: [1, 0, 0, 0, 0, 0, 0, 0, 0]\n",
            "X: [1, 0, 0, 0, 0, 0, 0, 0, 0, 0, 0, 0, 0, 0, 0, 0, 0, 0, 0, 0, 0] y: [0, 0, 0, 0, 1, 0, 0, 0, 0]\n",
            "X: [0, 0, 0, 0, 0, 0, 0, 0, 0, 0, 0, 0, 0, 0, 0, 0, 0, 0, 0, 0, 0] y: [0, 0, 0, 0, 1, 0, 0, 0, 0]\n"
          ]
        }
      ],
      "source": [
        "# Transformar doc_X en bag of words por oneHotEncoding\n",
        "# Transformar doc_Y en un vector de clases multicategórico con oneHotEncoding\n",
        "\n",
        "training = []\n",
        "out_empty = [0] * len(classes)\n",
        "\n",
        "for idx, doc in enumerate(doc_X):\n",
        "    # Transformar la pregunta (input) en tokens y lematizar\n",
        "    text = []\n",
        "    tokens = nlp(preprocess_clean_text(doc.lower()))\n",
        "    for token in tokens:\n",
        "        text.append(token.lemma_)\n",
        "\n",
        "    # Transformar los tokens en \"Bag of words\" (arrays de 1 y 0)\n",
        "    bow = []\n",
        "    for word in words:\n",
        "        bow.append(1) if word in text else bow.append(0)\n",
        "\n",
        "    # Crear el array de salida (class output) correspondiente\n",
        "    output_row = list(out_empty)\n",
        "    output_row[classes.index(doc_y[idx])] = 1\n",
        "\n",
        "    print(\"X:\", bow, \"y:\", output_row)\n",
        "    training.append([bow, output_row])\n",
        "\n",
        "# Mezclar los datos\n",
        "random.shuffle(training)\n",
        "training = np.array(training, dtype=object)\n",
        "# Dividir en datos de entrada y salida\n",
        "train_X = np.array(list(training[:, 0]))\n",
        "train_y = np.array(list(training[:, 1]))"
      ]
    },
    {
      "cell_type": "markdown",
      "metadata": {
        "id": "a_Hr8QaDfRf3"
      },
      "source": [
        "### 5 - Entrenamiento del modelo"
      ]
    },
    {
      "cell_type": "code",
      "execution_count": 34,
      "metadata": {
        "id": "fopb3NqcAGTz",
        "outputId": "39959479-8ded-42a4-d55b-1eb0378242ed",
        "colab": {
          "base_uri": "https://localhost:8080/"
        }
      },
      "outputs": [
        {
          "output_type": "stream",
          "name": "stdout",
          "text": [
            "input: (21,) output: 9\n"
          ]
        }
      ],
      "source": [
        "# Shape de entrada y salida\n",
        "input_shape = (train_X.shape[1],)\n",
        "output_shape = train_y.shape[1]\n",
        "print(\"input:\", input_shape, \"output:\", output_shape)"
      ]
    },
    {
      "cell_type": "code",
      "execution_count": 35,
      "metadata": {
        "id": "xy7tzkwdOZx9",
        "outputId": "a3f939fa-825d-4085-db80-d26ba8f49fe6",
        "colab": {
          "base_uri": "https://localhost:8080/"
        }
      },
      "outputs": [
        {
          "output_type": "stream",
          "name": "stdout",
          "text": [
            "Model: \"sequential_1\"\n",
            "_________________________________________________________________\n",
            " Layer (type)                Output Shape              Param #   \n",
            "=================================================================\n",
            " dense_3 (Dense)             (None, 128)               2816      \n",
            "                                                                 \n",
            " dropout_2 (Dropout)         (None, 128)               0         \n",
            "                                                                 \n",
            " dense_4 (Dense)             (None, 64)                8256      \n",
            "                                                                 \n",
            " dropout_3 (Dropout)         (None, 64)                0         \n",
            "                                                                 \n",
            " dense_5 (Dense)             (None, 9)                 585       \n",
            "                                                                 \n",
            "=================================================================\n",
            "Total params: 11,657\n",
            "Trainable params: 11,657\n",
            "Non-trainable params: 0\n",
            "_________________________________________________________________\n",
            "None\n"
          ]
        }
      ],
      "source": [
        "# Entrenamiento del modelo DNN\n",
        "# - Modelo secuencial\n",
        "# - Con regularización\n",
        "# - softmax y optimizador Adam\n",
        "model = Sequential()\n",
        "model.add(Dense(128, input_shape=input_shape, activation=\"relu\"))\n",
        "model.add(Dropout(0.5))\n",
        "model.add(Dense(64, activation=\"relu\"))\n",
        "model.add(Dropout(0.5))\n",
        "model.add(Dense(output_shape, activation = \"softmax\"))\n",
        "\n",
        "model.compile(loss='categorical_crossentropy',\n",
        "              optimizer=\"Adam\",\n",
        "              metrics=[\"accuracy\"])\n",
        "print(model.summary())"
      ]
    },
    {
      "cell_type": "code",
      "execution_count": 36,
      "metadata": {
        "id": "r6hi4EcdOghm",
        "outputId": "265cff4f-e99e-42f4-a7f0-4be9f96e6c05",
        "colab": {
          "base_uri": "https://localhost:8080/"
        }
      },
      "outputs": [
        {
          "output_type": "stream",
          "name": "stdout",
          "text": [
            "Epoch 1/200\n",
            "1/1 [==============================] - 1s 1s/step - loss: 2.2257 - accuracy: 0.1111\n",
            "Epoch 2/200\n",
            "1/1 [==============================] - 0s 10ms/step - loss: 2.1998 - accuracy: 0.1481\n",
            "Epoch 3/200\n",
            "1/1 [==============================] - 0s 9ms/step - loss: 2.1508 - accuracy: 0.1852\n",
            "Epoch 4/200\n",
            "1/1 [==============================] - 0s 7ms/step - loss: 2.1881 - accuracy: 0.1481\n",
            "Epoch 5/200\n",
            "1/1 [==============================] - 0s 7ms/step - loss: 2.1372 - accuracy: 0.1852\n",
            "Epoch 6/200\n",
            "1/1 [==============================] - 0s 10ms/step - loss: 2.1520 - accuracy: 0.1852\n",
            "Epoch 7/200\n",
            "1/1 [==============================] - 0s 7ms/step - loss: 2.1889 - accuracy: 0.1111\n",
            "Epoch 8/200\n",
            "1/1 [==============================] - 0s 7ms/step - loss: 2.1427 - accuracy: 0.2222\n",
            "Epoch 9/200\n",
            "1/1 [==============================] - 0s 6ms/step - loss: 2.0948 - accuracy: 0.1852\n",
            "Epoch 10/200\n",
            "1/1 [==============================] - 0s 7ms/step - loss: 2.1391 - accuracy: 0.1111\n",
            "Epoch 11/200\n",
            "1/1 [==============================] - 0s 9ms/step - loss: 2.1449 - accuracy: 0.1852\n",
            "Epoch 12/200\n",
            "1/1 [==============================] - 0s 6ms/step - loss: 2.0966 - accuracy: 0.2222\n",
            "Epoch 13/200\n",
            "1/1 [==============================] - 0s 6ms/step - loss: 2.1497 - accuracy: 0.1481\n",
            "Epoch 14/200\n",
            "1/1 [==============================] - 0s 5ms/step - loss: 2.0797 - accuracy: 0.3333\n",
            "Epoch 15/200\n",
            "1/1 [==============================] - 0s 7ms/step - loss: 2.1068 - accuracy: 0.2593\n",
            "Epoch 16/200\n",
            "1/1 [==============================] - 0s 7ms/step - loss: 2.1379 - accuracy: 0.1852\n",
            "Epoch 17/200\n",
            "1/1 [==============================] - 0s 6ms/step - loss: 2.0433 - accuracy: 0.3333\n",
            "Epoch 18/200\n",
            "1/1 [==============================] - 0s 6ms/step - loss: 2.0384 - accuracy: 0.3333\n",
            "Epoch 19/200\n",
            "1/1 [==============================] - 0s 6ms/step - loss: 2.0338 - accuracy: 0.3704\n",
            "Epoch 20/200\n",
            "1/1 [==============================] - 0s 10ms/step - loss: 2.0022 - accuracy: 0.3333\n",
            "Epoch 21/200\n",
            "1/1 [==============================] - 0s 6ms/step - loss: 2.0485 - accuracy: 0.2963\n",
            "Epoch 22/200\n",
            "1/1 [==============================] - 0s 7ms/step - loss: 2.0125 - accuracy: 0.2593\n",
            "Epoch 23/200\n",
            "1/1 [==============================] - 0s 6ms/step - loss: 1.9672 - accuracy: 0.4074\n",
            "Epoch 24/200\n",
            "1/1 [==============================] - 0s 7ms/step - loss: 1.9967 - accuracy: 0.3333\n",
            "Epoch 25/200\n",
            "1/1 [==============================] - 0s 7ms/step - loss: 1.9702 - accuracy: 0.4074\n",
            "Epoch 26/200\n",
            "1/1 [==============================] - 0s 7ms/step - loss: 1.9595 - accuracy: 0.4444\n",
            "Epoch 27/200\n",
            "1/1 [==============================] - 0s 7ms/step - loss: 1.9404 - accuracy: 0.4815\n",
            "Epoch 28/200\n",
            "1/1 [==============================] - 0s 7ms/step - loss: 2.0033 - accuracy: 0.2963\n",
            "Epoch 29/200\n",
            "1/1 [==============================] - 0s 9ms/step - loss: 2.0340 - accuracy: 0.3333\n",
            "Epoch 30/200\n",
            "1/1 [==============================] - 0s 7ms/step - loss: 1.9279 - accuracy: 0.4815\n",
            "Epoch 31/200\n",
            "1/1 [==============================] - 0s 8ms/step - loss: 1.9209 - accuracy: 0.5185\n",
            "Epoch 32/200\n",
            "1/1 [==============================] - 0s 9ms/step - loss: 1.8854 - accuracy: 0.5185\n",
            "Epoch 33/200\n",
            "1/1 [==============================] - 0s 8ms/step - loss: 1.8838 - accuracy: 0.4815\n",
            "Epoch 34/200\n",
            "1/1 [==============================] - 0s 9ms/step - loss: 1.8724 - accuracy: 0.5926\n",
            "Epoch 35/200\n",
            "1/1 [==============================] - 0s 7ms/step - loss: 1.8800 - accuracy: 0.5556\n",
            "Epoch 36/200\n",
            "1/1 [==============================] - 0s 8ms/step - loss: 1.8553 - accuracy: 0.5185\n",
            "Epoch 37/200\n",
            "1/1 [==============================] - 0s 9ms/step - loss: 1.8308 - accuracy: 0.5185\n",
            "Epoch 38/200\n",
            "1/1 [==============================] - 0s 11ms/step - loss: 1.7940 - accuracy: 0.6296\n",
            "Epoch 39/200\n",
            "1/1 [==============================] - 0s 10ms/step - loss: 1.8115 - accuracy: 0.4815\n",
            "Epoch 40/200\n",
            "1/1 [==============================] - 0s 9ms/step - loss: 1.8023 - accuracy: 0.5185\n",
            "Epoch 41/200\n",
            "1/1 [==============================] - 0s 9ms/step - loss: 1.8835 - accuracy: 0.4444\n",
            "Epoch 42/200\n",
            "1/1 [==============================] - 0s 7ms/step - loss: 1.7498 - accuracy: 0.6667\n",
            "Epoch 43/200\n",
            "1/1 [==============================] - 0s 7ms/step - loss: 1.7631 - accuracy: 0.5926\n",
            "Epoch 44/200\n",
            "1/1 [==============================] - 0s 7ms/step - loss: 1.8740 - accuracy: 0.4074\n",
            "Epoch 45/200\n",
            "1/1 [==============================] - 0s 5ms/step - loss: 1.8173 - accuracy: 0.4444\n",
            "Epoch 46/200\n",
            "1/1 [==============================] - 0s 6ms/step - loss: 1.6989 - accuracy: 0.5556\n",
            "Epoch 47/200\n",
            "1/1 [==============================] - 0s 6ms/step - loss: 1.6788 - accuracy: 0.6667\n",
            "Epoch 48/200\n",
            "1/1 [==============================] - 0s 7ms/step - loss: 1.6667 - accuracy: 0.6296\n",
            "Epoch 49/200\n",
            "1/1 [==============================] - 0s 7ms/step - loss: 1.7133 - accuracy: 0.4815\n",
            "Epoch 50/200\n",
            "1/1 [==============================] - 0s 6ms/step - loss: 1.6859 - accuracy: 0.5556\n",
            "Epoch 51/200\n",
            "1/1 [==============================] - 0s 6ms/step - loss: 1.6632 - accuracy: 0.6667\n",
            "Epoch 52/200\n",
            "1/1 [==============================] - 0s 6ms/step - loss: 1.6520 - accuracy: 0.5926\n",
            "Epoch 53/200\n",
            "1/1 [==============================] - 0s 6ms/step - loss: 1.6177 - accuracy: 0.6296\n",
            "Epoch 54/200\n",
            "1/1 [==============================] - 0s 6ms/step - loss: 1.5858 - accuracy: 0.6667\n",
            "Epoch 55/200\n",
            "1/1 [==============================] - 0s 6ms/step - loss: 1.6223 - accuracy: 0.5185\n",
            "Epoch 56/200\n",
            "1/1 [==============================] - 0s 6ms/step - loss: 1.5044 - accuracy: 0.7037\n",
            "Epoch 57/200\n",
            "1/1 [==============================] - 0s 6ms/step - loss: 1.6362 - accuracy: 0.5926\n",
            "Epoch 58/200\n",
            "1/1 [==============================] - 0s 6ms/step - loss: 1.5529 - accuracy: 0.6296\n",
            "Epoch 59/200\n",
            "1/1 [==============================] - 0s 6ms/step - loss: 1.6328 - accuracy: 0.6296\n",
            "Epoch 60/200\n",
            "1/1 [==============================] - 0s 7ms/step - loss: 1.5572 - accuracy: 0.6667\n",
            "Epoch 61/200\n",
            "1/1 [==============================] - 0s 6ms/step - loss: 1.4996 - accuracy: 0.6296\n",
            "Epoch 62/200\n",
            "1/1 [==============================] - 0s 6ms/step - loss: 1.5528 - accuracy: 0.5926\n",
            "Epoch 63/200\n",
            "1/1 [==============================] - 0s 7ms/step - loss: 1.5138 - accuracy: 0.7037\n",
            "Epoch 64/200\n",
            "1/1 [==============================] - 0s 6ms/step - loss: 1.4967 - accuracy: 0.6296\n",
            "Epoch 65/200\n",
            "1/1 [==============================] - 0s 7ms/step - loss: 1.5113 - accuracy: 0.5926\n",
            "Epoch 66/200\n",
            "1/1 [==============================] - 0s 8ms/step - loss: 1.4880 - accuracy: 0.6667\n",
            "Epoch 67/200\n",
            "1/1 [==============================] - 0s 11ms/step - loss: 1.4142 - accuracy: 0.7407\n",
            "Epoch 68/200\n",
            "1/1 [==============================] - 0s 7ms/step - loss: 1.3638 - accuracy: 0.7407\n",
            "Epoch 69/200\n",
            "1/1 [==============================] - 0s 6ms/step - loss: 1.3220 - accuracy: 0.7407\n",
            "Epoch 70/200\n",
            "1/1 [==============================] - 0s 7ms/step - loss: 1.4433 - accuracy: 0.6667\n",
            "Epoch 71/200\n",
            "1/1 [==============================] - 0s 7ms/step - loss: 1.3562 - accuracy: 0.7037\n",
            "Epoch 72/200\n",
            "1/1 [==============================] - 0s 8ms/step - loss: 1.3972 - accuracy: 0.6296\n",
            "Epoch 73/200\n",
            "1/1 [==============================] - 0s 8ms/step - loss: 1.3404 - accuracy: 0.6667\n",
            "Epoch 74/200\n",
            "1/1 [==============================] - 0s 7ms/step - loss: 1.3229 - accuracy: 0.7037\n",
            "Epoch 75/200\n",
            "1/1 [==============================] - 0s 7ms/step - loss: 1.4331 - accuracy: 0.6667\n",
            "Epoch 76/200\n",
            "1/1 [==============================] - 0s 8ms/step - loss: 1.3690 - accuracy: 0.6667\n",
            "Epoch 77/200\n",
            "1/1 [==============================] - 0s 9ms/step - loss: 1.3226 - accuracy: 0.6667\n",
            "Epoch 78/200\n",
            "1/1 [==============================] - 0s 9ms/step - loss: 1.2271 - accuracy: 0.8148\n",
            "Epoch 79/200\n",
            "1/1 [==============================] - 0s 8ms/step - loss: 1.1417 - accuracy: 0.7037\n",
            "Epoch 80/200\n",
            "1/1 [==============================] - 0s 7ms/step - loss: 1.2384 - accuracy: 0.6667\n",
            "Epoch 81/200\n",
            "1/1 [==============================] - 0s 8ms/step - loss: 1.2703 - accuracy: 0.6296\n",
            "Epoch 82/200\n",
            "1/1 [==============================] - 0s 8ms/step - loss: 1.1475 - accuracy: 0.6667\n",
            "Epoch 83/200\n",
            "1/1 [==============================] - 0s 7ms/step - loss: 1.1259 - accuracy: 0.7037\n",
            "Epoch 84/200\n",
            "1/1 [==============================] - 0s 7ms/step - loss: 1.1338 - accuracy: 0.7407\n",
            "Epoch 85/200\n",
            "1/1 [==============================] - 0s 9ms/step - loss: 1.0634 - accuracy: 0.7778\n",
            "Epoch 86/200\n",
            "1/1 [==============================] - 0s 7ms/step - loss: 1.1846 - accuracy: 0.7778\n",
            "Epoch 87/200\n",
            "1/1 [==============================] - 0s 6ms/step - loss: 1.1870 - accuracy: 0.8148\n",
            "Epoch 88/200\n",
            "1/1 [==============================] - 0s 6ms/step - loss: 1.0341 - accuracy: 0.7778\n",
            "Epoch 89/200\n",
            "1/1 [==============================] - 0s 7ms/step - loss: 1.0657 - accuracy: 0.7407\n",
            "Epoch 90/200\n",
            "1/1 [==============================] - 0s 8ms/step - loss: 1.1450 - accuracy: 0.7407\n",
            "Epoch 91/200\n",
            "1/1 [==============================] - 0s 7ms/step - loss: 1.0808 - accuracy: 0.8148\n",
            "Epoch 92/200\n",
            "1/1 [==============================] - 0s 8ms/step - loss: 1.1573 - accuracy: 0.7037\n",
            "Epoch 93/200\n",
            "1/1 [==============================] - 0s 7ms/step - loss: 1.1083 - accuracy: 0.7778\n",
            "Epoch 94/200\n",
            "1/1 [==============================] - 0s 6ms/step - loss: 1.0535 - accuracy: 0.7778\n",
            "Epoch 95/200\n",
            "1/1 [==============================] - 0s 7ms/step - loss: 0.9472 - accuracy: 0.8148\n",
            "Epoch 96/200\n",
            "1/1 [==============================] - 0s 8ms/step - loss: 0.9859 - accuracy: 0.8148\n",
            "Epoch 97/200\n",
            "1/1 [==============================] - 0s 8ms/step - loss: 0.9255 - accuracy: 0.8519\n",
            "Epoch 98/200\n",
            "1/1 [==============================] - 0s 8ms/step - loss: 1.0916 - accuracy: 0.7778\n",
            "Epoch 99/200\n",
            "1/1 [==============================] - 0s 7ms/step - loss: 1.1495 - accuracy: 0.7037\n",
            "Epoch 100/200\n",
            "1/1 [==============================] - 0s 7ms/step - loss: 1.0101 - accuracy: 0.7407\n",
            "Epoch 101/200\n",
            "1/1 [==============================] - 0s 8ms/step - loss: 0.9467 - accuracy: 0.8519\n",
            "Epoch 102/200\n",
            "1/1 [==============================] - 0s 7ms/step - loss: 1.0425 - accuracy: 0.6667\n",
            "Epoch 103/200\n",
            "1/1 [==============================] - 0s 6ms/step - loss: 0.8654 - accuracy: 0.8519\n",
            "Epoch 104/200\n",
            "1/1 [==============================] - 0s 7ms/step - loss: 1.0258 - accuracy: 0.8148\n",
            "Epoch 105/200\n",
            "1/1 [==============================] - 0s 7ms/step - loss: 0.8696 - accuracy: 0.8519\n",
            "Epoch 106/200\n",
            "1/1 [==============================] - 0s 7ms/step - loss: 0.8705 - accuracy: 0.7778\n",
            "Epoch 107/200\n",
            "1/1 [==============================] - 0s 7ms/step - loss: 0.9076 - accuracy: 0.7778\n",
            "Epoch 108/200\n",
            "1/1 [==============================] - 0s 7ms/step - loss: 0.8026 - accuracy: 0.8148\n",
            "Epoch 109/200\n",
            "1/1 [==============================] - 0s 6ms/step - loss: 0.8518 - accuracy: 0.8519\n",
            "Epoch 110/200\n",
            "1/1 [==============================] - 0s 7ms/step - loss: 0.9199 - accuracy: 0.6667\n",
            "Epoch 111/200\n",
            "1/1 [==============================] - 0s 7ms/step - loss: 0.8476 - accuracy: 0.7778\n",
            "Epoch 112/200\n",
            "1/1 [==============================] - 0s 5ms/step - loss: 0.8465 - accuracy: 0.7407\n",
            "Epoch 113/200\n",
            "1/1 [==============================] - 0s 6ms/step - loss: 0.8049 - accuracy: 0.8519\n",
            "Epoch 114/200\n",
            "1/1 [==============================] - 0s 6ms/step - loss: 0.7374 - accuracy: 0.9259\n",
            "Epoch 115/200\n",
            "1/1 [==============================] - 0s 6ms/step - loss: 0.7996 - accuracy: 0.7037\n",
            "Epoch 116/200\n",
            "1/1 [==============================] - 0s 7ms/step - loss: 0.7228 - accuracy: 0.8519\n",
            "Epoch 117/200\n",
            "1/1 [==============================] - 0s 9ms/step - loss: 0.7978 - accuracy: 0.8148\n",
            "Epoch 118/200\n",
            "1/1 [==============================] - 0s 7ms/step - loss: 0.6447 - accuracy: 0.8519\n",
            "Epoch 119/200\n",
            "1/1 [==============================] - 0s 7ms/step - loss: 0.7445 - accuracy: 0.8148\n",
            "Epoch 120/200\n",
            "1/1 [==============================] - 0s 6ms/step - loss: 0.8030 - accuracy: 0.7778\n",
            "Epoch 121/200\n",
            "1/1 [==============================] - 0s 5ms/step - loss: 0.7777 - accuracy: 0.8889\n",
            "Epoch 122/200\n",
            "1/1 [==============================] - 0s 6ms/step - loss: 0.7886 - accuracy: 0.8889\n",
            "Epoch 123/200\n",
            "1/1 [==============================] - 0s 6ms/step - loss: 0.6827 - accuracy: 0.8519\n",
            "Epoch 124/200\n",
            "1/1 [==============================] - 0s 11ms/step - loss: 0.6863 - accuracy: 0.9259\n",
            "Epoch 125/200\n",
            "1/1 [==============================] - 0s 9ms/step - loss: 0.6409 - accuracy: 0.8889\n",
            "Epoch 126/200\n",
            "1/1 [==============================] - 0s 10ms/step - loss: 0.6858 - accuracy: 0.8148\n",
            "Epoch 127/200\n",
            "1/1 [==============================] - 0s 8ms/step - loss: 0.6633 - accuracy: 0.9630\n",
            "Epoch 128/200\n",
            "1/1 [==============================] - 0s 8ms/step - loss: 0.7360 - accuracy: 0.8148\n",
            "Epoch 129/200\n",
            "1/1 [==============================] - 0s 8ms/step - loss: 0.6116 - accuracy: 0.8148\n",
            "Epoch 130/200\n",
            "1/1 [==============================] - 0s 9ms/step - loss: 0.6934 - accuracy: 0.8519\n",
            "Epoch 131/200\n",
            "1/1 [==============================] - 0s 12ms/step - loss: 0.5996 - accuracy: 0.8889\n",
            "Epoch 132/200\n",
            "1/1 [==============================] - 0s 10ms/step - loss: 0.5761 - accuracy: 0.8889\n",
            "Epoch 133/200\n",
            "1/1 [==============================] - 0s 9ms/step - loss: 0.7120 - accuracy: 0.8889\n",
            "Epoch 134/200\n",
            "1/1 [==============================] - 0s 9ms/step - loss: 0.6610 - accuracy: 0.8519\n",
            "Epoch 135/200\n",
            "1/1 [==============================] - 0s 11ms/step - loss: 0.6621 - accuracy: 0.8148\n",
            "Epoch 136/200\n",
            "1/1 [==============================] - 0s 7ms/step - loss: 0.6707 - accuracy: 0.8519\n",
            "Epoch 137/200\n",
            "1/1 [==============================] - 0s 9ms/step - loss: 0.6490 - accuracy: 0.7407\n",
            "Epoch 138/200\n",
            "1/1 [==============================] - 0s 8ms/step - loss: 0.6193 - accuracy: 0.8889\n",
            "Epoch 139/200\n",
            "1/1 [==============================] - 0s 6ms/step - loss: 0.5695 - accuracy: 0.9259\n",
            "Epoch 140/200\n",
            "1/1 [==============================] - 0s 7ms/step - loss: 0.6104 - accuracy: 0.8889\n",
            "Epoch 141/200\n",
            "1/1 [==============================] - 0s 8ms/step - loss: 0.6457 - accuracy: 0.9259\n",
            "Epoch 142/200\n",
            "1/1 [==============================] - 0s 8ms/step - loss: 0.6632 - accuracy: 0.8148\n",
            "Epoch 143/200\n",
            "1/1 [==============================] - 0s 8ms/step - loss: 0.5692 - accuracy: 0.9259\n",
            "Epoch 144/200\n",
            "1/1 [==============================] - 0s 7ms/step - loss: 0.5631 - accuracy: 0.8889\n",
            "Epoch 145/200\n",
            "1/1 [==============================] - 0s 9ms/step - loss: 0.5657 - accuracy: 0.9259\n",
            "Epoch 146/200\n",
            "1/1 [==============================] - 0s 8ms/step - loss: 0.5125 - accuracy: 0.9259\n",
            "Epoch 147/200\n",
            "1/1 [==============================] - 0s 8ms/step - loss: 0.4762 - accuracy: 0.8889\n",
            "Epoch 148/200\n",
            "1/1 [==============================] - 0s 7ms/step - loss: 0.5845 - accuracy: 0.8519\n",
            "Epoch 149/200\n",
            "1/1 [==============================] - 0s 9ms/step - loss: 0.6295 - accuracy: 0.7407\n",
            "Epoch 150/200\n",
            "1/1 [==============================] - 0s 8ms/step - loss: 0.5705 - accuracy: 0.9259\n",
            "Epoch 151/200\n",
            "1/1 [==============================] - 0s 8ms/step - loss: 0.4861 - accuracy: 0.9259\n",
            "Epoch 152/200\n",
            "1/1 [==============================] - 0s 8ms/step - loss: 0.5701 - accuracy: 0.8519\n",
            "Epoch 153/200\n",
            "1/1 [==============================] - 0s 7ms/step - loss: 0.5395 - accuracy: 0.8519\n",
            "Epoch 154/200\n",
            "1/1 [==============================] - 0s 7ms/step - loss: 0.4848 - accuracy: 0.9259\n",
            "Epoch 155/200\n",
            "1/1 [==============================] - 0s 8ms/step - loss: 0.5344 - accuracy: 0.9259\n",
            "Epoch 156/200\n",
            "1/1 [==============================] - 0s 8ms/step - loss: 0.4272 - accuracy: 0.8889\n",
            "Epoch 157/200\n",
            "1/1 [==============================] - 0s 8ms/step - loss: 0.5424 - accuracy: 0.9259\n",
            "Epoch 158/200\n",
            "1/1 [==============================] - 0s 8ms/step - loss: 0.4658 - accuracy: 0.8889\n",
            "Epoch 159/200\n",
            "1/1 [==============================] - 0s 8ms/step - loss: 0.4886 - accuracy: 0.9630\n",
            "Epoch 160/200\n",
            "1/1 [==============================] - 0s 7ms/step - loss: 0.6293 - accuracy: 0.8519\n",
            "Epoch 161/200\n",
            "1/1 [==============================] - 0s 8ms/step - loss: 0.4595 - accuracy: 0.9259\n",
            "Epoch 162/200\n",
            "1/1 [==============================] - 0s 8ms/step - loss: 0.4968 - accuracy: 0.8889\n",
            "Epoch 163/200\n",
            "1/1 [==============================] - 0s 8ms/step - loss: 0.4488 - accuracy: 0.9259\n",
            "Epoch 164/200\n",
            "1/1 [==============================] - 0s 7ms/step - loss: 0.5302 - accuracy: 0.8148\n",
            "Epoch 165/200\n",
            "1/1 [==============================] - 0s 11ms/step - loss: 0.4383 - accuracy: 0.9630\n",
            "Epoch 166/200\n",
            "1/1 [==============================] - 0s 7ms/step - loss: 0.5197 - accuracy: 0.9630\n",
            "Epoch 167/200\n",
            "1/1 [==============================] - 0s 8ms/step - loss: 0.4281 - accuracy: 0.9259\n",
            "Epoch 168/200\n",
            "1/1 [==============================] - 0s 8ms/step - loss: 0.4917 - accuracy: 0.8889\n",
            "Epoch 169/200\n",
            "1/1 [==============================] - 0s 7ms/step - loss: 0.4900 - accuracy: 0.9259\n",
            "Epoch 170/200\n",
            "1/1 [==============================] - 0s 8ms/step - loss: 0.4615 - accuracy: 0.8889\n",
            "Epoch 171/200\n",
            "1/1 [==============================] - 0s 8ms/step - loss: 0.3672 - accuracy: 0.8889\n",
            "Epoch 172/200\n",
            "1/1 [==============================] - 0s 8ms/step - loss: 0.4422 - accuracy: 0.8889\n",
            "Epoch 173/200\n",
            "1/1 [==============================] - 0s 7ms/step - loss: 0.3053 - accuracy: 0.9259\n",
            "Epoch 174/200\n",
            "1/1 [==============================] - 0s 8ms/step - loss: 0.4395 - accuracy: 0.9259\n",
            "Epoch 175/200\n",
            "1/1 [==============================] - 0s 8ms/step - loss: 0.5424 - accuracy: 0.9259\n",
            "Epoch 176/200\n",
            "1/1 [==============================] - 0s 10ms/step - loss: 0.4164 - accuracy: 0.8889\n",
            "Epoch 177/200\n",
            "1/1 [==============================] - 0s 8ms/step - loss: 0.3899 - accuracy: 0.9259\n",
            "Epoch 178/200\n",
            "1/1 [==============================] - 0s 8ms/step - loss: 0.3951 - accuracy: 0.8889\n",
            "Epoch 179/200\n",
            "1/1 [==============================] - 0s 7ms/step - loss: 0.4501 - accuracy: 0.9259\n",
            "Epoch 180/200\n",
            "1/1 [==============================] - 0s 9ms/step - loss: 0.3494 - accuracy: 0.9630\n",
            "Epoch 181/200\n",
            "1/1 [==============================] - 0s 8ms/step - loss: 0.5037 - accuracy: 0.8889\n",
            "Epoch 182/200\n",
            "1/1 [==============================] - 0s 7ms/step - loss: 0.3214 - accuracy: 0.8889\n",
            "Epoch 183/200\n",
            "1/1 [==============================] - 0s 7ms/step - loss: 0.4323 - accuracy: 0.8148\n",
            "Epoch 184/200\n",
            "1/1 [==============================] - 0s 7ms/step - loss: 0.3963 - accuracy: 0.9630\n",
            "Epoch 185/200\n",
            "1/1 [==============================] - 0s 7ms/step - loss: 0.4773 - accuracy: 0.8889\n",
            "Epoch 186/200\n",
            "1/1 [==============================] - 0s 7ms/step - loss: 0.4514 - accuracy: 0.8889\n",
            "Epoch 187/200\n",
            "1/1 [==============================] - 0s 7ms/step - loss: 0.4336 - accuracy: 0.9259\n",
            "Epoch 188/200\n",
            "1/1 [==============================] - 0s 7ms/step - loss: 0.3873 - accuracy: 0.9259\n",
            "Epoch 189/200\n",
            "1/1 [==============================] - 0s 7ms/step - loss: 0.4098 - accuracy: 0.8148\n",
            "Epoch 190/200\n",
            "1/1 [==============================] - 0s 7ms/step - loss: 0.4407 - accuracy: 0.9259\n",
            "Epoch 191/200\n",
            "1/1 [==============================] - 0s 7ms/step - loss: 0.4330 - accuracy: 0.8519\n",
            "Epoch 192/200\n",
            "1/1 [==============================] - 0s 7ms/step - loss: 0.3662 - accuracy: 0.8889\n",
            "Epoch 193/200\n",
            "1/1 [==============================] - 0s 8ms/step - loss: 0.3614 - accuracy: 0.8519\n",
            "Epoch 194/200\n",
            "1/1 [==============================] - 0s 8ms/step - loss: 0.3085 - accuracy: 0.8889\n",
            "Epoch 195/200\n",
            "1/1 [==============================] - 0s 7ms/step - loss: 0.3804 - accuracy: 0.9630\n",
            "Epoch 196/200\n",
            "1/1 [==============================] - 0s 7ms/step - loss: 0.4166 - accuracy: 0.8889\n",
            "Epoch 197/200\n",
            "1/1 [==============================] - 0s 12ms/step - loss: 0.5566 - accuracy: 0.8519\n",
            "Epoch 198/200\n",
            "1/1 [==============================] - 0s 9ms/step - loss: 0.4516 - accuracy: 0.8889\n",
            "Epoch 199/200\n",
            "1/1 [==============================] - 0s 6ms/step - loss: 0.3509 - accuracy: 0.9259\n",
            "Epoch 200/200\n",
            "1/1 [==============================] - 0s 7ms/step - loss: 0.3644 - accuracy: 0.8519\n"
          ]
        }
      ],
      "source": [
        "hist = model.fit(x=train_X, y=train_y, epochs=200)"
      ]
    },
    {
      "cell_type": "code",
      "execution_count": 37,
      "metadata": {
        "id": "Pb1GZDjGRP6Q",
        "outputId": "5a9415ab-52a2-4ee0-8444-8b1c0cf9b9fc",
        "colab": {
          "base_uri": "https://localhost:8080/",
          "height": 433
        }
      },
      "outputs": [
        {
          "output_type": "display_data",
          "data": {
            "text/plain": [
              "<Figure size 640x480 with 1 Axes>"
            ],
            "image/png": "[encoded data removed]"
          },
          "metadata": {}
        }
      ],
      "source": [
        "import matplotlib.pyplot as plt\n",
        "import seaborn as sns\n",
        "\n",
        "# Entrenamiento\n",
        "epoch_count = range(1, len(hist.history['accuracy']) + 1)\n",
        "sns.lineplot(x=epoch_count,  y=hist.history['accuracy'], label='train')\n",
        "plt.show()"
      ]
    },
    {
      "cell_type": "code",
      "execution_count": 38,
      "metadata": {
        "id": "eTVDnrV0mDRf"
      },
      "outputs": [],
      "source": [
        "# Guardar lo necesario para poder re-utilizar este modelo en el futuro\n",
        "# el vocabulario utilizado (words)\n",
        "# las posibles clases\n",
        "# el modelo\n",
        "import pickle\n",
        "pickle.dump(words, open('words.pkl','wb'))\n",
        "pickle.dump(classes, open('classes.pkl','wb'))\n",
        "model.save('chatbot_model.h5')"
      ]
    },
    {
      "cell_type": "markdown",
      "metadata": {
        "id": "TnD1WvhBfVYR"
      },
      "source": [
        "### 6 - Testing y validación"
      ]
    },
    {
      "cell_type": "code",
      "execution_count": 39,
      "metadata": {
        "id": "kqBdSGt8Orkm"
      },
      "outputs": [],
      "source": [
        "# convertir texto de entrada del usuario a tokens\n",
        "def text_to_tokens(text):\n",
        "    lemma_tokens = []\n",
        "    tokens = nlp(preprocess_clean_text(text.lower()))\n",
        "    for token in tokens:\n",
        "        lemma_tokens.append(token.lemma_)\n",
        "    #print(lemma_tokens)\n",
        "    return lemma_tokens\n",
        "\n",
        "# transformar el texto de entrada tokenizado a una representación OHE\n",
        "def bag_of_words(text, vocab):\n",
        "    tokens = text_to_tokens(text)\n",
        "    bow = [0] * len(vocab)\n",
        "    for w in tokens:\n",
        "        for idx, word in enumerate(vocab):\n",
        "            if word == w:\n",
        "                bow[idx] = 1\n",
        "    #print(bow)\n",
        "    return np.array(bow)\n",
        "\n",
        "# usar modelo con la entrada en OHE y los labels posibles (tags)\n",
        "def pred_class(text, vocab, labels):\n",
        "    bow = bag_of_words(text, vocab)\n",
        "    words_recognized = sum(bow)\n",
        "\n",
        "    return_list = []\n",
        "    if words_recognized > 0: # sólo si reconoció alguna palabra del vocabulario\n",
        "        result = model.predict(np.array([bow]))[0] # es un array de softmax\n",
        "        thresh = 0.2\n",
        "        # filtrar aquellas entradas menores al umbral `thresh`\n",
        "        y_pred = [[idx, res] for idx, res in enumerate(result) if res > thresh]\n",
        "        # ordenar keys de acuerdo al valor softmax\n",
        "        y_pred.sort(key=lambda x: x[1], reverse=True)\n",
        "\n",
        "        # return_list es una lista de los labels de mayor a menor\n",
        "        for r in y_pred:\n",
        "            return_list.append(labels[r[0]])\n",
        "            #print(labels[r[0]], r[1])\n",
        "\n",
        "    # si no reconoció palabras del vocabulario se devuelve una lista vacía\n",
        "    return return_list\n",
        "\n",
        "# obtener una respuesta predeterminada\n",
        "def get_response(intents_list, intents_json):\n",
        "    tag = intents_list[0] # tomar el tag con el mejor valor softmax\n",
        "    list_of_intents = intents_json[\"intents\"] # intents_json es todo el dataset\n",
        "    for i in list_of_intents:\n",
        "        if i[\"tag\"] == tag: # buscar el tag correspoindiente y dar una respuesta predeterminada aleatoria\n",
        "            result = random.choice(i[\"responses\"])\n",
        "            break\n",
        "    return result"
      ]
    },
    {
      "cell_type": "code",
      "execution_count": 40,
      "metadata": {
        "id": "Xp1vXQwdOvl7",
        "outputId": "3a9fabb4-8705-4957-df4e-77726a0b6a5b",
        "colab": {
          "base_uri": "https://localhost:8080/",
          "height": 876
        }
      },
      "outputs": [
        {
          "output_type": "stream",
          "name": "stdout",
          "text": [
            "hola\n",
            "Q: hola\n",
            "1/1 [==============================] - 0s 45ms/step\n",
            "BOT: Hola!\n",
            "clases\n",
            "Q: clases\n",
            "1/1 [==============================] - 0s 15ms/step\n",
            "BOT: Las clases duran 50 minutos son de hasta 7 alumnos por clase.\n",
            "horarios\n",
            "Q: horarios\n",
            "1/1 [==============================] - 0s 14ms/step\n",
            "BOT: Lunes, miércoles y viernes de 8 a 15hs, martes y jueves de 8 a 13hs y de lunes a viernes de 16 a 21hs\n",
            "en que horario son las clases\n",
            "Q: en que horario son las clases\n",
            "1/1 [==============================] - 0s 27ms/step\n",
            "BOT: Lunes, miércoles y viernes de 8 a 15hs, martes y jueves de 8 a 13hs y de lunes a viernes de 16 a 21hs\n",
            "cual es el precio?\n",
            "Q: cual es el precio?\n",
            "1/1 [==============================] - 0s 18ms/step\n",
            "BOT: 1 vez por semana $6200, 2 veces por semana $7400, 3 veces por semana $8200, 4 veces por semana $9400\n",
            "cual es el valor?\n",
            "Q: cual es el valor?\n",
            "1/1 [==============================] - 0s 20ms/step\n",
            "BOT: Somos Ayla Pilates\n",
            "cual es el valor de las clases?\n",
            "Q: cual es el valor de las clases?\n",
            "1/1 [==============================] - 0s 14ms/step\n",
            "BOT: Las clases duran 50 minutos son de hasta 7 alumnos por clase.\n"
          ]
        },
        {
          "output_type": "error",
          "ename": "KeyboardInterrupt",
          "evalue": "ignored",
          "traceback": [
            "\u001b[0;31m---------------------------------------------------------------------------\u001b[0m",
            "\u001b[0;31mKeyboardInterrupt\u001b[0m                         Traceback (most recent call last)",
            "\u001b[0;32m<ipython-input-40-73fbfc2e4d81>\u001b[0m in \u001b[0;36m<cell line: 1>\u001b[0;34m()\u001b[0m\n\u001b[1;32m      1\u001b[0m \u001b[0;32mwhile\u001b[0m \u001b[0;32mTrue\u001b[0m\u001b[0;34m:\u001b[0m\u001b[0;34m\u001b[0m\u001b[0;34m\u001b[0m\u001b[0m\n\u001b[1;32m      2\u001b[0m     \u001b[0;31m# pedir input al usuario\u001b[0m\u001b[0;34m\u001b[0m\u001b[0;34m\u001b[0m\u001b[0m\n\u001b[0;32m----> 3\u001b[0;31m     \u001b[0mmessage\u001b[0m \u001b[0;34m=\u001b[0m \u001b[0minput\u001b[0m\u001b[0;34m(\u001b[0m\u001b[0;34m\"\"\u001b[0m\u001b[0;34m)\u001b[0m\u001b[0;34m\u001b[0m\u001b[0;34m\u001b[0m\u001b[0m\n\u001b[0m\u001b[1;32m      4\u001b[0m     \u001b[0mprint\u001b[0m\u001b[0;34m(\u001b[0m\u001b[0;34m\"Q:\"\u001b[0m\u001b[0;34m,\u001b[0m \u001b[0mmessage\u001b[0m\u001b[0;34m)\u001b[0m\u001b[0;34m\u001b[0m\u001b[0;34m\u001b[0m\u001b[0m\n\u001b[1;32m      5\u001b[0m \u001b[0;34m\u001b[0m\u001b[0m\n",
            "\u001b[0;32m/usr/local/lib/python3.10/dist-packages/ipykernel/kernelbase.py\u001b[0m in \u001b[0;36mraw_input\u001b[0;34m(self, prompt)\u001b[0m\n\u001b[1;32m    849\u001b[0m                 \u001b[0;34m\"raw_input was called, but this frontend does not support input requests.\"\u001b[0m\u001b[0;34m\u001b[0m\u001b[0;34m\u001b[0m\u001b[0m\n\u001b[1;32m    850\u001b[0m             )\n\u001b[0;32m--> 851\u001b[0;31m         return self._input_request(str(prompt),\n\u001b[0m\u001b[1;32m    852\u001b[0m             \u001b[0mself\u001b[0m\u001b[0;34m.\u001b[0m\u001b[0m_parent_ident\u001b[0m\u001b[0;34m,\u001b[0m\u001b[0;34m\u001b[0m\u001b[0;34m\u001b[0m\u001b[0m\n\u001b[1;32m    853\u001b[0m             \u001b[0mself\u001b[0m\u001b[0;34m.\u001b[0m\u001b[0m_parent_header\u001b[0m\u001b[0;34m,\u001b[0m\u001b[0;34m\u001b[0m\u001b[0;34m\u001b[0m\u001b[0m\n",
            "\u001b[0;32m/usr/local/lib/python3.10/dist-packages/ipykernel/kernelbase.py\u001b[0m in \u001b[0;36m_input_request\u001b[0;34m(self, prompt, ident, parent, password)\u001b[0m\n\u001b[1;32m    893\u001b[0m             \u001b[0;32mexcept\u001b[0m \u001b[0mKeyboardInterrupt\u001b[0m\u001b[0;34m:\u001b[0m\u001b[0;34m\u001b[0m\u001b[0;34m\u001b[0m\u001b[0m\n\u001b[1;32m    894\u001b[0m                 \u001b[0;31m# re-raise KeyboardInterrupt, to truncate traceback\u001b[0m\u001b[0;34m\u001b[0m\u001b[0;34m\u001b[0m\u001b[0m\n\u001b[0;32m--> 895\u001b[0;31m                 \u001b[0;32mraise\u001b[0m \u001b[0mKeyboardInterrupt\u001b[0m\u001b[0;34m(\u001b[0m\u001b[0;34m\"Interrupted by user\"\u001b[0m\u001b[0;34m)\u001b[0m \u001b[0;32mfrom\u001b[0m \u001b[0;32mNone\u001b[0m\u001b[0;34m\u001b[0m\u001b[0;34m\u001b[0m\u001b[0m\n\u001b[0m\u001b[1;32m    896\u001b[0m             \u001b[0;32mexcept\u001b[0m \u001b[0mException\u001b[0m \u001b[0;32mas\u001b[0m \u001b[0me\u001b[0m\u001b[0;34m:\u001b[0m\u001b[0;34m\u001b[0m\u001b[0;34m\u001b[0m\u001b[0m\n\u001b[1;32m    897\u001b[0m                 \u001b[0mself\u001b[0m\u001b[0;34m.\u001b[0m\u001b[0mlog\u001b[0m\u001b[0;34m.\u001b[0m\u001b[0mwarning\u001b[0m\u001b[0;34m(\u001b[0m\u001b[0;34m\"Invalid Message:\"\u001b[0m\u001b[0;34m,\u001b[0m \u001b[0mexc_info\u001b[0m\u001b[0;34m=\u001b[0m\u001b[0;32mTrue\u001b[0m\u001b[0;34m)\u001b[0m\u001b[0;34m\u001b[0m\u001b[0;34m\u001b[0m\u001b[0m\n",
            "\u001b[0;31mKeyboardInterrupt\u001b[0m: Interrupted by user"
          ]
        }
      ],
      "source": [
        "while True:\n",
        "    # pedir input al usuario\n",
        "    message = input(\"\")\n",
        "    print(\"Q:\", message)\n",
        "\n",
        "    intents = pred_class(message, words, classes)\n",
        "    if len(intents) > 0:\n",
        "        result = get_response(intents, dataset)\n",
        "        print(\"BOT:\", result)\n",
        "    else: # si no hubo ningún resultado que supere el umbral\n",
        "        print(\"BOT: Perdón, no comprendo la pregunta.\")\n"
      ]
    },
    {
      "cell_type": "markdown",
      "metadata": {
        "id": "ayatkwp4fYQx"
      },
      "source": [
        "### 7 - Conclusiones\n",
        "El bot tal cual está definido es capaz de responder a bastantes tipos de preguntas con gran precisión. Algunas técnicas que podrían ensayarse para evaluar como impactan en el sistema son:\n",
        "- Filtrar los stop words\n",
        "- Utilizar TF-IDF en vez de bag of words"
      ]
    },
    {
      "cell_type": "markdown",
      "source": [
        "Se modifico el diccionario de entrada"
      ],
      "metadata": {
        "id": "e14aXCfiGNTn"
      }
    },
    {
      "cell_type": "markdown",
      "metadata": {
        "id": "tEsPjZE0X7tb"
      },
      "source": [
        "### Alumno"
      ]
    },
    {
      "cell_type": "markdown",
      "metadata": {
        "id": "t_Vi8EcqX7te"
      },
      "source": [
        "- Tomar un ejemplo de los bots utilizados (uno de los dos) y construir el propio.\n",
        "- Sacar conclusiones de los resultados.\n",
        "\n",
        "__IMPORTANTE__: Recuerde para la entrega del ejercicio debe quedar registrado en el colab las preguntas y las respuestas del BOT para que podamos evaluar el desempeño final."
      ]
    },
    {
      "cell_type": "markdown",
      "source": [
        "### Cambios realizados\n",
        "\n",
        "\n",
        "*   Se modifico el diccionario de entrada\n",
        "*   Se filtraron las stop words\n",
        "\n"
      ],
      "metadata": {
        "id": "irt26MluQW_3"
      }
    },
    {
      "cell_type": "markdown",
      "source": [
        "### Conclusiones\n",
        "\n",
        "\n",
        "*   El accuracy del entrenamiento fue levemente mejor con las stop words incluidas\n",
        "*   El modelo entrenado con stop words responde mejor ante preguntas con palabras no incluidas en el diccionario\n"
      ],
      "metadata": {
        "id": "8RqEEc4hQ0dc"
      }
    }
  ],
  "metadata": {
    "colab": {
      "name": "2b - bot_dnn_spacy_esp.ipynb",
      "provenance": [],
      "include_colab_link": true
    },
    "kernelspec": {
      "display_name": "Python 3 (ipykernel)",
      "language": "python",
      "name": "python3"
    },
    "language_info": {
      "codemirror_mode": {
        "name": "ipython",
        "version": 3
      },
      "file_extension": ".py",
      "mimetype": "text/x-python",
      "name": "python",
      "nbconvert_exporter": "python",
      "pygments_lexer": "ipython3",
      "version": "3.10.6"
    },
    "widgets": {
      "application/vnd.jupyter.widget-state+json": {
        "51dd8d92b7fb4e4fb5d516678cd09566": {
          "model_module": "@jupyter-widgets/controls",
          "model_name": "HBoxModel",
          "model_module_version": "1.5.0",
          "state": {
            "_dom_classes": [],
            "_model_module": "@jupyter-widgets/controls",
            "_model_module_version": "1.5.0",
            "_model_name": "HBoxModel",
            "_view_count": null,
            "_view_module": "@jupyter-widgets/controls",
            "_view_module_version": "1.5.0",
            "_view_name": "HBoxView",
            "box_style": "",
            "children": [
              "IPY_MODEL_c0f09ee64aee441db18878759b3ac049",
              "IPY_MODEL_64e8cdab9c2a491c9827ed714c787188",
              "IPY_MODEL_3197c1eafa1842618f3f7e0d8daef75a"
            ],
            "layout": "IPY_MODEL_7cd294f150084be29417a0a01016363e"
          }
        },
        "c0f09ee64aee441db18878759b3ac049": {
          "model_module": "@jupyter-widgets/controls",
          "model_name": "HTMLModel",
          "model_module_version": "1.5.0",
          "state": {
            "_dom_classes": [],
            "_model_module": "@jupyter-widgets/controls",
            "_model_module_version": "1.5.0",
            "_model_name": "HTMLModel",
            "_view_count": null,
            "_view_module": "@jupyter-widgets/controls",
            "_view_module_version": "1.5.0",
            "_view_name": "HTMLView",
            "description": "",
            "description_tooltip": null,
            "layout": "IPY_MODEL_0c8bdee754ab4b82988be151e35e04d9",
            "placeholder": "​",
            "style": "IPY_MODEL_7c8a46b659a447beac9e06d233b062f8",
            "value": "Downloading https://raw.githubusercontent.com/stanfordnlp/stanza-resources/main/resources_1.2.2.json: "
          }
        },
        "64e8cdab9c2a491c9827ed714c787188": {
          "model_module": "@jupyter-widgets/controls",
          "model_name": "FloatProgressModel",
          "model_module_version": "1.5.0",
          "state": {
            "_dom_classes": [],
            "_model_module": "@jupyter-widgets/controls",
            "_model_module_version": "1.5.0",
            "_model_name": "FloatProgressModel",
            "_view_count": null,
            "_view_module": "@jupyter-widgets/controls",
            "_view_module_version": "1.5.0",
            "_view_name": "ProgressView",
            "bar_style": "success",
            "description": "",
            "description_tooltip": null,
            "layout": "IPY_MODEL_3a409353b3c04cec87a61a85bfae2e33",
            "max": 24144,
            "min": 0,
            "orientation": "horizontal",
            "style": "IPY_MODEL_be1e1ac72d5d48578fe0b575b214fc05",
            "value": 24144
          }
        },
        "3197c1eafa1842618f3f7e0d8daef75a": {
          "model_module": "@jupyter-widgets/controls",
          "model_name": "HTMLModel",
          "model_module_version": "1.5.0",
          "state": {
            "_dom_classes": [],
            "_model_module": "@jupyter-widgets/controls",
            "_model_module_version": "1.5.0",
            "_model_name": "HTMLModel",
            "_view_count": null,
            "_view_module": "@jupyter-widgets/controls",
            "_view_module_version": "1.5.0",
            "_view_name": "HTMLView",
            "description": "",
            "description_tooltip": null,
            "layout": "IPY_MODEL_42cc30aff52a455e9a577e92bb9a3638",
            "placeholder": "​",
            "style": "IPY_MODEL_5053a6e3d49347cb99bcb65b12d61a5e",
            "value": " 140k/? [00:00&lt;00:00, 7.33MB/s]"
          }
        },
        "7cd294f150084be29417a0a01016363e": {
          "model_module": "@jupyter-widgets/base",
          "model_name": "LayoutModel",
          "model_module_version": "1.2.0",
          "state": {
            "_model_module": "@jupyter-widgets/base",
            "_model_module_version": "1.2.0",
            "_model_name": "LayoutModel",
            "_view_count": null,
            "_view_module": "@jupyter-widgets/base",
            "_view_module_version": "1.2.0",
            "_view_name": "LayoutView",
            "align_content": null,
            "align_items": null,
            "align_self": null,
            "border": null,
            "bottom": null,
            "display": null,
            "flex": null,
            "flex_flow": null,
            "grid_area": null,
            "grid_auto_columns": null,
            "grid_auto_flow": null,
            "grid_auto_rows": null,
            "grid_column": null,
            "grid_gap": null,
            "grid_row": null,
            "grid_template_areas": null,
            "grid_template_columns": null,
            "grid_template_rows": null,
            "height": null,
            "justify_content": null,
            "justify_items": null,
            "left": null,
            "margin": null,
            "max_height": null,
            "max_width": null,
            "min_height": null,
            "min_width": null,
            "object_fit": null,
            "object_position": null,
            "order": null,
            "overflow": null,
            "overflow_x": null,
            "overflow_y": null,
            "padding": null,
            "right": null,
            "top": null,
            "visibility": null,
            "width": null
          }
        },
        "0c8bdee754ab4b82988be151e35e04d9": {
          "model_module": "@jupyter-widgets/base",
          "model_name": "LayoutModel",
          "model_module_version": "1.2.0",
          "state": {
            "_model_module": "@jupyter-widgets/base",
            "_model_module_version": "1.2.0",
            "_model_name": "LayoutModel",
            "_view_count": null,
            "_view_module": "@jupyter-widgets/base",
            "_view_module_version": "1.2.0",
            "_view_name": "LayoutView",
            "align_content": null,
            "align_items": null,
            "align_self": null,
            "border": null,
            "bottom": null,
            "display": null,
            "flex": null,
            "flex_flow": null,
            "grid_area": null,
            "grid_auto_columns": null,
            "grid_auto_flow": null,
            "grid_auto_rows": null,
            "grid_column": null,
            "grid_gap": null,
            "grid_row": null,
            "grid_template_areas": null,
            "grid_template_columns": null,
            "grid_template_rows": null,
            "height": null,
            "justify_content": null,
            "justify_items": null,
            "left": null,
            "margin": null,
            "max_height": null,
            "max_width": null,
            "min_height": null,
            "min_width": null,
            "object_fit": null,
            "object_position": null,
            "order": null,
            "overflow": null,
            "overflow_x": null,
            "overflow_y": null,
            "padding": null,
            "right": null,
            "top": null,
            "visibility": null,
            "width": null
          }
        },
        "7c8a46b659a447beac9e06d233b062f8": {
          "model_module": "@jupyter-widgets/controls",
          "model_name": "DescriptionStyleModel",
          "model_module_version": "1.5.0",
          "state": {
            "_model_module": "@jupyter-widgets/controls",
            "_model_module_version": "1.5.0",
            "_model_name": "DescriptionStyleModel",
            "_view_count": null,
            "_view_module": "@jupyter-widgets/base",
            "_view_module_version": "1.2.0",
            "_view_name": "StyleView",
            "description_width": ""
          }
        },
        "3a409353b3c04cec87a61a85bfae2e33": {
          "model_module": "@jupyter-widgets/base",
          "model_name": "LayoutModel",
          "model_module_version": "1.2.0",
          "state": {
            "_model_module": "@jupyter-widgets/base",
            "_model_module_version": "1.2.0",
            "_model_name": "LayoutModel",
            "_view_count": null,
            "_view_module": "@jupyter-widgets/base",
            "_view_module_version": "1.2.0",
            "_view_name": "LayoutView",
            "align_content": null,
            "align_items": null,
            "align_self": null,
            "border": null,
            "bottom": null,
            "display": null,
            "flex": null,
            "flex_flow": null,
            "grid_area": null,
            "grid_auto_columns": null,
            "grid_auto_flow": null,
            "grid_auto_rows": null,
            "grid_column": null,
            "grid_gap": null,
            "grid_row": null,
            "grid_template_areas": null,
            "grid_template_columns": null,
            "grid_template_rows": null,
            "height": null,
            "justify_content": null,
            "justify_items": null,
            "left": null,
            "margin": null,
            "max_height": null,
            "max_width": null,
            "min_height": null,
            "min_width": null,
            "object_fit": null,
            "object_position": null,
            "order": null,
            "overflow": null,
            "overflow_x": null,
            "overflow_y": null,
            "padding": null,
            "right": null,
            "top": null,
            "visibility": null,
            "width": null
          }
        },
        "be1e1ac72d5d48578fe0b575b214fc05": {
          "model_module": "@jupyter-widgets/controls",
          "model_name": "ProgressStyleModel",
          "model_module_version": "1.5.0",
          "state": {
            "_model_module": "@jupyter-widgets/controls",
            "_model_module_version": "1.5.0",
            "_model_name": "ProgressStyleModel",
            "_view_count": null,
            "_view_module": "@jupyter-widgets/base",
            "_view_module_version": "1.2.0",
            "_view_name": "StyleView",
            "bar_color": null,
            "description_width": ""
          }
        },
        "42cc30aff52a455e9a577e92bb9a3638": {
          "model_module": "@jupyter-widgets/base",
          "model_name": "LayoutModel",
          "model_module_version": "1.2.0",
          "state": {
            "_model_module": "@jupyter-widgets/base",
            "_model_module_version": "1.2.0",
            "_model_name": "LayoutModel",
            "_view_count": null,
            "_view_module": "@jupyter-widgets/base",
            "_view_module_version": "1.2.0",
            "_view_name": "LayoutView",
            "align_content": null,
            "align_items": null,
            "align_self": null,
            "border": null,
            "bottom": null,
            "display": null,
            "flex": null,
            "flex_flow": null,
            "grid_area": null,
            "grid_auto_columns": null,
            "grid_auto_flow": null,
            "grid_auto_rows": null,
            "grid_column": null,
            "grid_gap": null,
            "grid_row": null,
            "grid_template_areas": null,
            "grid_template_columns": null,
            "grid_template_rows": null,
            "height": null,
            "justify_content": null,
            "justify_items": null,
            "left": null,
            "margin": null,
            "max_height": null,
            "max_width": null,
            "min_height": null,
            "min_width": null,
            "object_fit": null,
            "object_position": null,
            "order": null,
            "overflow": null,
            "overflow_x": null,
            "overflow_y": null,
            "padding": null,
            "right": null,
            "top": null,
            "visibility": null,
            "width": null
          }
        },
        "5053a6e3d49347cb99bcb65b12d61a5e": {
          "model_module": "@jupyter-widgets/controls",
          "model_name": "DescriptionStyleModel",
          "model_module_version": "1.5.0",
          "state": {
            "_model_module": "@jupyter-widgets/controls",
            "_model_module_version": "1.5.0",
            "_model_name": "DescriptionStyleModel",
            "_view_count": null,
            "_view_module": "@jupyter-widgets/base",
            "_view_module_version": "1.2.0",
            "_view_name": "StyleView",
            "description_width": ""
          }
        },
        "c1f990df15e4400096aa1fcab125cf4d": {
          "model_module": "@jupyter-widgets/controls",
          "model_name": "HBoxModel",
          "model_module_version": "1.5.0",
          "state": {
            "_dom_classes": [],
            "_model_module": "@jupyter-widgets/controls",
            "_model_module_version": "1.5.0",
            "_model_name": "HBoxModel",
            "_view_count": null,
            "_view_module": "@jupyter-widgets/controls",
            "_view_module_version": "1.5.0",
            "_view_name": "HBoxView",
            "box_style": "",
            "children": [
              "IPY_MODEL_5fe4f0b81bd242378570d085b825f110",
              "IPY_MODEL_2be296619a9246acb79a31134f2c210e",
              "IPY_MODEL_8d16f346011b4868add88e4d0f7f1dc7"
            ],
            "layout": "IPY_MODEL_c9f98459ee5c4169a87b7dbaa9c5bd3d"
          }
        },
        "5fe4f0b81bd242378570d085b825f110": {
          "model_module": "@jupyter-widgets/controls",
          "model_name": "HTMLModel",
          "model_module_version": "1.5.0",
          "state": {
            "_dom_classes": [],
            "_model_module": "@jupyter-widgets/controls",
            "_model_module_version": "1.5.0",
            "_model_name": "HTMLModel",
            "_view_count": null,
            "_view_module": "@jupyter-widgets/controls",
            "_view_module_version": "1.5.0",
            "_view_name": "HTMLView",
            "description": "",
            "description_tooltip": null,
            "layout": "IPY_MODEL_72e4e9743537402e8620377c1e320e81",
            "placeholder": "​",
            "style": "IPY_MODEL_9652fe227b424c87a41a181ce7eca30a",
            "value": "Downloading http://nlp.stanford.edu/software/stanza/1.2.2/es/default.zip: 100%"
          }
        },
        "2be296619a9246acb79a31134f2c210e": {
          "model_module": "@jupyter-widgets/controls",
          "model_name": "FloatProgressModel",
          "model_module_version": "1.5.0",
          "state": {
            "_dom_classes": [],
            "_model_module": "@jupyter-widgets/controls",
            "_model_module_version": "1.5.0",
            "_model_name": "FloatProgressModel",
            "_view_count": null,
            "_view_module": "@jupyter-widgets/controls",
            "_view_module_version": "1.5.0",
            "_view_name": "ProgressView",
            "bar_style": "success",
            "description": "",
            "description_tooltip": null,
            "layout": "IPY_MODEL_9799ca6c2f1646d89ec2127318181c73",
            "max": 565553347,
            "min": 0,
            "orientation": "horizontal",
            "style": "IPY_MODEL_353b4a5ff6074f4484519dd87d69d39b",
            "value": 565553347
          }
        },
        "8d16f346011b4868add88e4d0f7f1dc7": {
          "model_module": "@jupyter-widgets/controls",
          "model_name": "HTMLModel",
          "model_module_version": "1.5.0",
          "state": {
            "_dom_classes": [],
            "_model_module": "@jupyter-widgets/controls",
            "_model_module_version": "1.5.0",
            "_model_name": "HTMLModel",
            "_view_count": null,
            "_view_module": "@jupyter-widgets/controls",
            "_view_module_version": "1.5.0",
            "_view_name": "HTMLView",
            "description": "",
            "description_tooltip": null,
            "layout": "IPY_MODEL_06f8116fe1a34c0fb923e5eeae9c6745",
            "placeholder": "​",
            "style": "IPY_MODEL_6303db70841f4d159a6efbe7446bbd07",
            "value": " 566M/566M [01:42&lt;00:00, 5.30MB/s]"
          }
        },
        "c9f98459ee5c4169a87b7dbaa9c5bd3d": {
          "model_module": "@jupyter-widgets/base",
          "model_name": "LayoutModel",
          "model_module_version": "1.2.0",
          "state": {
            "_model_module": "@jupyter-widgets/base",
            "_model_module_version": "1.2.0",
            "_model_name": "LayoutModel",
            "_view_count": null,
            "_view_module": "@jupyter-widgets/base",
            "_view_module_version": "1.2.0",
            "_view_name": "LayoutView",
            "align_content": null,
            "align_items": null,
            "align_self": null,
            "border": null,
            "bottom": null,
            "display": null,
            "flex": null,
            "flex_flow": null,
            "grid_area": null,
            "grid_auto_columns": null,
            "grid_auto_flow": null,
            "grid_auto_rows": null,
            "grid_column": null,
            "grid_gap": null,
            "grid_row": null,
            "grid_template_areas": null,
            "grid_template_columns": null,
            "grid_template_rows": null,
            "height": null,
            "justify_content": null,
            "justify_items": null,
            "left": null,
            "margin": null,
            "max_height": null,
            "max_width": null,
            "min_height": null,
            "min_width": null,
            "object_fit": null,
            "object_position": null,
            "order": null,
            "overflow": null,
            "overflow_x": null,
            "overflow_y": null,
            "padding": null,
            "right": null,
            "top": null,
            "visibility": null,
            "width": null
          }
        },
        "72e4e9743537402e8620377c1e320e81": {
          "model_module": "@jupyter-widgets/base",
          "model_name": "LayoutModel",
          "model_module_version": "1.2.0",
          "state": {
            "_model_module": "@jupyter-widgets/base",
            "_model_module_version": "1.2.0",
            "_model_name": "LayoutModel",
            "_view_count": null,
            "_view_module": "@jupyter-widgets/base",
            "_view_module_version": "1.2.0",
            "_view_name": "LayoutView",
            "align_content": null,
            "align_items": null,
            "align_self": null,
            "border": null,
            "bottom": null,
            "display": null,
            "flex": null,
            "flex_flow": null,
            "grid_area": null,
            "grid_auto_columns": null,
            "grid_auto_flow": null,
            "grid_auto_rows": null,
            "grid_column": null,
            "grid_gap": null,
            "grid_row": null,
            "grid_template_areas": null,
            "grid_template_columns": null,
            "grid_template_rows": null,
            "height": null,
            "justify_content": null,
            "justify_items": null,
            "left": null,
            "margin": null,
            "max_height": null,
            "max_width": null,
            "min_height": null,
            "min_width": null,
            "object_fit": null,
            "object_position": null,
            "order": null,
            "overflow": null,
            "overflow_x": null,
            "overflow_y": null,
            "padding": null,
            "right": null,
            "top": null,
            "visibility": null,
            "width": null
          }
        },
        "9652fe227b424c87a41a181ce7eca30a": {
          "model_module": "@jupyter-widgets/controls",
          "model_name": "DescriptionStyleModel",
          "model_module_version": "1.5.0",
          "state": {
            "_model_module": "@jupyter-widgets/controls",
            "_model_module_version": "1.5.0",
            "_model_name": "DescriptionStyleModel",
            "_view_count": null,
            "_view_module": "@jupyter-widgets/base",
            "_view_module_version": "1.2.0",
            "_view_name": "StyleView",
            "description_width": ""
          }
        },
        "9799ca6c2f1646d89ec2127318181c73": {
          "model_module": "@jupyter-widgets/base",
          "model_name": "LayoutModel",
          "model_module_version": "1.2.0",
          "state": {
            "_model_module": "@jupyter-widgets/base",
            "_model_module_version": "1.2.0",
            "_model_name": "LayoutModel",
            "_view_count": null,
            "_view_module": "@jupyter-widgets/base",
            "_view_module_version": "1.2.0",
            "_view_name": "LayoutView",
            "align_content": null,
            "align_items": null,
            "align_self": null,
            "border": null,
            "bottom": null,
            "display": null,
            "flex": null,
            "flex_flow": null,
            "grid_area": null,
            "grid_auto_columns": null,
            "grid_auto_flow": null,
            "grid_auto_rows": null,
            "grid_column": null,
            "grid_gap": null,
            "grid_row": null,
            "grid_template_areas": null,
            "grid_template_columns": null,
            "grid_template_rows": null,
            "height": null,
            "justify_content": null,
            "justify_items": null,
            "left": null,
            "margin": null,
            "max_height": null,
            "max_width": null,
            "min_height": null,
            "min_width": null,
            "object_fit": null,
            "object_position": null,
            "order": null,
            "overflow": null,
            "overflow_x": null,
            "overflow_y": null,
            "padding": null,
            "right": null,
            "top": null,
            "visibility": null,
            "width": null
          }
        },
        "353b4a5ff6074f4484519dd87d69d39b": {
          "model_module": "@jupyter-widgets/controls",
          "model_name": "ProgressStyleModel",
          "model_module_version": "1.5.0",
          "state": {
            "_model_module": "@jupyter-widgets/controls",
            "_model_module_version": "1.5.0",
            "_model_name": "ProgressStyleModel",
            "_view_count": null,
            "_view_module": "@jupyter-widgets/base",
            "_view_module_version": "1.2.0",
            "_view_name": "StyleView",
            "bar_color": null,
            "description_width": ""
          }
        },
        "06f8116fe1a34c0fb923e5eeae9c6745": {
          "model_module": "@jupyter-widgets/base",
          "model_name": "LayoutModel",
          "model_module_version": "1.2.0",
          "state": {
            "_model_module": "@jupyter-widgets/base",
            "_model_module_version": "1.2.0",
            "_model_name": "LayoutModel",
            "_view_count": null,
            "_view_module": "@jupyter-widgets/base",
            "_view_module_version": "1.2.0",
            "_view_name": "LayoutView",
            "align_content": null,
            "align_items": null,
            "align_self": null,
            "border": null,
            "bottom": null,
            "display": null,
            "flex": null,
            "flex_flow": null,
            "grid_area": null,
            "grid_auto_columns": null,
            "grid_auto_flow": null,
            "grid_auto_rows": null,
            "grid_column": null,
            "grid_gap": null,
            "grid_row": null,
            "grid_template_areas": null,
            "grid_template_columns": null,
            "grid_template_rows": null,
            "height": null,
            "justify_content": null,
            "justify_items": null,
            "left": null,
            "margin": null,
            "max_height": null,
            "max_width": null,
            "min_height": null,
            "min_width": null,
            "object_fit": null,
            "object_position": null,
            "order": null,
            "overflow": null,
            "overflow_x": null,
            "overflow_y": null,
            "padding": null,
            "right": null,
            "top": null,
            "visibility": null,
            "width": null
          }
        },
        "6303db70841f4d159a6efbe7446bbd07": {
          "model_module": "@jupyter-widgets/controls",
          "model_name": "DescriptionStyleModel",
          "model_module_version": "1.5.0",
          "state": {
            "_model_module": "@jupyter-widgets/controls",
            "_model_module_version": "1.5.0",
            "_model_name": "DescriptionStyleModel",
            "_view_count": null,
            "_view_module": "@jupyter-widgets/base",
            "_view_module_version": "1.2.0",
            "_view_name": "StyleView",
            "description_width": ""
          }
        }
      }
    }
  },
  "nbformat": 4,
  "nbformat_minor": 0
}