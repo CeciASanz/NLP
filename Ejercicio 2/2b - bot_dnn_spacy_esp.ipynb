{
  "cells": [
    {
      "cell_type": "markdown",
      "metadata": {
        "id": "view-in-github",
        "colab_type": "text"
      },
      "source": [
        "<a href=\"https://colab.research.google.com/github/CeciASanz/NLP/blob/main/Ejercicio%202/2b%20-%20bot_dnn_spacy_esp.ipynb\" target=\"_parent\"><img src=\"https://colab.research.google.com/assets/colab-badge.svg\" alt=\"Open In Colab\"/></a>"
      ]
    },
    {
      "cell_type": "markdown",
      "metadata": {
        "id": "NV8wZ0MTKjv_"
      },
      "source": [
        "<img src=\"https://github.com/hernancontigiani/ceia_memorias_especializacion/raw/master/Figures/logoFIUBA.jpg\" width=\"500\" align=\"center\">\n",
        "\n",
        "\n",
        "# Procesamiento de lenguaje natural\n",
        "## Bot de consulta abierta y respuestas predeterminadas con DNN + Spacy"
      ]
    },
    {
      "cell_type": "markdown",
      "metadata": {
        "id": "Z_9z3H-yKrcK"
      },
      "source": [
        "#### Datos\n",
        "Este ejemplo se inspiró en otro Bot en inglés creado con NLTK, lo tienen como referencia para hacer lo mismo en inglés:\\\n",
        "[LINK](https://towardsdatascience.com/a-simple-chatbot-in-python-with-deep-learning-3e8669997758)"
      ]
    },
    {
      "cell_type": "markdown",
      "metadata": {
        "id": "oCVZakCzAjGN"
      },
      "source": [
        "### 1 - Instalar dependencias\n",
        "Para poder utilizar Spacy en castellano es necesario agregar la librería \"spacy-stanza\" para lematizar palabras en español."
      ]
    },
    {
      "cell_type": "code",
      "execution_count": 1,
      "metadata": {
        "id": "Zd8NLa4gsSmT",
        "outputId": "4860ff2c-4b68-47e7-9a1c-68be078694ce",
        "colab": {
          "base_uri": "https://localhost:8080/"
        }
      },
      "outputs": [
        {
          "output_type": "stream",
          "name": "stdout",
          "text": [
            "\u001b[?25l     \u001b[90m━━━━━━━━━━━━━━━━━━━━━━━━━━━━━━━━━━━━━━━━\u001b[0m \u001b[32m0.0/1.0 MB\u001b[0m \u001b[31m?\u001b[0m eta \u001b[36m-:--:--\u001b[0m\r\u001b[2K     \u001b[91m━━━━━━\u001b[0m\u001b[91m╸\u001b[0m\u001b[90m━━━━━━━━━━━━━━━━━━━━━━━━━━━━━━━━━\u001b[0m \u001b[32m0.2/1.0 MB\u001b[0m \u001b[31m5.3 MB/s\u001b[0m eta \u001b[36m0:00:01\u001b[0m\r\u001b[2K     \u001b[91m━━━━━━━━━━━━━━━━━━━━━━━━\u001b[0m\u001b[90m╺\u001b[0m\u001b[90m━━━━━━━━━━━━━━━\u001b[0m \u001b[32m0.6/1.0 MB\u001b[0m \u001b[31m9.1 MB/s\u001b[0m eta \u001b[36m0:00:01\u001b[0m\r\u001b[2K     \u001b[91m━━━━━━━━━━━━━━━━━━━━━━━━━━━━━━━━━━━━━━━\u001b[0m\u001b[91m╸\u001b[0m \u001b[32m1.0/1.0 MB\u001b[0m \u001b[31m10.5 MB/s\u001b[0m eta \u001b[36m0:00:01\u001b[0m\r\u001b[2K     \u001b[90m━━━━━━━━━━━━━━━━━━━━━━━━━━━━━━━━━━━━━━━━\u001b[0m \u001b[32m1.0/1.0 MB\u001b[0m \u001b[31m9.5 MB/s\u001b[0m eta \u001b[36m0:00:00\u001b[0m\n",
            "\u001b[?25h  Installing build dependencies ... \u001b[?25l\u001b[?25hdone\n",
            "  Getting requirements to build wheel ... \u001b[?25l\u001b[?25hdone\n",
            "  Installing backend dependencies ... \u001b[?25l\u001b[?25hdone\n",
            "  Preparing metadata (pyproject.toml) ... \u001b[?25l\u001b[?25hdone\n",
            "\u001b[2K     \u001b[90m━━━━━━━━━━━━━━━━━━━━━━━━━━━━━━━━━━━━━━━━\u001b[0m \u001b[32m82.8/82.8 kB\u001b[0m \u001b[31m11.5 MB/s\u001b[0m eta \u001b[36m0:00:00\u001b[0m\n",
            "\u001b[?25h  Building wheel for spacy (pyproject.toml) ... \u001b[?25l\u001b[?25hdone\n",
            "\u001b[31mERROR: pip's dependency resolver does not currently take into account all the packages that are installed. This behaviour is the source of the following dependency conflicts.\n",
            "fiona 1.9.4.post1 requires click~=8.0, but you have click 7.1.2 which is incompatible.\n",
            "flask 2.2.5 requires click>=8.0, but you have click 7.1.2 which is incompatible.\n",
            "dask 2023.8.0 requires click>=8.0, but you have click 7.1.2 which is incompatible.\n",
            "distributed 2023.8.0 requires click>=8.0, but you have click 7.1.2 which is incompatible.\n",
            "en-core-web-sm 3.6.0 requires spacy<3.7.0,>=3.6.0, but you have spacy 3.1.0 which is incompatible.\n",
            "inflect 7.0.0 requires pydantic>=1.9.1, but you have pydantic 1.8.2 which is incompatible.\n",
            "pip-tools 6.13.0 requires click>=8, but you have click 7.1.2 which is incompatible.\u001b[0m\u001b[31m\n",
            "\u001b[2K     \u001b[90m━━━━━━━━━━━━━━━━━━━━━━━━━━━━━━━━━━━━━━━\u001b[0m \u001b[32m342.1/342.1 kB\u001b[0m \u001b[31m5.8 MB/s\u001b[0m eta \u001b[36m0:00:00\u001b[0m\n",
            "\u001b[?25h"
          ]
        }
      ],
      "source": [
        "# La última versión de spacy-stanza (>1.0) es compatible solo con spacy >=3.0\n",
        "# Nota: spacy 3.0 incorpora al pipeline NLP transformers\n",
        "!pip install -U spacy==3.1 --quiet\n",
        "!pip install -U spacy-stanza==1.0.0 --quiet"
      ]
    },
    {
      "cell_type": "code",
      "execution_count": 2,
      "metadata": {
        "id": "kzao7XO9NJAq"
      },
      "outputs": [],
      "source": [
        "import json\n",
        "import string\n",
        "import random\n",
        "import numpy as np\n",
        "\n",
        "import tensorflow as tf\n",
        "from tensorflow.keras import Sequential\n",
        "from tensorflow.keras.layers import Dense, Dropout"
      ]
    },
    {
      "cell_type": "code",
      "execution_count": 3,
      "metadata": {
        "id": "Z_ExOb8uvjqK",
        "outputId": "f1932234-2900-407f-c799-41385e471db3",
        "colab": {
          "base_uri": "https://localhost:8080/",
          "height": 463,
          "referenced_widgets": [
            "51dd8d92b7fb4e4fb5d516678cd09566",
            "c0f09ee64aee441db18878759b3ac049",
            "64e8cdab9c2a491c9827ed714c787188",
            "3197c1eafa1842618f3f7e0d8daef75a",
            "7cd294f150084be29417a0a01016363e",
            "0c8bdee754ab4b82988be151e35e04d9",
            "7c8a46b659a447beac9e06d233b062f8",
            "3a409353b3c04cec87a61a85bfae2e33",
            "be1e1ac72d5d48578fe0b575b214fc05",
            "42cc30aff52a455e9a577e92bb9a3638",
            "5053a6e3d49347cb99bcb65b12d61a5e",
            "c1f990df15e4400096aa1fcab125cf4d",
            "5fe4f0b81bd242378570d085b825f110",
            "2be296619a9246acb79a31134f2c210e",
            "8d16f346011b4868add88e4d0f7f1dc7",
            "c9f98459ee5c4169a87b7dbaa9c5bd3d",
            "72e4e9743537402e8620377c1e320e81",
            "9652fe227b424c87a41a181ce7eca30a",
            "9799ca6c2f1646d89ec2127318181c73",
            "353b4a5ff6074f4484519dd87d69d39b",
            "06f8116fe1a34c0fb923e5eeae9c6745",
            "6303db70841f4d159a6efbe7446bbd07"
          ]
        }
      },
      "outputs": [
        {
          "output_type": "display_data",
          "data": {
            "text/plain": [
              "Downloading https://raw.githubusercontent.com/stanfordnlp/stanza-resources/main/resources_1.2.2.json:   0%|   …"
            ],
            "application/vnd.jupyter.widget-view+json": {
              "version_major": 2,
              "version_minor": 0,
              "model_id": "51dd8d92b7fb4e4fb5d516678cd09566"
            }
          },
          "metadata": {}
        },
        {
          "output_type": "stream",
          "name": "stderr",
          "text": [
            "INFO:stanza:Downloading default packages for language: es (Spanish)...\n"
          ]
        },
        {
          "output_type": "display_data",
          "data": {
            "text/plain": [
              "Downloading http://nlp.stanford.edu/software/stanza/1.2.2/es/default.zip:   0%|          | 0.00/566M [00:00<?,…"
            ],
            "application/vnd.jupyter.widget-view+json": {
              "version_major": 2,
              "version_minor": 0,
              "model_id": "c1f990df15e4400096aa1fcab125cf4d"
            }
          },
          "metadata": {}
        },
        {
          "output_type": "stream",
          "name": "stderr",
          "text": [
            "INFO:stanza:Finished downloading models and saved to /root/stanza_resources.\n",
            "INFO:stanza:Loading these models for language: es (Spanish):\n",
            "=======================\n",
            "| Processor | Package |\n",
            "-----------------------\n",
            "| tokenize  | ancora  |\n",
            "| mwt       | ancora  |\n",
            "| pos       | ancora  |\n",
            "| lemma     | ancora  |\n",
            "| depparse  | ancora  |\n",
            "| ner       | conll02 |\n",
            "=======================\n",
            "\n",
            "INFO:stanza:Use device: cpu\n",
            "INFO:stanza:Loading: tokenize\n",
            "INFO:stanza:Loading: mwt\n",
            "INFO:stanza:Loading: pos\n",
            "INFO:stanza:Loading: lemma\n",
            "INFO:stanza:Loading: depparse\n",
            "INFO:stanza:Loading: ner\n",
            "INFO:stanza:Done loading processors!\n"
          ]
        }
      ],
      "source": [
        "import stanza\n",
        "import spacy_stanza\n",
        "\n",
        "# Vamos a usar SpaCy-Stanza. Stanza es una librería de NLP de Stanford\n",
        "# SpaCy armó un wrapper para los pipelines y modelos de Stanza\n",
        "# https://stanfordnlp.github.io/stanza/\n",
        "\n",
        "# Descargar el diccionario en español y armar el pipeline de NLP con spacy\n",
        "stanza.download(\"es\")\n",
        "nlp = spacy_stanza.load_pipeline(\"es\")"
      ]
    },
    {
      "cell_type": "markdown",
      "metadata": {
        "id": "_wF10RjVMBdV"
      },
      "source": [
        "### 2 - Herramientas de preprocesamiento de datos\n",
        "Entre las tareas de procesamiento de texto en español se implementa:\n",
        "- Quitar acentos y caracteres especiales\n",
        "- Quitar números\n",
        "- Quitar símbolos de puntuación"
      ]
    },
    {
      "cell_type": "code",
      "execution_count": 25,
      "metadata": {
        "id": "ZxoD2hEExmuX"
      },
      "outputs": [],
      "source": [
        "import re\n",
        "import unicodedata\n",
        "\n",
        "# El preprocesamento en castellano requiere más trabajo\n",
        "\n",
        "# Referencia de regex:\n",
        "# https://docs.python.org/3/library/re.html\n",
        "\n",
        "def preprocess_clean_text(text):\n",
        "    # sacar tildes de las palabras:\n",
        "    text = unicodedata.normalize('NFKD', text).encode('ascii', 'ignore').decode('utf-8', 'ignore')\n",
        "    # quitar caracteres especiales\n",
        "    pattern = r'[^a-zA-z0-9.,!?/:;\\\"\\'\\s]' # [^ : ningún caracter de todos estos\n",
        "    # (termina eliminando cualquier caracter distinto de los del regex)\n",
        "    text = re.sub(pattern, '', text)\n",
        "    pattern = r'[^a-zA-z.,!?/:;\\\"\\'\\s]' # igual al anterior pero sin cifras numéricas\n",
        "    # quitar números\n",
        "    text = re.sub(pattern, '', text)\n",
        "    # quitar caracteres de puntuación\n",
        "    text = ''.join([c for c in text if c not in string.punctuation])\n",
        "    return text"
      ]
    },
    {
      "cell_type": "code",
      "execution_count": 41,
      "metadata": {
        "id": "q-MiMZjh5fu2",
        "outputId": "43b14177-0873-40bc-c39c-204e54c7b17f",
        "colab": {
          "base_uri": "https://localhost:8080/",
          "height": 35
        }
      },
      "outputs": [
        {
          "output_type": "execute_result",
          "data": {
            "text/plain": [
              "'personas ideas estas cosas y los peces y los murcielagos'"
            ],
            "application/vnd.google.colaboratory.intrinsic+json": {
              "type": "string"
            }
          },
          "metadata": {},
          "execution_count": 41
        }
      ],
      "source": [
        "text = \"personas Ideas! estás cosas y los peces y los murciélagos\"\n",
        "\n",
        "# Antes de preprocesar los datos se pasa a minúsculas todo el texto\n",
        "preprocess_clean_text(text.lower())"
      ]
    },
    {
      "cell_type": "code",
      "execution_count": 24,
      "metadata": {
        "id": "I9V-S8JbrtNn",
        "outputId": "1263bb85-d161-4a0c-df8f-bb9917d28218",
        "colab": {
          "base_uri": "https://localhost:8080/"
        }
      },
      "outputs": [
        {
          "output_type": "stream",
          "name": "stdout",
          "text": [
            "tokens: hola personas ideas estas cosas y los peces y los murcielagos\n",
            "Lematización de cada token:\n",
            "[hola, 'holar'] False\n",
            "[personas, 'persona'] False\n",
            "[ideas, 'idea'] False\n",
            "[estas, 'este'] True\n",
            "[cosas, 'cosa'] True\n",
            "[y, 'y'] False\n",
            "[los, 'el'] True\n",
            "[peces, 'pez'] False\n",
            "[y, 'y'] False\n",
            "[los, 'el'] True\n",
            "[murcielagos, 'murcielago'] False\n"
          ]
        }
      ],
      "source": [
        "# Ejemplo de como funciona\n",
        "text = \"hola personas Ideas! estás cosas y los peces y los murciélagos\"\n",
        "\n",
        "# Antes de preprocesar los datos se pasa a minúsculas todo el texto\n",
        "tokens = nlp(preprocess_clean_text(text.lower()))\n",
        "print(\"tokens:\", tokens)\n",
        "print(\"Lematización de cada token:\")\n",
        "for token in tokens:\n",
        "    print([token, token.lemma_], token.is_stop)\n",
        ""
      ]
    },
    {
      "cell_type": "markdown",
      "metadata": {
        "id": "ilRbn0KfMm2r"
      },
      "source": [
        "### 3 - Diccionario de entrada"
      ]
    },
    {
      "cell_type": "code",
      "execution_count": 7,
      "metadata": {
        "id": "NgIGpjymNEH7"
      },
      "outputs": [],
      "source": [
        "# Dataset en formato JSON que representa las posibles preguntas (patterns)\n",
        "# y las posibles respuestas por categoría (tag)\n",
        "# Los \"patterns\" van a formar el corpus para entrenar el clasificador que clasifica en tags\n",
        "# \"respones\" son las respuestas predeterminadas posibles para cada tag\n",
        "dataset = {\"intents\": [\n",
        "             {\"tag\": \"bienvenida\",\n",
        "              \"patterns\": [\"Hola\", \"¿Cómo estás?\", \"¿Qué tal?\"],\n",
        "              \"responses\": [\"Hola!\", \"Hola, ¿Cómo estás?\"],\n",
        "             },\n",
        "             {\"tag\": \"nombre\",\n",
        "              \"patterns\": [\"¿Cúal es tu nombre?\", \"¿Quién sos?\"],\n",
        "              \"responses\": [\"Mi nombre es Ayla Pilates\", \"Somos Ayla Pilates\"]\n",
        "             },\n",
        "            {\"tag\": \"contacto\",\n",
        "              \"patterns\": [\"contacto\", \"número de contacto\", \"número de teléfono\", \"número de whatsapp\", \"whatsapp\"],\n",
        "              \"responses\": [\"Podes contactarnos al siguiente <numero>\", \"Contactos al whatsapp <numero>\"]\n",
        "             },\n",
        "            {\"tag\": \"clases\",\n",
        "              \"patterns\": [\"¿Cuanto duran las clases?\", \"¿Cuantas personas por clase?\"],\n",
        "              \"responses\": [\"Las clases duran 50 minutos son de hasta 7 alumnos por clase.\"]\n",
        "             },\n",
        "            {\"tag\": \"horarios\",\n",
        "              \"patterns\": [\"horarios\", \"Me podrás pasar los horarios\", \"¿En que horario?\", \"¿Que días?\"],\n",
        "              \"responses\": [\"Lunes, miércoles y viernes de 8 a 15hs, martes y jueves de 8 a 13hs y de lunes a viernes de 16 a 21hs\"]\n",
        "             },\n",
        "            {\"tag\": \"precio\",\n",
        "              \"patterns\": [\"precios\", \"Me podrás pasar los precios\", \"¿Cual es el precio?\"],\n",
        "              \"responses\": [\"1 vez por semana $6200, 2 veces por semana $7400, 3 veces por semana $8200, 4 veces por semana $9400\"]\n",
        "             },\n",
        "            {\"tag\": \"pagos\",\n",
        "              \"patterns\": [\"medios de pago\", \"tarjeta de crédito\", \"tarjetas\", \"cuotas\"],\n",
        "              \"responses\": [\"Podes pagarnos en efectivo o con Mercafo Pago\"]\n",
        "             },\n",
        "            {\"tag\": \"agradecimientos\",\n",
        "              \"patterns\": [ \"Muchas gracias\", \"Gracias\"],\n",
        "              \"responses\": [\"Por nada!, cualquier otra consulta podes escribirme\"]\n",
        "             },\n",
        "             {\"tag\": \"despedida\",\n",
        "              \"patterns\": [ \"Chau\", \"Hasta luego!\"],\n",
        "              \"responses\": [\"Hasta luego!\", \"Hablamos luego!\"]\n",
        "             }\n",
        "]}"
      ]
    },
    {
      "cell_type": "markdown",
      "metadata": {
        "id": "19PEDmIDfLRu"
      },
      "source": [
        "### 4 - Preprocesamiento y armado del dataset"
      ]
    },
    {
      "cell_type": "code",
      "execution_count": 29,
      "metadata": {
        "id": "b3HP8abHNRk3"
      },
      "outputs": [],
      "source": [
        "# Datos que necesitaremos, las palabras o vocabulario\n",
        "words = []\n",
        "classes = []\n",
        "doc_X = []\n",
        "doc_y = []\n",
        "\n",
        "# Por cada intención (intents) debemos tomar los patrones que la caracterizan\n",
        "# a esa intención y transformarla a tokens para almacenar en doc_X\n",
        "\n",
        "# El tag de cada intención se almacena como doc_Y (la clase a predecir)\n",
        "# En `words` vamos a guardar el vocabulario\n",
        "# En `class` las posibles clases o tags\n",
        "\n",
        "for intent in dataset[\"intents\"]:\n",
        "    for pattern in intent[\"patterns\"]:\n",
        "        # trasformar el patron a tokens\n",
        "        tokens = nlp(preprocess_clean_text(pattern.lower()))\n",
        "        # lematizar los tokens si no son stop words\n",
        "        for token in tokens:\n",
        "          if not token.is_stop:\n",
        "            words.append(token.lemma_)\n",
        "\n",
        "        doc_X.append(pattern)\n",
        "        doc_y.append(intent[\"tag\"])\n",
        "\n",
        "    # Agregar el tag a las clases\n",
        "    if intent[\"tag\"] not in classes:\n",
        "        classes.append(intent[\"tag\"])\n",
        "\n",
        "# Elminar duplicados con \"set\" y ordenar el vocubulario y las clases por orden alfabético\n",
        "words = sorted(set(words))\n",
        "classes = sorted(set(classes))"
      ]
    },
    {
      "cell_type": "code",
      "execution_count": 30,
      "metadata": {
        "id": "Acy-gcugNbMH",
        "outputId": "bc513925-9056-4517-aeb0-8083dac1c99e",
        "colab": {
          "base_uri": "https://localhost:8080/"
        }
      },
      "outputs": [
        {
          "output_type": "stream",
          "name": "stdout",
          "text": [
            "words: ['chau', 'clase', 'contacto', 'credito', 'cuota', 'durar', 'gracias', 'holar', 'horario', 'medio', 'nombre', 'numero', 'pago', 'pasar', 'persona', 'poder', 'precio', 'ser', 'tarjeta', 'telefono', 'whatsapp']\n",
            "classes: ['agradecimientos', 'bienvenida', 'clases', 'contacto', 'despedida', 'horarios', 'nombre', 'pagos', 'precio']\n",
            "doc_X: ['Hola', '¿Cómo estás?', '¿Qué tal?', '¿Cúal es tu nombre?', '¿Quién sos?', 'contacto', 'número de contacto', 'número de teléfono', 'número de whatsapp', 'whatsapp', '¿Cuanto duran las clases?', '¿Cuantas personas por clase?', 'horarios', 'Me podrás pasar los horarios', '¿En que horario?', '¿Que días?', 'precios', 'Me podrás pasar los precios', '¿Cual es el precio?', 'medios de pago', 'tarjeta de crédito', 'tarjetas', 'cuotas', 'Muchas gracias', 'Gracias', 'Chau', 'Hasta luego!']\n",
            "doc_y: ['bienvenida', 'bienvenida', 'bienvenida', 'nombre', 'nombre', 'contacto', 'contacto', 'contacto', 'contacto', 'contacto', 'clases', 'clases', 'horarios', 'horarios', 'horarios', 'horarios', 'precio', 'precio', 'precio', 'pagos', 'pagos', 'pagos', 'pagos', 'agradecimientos', 'agradecimientos', 'despedida', 'despedida']\n"
          ]
        }
      ],
      "source": [
        "print(\"words:\", words)\n",
        "print(\"classes:\", classes)\n",
        "print(\"doc_X:\", doc_X)\n",
        "print(\"doc_y:\", doc_y)"
      ]
    },
    {
      "cell_type": "code",
      "execution_count": 31,
      "metadata": {
        "id": "YI0L2U7IQcvy",
        "outputId": "8ad749fd-055c-4f64-d5ec-4a7ee5ee4ee9",
        "colab": {
          "base_uri": "https://localhost:8080/"
        }
      },
      "outputs": [
        {
          "output_type": "stream",
          "name": "stdout",
          "text": [
            "Vocabulario: 21\n"
          ]
        }
      ],
      "source": [
        "# Tamaño del vocabulario\n",
        "print(\"Vocabulario:\", len(words))"
      ]
    },
    {
      "cell_type": "code",
      "execution_count": 32,
      "metadata": {
        "id": "hqBeGKRk_q4r",
        "outputId": "44e3246d-d463-4397-c1c7-4dc4e9c58ee6",
        "colab": {
          "base_uri": "https://localhost:8080/"
        }
      },
      "outputs": [
        {
          "output_type": "stream",
          "name": "stdout",
          "text": [
            "Tags: 9\n"
          ]
        }
      ],
      "source": [
        "# Cantidad de tags\n",
        "print(\"Tags:\", len(classes))"
      ]
    },
    {
      "cell_type": "code",
      "execution_count": 33,
      "metadata": {
        "id": "vpbJ0guPN2Uq",
        "outputId": "29287732-d789-4d03-f561-d9f8ca19d469",
        "colab": {
          "base_uri": "https://localhost:8080/"
        }
      },
      "outputs": [
        {
          "output_type": "stream",
          "name": "stdout",
          "text": [
            "X: [0, 0, 0, 0, 0, 0, 0, 1, 0, 0, 0, 0, 0, 0, 0, 0, 0, 0, 0, 0, 0] y: [0, 1, 0, 0, 0, 0, 0, 0, 0]\n",
            "X: [0, 0, 0, 0, 0, 0, 0, 0, 0, 0, 0, 0, 0, 0, 0, 0, 0, 0, 0, 0, 0] y: [0, 1, 0, 0, 0, 0, 0, 0, 0]\n",
            "X: [0, 0, 0, 0, 0, 0, 0, 0, 0, 0, 0, 0, 0, 0, 0, 0, 0, 0, 0, 0, 0] y: [0, 1, 0, 0, 0, 0, 0, 0, 0]\n",
            "X: [0, 0, 0, 0, 0, 0, 0, 0, 0, 0, 1, 0, 0, 0, 0, 0, 0, 1, 0, 0, 0] y: [0, 0, 0, 0, 0, 0, 1, 0, 0]\n",
            "X: [0, 0, 0, 0, 0, 0, 0, 0, 0, 0, 0, 0, 0, 0, 0, 0, 0, 1, 0, 0, 0] y: [0, 0, 0, 0, 0, 0, 1, 0, 0]\n",
            "X: [0, 0, 1, 0, 0, 0, 0, 0, 0, 0, 0, 0, 0, 0, 0, 0, 0, 0, 0, 0, 0] y: [0, 0, 0, 1, 0, 0, 0, 0, 0]\n",
            "X: [0, 0, 1, 0, 0, 0, 0, 0, 0, 0, 0, 1, 0, 0, 0, 0, 0, 0, 0, 0, 0] y: [0, 0, 0, 1, 0, 0, 0, 0, 0]\n",
            "X: [0, 0, 0, 0, 0, 0, 0, 0, 0, 0, 0, 1, 0, 0, 0, 0, 0, 0, 0, 1, 0] y: [0, 0, 0, 1, 0, 0, 0, 0, 0]\n",
            "X: [0, 0, 0, 0, 0, 0, 0, 0, 0, 0, 0, 1, 0, 0, 0, 0, 0, 0, 0, 0, 1] y: [0, 0, 0, 1, 0, 0, 0, 0, 0]\n",
            "X: [0, 0, 0, 0, 0, 0, 0, 0, 0, 0, 0, 0, 0, 0, 0, 0, 0, 0, 0, 0, 1] y: [0, 0, 0, 1, 0, 0, 0, 0, 0]\n",
            "X: [0, 1, 0, 0, 0, 1, 0, 0, 0, 0, 0, 0, 0, 0, 0, 0, 0, 0, 0, 0, 0] y: [0, 0, 1, 0, 0, 0, 0, 0, 0]\n",
            "X: [0, 1, 0, 0, 0, 0, 0, 0, 0, 0, 0, 0, 0, 0, 1, 0, 0, 0, 0, 0, 0] y: [0, 0, 1, 0, 0, 0, 0, 0, 0]\n",
            "X: [0, 0, 0, 0, 0, 0, 0, 0, 1, 0, 0, 0, 0, 0, 0, 0, 0, 0, 0, 0, 0] y: [0, 0, 0, 0, 0, 1, 0, 0, 0]\n",
            "X: [0, 0, 0, 0, 0, 0, 0, 0, 1, 0, 0, 0, 0, 1, 0, 1, 0, 0, 0, 0, 0] y: [0, 0, 0, 0, 0, 1, 0, 0, 0]\n",
            "X: [0, 0, 0, 0, 0, 0, 0, 0, 1, 0, 0, 0, 0, 0, 0, 0, 0, 0, 0, 0, 0] y: [0, 0, 0, 0, 0, 1, 0, 0, 0]\n",
            "X: [0, 0, 0, 0, 0, 0, 0, 0, 0, 0, 0, 0, 0, 0, 0, 0, 0, 0, 0, 0, 0] y: [0, 0, 0, 0, 0, 1, 0, 0, 0]\n",
            "X: [0, 0, 0, 0, 0, 0, 0, 0, 0, 0, 0, 0, 0, 0, 0, 0, 1, 0, 0, 0, 0] y: [0, 0, 0, 0, 0, 0, 0, 0, 1]\n",
            "X: [0, 0, 0, 0, 0, 0, 0, 0, 0, 0, 0, 0, 0, 1, 0, 1, 1, 0, 0, 0, 0] y: [0, 0, 0, 0, 0, 0, 0, 0, 1]\n",
            "X: [0, 0, 0, 0, 0, 0, 0, 0, 0, 0, 0, 0, 0, 0, 0, 0, 1, 1, 0, 0, 0] y: [0, 0, 0, 0, 0, 0, 0, 0, 1]\n",
            "X: [0, 0, 0, 0, 0, 0, 0, 0, 0, 1, 0, 0, 1, 0, 0, 0, 0, 0, 0, 0, 0] y: [0, 0, 0, 0, 0, 0, 0, 1, 0]\n",
            "X: [0, 0, 0, 1, 0, 0, 0, 0, 0, 0, 0, 0, 0, 0, 0, 0, 0, 0, 1, 0, 0] y: [0, 0, 0, 0, 0, 0, 0, 1, 0]\n",
            "X: [0, 0, 0, 0, 0, 0, 0, 0, 0, 0, 0, 0, 0, 0, 0, 0, 0, 0, 1, 0, 0] y: [0, 0, 0, 0, 0, 0, 0, 1, 0]\n",
            "X: [0, 0, 0, 0, 1, 0, 0, 0, 0, 0, 0, 0, 0, 0, 0, 0, 0, 0, 0, 0, 0] y: [0, 0, 0, 0, 0, 0, 0, 1, 0]\n",
            "X: [0, 0, 0, 0, 0, 0, 1, 0, 0, 0, 0, 0, 0, 0, 0, 0, 0, 0, 0, 0, 0] y: [1, 0, 0, 0, 0, 0, 0, 0, 0]\n",
            "X: [0, 0, 0, 0, 0, 0, 1, 0, 0, 0, 0, 0, 0, 0, 0, 0, 0, 0, 0, 0, 0] y: [1, 0, 0, 0, 0, 0, 0, 0, 0]\n",
            "X: [1, 0, 0, 0, 0, 0, 0, 0, 0, 0, 0, 0, 0, 0, 0, 0, 0, 0, 0, 0, 0] y: [0, 0, 0, 0, 1, 0, 0, 0, 0]\n",
            "X: [0, 0, 0, 0, 0, 0, 0, 0, 0, 0, 0, 0, 0, 0, 0, 0, 0, 0, 0, 0, 0] y: [0, 0, 0, 0, 1, 0, 0, 0, 0]\n"
          ]
        }
      ],
      "source": [
        "# Transformar doc_X en bag of words por oneHotEncoding\n",
        "# Transformar doc_Y en un vector de clases multicategórico con oneHotEncoding\n",
        "\n",
        "training = []\n",
        "out_empty = [0] * len(classes)\n",
        "\n",
        "for idx, doc in enumerate(doc_X):\n",
        "    # Transformar la pregunta (input) en tokens y lematizar\n",
        "    text = []\n",
        "    tokens = nlp(preprocess_clean_text(doc.lower()))\n",
        "    for token in tokens:\n",
        "        text.append(token.lemma_)\n",
        "\n",
        "    # Transformar los tokens en \"Bag of words\" (arrays de 1 y 0)\n",
        "    bow = []\n",
        "    for word in words:\n",
        "        bow.append(1) if word in text else bow.append(0)\n",
        "\n",
        "    # Crear el array de salida (class output) correspondiente\n",
        "    output_row = list(out_empty)\n",
        "    output_row[classes.index(doc_y[idx])] = 1\n",
        "\n",
        "    print(\"X:\", bow, \"y:\", output_row)\n",
        "    training.append([bow, output_row])\n",
        "\n",
        "# Mezclar los datos\n",
        "random.shuffle(training)\n",
        "training = np.array(training, dtype=object)\n",
        "# Dividir en datos de entrada y salida\n",
        "train_X = np.array(list(training[:, 0]))\n",
        "train_y = np.array(list(training[:, 1]))"
      ]
    },
    {
      "cell_type": "markdown",
      "metadata": {
        "id": "a_Hr8QaDfRf3"
      },
      "source": [
        "### 5 - Entrenamiento del modelo"
      ]
    },
    {
      "cell_type": "code",
      "execution_count": 34,
      "metadata": {
        "id": "fopb3NqcAGTz",
        "outputId": "39959479-8ded-42a4-d55b-1eb0378242ed",
        "colab": {
          "base_uri": "https://localhost:8080/"
        }
      },
      "outputs": [
        {
          "output_type": "stream",
          "name": "stdout",
          "text": [
            "input: (21,) output: 9\n"
          ]
        }
      ],
      "source": [
        "# Shape de entrada y salida\n",
        "input_shape = (train_X.shape[1],)\n",
        "output_shape = train_y.shape[1]\n",
        "print(\"input:\", input_shape, \"output:\", output_shape)"
      ]
    },
    {
      "cell_type": "code",
      "execution_count": 35,
      "metadata": {
        "id": "xy7tzkwdOZx9",
        "outputId": "a3f939fa-825d-4085-db80-d26ba8f49fe6",
        "colab": {
          "base_uri": "https://localhost:8080/"
        }
      },
      "outputs": [
        {
          "output_type": "stream",
          "name": "stdout",
          "text": [
            "Model: \"sequential_1\"\n",
            "_________________________________________________________________\n",
            " Layer (type)                Output Shape              Param #   \n",
            "=================================================================\n",
            " dense_3 (Dense)             (None, 128)               2816      \n",
            "                                                                 \n",
            " dropout_2 (Dropout)         (None, 128)               0         \n",
            "                                                                 \n",
            " dense_4 (Dense)             (None, 64)                8256      \n",
            "                                                                 \n",
            " dropout_3 (Dropout)         (None, 64)                0         \n",
            "                                                                 \n",
            " dense_5 (Dense)             (None, 9)                 585       \n",
            "                                                                 \n",
            "=================================================================\n",
            "Total params: 11,657\n",
            "Trainable params: 11,657\n",
            "Non-trainable params: 0\n",
            "_________________________________________________________________\n",
            "None\n"
          ]
        }
      ],
      "source": [
        "# Entrenamiento del modelo DNN\n",
        "# - Modelo secuencial\n",
        "# - Con regularización\n",
        "# - softmax y optimizador Adam\n",
        "model = Sequential()\n",
        "model.add(Dense(128, input_shape=input_shape, activation=\"relu\"))\n",
        "model.add(Dropout(0.5))\n",
        "model.add(Dense(64, activation=\"relu\"))\n",
        "model.add(Dropout(0.5))\n",
        "model.add(Dense(output_shape, activation = \"softmax\"))\n",
        "\n",
        "model.compile(loss='categorical_crossentropy',\n",
        "              optimizer=\"Adam\",\n",
        "              metrics=[\"accuracy\"])\n",
        "print(model.summary())"
      ]
    },
    {
      "cell_type": "code",
      "execution_count": 36,
      "metadata": {
        "id": "r6hi4EcdOghm",
        "outputId": "265cff4f-e99e-42f4-a7f0-4be9f96e6c05",
        "colab": {
          "base_uri": "https://localhost:8080/"
        }
      },
      "outputs": [
        {
          "output_type": "stream",
          "name": "stdout",
          "text": [
            "Epoch 1/200\n",
            "1/1 [==============================] - 1s 1s/step - loss: 2.2257 - accuracy: 0.1111\n",
            "Epoch 2/200\n",
            "1/1 [==============================] - 0s 10ms/step - loss: 2.1998 - accuracy: 0.1481\n",
            "Epoch 3/200\n",
            "1/1 [==============================] - 0s 9ms/step - loss: 2.1508 - accuracy: 0.1852\n",
            "Epoch 4/200\n",
            "1/1 [==============================] - 0s 7ms/step - loss: 2.1881 - accuracy: 0.1481\n",
            "Epoch 5/200\n",
            "1/1 [==============================] - 0s 7ms/step - loss: 2.1372 - accuracy: 0.1852\n",
            "Epoch 6/200\n",
            "1/1 [==============================] - 0s 10ms/step - loss: 2.1520 - accuracy: 0.1852\n",
            "Epoch 7/200\n",
            "1/1 [==============================] - 0s 7ms/step - loss: 2.1889 - accuracy: 0.1111\n",
            "Epoch 8/200\n",
            "1/1 [==============================] - 0s 7ms/step - loss: 2.1427 - accuracy: 0.2222\n",
            "Epoch 9/200\n",
            "1/1 [==============================] - 0s 6ms/step - loss: 2.0948 - accuracy: 0.1852\n",
            "Epoch 10/200\n",
            "1/1 [==============================] - 0s 7ms/step - loss: 2.1391 - accuracy: 0.1111\n",
            "Epoch 11/200\n",
            "1/1 [==============================] - 0s 9ms/step - loss: 2.1449 - accuracy: 0.1852\n",
            "Epoch 12/200\n",
            "1/1 [==============================] - 0s 6ms/step - loss: 2.0966 - accuracy: 0.2222\n",
            "Epoch 13/200\n",
            "1/1 [==============================] - 0s 6ms/step - loss: 2.1497 - accuracy: 0.1481\n",
            "Epoch 14/200\n",
            "1/1 [==============================] - 0s 5ms/step - loss: 2.0797 - accuracy: 0.3333\n",
            "Epoch 15/200\n",
            "1/1 [==============================] - 0s 7ms/step - loss: 2.1068 - accuracy: 0.2593\n",
            "Epoch 16/200\n",
            "1/1 [==============================] - 0s 7ms/step - loss: 2.1379 - accuracy: 0.1852\n",
            "Epoch 17/200\n",
            "1/1 [==============================] - 0s 6ms/step - loss: 2.0433 - accuracy: 0.3333\n",
            "Epoch 18/200\n",
            "1/1 [==============================] - 0s 6ms/step - loss: 2.0384 - accuracy: 0.3333\n",
            "Epoch 19/200\n",
            "1/1 [==============================] - 0s 6ms/step - loss: 2.0338 - accuracy: 0.3704\n",
            "Epoch 20/200\n",
            "1/1 [==============================] - 0s 10ms/step - loss: 2.0022 - accuracy: 0.3333\n",
            "Epoch 21/200\n",
            "1/1 [==============================] - 0s 6ms/step - loss: 2.0485 - accuracy: 0.2963\n",
            "Epoch 22/200\n",
            "1/1 [==============================] - 0s 7ms/step - loss: 2.0125 - accuracy: 0.2593\n",
            "Epoch 23/200\n",
            "1/1 [==============================] - 0s 6ms/step - loss: 1.9672 - accuracy: 0.4074\n",
            "Epoch 24/200\n",
            "1/1 [==============================] - 0s 7ms/step - loss: 1.9967 - accuracy: 0.3333\n",
            "Epoch 25/200\n",
            "1/1 [==============================] - 0s 7ms/step - loss: 1.9702 - accuracy: 0.4074\n",
            "Epoch 26/200\n",
            "1/1 [==============================] - 0s 7ms/step - loss: 1.9595 - accuracy: 0.4444\n",
            "Epoch 27/200\n",
            "1/1 [==============================] - 0s 7ms/step - loss: 1.9404 - accuracy: 0.4815\n",
            "Epoch 28/200\n",
            "1/1 [==============================] - 0s 7ms/step - loss: 2.0033 - accuracy: 0.2963\n",
            "Epoch 29/200\n",
            "1/1 [==============================] - 0s 9ms/step - loss: 2.0340 - accuracy: 0.3333\n",
            "Epoch 30/200\n",
            "1/1 [==============================] - 0s 7ms/step - loss: 1.9279 - accuracy: 0.4815\n",
            "Epoch 31/200\n",
            "1/1 [==============================] - 0s 8ms/step - loss: 1.9209 - accuracy: 0.5185\n",
            "Epoch 32/200\n",
            "1/1 [==============================] - 0s 9ms/step - loss: 1.8854 - accuracy: 0.5185\n",
            "Epoch 33/200\n",
            "1/1 [==============================] - 0s 8ms/step - loss: 1.8838 - accuracy: 0.4815\n",
            "Epoch 34/200\n",
            "1/1 [==============================] - 0s 9ms/step - loss: 1.8724 - accuracy: 0.5926\n",
            "Epoch 35/200\n",
            "1/1 [==============================] - 0s 7ms/step - loss: 1.8800 - accuracy: 0.5556\n",
            "Epoch 36/200\n",
            "1/1 [==============================] - 0s 8ms/step - loss: 1.8553 - accuracy: 0.5185\n",
            "Epoch 37/200\n",
            "1/1 [==============================] - 0s 9ms/step - loss: 1.8308 - accuracy: 0.5185\n",
            "Epoch 38/200\n",
            "1/1 [==============================] - 0s 11ms/step - loss: 1.7940 - accuracy: 0.6296\n",
            "Epoch 39/200\n",
            "1/1 [==============================] - 0s 10ms/step - loss: 1.8115 - accuracy: 0.4815\n",
            "Epoch 40/200\n",
            "1/1 [==============================] - 0s 9ms/step - loss: 1.8023 - accuracy: 0.5185\n",
            "Epoch 41/200\n",
            "1/1 [==============================] - 0s 9ms/step - loss: 1.8835 - accuracy: 0.4444\n",
            "Epoch 42/200\n",
            "1/1 [==============================] - 0s 7ms/step - loss: 1.7498 - accuracy: 0.6667\n",
            "Epoch 43/200\n",
            "1/1 [==============================] - 0s 7ms/step - loss: 1.7631 - accuracy: 0.5926\n",
            "Epoch 44/200\n",
            "1/1 [==============================] - 0s 7ms/step - loss: 1.8740 - accuracy: 0.4074\n",
            "Epoch 45/200\n",
            "1/1 [==============================] - 0s 5ms/step - loss: 1.8173 - accuracy: 0.4444\n",
            "Epoch 46/200\n",
            "1/1 [==============================] - 0s 6ms/step - loss: 1.6989 - accuracy: 0.5556\n",
            "Epoch 47/200\n",
            "1/1 [==============================] - 0s 6ms/step - loss: 1.6788 - accuracy: 0.6667\n",
            "Epoch 48/200\n",
            "1/1 [==============================] - 0s 7ms/step - loss: 1.6667 - accuracy: 0.6296\n",
            "Epoch 49/200\n",
            "1/1 [==============================] - 0s 7ms/step - loss: 1.7133 - accuracy: 0.4815\n",
            "Epoch 50/200\n",
            "1/1 [==============================] - 0s 6ms/step - loss: 1.6859 - accuracy: 0.5556\n",
            "Epoch 51/200\n",
            "1/1 [==============================] - 0s 6ms/step - loss: 1.6632 - accuracy: 0.6667\n",
            "Epoch 52/200\n",
            "1/1 [==============================] - 0s 6ms/step - loss: 1.6520 - accuracy: 0.5926\n",
            "Epoch 53/200\n",
            "1/1 [==============================] - 0s 6ms/step - loss: 1.6177 - accuracy: 0.6296\n",
            "Epoch 54/200\n",
            "1/1 [==============================] - 0s 6ms/step - loss: 1.5858 - accuracy: 0.6667\n",
            "Epoch 55/200\n",
            "1/1 [==============================] - 0s 6ms/step - loss: 1.6223 - accuracy: 0.5185\n",
            "Epoch 56/200\n",
            "1/1 [==============================] - 0s 6ms/step - loss: 1.5044 - accuracy: 0.7037\n",
            "Epoch 57/200\n",
            "1/1 [==============================] - 0s 6ms/step - loss: 1.6362 - accuracy: 0.5926\n",
            "Epoch 58/200\n",
            "1/1 [==============================] - 0s 6ms/step - loss: 1.5529 - accuracy: 0.6296\n",
            "Epoch 59/200\n",
            "1/1 [==============================] - 0s 6ms/step - loss: 1.6328 - accuracy: 0.6296\n",
            "Epoch 60/200\n",
            "1/1 [==============================] - 0s 7ms/step - loss: 1.5572 - accuracy: 0.6667\n",
            "Epoch 61/200\n",
            "1/1 [==============================] - 0s 6ms/step - loss: 1.4996 - accuracy: 0.6296\n",
            "Epoch 62/200\n",
            "1/1 [==============================] - 0s 6ms/step - loss: 1.5528 - accuracy: 0.5926\n",
            "Epoch 63/200\n",
            "1/1 [==============================] - 0s 7ms/step - loss: 1.5138 - accuracy: 0.7037\n",
            "Epoch 64/200\n",
            "1/1 [==============================] - 0s 6ms/step - loss: 1.4967 - accuracy: 0.6296\n",
            "Epoch 65/200\n",
            "1/1 [==============================] - 0s 7ms/step - loss: 1.5113 - accuracy: 0.5926\n",
            "Epoch 66/200\n",
            "1/1 [==============================] - 0s 8ms/step - loss: 1.4880 - accuracy: 0.6667\n",
            "Epoch 67/200\n",
            "1/1 [==============================] - 0s 11ms/step - loss: 1.4142 - accuracy: 0.7407\n",
            "Epoch 68/200\n",
            "1/1 [==============================] - 0s 7ms/step - loss: 1.3638 - accuracy: 0.7407\n",
            "Epoch 69/200\n",
            "1/1 [==============================] - 0s 6ms/step - loss: 1.3220 - accuracy: 0.7407\n",
            "Epoch 70/200\n",
            "1/1 [==============================] - 0s 7ms/step - loss: 1.4433 - accuracy: 0.6667\n",
            "Epoch 71/200\n",
            "1/1 [==============================] - 0s 7ms/step - loss: 1.3562 - accuracy: 0.7037\n",
            "Epoch 72/200\n",
            "1/1 [==============================] - 0s 8ms/step - loss: 1.3972 - accuracy: 0.6296\n",
            "Epoch 73/200\n",
            "1/1 [==============================] - 0s 8ms/step - loss: 1.3404 - accuracy: 0.6667\n",
            "Epoch 74/200\n",
            "1/1 [==============================] - 0s 7ms/step - loss: 1.3229 - accuracy: 0.7037\n",
            "Epoch 75/200\n",
            "1/1 [==============================] - 0s 7ms/step - loss: 1.4331 - accuracy: 0.6667\n",
            "Epoch 76/200\n",
            "1/1 [==============================] - 0s 8ms/step - loss: 1.3690 - accuracy: 0.6667\n",
            "Epoch 77/200\n",
            "1/1 [==============================] - 0s 9ms/step - loss: 1.3226 - accuracy: 0.6667\n",
            "Epoch 78/200\n",
            "1/1 [==============================] - 0s 9ms/step - loss: 1.2271 - accuracy: 0.8148\n",
            "Epoch 79/200\n",
            "1/1 [==============================] - 0s 8ms/step - loss: 1.1417 - accuracy: 0.7037\n",
            "Epoch 80/200\n",
            "1/1 [==============================] - 0s 7ms/step - loss: 1.2384 - accuracy: 0.6667\n",
            "Epoch 81/200\n",
            "1/1 [==============================] - 0s 8ms/step - loss: 1.2703 - accuracy: 0.6296\n",
            "Epoch 82/200\n",
            "1/1 [==============================] - 0s 8ms/step - loss: 1.1475 - accuracy: 0.6667\n",
            "Epoch 83/200\n",
            "1/1 [==============================] - 0s 7ms/step - loss: 1.1259 - accuracy: 0.7037\n",
            "Epoch 84/200\n",
            "1/1 [==============================] - 0s 7ms/step - loss: 1.1338 - accuracy: 0.7407\n",
            "Epoch 85/200\n",
            "1/1 [==============================] - 0s 9ms/step - loss: 1.0634 - accuracy: 0.7778\n",
            "Epoch 86/200\n",
            "1/1 [==============================] - 0s 7ms/step - loss: 1.1846 - accuracy: 0.7778\n",
            "Epoch 87/200\n",
            "1/1 [==============================] - 0s 6ms/step - loss: 1.1870 - accuracy: 0.8148\n",
            "Epoch 88/200\n",
            "1/1 [==============================] - 0s 6ms/step - loss: 1.0341 - accuracy: 0.7778\n",
            "Epoch 89/200\n",
            "1/1 [==============================] - 0s 7ms/step - loss: 1.0657 - accuracy: 0.7407\n",
            "Epoch 90/200\n",
            "1/1 [==============================] - 0s 8ms/step - loss: 1.1450 - accuracy: 0.7407\n",
            "Epoch 91/200\n",
            "1/1 [==============================] - 0s 7ms/step - loss: 1.0808 - accuracy: 0.8148\n",
            "Epoch 92/200\n",
            "1/1 [==============================] - 0s 8ms/step - loss: 1.1573 - accuracy: 0.7037\n",
            "Epoch 93/200\n",
            "1/1 [==============================] - 0s 7ms/step - loss: 1.1083 - accuracy: 0.7778\n",
            "Epoch 94/200\n",
            "1/1 [==============================] - 0s 6ms/step - loss: 1.0535 - accuracy: 0.7778\n",
            "Epoch 95/200\n",
            "1/1 [==============================] - 0s 7ms/step - loss: 0.9472 - accuracy: 0.8148\n",
            "Epoch 96/200\n",
            "1/1 [==============================] - 0s 8ms/step - loss: 0.9859 - accuracy: 0.8148\n",
            "Epoch 97/200\n",
            "1/1 [==============================] - 0s 8ms/step - loss: 0.9255 - accuracy: 0.8519\n",
            "Epoch 98/200\n",
            "1/1 [==============================] - 0s 8ms/step - loss: 1.0916 - accuracy: 0.7778\n",
            "Epoch 99/200\n",
            "1/1 [==============================] - 0s 7ms/step - loss: 1.1495 - accuracy: 0.7037\n",
            "Epoch 100/200\n",
            "1/1 [==============================] - 0s 7ms/step - loss: 1.0101 - accuracy: 0.7407\n",
            "Epoch 101/200\n",
            "1/1 [==============================] - 0s 8ms/step - loss: 0.9467 - accuracy: 0.8519\n",
            "Epoch 102/200\n",
            "1/1 [==============================] - 0s 7ms/step - loss: 1.0425 - accuracy: 0.6667\n",
            "Epoch 103/200\n",
            "1/1 [==============================] - 0s 6ms/step - loss: 0.8654 - accuracy: 0.8519\n",
            "Epoch 104/200\n",
            "1/1 [==============================] - 0s 7ms/step - loss: 1.0258 - accuracy: 0.8148\n",
            "Epoch 105/200\n",
            "1/1 [==============================] - 0s 7ms/step - loss: 0.8696 - accuracy: 0.8519\n",
            "Epoch 106/200\n",
            "1/1 [==============================] - 0s 7ms/step - loss: 0.8705 - accuracy: 0.7778\n",
            "Epoch 107/200\n",
            "1/1 [==============================] - 0s 7ms/step - loss: 0.9076 - accuracy: 0.7778\n",
            "Epoch 108/200\n",
            "1/1 [==============================] - 0s 7ms/step - loss: 0.8026 - accuracy: 0.8148\n",
            "Epoch 109/200\n",
            "1/1 [==============================] - 0s 6ms/step - loss: 0.8518 - accuracy: 0.8519\n",
            "Epoch 110/200\n",
            "1/1 [==============================] - 0s 7ms/step - loss: 0.9199 - accuracy: 0.6667\n",
            "Epoch 111/200\n",
            "1/1 [==============================] - 0s 7ms/step - loss: 0.8476 - accuracy: 0.7778\n",
            "Epoch 112/200\n",
            "1/1 [==============================] - 0s 5ms/step - loss: 0.8465 - accuracy: 0.7407\n",
            "Epoch 113/200\n",
            "1/1 [==============================] - 0s 6ms/step - loss: 0.8049 - accuracy: 0.8519\n",
            "Epoch 114/200\n",
            "1/1 [==============================] - 0s 6ms/step - loss: 0.7374 - accuracy: 0.9259\n",
            "Epoch 115/200\n",
            "1/1 [==============================] - 0s 6ms/step - loss: 0.7996 - accuracy: 0.7037\n",
            "Epoch 116/200\n",
            "1/1 [==============================] - 0s 7ms/step - loss: 0.7228 - accuracy: 0.8519\n",
            "Epoch 117/200\n",
            "1/1 [==============================] - 0s 9ms/step - loss: 0.7978 - accuracy: 0.8148\n",
            "Epoch 118/200\n",
            "1/1 [==============================] - 0s 7ms/step - loss: 0.6447 - accuracy: 0.8519\n",
            "Epoch 119/200\n",
            "1/1 [==============================] - 0s 7ms/step - loss: 0.7445 - accuracy: 0.8148\n",
            "Epoch 120/200\n",
            "1/1 [==============================] - 0s 6ms/step - loss: 0.8030 - accuracy: 0.7778\n",
            "Epoch 121/200\n",
            "1/1 [==============================] - 0s 5ms/step - loss: 0.7777 - accuracy: 0.8889\n",
            "Epoch 122/200\n",
            "1/1 [==============================] - 0s 6ms/step - loss: 0.7886 - accuracy: 0.8889\n",
            "Epoch 123/200\n",
            "1/1 [==============================] - 0s 6ms/step - loss: 0.6827 - accuracy: 0.8519\n",
            "Epoch 124/200\n",
            "1/1 [==============================] - 0s 11ms/step - loss: 0.6863 - accuracy: 0.9259\n",
            "Epoch 125/200\n",
            "1/1 [==============================] - 0s 9ms/step - loss: 0.6409 - accuracy: 0.8889\n",
            "Epoch 126/200\n",
            "1/1 [==============================] - 0s 10ms/step - loss: 0.6858 - accuracy: 0.8148\n",
            "Epoch 127/200\n",
            "1/1 [==============================] - 0s 8ms/step - loss: 0.6633 - accuracy: 0.9630\n",
            "Epoch 128/200\n",
            "1/1 [==============================] - 0s 8ms/step - loss: 0.7360 - accuracy: 0.8148\n",
            "Epoch 129/200\n",
            "1/1 [==============================] - 0s 8ms/step - loss: 0.6116 - accuracy: 0.8148\n",
            "Epoch 130/200\n",
            "1/1 [==============================] - 0s 9ms/step - loss: 0.6934 - accuracy: 0.8519\n",
            "Epoch 131/200\n",
            "1/1 [==============================] - 0s 12ms/step - loss: 0.5996 - accuracy: 0.8889\n",
            "Epoch 132/200\n",
            "1/1 [==============================] - 0s 10ms/step - loss: 0.5761 - accuracy: 0.8889\n",
            "Epoch 133/200\n",
            "1/1 [==============================] - 0s 9ms/step - loss: 0.7120 - accuracy: 0.8889\n",
            "Epoch 134/200\n",
            "1/1 [==============================] - 0s 9ms/step - loss: 0.6610 - accuracy: 0.8519\n",
            "Epoch 135/200\n",
            "1/1 [==============================] - 0s 11ms/step - loss: 0.6621 - accuracy: 0.8148\n",
            "Epoch 136/200\n",
            "1/1 [==============================] - 0s 7ms/step - loss: 0.6707 - accuracy: 0.8519\n",
            "Epoch 137/200\n",
            "1/1 [==============================] - 0s 9ms/step - loss: 0.6490 - accuracy: 0.7407\n",
            "Epoch 138/200\n",
            "1/1 [==============================] - 0s 8ms/step - loss: 0.6193 - accuracy: 0.8889\n",
            "Epoch 139/200\n",
            "1/1 [==============================] - 0s 6ms/step - loss: 0.5695 - accuracy: 0.9259\n",
            "Epoch 140/200\n",
            "1/1 [==============================] - 0s 7ms/step - loss: 0.6104 - accuracy: 0.8889\n",
            "Epoch 141/200\n",
            "1/1 [==============================] - 0s 8ms/step - loss: 0.6457 - accuracy: 0.9259\n",
            "Epoch 142/200\n",
            "1/1 [==============================] - 0s 8ms/step - loss: 0.6632 - accuracy: 0.8148\n",
            "Epoch 143/200\n",
            "1/1 [==============================] - 0s 8ms/step - loss: 0.5692 - accuracy: 0.9259\n",
            "Epoch 144/200\n",
            "1/1 [==============================] - 0s 7ms/step - loss: 0.5631 - accuracy: 0.8889\n",
            "Epoch 145/200\n",
            "1/1 [==============================] - 0s 9ms/step - loss: 0.5657 - accuracy: 0.9259\n",
            "Epoch 146/200\n",
            "1/1 [==============================] - 0s 8ms/step - loss: 0.5125 - accuracy: 0.9259\n",
            "Epoch 147/200\n",
            "1/1 [==============================] - 0s 8ms/step - loss: 0.4762 - accuracy: 0.8889\n",
            "Epoch 148/200\n",
            "1/1 [==============================] - 0s 7ms/step - loss: 0.5845 - accuracy: 0.8519\n",
            "Epoch 149/200\n",
            "1/1 [==============================] - 0s 9ms/step - loss: 0.6295 - accuracy: 0.7407\n",
            "Epoch 150/200\n",
            "1/1 [==============================] - 0s 8ms/step - loss: 0.5705 - accuracy: 0.9259\n",
            "Epoch 151/200\n",
            "1/1 [==============================] - 0s 8ms/step - loss: 0.4861 - accuracy: 0.9259\n",
            "Epoch 152/200\n",
            "1/1 [==============================] - 0s 8ms/step - loss: 0.5701 - accuracy: 0.8519\n",
            "Epoch 153/200\n",
            "1/1 [==============================] - 0s 7ms/step - loss: 0.5395 - accuracy: 0.8519\n",
            "Epoch 154/200\n",
            "1/1 [==============================] - 0s 7ms/step - loss: 0.4848 - accuracy: 0.9259\n",
            "Epoch 155/200\n",
            "1/1 [==============================] - 0s 8ms/step - loss: 0.5344 - accuracy: 0.9259\n",
            "Epoch 156/200\n",
            "1/1 [==============================] - 0s 8ms/step - loss: 0.4272 - accuracy: 0.8889\n",
            "Epoch 157/200\n",
            "1/1 [==============================] - 0s 8ms/step - loss: 0.5424 - accuracy: 0.9259\n",
            "Epoch 158/200\n",
            "1/1 [==============================] - 0s 8ms/step - loss: 0.4658 - accuracy: 0.8889\n",
            "Epoch 159/200\n",
            "1/1 [==============================] - 0s 8ms/step - loss: 0.4886 - accuracy: 0.9630\n",
            "Epoch 160/200\n",
            "1/1 [==============================] - 0s 7ms/step - loss: 0.6293 - accuracy: 0.8519\n",
            "Epoch 161/200\n",
            "1/1 [==============================] - 0s 8ms/step - loss: 0.4595 - accuracy: 0.9259\n",
            "Epoch 162/200\n",
            "1/1 [==============================] - 0s 8ms/step - loss: 0.4968 - accuracy: 0.8889\n",
            "Epoch 163/200\n",
            "1/1 [==============================] - 0s 8ms/step - loss: 0.4488 - accuracy: 0.9259\n",
            "Epoch 164/200\n",
            "1/1 [==============================] - 0s 7ms/step - loss: 0.5302 - accuracy: 0.8148\n",
            "Epoch 165/200\n",
            "1/1 [==============================] - 0s 11ms/step - loss: 0.4383 - accuracy: 0.9630\n",
            "Epoch 166/200\n",
            "1/1 [==============================] - 0s 7ms/step - loss: 0.5197 - accuracy: 0.9630\n",
            "Epoch 167/200\n",
            "1/1 [==============================] - 0s 8ms/step - loss: 0.4281 - accuracy: 0.9259\n",
            "Epoch 168/200\n",
            "1/1 [==============================] - 0s 8ms/step - loss: 0.4917 - accuracy: 0.8889\n",
            "Epoch 169/200\n",
            "1/1 [==============================] - 0s 7ms/step - loss: 0.4900 - accuracy: 0.9259\n",
            "Epoch 170/200\n",
            "1/1 [==============================] - 0s 8ms/step - loss: 0.4615 - accuracy: 0.8889\n",
            "Epoch 171/200\n",
            "1/1 [==============================] - 0s 8ms/step - loss: 0.3672 - accuracy: 0.8889\n",
            "Epoch 172/200\n",
            "1/1 [==============================] - 0s 8ms/step - loss: 0.4422 - accuracy: 0.8889\n",
            "Epoch 173/200\n",
            "1/1 [==============================] - 0s 7ms/step - loss: 0.3053 - accuracy: 0.9259\n",
            "Epoch 174/200\n",
            "1/1 [==============================] - 0s 8ms/step - loss: 0.4395 - accuracy: 0.9259\n",
            "Epoch 175/200\n",
            "1/1 [==============================] - 0s 8ms/step - loss: 0.5424 - accuracy: 0.9259\n",
            "Epoch 176/200\n",
            "1/1 [==============================] - 0s 10ms/step - loss: 0.4164 - accuracy: 0.8889\n",
            "Epoch 177/200\n",
            "1/1 [==============================] - 0s 8ms/step - loss: 0.3899 - accuracy: 0.9259\n",
            "Epoch 178/200\n",
            "1/1 [==============================] - 0s 8ms/step - loss: 0.3951 - accuracy: 0.8889\n",
            "Epoch 179/200\n",
            "1/1 [==============================] - 0s 7ms/step - loss: 0.4501 - accuracy: 0.9259\n",
            "Epoch 180/200\n",
            "1/1 [==============================] - 0s 9ms/step - loss: 0.3494 - accuracy: 0.9630\n",
            "Epoch 181/200\n",
            "1/1 [==============================] - 0s 8ms/step - loss: 0.5037 - accuracy: 0.8889\n",
            "Epoch 182/200\n",
            "1/1 [==============================] - 0s 7ms/step - loss: 0.3214 - accuracy: 0.8889\n",
            "Epoch 183/200\n",
            "1/1 [==============================] - 0s 7ms/step - loss: 0.4323 - accuracy: 0.8148\n",
            "Epoch 184/200\n",
            "1/1 [==============================] - 0s 7ms/step - loss: 0.3963 - accuracy: 0.9630\n",
            "Epoch 185/200\n",
            "1/1 [==============================] - 0s 7ms/step - loss: 0.4773 - accuracy: 0.8889\n",
            "Epoch 186/200\n",
            "1/1 [==============================] - 0s 7ms/step - loss: 0.4514 - accuracy: 0.8889\n",
            "Epoch 187/200\n",
            "1/1 [==============================] - 0s 7ms/step - loss: 0.4336 - accuracy: 0.9259\n",
            "Epoch 188/200\n",
            "1/1 [==============================] - 0s 7ms/step - loss: 0.3873 - accuracy: 0.9259\n",
            "Epoch 189/200\n",
            "1/1 [==============================] - 0s 7ms/step - loss: 0.4098 - accuracy: 0.8148\n",
            "Epoch 190/200\n",
            "1/1 [==============================] - 0s 7ms/step - loss: 0.4407 - accuracy: 0.9259\n",
            "Epoch 191/200\n",
            "1/1 [==============================] - 0s 7ms/step - loss: 0.4330 - accuracy: 0.8519\n",
            "Epoch 192/200\n",
            "1/1 [==============================] - 0s 7ms/step - loss: 0.3662 - accuracy: 0.8889\n",
            "Epoch 193/200\n",
            "1/1 [==============================] - 0s 8ms/step - loss: 0.3614 - accuracy: 0.8519\n",
            "Epoch 194/200\n",
            "1/1 [==============================] - 0s 8ms/step - loss: 0.3085 - accuracy: 0.8889\n",
            "Epoch 195/200\n",
            "1/1 [==============================] - 0s 7ms/step - loss: 0.3804 - accuracy: 0.9630\n",
            "Epoch 196/200\n",
            "1/1 [==============================] - 0s 7ms/step - loss: 0.4166 - accuracy: 0.8889\n",
            "Epoch 197/200\n",
            "1/1 [==============================] - 0s 12ms/step - loss: 0.5566 - accuracy: 0.8519\n",
            "Epoch 198/200\n",
            "1/1 [==============================] - 0s 9ms/step - loss: 0.4516 - accuracy: 0.8889\n",
            "Epoch 199/200\n",
            "1/1 [==============================] - 0s 6ms/step - loss: 0.3509 - accuracy: 0.9259\n",
            "Epoch 200/200\n",
            "1/1 [==============================] - 0s 7ms/step - loss: 0.3644 - accuracy: 0.8519\n"
          ]
        }
      ],
      "source": [
        "hist = model.fit(x=train_X, y=train_y, epochs=200)"
      ]
    },
    {
      "cell_type": "code",
      "execution_count": 37,
      "metadata": {
        "id": "Pb1GZDjGRP6Q",
        "outputId": "5a9415ab-52a2-4ee0-8444-8b1c0cf9b9fc",
        "colab": {
          "base_uri": "https://localhost:8080/",
          "height": 433
        }
      },
      "outputs": [
        {
          "output_type": "display_data",
          "data": {
            "text/plain": [
              "<Figure size 640x480 with 1 Axes>"
            ],
            "image/png": "[encoded data removed]"
          },
          "metadata": {}
        }
      ],
      "source": [
        "import matplotlib.pyplot as plt\n",
        "import seaborn as sns\n",
        "\n",
        "# Entrenamiento\n",
        "epoch_count = range(1, len(hist.history['accuracy']) + 1)\n",
        "sns.lineplot(x=epoch_count,  y=hist.history['accuracy'], label='train')\n",
        "plt.show()"
      ]
    },
    {
      "cell_type": "code",
      "execution_count": 38,
      "metadata": {
        "id": "eTVDnrV0mDRf"
      },
      "outputs": [],
      "source": [
        "# Guardar lo necesario para poder re-utilizar este modelo en el futuro\n",
        "# el vocabulario utilizado (words)\n",
        "# las posibles clases\n",
        "# el modelo\n",
        "import pickle\n",
        "pickle.dump(words, open('words.pkl','wb'))\n",
        "pickle.dump(classes, open('classes.pkl','wb'))\n",
        "model.save('chatbot_model.h5')"
      ]
    },
    {
      "cell_type": "markdown",
      "metadata": {
        "id": "TnD1WvhBfVYR"
      },
      "source": [
        "### 6 - Testing y validación"
      ]
    },
    {
      "cell_type": "code",
      "execution_count": 39,
      "metadata": {
        "id": "kqBdSGt8Orkm"
      },
      "outputs": [],
      "source": [
        "# convertir texto de entrada del usuario a tokens\n",
        "def text_to_tokens(text):\n",
        "    lemma_tokens = []\n",
        "    tokens = nlp(preprocess_clean_text(text.lower()))\n",
        "    for token in tokens:\n",
        "        lemma_tokens.append(token.lemma_)\n",
        "    #print(lemma_tokens)\n",
        "    return lemma_tokens\n",
        "\n",
        "# transformar el texto de entrada tokenizado a una representación OHE\n",
        "def bag_of_words(text, vocab):\n",
        "    tokens = text_to_tokens(text)\n",
        "    bow = [0] * len(vocab)\n",
        "    for w in tokens:\n",
        "        for idx, word in enumerate(vocab):\n",
        "            if word == w:\n",
        "                bow[idx] = 1\n",
        "    #print(bow)\n",
        "    return np.array(bow)\n",
        "\n",
        "# usar modelo con la entrada en OHE y los labels posibles (tags)\n",
        "def pred_class(text, vocab, labels):\n",
        "    bow = bag_of_words(text, vocab)\n",
        "    words_recognized = sum(bow)\n",
        "\n",
        "    return_list = []\n",
        "    if words_recognized > 0: # sólo si reconoció alguna palabra del vocabulario\n",
        "        result = model.predict(np.array([bow]))[0] # es un array de softmax\n",
        "        thresh = 0.2\n",
        "        # filtrar aquellas entradas menores al umbral `thresh`\n",
        "        y_pred = [[idx, res] for idx, res in enumerate(result) if res > thresh]\n",
        "        # ordenar keys de acuerdo al valor softmax\n",
        "        y_pred.sort(key=lambda x: x[1], reverse=True)\n",
        "\n",
        "        # return_list es una lista de los labels de mayor a menor\n",
        "        for r in y_pred:\n",
        "            return_list.append(labels[r[0]])\n",
        "            #print(labels[r[0]], r[1])\n",
        "\n",
        "    # si no reconoció palabras del vocabulario se devuelve una lista vacía\n",
        "    return return_list\n",
        "\n",
        "# obtener una respuesta predeterminada\n",
        "def get_response(intents_list, intents_json):\n",
        "    tag = intents_list[0] # tomar el tag con el mejor valor softmax\n",
        "    list_of_intents = intents_json[\"intents\"] # intents_json es todo el dataset\n",
        "    for i in list_of_intents:\n",
        "        if i[\"tag\"] == tag: # buscar el tag correspoindiente y dar una respuesta predeterminada aleatoria\n",
        "            result = random.choice(i[\"responses\"])\n",
        "            break\n",
        "    return result"
      ]
    },
    {
      "cell_type": "code",
      "execution_count": 40,
      "metadata": {
        "id": "Xp1vXQwdOvl7",
        "outputId": "3a9fabb4-8705-4957-df4e-77726a0b6a5b",
        "colab": {
          "base_uri": "https://localhost:8080/",
          "height": 876
        }
      },
      "outputs": [
        {
          "output_type": "stream",
          "name": "stdout",
          "text": [
            "hola\n",
            "Q: hola\n",
            "1/1 [==============================] - 0s 45ms/step\n",
            "BOT: Hola!\n",
            "clases\n",
            "Q: clases\n",
            "1/1 [==============================] - 0s 15ms/step\n",
            "BOT: Las clases duran 50 minutos son de hasta 7 alumnos por clase.\n",
            "horarios\n",
            "Q: horarios\n",
            "1/1 [==============================] - 0s 14ms/step\n",
            "BOT: Lunes, miércoles y viernes de 8 a 15hs, martes y jueves de 8 a 13hs y de lunes a viernes de 16 a 21hs\n",
            "en que horario son las clases\n",
            "Q: en que horario son las clases\n",
            "1/1 [==============================] - 0s 27ms/step\n",
            "BOT: Lunes, miércoles y viernes de 8 a 15hs, martes y jueves de 8 a 13hs y de lunes a viernes de 16 a 21hs\n",
            "cual es el precio?\n",
            "Q: cual es el precio?\n",
            "1/1 [==============================] - 0s 18ms/step\n",
            "BOT: 1 vez por semana $6200, 2 veces por semana $7400, 3 veces por semana $8200, 4 veces por semana $9400\n",
            "cual es el valor?\n",
            "Q: cual es el valor?\n",
            "1/1 [==============================] - 0s 20ms/step\n",
            "BOT: Somos Ayla Pilates\n",
            "cual es el valor de las clases?\n",
            "Q: cual es el valor de las clases?\n",
            "1/1 [==============================] - 0s 14ms/step\n",
            "BOT: Las clases duran 50 minutos son de hasta 7 alumnos por clase.\n"
          ]
        },
        {
          "output_type": "error",
          "ename": "KeyboardInterrupt",
          "evalue": "ignored",
          "traceback": [
            "\u001b[0;31m---------------------------------------------------------------------------\u001b[0m",
            "\u001b[0;31mKeyboardInterrupt\u001b[0m                         Traceback (most recent call last)",
            "\u001b[0;32m<ipython-input-40-73fbfc2e4d81>\u001b[0m in \u001b[0;36m<cell line: 1>\u001b[0;34m()\u001b[0m\n\u001b[1;32m      1\u001b[0m \u001b[0;32mwhile\u001b[0m \u001b[0;32mTrue\u001b[0m\u001b[0;34m:\u001b[0m\u001b[0;34m\u001b[0m\u001b[0;34m\u001b[0m\u001b[0m\n\u001b[1;32m      2\u001b[0m     \u001b[0;31m# pedir input al usuario\u001b[0m\u001b[0;34m\u001b[0m\u001b[0;34m\u001b[0m\u001b[0m\n\u001b[0;32m----> 3\u001b[0;31m     \u001b[0mmessage\u001b[0m \u001b[0;34m=\u001b[0m \u001b[0minput\u001b[0m\u001b[0;34m(\u001b[0m\u001b[0;34m\"\"\u001b[0m\u001b[0;34m)\u001b[0m\u001b[0;34m\u001b[0m\u001b[0;34m\u001b[0m\u001b[0m\n\u001b[0m\u001b[1;32m      4\u001b[0m     \u001b[0mprint\u001b[0m\u001b[0;34m(\u001b[0m\u001b[0;34m\"Q:\"\u001b[0m\u001b[0;34m,\u001b[0m \u001b[0mmessage\u001b[0m\u001b[0;34m)\u001b[0m\u001b[0;34m\u001b[0m\u001b[0;34m\u001b[0m\u001b[0m\n\u001b[1;32m      5\u001b[0m \u001b[0;34m\u001b[0m\u001b[0m\n",
            "\u001b[0;32m/usr/local/lib/python3.10/dist-packages/ipykernel/kernelbase.py\u001b[0m in \u001b[0;36mraw_input\u001b[0;34m(self, prompt)\u001b[0m\n\u001b[1;32m    849\u001b[0m                 \u001b[0;34m\"raw_input was called, but this frontend does not support input requests.\"\u001b[0m\u001b[0;34m\u001b[0m\u001b[0;34m\u001b[0m\u001b[0m\n\u001b[1;32m    850\u001b[0m             )\n\u001b[0;32m--> 851\u001b[0;31m         return self._input_request(str(prompt),\n\u001b[0m\u001b[1;32m    852\u001b[0m             \u001b[0mself\u001b[0m\u001b[0;34m.\u001b[0m\u001b[0m_parent_ident\u001b[0m\u001b[0;34m,\u001b[0m\u001b[0;34m\u001b[0m\u001b[0;34m\u001b[0m\u001b[0m\n\u001b[1;32m    853\u001b[0m             \u001b[0mself\u001b[0m\u001b[0;34m.\u001b[0m\u001b[0m_parent_header\u001b[0m\u001b[0;34m,\u001b[0m\u001b[0;34m\u001b[0m\u001b[0;34m\u001b[0m\u001b[0m\n",
            "\u001b[0;32m/usr/local/lib/python3.10/dist-packages/ipykernel/kernelbase.py\u001b[0m in \u001b[0;36m_input_request\u001b[0;34m(self, prompt, ident, parent, password)\u001b[0m\n\u001b[1;32m    893\u001b[0m             \u001b[0;32mexcept\u001b[0m \u001b[0mKeyboardInterrupt\u001b[0m\u001b[0;34m:\u001b[0m\u001b[0;34m\u001b[0m\u001b[0;34m\u001b[0m\u001b[0m\n\u001b[1;32m    894\u001b[0m                 \u001b[0;31m# re-raise KeyboardInterrupt, to truncate traceback\u001b[0m\u001b[0;34m\u001b[0m\u001b[0;34m\u001b[0m\u001b[0m\n\u001b[0;32m--> 895\u001b[0;31m                 \u001b[0;32mraise\u001b[0m \u001b[0mKeyboardInterrupt\u001b[0m\u001b[0;34m(\u001b[0m\u001b[0;34m\"Interrupted by user\"\u001b[0m\u001b[0;34m)\u001b[0m \u001b[0;32mfrom\u001b[0m \u001b[0;32mNone\u001b[0m\u001b[0;34m\u001b[0m\u001b[0;34m\u001b[0m\u001b[0m\n\u001b[0m\u001b[1;32m    896\u001b[0m             \u001b[0;32mexcept\u001b[0m \u001b[0mException\u001b[0m \u001b[0;32mas\u001b[0m \u001b[0me\u001b[0m\u001b[0;34m:\u001b[0m\u001b[0;34m\u001b[0m\u001b[0;34m\u001b[0m\u001b[0m\n\u001b[1;32m    897\u001b[0m                 \u001b[0mself\u001b[0m\u001b[0;34m.\u001b[0m\u001b[0mlog\u001b[0m\u001b[0;34m.\u001b[0m\u001b[0mwarning\u001b[0m\u001b[0;34m(\u001b[0m\u001b[0;34m\"Invalid Message:\"\u001b[0m\u001b[0;34m,\u001b[0m \u001b[0mexc_info\u001b[0m\u001b[0;34m=\u001b[0m\u001b[0;32mTrue\u001b[0m\u001b[0;34m)\u001b[0m\u001b[0;34m\u001b[0m\u001b[0;34m\u001b[0m\u001b[0m\n",
            "\u001b[0;31mKeyboardInterrupt\u001b[0m: Interrupted by user"
          ]
        }
      ],
      "source": [
        "while True:\n",
        "    # pedir input al usuario\n",
        "    message = input(\"\")\n",
        "    print(\"Q:\", message)\n",
        "\n",
        "    intents = pred_class(message, words, classes)\n",
        "    if len(intents) > 0:\n",
        "        result = get_response(intents, dataset)\n",
        "        print(\"BOT:\", result)\n",
        "    else: # si no hubo ningún resultado que supere el umbral\n",
        "        print(\"BOT: Perdón, no comprendo la pregunta.\")\n"
      ]
    },
    {
      "cell_type": "markdown",
      "metadata": {
        "id": "ayatkwp4fYQx"
      },
      "source": [
        "### 7 - Conclusiones\n",
        "El bot tal cual está definido es capaz de responder a bastantes tipos de preguntas con gran precisión. Algunas técnicas que podrían ensayarse para evaluar como impactan en el sistema son:\n",
        "- Filtrar los stop words\n",
        "- Utilizar TF-IDF en vez de bag of words"
      ]
    },
    {
      "cell_type": "markdown",
      "source": [
        "Se modifico el diccionario de entrada"
      ],
      "metadata": {
        "id": "e14aXCfiGNTn"
      }
    },
    {
      "cell_type": "markdown",
      "metadata": {
        "id": "tEsPjZE0X7tb"
      },
      "source": [
        "### Alumno"
      ]
    },
    {
      "cell_type": "markdown",
      "metadata": {
        "id": "t_Vi8EcqX7te"
      },
      "source": [
        "- Tomar un ejemplo de los bots utilizados (uno de los dos) y construir el propio.\n",
        "- Sacar conclusiones de los resultados.\n",
        "\n",
        "__IMPORTANTE__: Recuerde para la entrega del ejercicio debe quedar registrado en el colab las preguntas y las respuestas del BOT para que podamos evaluar el desempeño final."
      ]
    },
    {
      "cell_type": "markdown",
      "source": [
        "### Cambios realizados\n",
        "\n",
        "\n",
        "*   Se modifico el diccionario de entrada\n",
        "*   Se filtraron las stop words\n",
        "\n"
      ],
      "metadata": {
        "id": "irt26MluQW_3"
      }
    },
    {
      "cell_type": "markdown",
      "source": [
        "### Conclusiones\n",
        "\n",
        "\n",
        "*   El accuracy del entrenamiento fue levemente mejor con las stop words incluidas\n",
        "*   El modelo entrenado con stop words responde mejor ante preguntas con palabras no incluidas en el diccionario\n",
        "*   Captura de pantalla de chat con stop words incluidas\n",
        "![image.png](data:image/png;base64,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)"
      ],
      "metadata": {
        "id": "8RqEEc4hQ0dc"
      }
    }
  ],
  "metadata": {
    "colab": {
      "name": "2b - bot_dnn_spacy_esp.ipynb",
      "provenance": [],
      "include_colab_link": true
    },
    "kernelspec": {
      "display_name": "Python 3 (ipykernel)",
      "language": "python",
      "name": "python3"
    },
    "language_info": {
      "codemirror_mode": {
        "name": "ipython",
        "version": 3
      },
      "file_extension": ".py",
      "mimetype": "text/x-python",
      "name": "python",
      "nbconvert_exporter": "python",
      "pygments_lexer": "ipython3",
      "version": "3.10.6"
    },
    "widgets": {
      "application/vnd.jupyter.widget-state+json": {
        "51dd8d92b7fb4e4fb5d516678cd09566": {
          "model_module": "@jupyter-widgets/controls",
          "model_name": "HBoxModel",
          "model_module_version": "1.5.0",
          "state": {
            "_dom_classes": [],
            "_model_module": "@jupyter-widgets/controls",
            "_model_module_version": "1.5.0",
            "_model_name": "HBoxModel",
            "_view_count": null,
            "_view_module": "@jupyter-widgets/controls",
            "_view_module_version": "1.5.0",
            "_view_name": "HBoxView",
            "box_style": "",
            "children": [
              "IPY_MODEL_c0f09ee64aee441db18878759b3ac049",
              "IPY_MODEL_64e8cdab9c2a491c9827ed714c787188",
              "IPY_MODEL_3197c1eafa1842618f3f7e0d8daef75a"
            ],
            "layout": "IPY_MODEL_7cd294f150084be29417a0a01016363e"
          }
        },
        "c0f09ee64aee441db18878759b3ac049": {
          "model_module": "@jupyter-widgets/controls",
          "model_name": "HTMLModel",
          "model_module_version": "1.5.0",
          "state": {
            "_dom_classes": [],
            "_model_module": "@jupyter-widgets/controls",
            "_model_module_version": "1.5.0",
            "_model_name": "HTMLModel",
            "_view_count": null,
            "_view_module": "@jupyter-widgets/controls",
            "_view_module_version": "1.5.0",
            "_view_name": "HTMLView",
            "description": "",
            "description_tooltip": null,
            "layout": "IPY_MODEL_0c8bdee754ab4b82988be151e35e04d9",
            "placeholder": "​",
            "style": "IPY_MODEL_7c8a46b659a447beac9e06d233b062f8",
            "value": "Downloading https://raw.githubusercontent.com/stanfordnlp/stanza-resources/main/resources_1.2.2.json: "
          }
        },
        "64e8cdab9c2a491c9827ed714c787188": {
          "model_module": "@jupyter-widgets/controls",
          "model_name": "FloatProgressModel",
          "model_module_version": "1.5.0",
          "state": {
            "_dom_classes": [],
            "_model_module": "@jupyter-widgets/controls",
            "_model_module_version": "1.5.0",
            "_model_name": "FloatProgressModel",
            "_view_count": null,
            "_view_module": "@jupyter-widgets/controls",
            "_view_module_version": "1.5.0",
            "_view_name": "ProgressView",
            "bar_style": "success",
            "description": "",
            "description_tooltip": null,
            "layout": "IPY_MODEL_3a409353b3c04cec87a61a85bfae2e33",
            "max": 24144,
            "min": 0,
            "orientation": "horizontal",
            "style": "IPY_MODEL_be1e1ac72d5d48578fe0b575b214fc05",
            "value": 24144
          }
        },
        "3197c1eafa1842618f3f7e0d8daef75a": {
          "model_module": "@jupyter-widgets/controls",
          "model_name": "HTMLModel",
          "model_module_version": "1.5.0",
          "state": {
            "_dom_classes": [],
            "_model_module": "@jupyter-widgets/controls",
            "_model_module_version": "1.5.0",
            "_model_name": "HTMLModel",
            "_view_count": null,
            "_view_module": "@jupyter-widgets/controls",
            "_view_module_version": "1.5.0",
            "_view_name": "HTMLView",
            "description": "",
            "description_tooltip": null,
            "layout": "IPY_MODEL_42cc30aff52a455e9a577e92bb9a3638",
            "placeholder": "​",
            "style": "IPY_MODEL_5053a6e3d49347cb99bcb65b12d61a5e",
            "value": " 140k/? [00:00&lt;00:00, 7.33MB/s]"
          }
        },
        "7cd294f150084be29417a0a01016363e": {
          "model_module": "@jupyter-widgets/base",
          "model_name": "LayoutModel",
          "model_module_version": "1.2.0",
          "state": {
            "_model_module": "@jupyter-widgets/base",
            "_model_module_version": "1.2.0",
            "_model_name": "LayoutModel",
            "_view_count": null,
            "_view_module": "@jupyter-widgets/base",
            "_view_module_version": "1.2.0",
            "_view_name": "LayoutView",
            "align_content": null,
            "align_items": null,
            "align_self": null,
            "border": null,
            "bottom": null,
            "display": null,
            "flex": null,
            "flex_flow": null,
            "grid_area": null,
            "grid_auto_columns": null,
            "grid_auto_flow": null,
            "grid_auto_rows": null,
            "grid_column": null,
            "grid_gap": null,
            "grid_row": null,
            "grid_template_areas": null,
            "grid_template_columns": null,
            "grid_template_rows": null,
            "height": null,
            "justify_content": null,
            "justify_items": null,
            "left": null,
            "margin": null,
            "max_height": null,
            "max_width": null,
            "min_height": null,
            "min_width": null,
            "object_fit": null,
            "object_position": null,
            "order": null,
            "overflow": null,
            "overflow_x": null,
            "overflow_y": null,
            "padding": null,
            "right": null,
            "top": null,
            "visibility": null,
            "width": null
          }
        },
        "0c8bdee754ab4b82988be151e35e04d9": {
          "model_module": "@jupyter-widgets/base",
          "model_name": "LayoutModel",
          "model_module_version": "1.2.0",
          "state": {
            "_model_module": "@jupyter-widgets/base",
            "_model_module_version": "1.2.0",
            "_model_name": "LayoutModel",
            "_view_count": null,
            "_view_module": "@jupyter-widgets/base",
            "_view_module_version": "1.2.0",
            "_view_name": "LayoutView",
            "align_content": null,
            "align_items": null,
            "align_self": null,
            "border": null,
            "bottom": null,
            "display": null,
            "flex": null,
            "flex_flow": null,
            "grid_area": null,
            "grid_auto_columns": null,
            "grid_auto_flow": null,
            "grid_auto_rows": null,
            "grid_column": null,
            "grid_gap": null,
            "grid_row": null,
            "grid_template_areas": null,
            "grid_template_columns": null,
            "grid_template_rows": null,
            "height": null,
            "justify_content": null,
            "justify_items": null,
            "left": null,
            "margin": null,
            "max_height": null,
            "max_width": null,
            "min_height": null,
            "min_width": null,
            "object_fit": null,
            "object_position": null,
            "order": null,
            "overflow": null,
            "overflow_x": null,
            "overflow_y": null,
            "padding": null,
            "right": null,
            "top": null,
            "visibility": null,
            "width": null
          }
        },
        "7c8a46b659a447beac9e06d233b062f8": {
          "model_module": "@jupyter-widgets/controls",
          "model_name": "DescriptionStyleModel",
          "model_module_version": "1.5.0",
          "state": {
            "_model_module": "@jupyter-widgets/controls",
            "_model_module_version": "1.5.0",
            "_model_name": "DescriptionStyleModel",
            "_view_count": null,
            "_view_module": "@jupyter-widgets/base",
            "_view_module_version": "1.2.0",
            "_view_name": "StyleView",
            "description_width": ""
          }
        },
        "3a409353b3c04cec87a61a85bfae2e33": {
          "model_module": "@jupyter-widgets/base",
          "model_name": "LayoutModel",
          "model_module_version": "1.2.0",
          "state": {
            "_model_module": "@jupyter-widgets/base",
            "_model_module_version": "1.2.0",
            "_model_name": "LayoutModel",
            "_view_count": null,
            "_view_module": "@jupyter-widgets/base",
            "_view_module_version": "1.2.0",
            "_view_name": "LayoutView",
            "align_content": null,
            "align_items": null,
            "align_self": null,
            "border": null,
            "bottom": null,
            "display": null,
            "flex": null,
            "flex_flow": null,
            "grid_area": null,
            "grid_auto_columns": null,
            "grid_auto_flow": null,
            "grid_auto_rows": null,
            "grid_column": null,
            "grid_gap": null,
            "grid_row": null,
            "grid_template_areas": null,
            "grid_template_columns": null,
            "grid_template_rows": null,
            "height": null,
            "justify_content": null,
            "justify_items": null,
            "left": null,
            "margin": null,
            "max_height": null,
            "max_width": null,
            "min_height": null,
            "min_width": null,
            "object_fit": null,
            "object_position": null,
            "order": null,
            "overflow": null,
            "overflow_x": null,
            "overflow_y": null,
            "padding": null,
            "right": null,
            "top": null,
            "visibility": null,
            "width": null
          }
        },
        "be1e1ac72d5d48578fe0b575b214fc05": {
          "model_module": "@jupyter-widgets/controls",
          "model_name": "ProgressStyleModel",
          "model_module_version": "1.5.0",
          "state": {
            "_model_module": "@jupyter-widgets/controls",
            "_model_module_version": "1.5.0",
            "_model_name": "ProgressStyleModel",
            "_view_count": null,
            "_view_module": "@jupyter-widgets/base",
            "_view_module_version": "1.2.0",
            "_view_name": "StyleView",
            "bar_color": null,
            "description_width": ""
          }
        },
        "42cc30aff52a455e9a577e92bb9a3638": {
          "model_module": "@jupyter-widgets/base",
          "model_name": "LayoutModel",
          "model_module_version": "1.2.0",
          "state": {
            "_model_module": "@jupyter-widgets/base",
            "_model_module_version": "1.2.0",
            "_model_name": "LayoutModel",
            "_view_count": null,
            "_view_module": "@jupyter-widgets/base",
            "_view_module_version": "1.2.0",
            "_view_name": "LayoutView",
            "align_content": null,
            "align_items": null,
            "align_self": null,
            "border": null,
            "bottom": null,
            "display": null,
            "flex": null,
            "flex_flow": null,
            "grid_area": null,
            "grid_auto_columns": null,
            "grid_auto_flow": null,
            "grid_auto_rows": null,
            "grid_column": null,
            "grid_gap": null,
            "grid_row": null,
            "grid_template_areas": null,
            "grid_template_columns": null,
            "grid_template_rows": null,
            "height": null,
            "justify_content": null,
            "justify_items": null,
            "left": null,
            "margin": null,
            "max_height": null,
            "max_width": null,
            "min_height": null,
            "min_width": null,
            "object_fit": null,
            "object_position": null,
            "order": null,
            "overflow": null,
            "overflow_x": null,
            "overflow_y": null,
            "padding": null,
            "right": null,
            "top": null,
            "visibility": null,
            "width": null
          }
        },
        "5053a6e3d49347cb99bcb65b12d61a5e": {
          "model_module": "@jupyter-widgets/controls",
          "model_name": "DescriptionStyleModel",
          "model_module_version": "1.5.0",
          "state": {
            "_model_module": "@jupyter-widgets/controls",
            "_model_module_version": "1.5.0",
            "_model_name": "DescriptionStyleModel",
            "_view_count": null,
            "_view_module": "@jupyter-widgets/base",
            "_view_module_version": "1.2.0",
            "_view_name": "StyleView",
            "description_width": ""
          }
        },
        "c1f990df15e4400096aa1fcab125cf4d": {
          "model_module": "@jupyter-widgets/controls",
          "model_name": "HBoxModel",
          "model_module_version": "1.5.0",
          "state": {
            "_dom_classes": [],
            "_model_module": "@jupyter-widgets/controls",
            "_model_module_version": "1.5.0",
            "_model_name": "HBoxModel",
            "_view_count": null,
            "_view_module": "@jupyter-widgets/controls",
            "_view_module_version": "1.5.0",
            "_view_name": "HBoxView",
            "box_style": "",
            "children": [
              "IPY_MODEL_5fe4f0b81bd242378570d085b825f110",
              "IPY_MODEL_2be296619a9246acb79a31134f2c210e",
              "IPY_MODEL_8d16f346011b4868add88e4d0f7f1dc7"
            ],
            "layout": "IPY_MODEL_c9f98459ee5c4169a87b7dbaa9c5bd3d"
          }
        },
        "5fe4f0b81bd242378570d085b825f110": {
          "model_module": "@jupyter-widgets/controls",
          "model_name": "HTMLModel",
          "model_module_version": "1.5.0",
          "state": {
            "_dom_classes": [],
            "_model_module": "@jupyter-widgets/controls",
            "_model_module_version": "1.5.0",
            "_model_name": "HTMLModel",
            "_view_count": null,
            "_view_module": "@jupyter-widgets/controls",
            "_view_module_version": "1.5.0",
            "_view_name": "HTMLView",
            "description": "",
            "description_tooltip": null,
            "layout": "IPY_MODEL_72e4e9743537402e8620377c1e320e81",
            "placeholder": "​",
            "style": "IPY_MODEL_9652fe227b424c87a41a181ce7eca30a",
            "value": "Downloading http://nlp.stanford.edu/software/stanza/1.2.2/es/default.zip: 100%"
          }
        },
        "2be296619a9246acb79a31134f2c210e": {
          "model_module": "@jupyter-widgets/controls",
          "model_name": "FloatProgressModel",
          "model_module_version": "1.5.0",
          "state": {
            "_dom_classes": [],
            "_model_module": "@jupyter-widgets/controls",
            "_model_module_version": "1.5.0",
            "_model_name": "FloatProgressModel",
            "_view_count": null,
            "_view_module": "@jupyter-widgets/controls",
            "_view_module_version": "1.5.0",
            "_view_name": "ProgressView",
            "bar_style": "success",
            "description": "",
            "description_tooltip": null,
            "layout": "IPY_MODEL_9799ca6c2f1646d89ec2127318181c73",
            "max": 565553347,
            "min": 0,
            "orientation": "horizontal",
            "style": "IPY_MODEL_353b4a5ff6074f4484519dd87d69d39b",
            "value": 565553347
          }
        },
        "8d16f346011b4868add88e4d0f7f1dc7": {
          "model_module": "@jupyter-widgets/controls",
          "model_name": "HTMLModel",
          "model_module_version": "1.5.0",
          "state": {
            "_dom_classes": [],
            "_model_module": "@jupyter-widgets/controls",
            "_model_module_version": "1.5.0",
            "_model_name": "HTMLModel",
            "_view_count": null,
            "_view_module": "@jupyter-widgets/controls",
            "_view_module_version": "1.5.0",
            "_view_name": "HTMLView",
            "description": "",
            "description_tooltip": null,
            "layout": "IPY_MODEL_06f8116fe1a34c0fb923e5eeae9c6745",
            "placeholder": "​",
            "style": "IPY_MODEL_6303db70841f4d159a6efbe7446bbd07",
            "value": " 566M/566M [01:42&lt;00:00, 5.30MB/s]"
          }
        },
        "c9f98459ee5c4169a87b7dbaa9c5bd3d": {
          "model_module": "@jupyter-widgets/base",
          "model_name": "LayoutModel",
          "model_module_version": "1.2.0",
          "state": {
            "_model_module": "@jupyter-widgets/base",
            "_model_module_version": "1.2.0",
            "_model_name": "LayoutModel",
            "_view_count": null,
            "_view_module": "@jupyter-widgets/base",
            "_view_module_version": "1.2.0",
            "_view_name": "LayoutView",
            "align_content": null,
            "align_items": null,
            "align_self": null,
            "border": null,
            "bottom": null,
            "display": null,
            "flex": null,
            "flex_flow": null,
            "grid_area": null,
            "grid_auto_columns": null,
            "grid_auto_flow": null,
            "grid_auto_rows": null,
            "grid_column": null,
            "grid_gap": null,
            "grid_row": null,
            "grid_template_areas": null,
            "grid_template_columns": null,
            "grid_template_rows": null,
            "height": null,
            "justify_content": null,
            "justify_items": null,
            "left": null,
            "margin": null,
            "max_height": null,
            "max_width": null,
            "min_height": null,
            "min_width": null,
            "object_fit": null,
            "object_position": null,
            "order": null,
            "overflow": null,
            "overflow_x": null,
            "overflow_y": null,
            "padding": null,
            "right": null,
            "top": null,
            "visibility": null,
            "width": null
          }
        },
        "72e4e9743537402e8620377c1e320e81": {
          "model_module": "@jupyter-widgets/base",
          "model_name": "LayoutModel",
          "model_module_version": "1.2.0",
          "state": {
            "_model_module": "@jupyter-widgets/base",
            "_model_module_version": "1.2.0",
            "_model_name": "LayoutModel",
            "_view_count": null,
            "_view_module": "@jupyter-widgets/base",
            "_view_module_version": "1.2.0",
            "_view_name": "LayoutView",
            "align_content": null,
            "align_items": null,
            "align_self": null,
            "border": null,
            "bottom": null,
            "display": null,
            "flex": null,
            "flex_flow": null,
            "grid_area": null,
            "grid_auto_columns": null,
            "grid_auto_flow": null,
            "grid_auto_rows": null,
            "grid_column": null,
            "grid_gap": null,
            "grid_row": null,
            "grid_template_areas": null,
            "grid_template_columns": null,
            "grid_template_rows": null,
            "height": null,
            "justify_content": null,
            "justify_items": null,
            "left": null,
            "margin": null,
            "max_height": null,
            "max_width": null,
            "min_height": null,
            "min_width": null,
            "object_fit": null,
            "object_position": null,
            "order": null,
            "overflow": null,
            "overflow_x": null,
            "overflow_y": null,
            "padding": null,
            "right": null,
            "top": null,
            "visibility": null,
            "width": null
          }
        },
        "9652fe227b424c87a41a181ce7eca30a": {
          "model_module": "@jupyter-widgets/controls",
          "model_name": "DescriptionStyleModel",
          "model_module_version": "1.5.0",
          "state": {
            "_model_module": "@jupyter-widgets/controls",
            "_model_module_version": "1.5.0",
            "_model_name": "DescriptionStyleModel",
            "_view_count": null,
            "_view_module": "@jupyter-widgets/base",
            "_view_module_version": "1.2.0",
            "_view_name": "StyleView",
            "description_width": ""
          }
        },
        "9799ca6c2f1646d89ec2127318181c73": {
          "model_module": "@jupyter-widgets/base",
          "model_name": "LayoutModel",
          "model_module_version": "1.2.0",
          "state": {
            "_model_module": "@jupyter-widgets/base",
            "_model_module_version": "1.2.0",
            "_model_name": "LayoutModel",
            "_view_count": null,
            "_view_module": "@jupyter-widgets/base",
            "_view_module_version": "1.2.0",
            "_view_name": "LayoutView",
            "align_content": null,
            "align_items": null,
            "align_self": null,
            "border": null,
            "bottom": null,
            "display": null,
            "flex": null,
            "flex_flow": null,
            "grid_area": null,
            "grid_auto_columns": null,
            "grid_auto_flow": null,
            "grid_auto_rows": null,
            "grid_column": null,
            "grid_gap": null,
            "grid_row": null,
            "grid_template_areas": null,
            "grid_template_columns": null,
            "grid_template_rows": null,
            "height": null,
            "justify_content": null,
            "justify_items": null,
            "left": null,
            "margin": null,
            "max_height": null,
            "max_width": null,
            "min_height": null,
            "min_width": null,
            "object_fit": null,
            "object_position": null,
            "order": null,
            "overflow": null,
            "overflow_x": null,
            "overflow_y": null,
            "padding": null,
            "right": null,
            "top": null,
            "visibility": null,
            "width": null
          }
        },
        "353b4a5ff6074f4484519dd87d69d39b": {
          "model_module": "@jupyter-widgets/controls",
          "model_name": "ProgressStyleModel",
          "model_module_version": "1.5.0",
          "state": {
            "_model_module": "@jupyter-widgets/controls",
            "_model_module_version": "1.5.0",
            "_model_name": "ProgressStyleModel",
            "_view_count": null,
            "_view_module": "@jupyter-widgets/base",
            "_view_module_version": "1.2.0",
            "_view_name": "StyleView",
            "bar_color": null,
            "description_width": ""
          }
        },
        "06f8116fe1a34c0fb923e5eeae9c6745": {
          "model_module": "@jupyter-widgets/base",
          "model_name": "LayoutModel",
          "model_module_version": "1.2.0",
          "state": {
            "_model_module": "@jupyter-widgets/base",
            "_model_module_version": "1.2.0",
            "_model_name": "LayoutModel",
            "_view_count": null,
            "_view_module": "@jupyter-widgets/base",
            "_view_module_version": "1.2.0",
            "_view_name": "LayoutView",
            "align_content": null,
            "align_items": null,
            "align_self": null,
            "border": null,
            "bottom": null,
            "display": null,
            "flex": null,
            "flex_flow": null,
            "grid_area": null,
            "grid_auto_columns": null,
            "grid_auto_flow": null,
            "grid_auto_rows": null,
            "grid_column": null,
            "grid_gap": null,
            "grid_row": null,
            "grid_template_areas": null,
            "grid_template_columns": null,
            "grid_template_rows": null,
            "height": null,
            "justify_content": null,
            "justify_items": null,
            "left": null,
            "margin": null,
            "max_height": null,
            "max_width": null,
            "min_height": null,
            "min_width": null,
            "object_fit": null,
            "object_position": null,
            "order": null,
            "overflow": null,
            "overflow_x": null,
            "overflow_y": null,
            "padding": null,
            "right": null,
            "top": null,
            "visibility": null,
            "width": null
          }
        },
        "6303db70841f4d159a6efbe7446bbd07": {
          "model_module": "@jupyter-widgets/controls",
          "model_name": "DescriptionStyleModel",
          "model_module_version": "1.5.0",
          "state": {
            "_model_module": "@jupyter-widgets/controls",
            "_model_module_version": "1.5.0",
            "_model_name": "DescriptionStyleModel",
            "_view_count": null,
            "_view_module": "@jupyter-widgets/base",
            "_view_module_version": "1.2.0",
            "_view_name": "StyleView",
            "description_width": ""
          }
        }
      }
    }
  },
  "nbformat": 4,
  "nbformat_minor": 0
}