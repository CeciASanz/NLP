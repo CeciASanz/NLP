{
  "cells": [
    {
      "cell_type": "markdown",
      "metadata": {
        "id": "view-in-github",
        "colab_type": "text"
      },
      "source": [
        "<a href=\"https://colab.research.google.com/github/CeciASanz/NLP/blob/main/Ejercicio%203/3b%20-%20Custom%20embedding%20con%20Gensim.ipynb\" target=\"_parent\"><img src=\"https://colab.research.google.com/assets/colab-badge.svg\" alt=\"Open In Colab\"/></a>"
      ]
    },
    {
      "cell_type": "markdown",
      "metadata": {
        "id": "sZd5yLnnHOK0"
      },
      "source": [
        "<img src=\"https://github.com/hernancontigiani/ceia_memorias_especializacion/raw/master/Figures/logoFIUBA.jpg\" width=\"500\" align=\"center\">\n",
        "\n",
        "\n",
        "# Procesamiento de lenguaje natural\n",
        "## Custom embedddings con Gensim\n",
        "\n"
      ]
    },
    {
      "cell_type": "markdown",
      "metadata": {
        "id": "vA7nqkumo9z9"
      },
      "source": [
        "### Objetivo\n",
        "El objetivo es utilizar documentos / corpus para crear embeddings de palabras basado en ese contexto. Se utilizará canciones de bandas para generar los embeddings, es decir, que los vectores tendrán la forma en función de como esa banda haya utilizado las palabras en sus canciones."
      ]
    },
    {
      "cell_type": "code",
      "execution_count": 1,
      "metadata": {
        "id": "lFToQs5FK5uZ"
      },
      "outputs": [],
      "source": [
        "import pandas as pd\n",
        "import matplotlib.pyplot as plt\n",
        "import seaborn as sns\n",
        "\n",
        "import multiprocessing\n",
        "from gensim.models import Word2Vec"
      ]
    },
    {
      "cell_type": "markdown",
      "metadata": {
        "id": "g07zJxG7H9vG"
      },
      "source": [
        "### Datos\n",
        "Utilizaremos como dataset canciones de bandas de habla inglesa."
      ]
    },
    {
      "cell_type": "code",
      "execution_count": 2,
      "metadata": {
        "id": "l7z4CSBfpR3X",
        "colab": {
          "base_uri": "https://localhost:8080/"
        },
        "outputId": "f97af49b-47d6-4cef-9302-6e94966e145e"
      },
      "outputs": [
        {
          "output_type": "stream",
          "name": "stdout",
          "text": [
            "--2023-08-25 01:11:37--  http://h_p_and_the%20sorcerers_stone.txt/\n",
            "Resolving h_p_and_the sorcerers_stone.txt (h_p_and_the sorcerers_stone.txt)... failed: Name or service not known.\n",
            "wget: unable to resolve host address ‘h_p_and_the sorcerers_stone.txt’\n",
            "--2023-08-25 01:11:37--  https://raw.githubusercontent.com/CeciASanz/NLP/main/Ejercicio%203/H_P_and_the%20Sorcerers_Stone.txt\n",
            "Resolving raw.githubusercontent.com (raw.githubusercontent.com)... 185.199.108.133, 185.199.109.133, 185.199.110.133, ...\n",
            "Connecting to raw.githubusercontent.com (raw.githubusercontent.com)|185.199.108.133|:443... connected.\n",
            "HTTP request sent, awaiting response... 200 OK\n",
            "Length: 456722 (446K) [text/plain]\n",
            "Saving to: ‘H_P_and_the Sorcerers_Stone.txt’\n",
            "\n",
            "\r          H_P_and_t   0%[                    ]       0  --.-KB/s               \rH_P_and_the Sorcere 100%[===================>] 446.02K  --.-KB/s    in 0.01s   \n",
            "\n",
            "2023-08-25 01:11:38 (33.1 MB/s) - ‘H_P_and_the Sorcerers_Stone.txt’ saved [456722/456722]\n",
            "\n",
            "FINISHED --2023-08-25 01:11:38--\n",
            "Total wall clock time: 0.2s\n",
            "Downloaded: 1 files, 446K in 0.01s (33.1 MB/s)\n"
          ]
        }
      ],
      "source": [
        "# Descargar la carpeta de dataset\n",
        "import os\n",
        "import platform\n",
        "if platform.system() == 'Windows':\n",
        "    !curl https://raw.githubusercontent.com/CeciASanz/NLP/main/Ejercicio%203/H_P_and_the%20Sorcerers_Stone.txt -o H_P_and_the%20Sorcerers_Stone.txt\n",
        "else:\n",
        "    !wget H_P_and_the%20Sorcerers_Stone.txt https://raw.githubusercontent.com/CeciASanz/NLP/main/Ejercicio%203/H_P_and_the%20Sorcerers_Stone.txt\n"
      ]
    },
    {
      "cell_type": "code",
      "execution_count": 3,
      "metadata": {
        "id": "ticoqYD1Z3I7",
        "colab": {
          "base_uri": "https://localhost:8080/",
          "height": 261
        },
        "outputId": "73edecf2-8b72-49a7-f422-a5d90ecca01f"
      },
      "outputs": [
        {
          "output_type": "stream",
          "name": "stderr",
          "text": [
            "<ipython-input-3-0c798be8271a>:2: ParserWarning: Falling back to the 'python' engine because the 'c' engine does not support regex separators (separators > 1 char and different from '\\s+' are interpreted as regex); you can avoid this warning by specifying engine='python'.\n",
            "  df = pd.read_csv('H_P_and_the Sorcerers_Stone.txt', sep='/n', header=None)\n"
          ]
        },
        {
          "output_type": "execute_result",
          "data": {
            "text/plain": [
              "                                                   0\n",
              "0              Harry Potter and the Sorcerer’s Stone\n",
              "1                                    By J.K. Rowling\n",
              "2                                        CHAPTER ONE\n",
              "3                                  The Boy Who Lived\n",
              "4  Mr. and Mrs. Dursley, of number four, Privet D..."
            ],
            "text/html": [
              "\n",
              "  <div id=\"df-5e9b0d80-d634-4502-8864-800ecdab8729\" class=\"colab-df-container\">\n",
              "    <div>\n",
              "<style scoped>\n",
              "    .dataframe tbody tr th:only-of-type {\n",
              "        vertical-align: middle;\n",
              "    }\n",
              "\n",
              "    .dataframe tbody tr th {\n",
              "        vertical-align: top;\n",
              "    }\n",
              "\n",
              "    .dataframe thead th {\n",
              "        text-align: right;\n",
              "    }\n",
              "</style>\n",
              "<table border=\"1\" class=\"dataframe\">\n",
              "  <thead>\n",
              "    <tr style=\"text-align: right;\">\n",
              "      <th></th>\n",
              "      <th>0</th>\n",
              "    </tr>\n",
              "  </thead>\n",
              "  <tbody>\n",
              "    <tr>\n",
              "      <th>0</th>\n",
              "      <td>Harry Potter and the Sorcerer’s Stone</td>\n",
              "    </tr>\n",
              "    <tr>\n",
              "      <th>1</th>\n",
              "      <td>By J.K. Rowling</td>\n",
              "    </tr>\n",
              "    <tr>\n",
              "      <th>2</th>\n",
              "      <td>CHAPTER ONE</td>\n",
              "    </tr>\n",
              "    <tr>\n",
              "      <th>3</th>\n",
              "      <td>The Boy Who Lived</td>\n",
              "    </tr>\n",
              "    <tr>\n",
              "      <th>4</th>\n",
              "      <td>Mr. and Mrs. Dursley, of number four, Privet D...</td>\n",
              "    </tr>\n",
              "  </tbody>\n",
              "</table>\n",
              "</div>\n",
              "    <div class=\"colab-df-buttons\">\n",
              "\n",
              "  <div class=\"colab-df-container\">\n",
              "    <button class=\"colab-df-convert\" onclick=\"convertToInteractive('df-5e9b0d80-d634-4502-8864-800ecdab8729')\"\n",
              "            title=\"Convert this dataframe to an interactive table.\"\n",
              "            style=\"display:none;\">\n",
              "\n",
              "  <svg xmlns=\"http://www.w3.org/2000/svg\" height=\"24px\" viewBox=\"0 -960 960 960\">\n",
              "    <path d=\"M120-120v-720h720v720H120Zm60-500h600v-160H180v160Zm220 220h160v-160H400v160Zm0 220h160v-160H400v160ZM180-400h160v-160H180v160Zm440 0h160v-160H620v160ZM180-180h160v-160H180v160Zm440 0h160v-160H620v160Z\"/>\n",
              "  </svg>\n",
              "    </button>\n",
              "\n",
              "  <style>\n",
              "    .colab-df-container {\n",
              "      display:flex;\n",
              "      gap: 12px;\n",
              "    }\n",
              "\n",
              "    .colab-df-convert {\n",
              "      background-color: #E8F0FE;\n",
              "      border: none;\n",
              "      border-radius: 50%;\n",
              "      cursor: pointer;\n",
              "      display: none;\n",
              "      fill: #1967D2;\n",
              "      height: 32px;\n",
              "      padding: 0 0 0 0;\n",
              "      width: 32px;\n",
              "    }\n",
              "\n",
              "    .colab-df-convert:hover {\n",
              "      background-color: #E2EBFA;\n",
              "      box-shadow: 0px 1px 2px rgba(60, 64, 67, 0.3), 0px 1px 3px 1px rgba(60, 64, 67, 0.15);\n",
              "      fill: #174EA6;\n",
              "    }\n",
              "\n",
              "    .colab-df-buttons div {\n",
              "      margin-bottom: 4px;\n",
              "    }\n",
              "\n",
              "    [theme=dark] .colab-df-convert {\n",
              "      background-color: #3B4455;\n",
              "      fill: #D2E3FC;\n",
              "    }\n",
              "\n",
              "    [theme=dark] .colab-df-convert:hover {\n",
              "      background-color: #434B5C;\n",
              "      box-shadow: 0px 1px 3px 1px rgba(0, 0, 0, 0.15);\n",
              "      filter: drop-shadow(0px 1px 2px rgba(0, 0, 0, 0.3));\n",
              "      fill: #FFFFFF;\n",
              "    }\n",
              "  </style>\n",
              "\n",
              "    <script>\n",
              "      const buttonEl =\n",
              "        document.querySelector('#df-5e9b0d80-d634-4502-8864-800ecdab8729 button.colab-df-convert');\n",
              "      buttonEl.style.display =\n",
              "        google.colab.kernel.accessAllowed ? 'block' : 'none';\n",
              "\n",
              "      async function convertToInteractive(key) {\n",
              "        const element = document.querySelector('#df-5e9b0d80-d634-4502-8864-800ecdab8729');\n",
              "        const dataTable =\n",
              "          await google.colab.kernel.invokeFunction('convertToInteractive',\n",
              "                                                    [key], {});\n",
              "        if (!dataTable) return;\n",
              "\n",
              "        const docLinkHtml = 'Like what you see? Visit the ' +\n",
              "          '<a target=\"_blank\" href=https://colab.research.google.com/notebooks/data_table.ipynb>data table notebook</a>'\n",
              "          + ' to learn more about interactive tables.';\n",
              "        element.innerHTML = '';\n",
              "        dataTable['output_type'] = 'display_data';\n",
              "        await google.colab.output.renderOutput(dataTable, element);\n",
              "        const docLink = document.createElement('div');\n",
              "        docLink.innerHTML = docLinkHtml;\n",
              "        element.appendChild(docLink);\n",
              "      }\n",
              "    </script>\n",
              "  </div>\n",
              "\n",
              "\n",
              "<div id=\"df-176087ec-35f9-4ffe-b977-2266aac8d493\">\n",
              "  <button class=\"colab-df-quickchart\" onclick=\"quickchart('df-176087ec-35f9-4ffe-b977-2266aac8d493')\"\n",
              "            title=\"Suggest charts.\"\n",
              "            style=\"display:none;\">\n",
              "\n",
              "<svg xmlns=\"http://www.w3.org/2000/svg\" height=\"24px\"viewBox=\"0 0 24 24\"\n",
              "     width=\"24px\">\n",
              "    <g>\n",
              "        <path d=\"M19 3H5c-1.1 0-2 .9-2 2v14c0 1.1.9 2 2 2h14c1.1 0 2-.9 2-2V5c0-1.1-.9-2-2-2zM9 17H7v-7h2v7zm4 0h-2V7h2v10zm4 0h-2v-4h2v4z\"/>\n",
              "    </g>\n",
              "</svg>\n",
              "  </button>\n",
              "\n",
              "<style>\n",
              "  .colab-df-quickchart {\n",
              "    background-color: #E8F0FE;\n",
              "    border: none;\n",
              "    border-radius: 50%;\n",
              "    cursor: pointer;\n",
              "    display: none;\n",
              "    fill: #1967D2;\n",
              "    height: 32px;\n",
              "    padding: 0 0 0 0;\n",
              "    width: 32px;\n",
              "  }\n",
              "\n",
              "  .colab-df-quickchart:hover {\n",
              "    background-color: #E2EBFA;\n",
              "    box-shadow: 0px 1px 2px rgba(60, 64, 67, 0.3), 0px 1px 3px 1px rgba(60, 64, 67, 0.15);\n",
              "    fill: #174EA6;\n",
              "  }\n",
              "\n",
              "  [theme=dark] .colab-df-quickchart {\n",
              "    background-color: #3B4455;\n",
              "    fill: #D2E3FC;\n",
              "  }\n",
              "\n",
              "  [theme=dark] .colab-df-quickchart:hover {\n",
              "    background-color: #434B5C;\n",
              "    box-shadow: 0px 1px 3px 1px rgba(0, 0, 0, 0.15);\n",
              "    filter: drop-shadow(0px 1px 2px rgba(0, 0, 0, 0.3));\n",
              "    fill: #FFFFFF;\n",
              "  }\n",
              "</style>\n",
              "\n",
              "  <script>\n",
              "    async function quickchart(key) {\n",
              "      const charts = await google.colab.kernel.invokeFunction(\n",
              "          'suggestCharts', [key], {});\n",
              "    }\n",
              "    (() => {\n",
              "      let quickchartButtonEl =\n",
              "        document.querySelector('#df-176087ec-35f9-4ffe-b977-2266aac8d493 button');\n",
              "      quickchartButtonEl.style.display =\n",
              "        google.colab.kernel.accessAllowed ? 'block' : 'none';\n",
              "    })();\n",
              "  </script>\n",
              "</div>\n",
              "    </div>\n",
              "  </div>\n"
            ]
          },
          "metadata": {},
          "execution_count": 3
        }
      ],
      "source": [
        "# Armar el dataset utilizando salto de línea para separar las oraciones/docs\n",
        "df = pd.read_csv('H_P_and_the Sorcerers_Stone.txt', sep='/n', header=None)\n",
        "df.head()"
      ]
    },
    {
      "cell_type": "code",
      "execution_count": 4,
      "metadata": {
        "id": "LEpKubK9XzXN",
        "colab": {
          "base_uri": "https://localhost:8080/"
        },
        "outputId": "87aae89d-442e-4487-8d85-73d04665020c"
      },
      "outputs": [
        {
          "output_type": "stream",
          "name": "stdout",
          "text": [
            "Cantidad de documentos: 3000\n"
          ]
        }
      ],
      "source": [
        "print(\"Cantidad de documentos:\", df.shape[0])"
      ]
    },
    {
      "cell_type": "markdown",
      "metadata": {
        "id": "ab94qaFlrA1G"
      },
      "source": [
        "### 1 - Preprocesamiento"
      ]
    },
    {
      "cell_type": "code",
      "execution_count": 5,
      "metadata": {
        "id": "rIsmMWmjrDHd"
      },
      "outputs": [],
      "source": [
        "from keras.preprocessing.text import text_to_word_sequence\n",
        "\n",
        "sentence_tokens = []\n",
        "# Recorrer todas las filas y transformar las oraciones\n",
        "# en una secuencia de palabras (esto podría realizarse con NLTK o spaCy también)\n",
        "for _, row in df[:None].iterrows():\n",
        "    sentence_tokens.append(text_to_word_sequence(row[0]))"
      ]
    },
    {
      "cell_type": "code",
      "execution_count": 6,
      "metadata": {
        "id": "CHepi_DGrbhq",
        "colab": {
          "base_uri": "https://localhost:8080/"
        },
        "outputId": "4f945492-3687-479f-bfba-6171f7b63430"
      },
      "outputs": [
        {
          "output_type": "execute_result",
          "data": {
            "text/plain": [
              "[['harry', 'potter', 'and', 'the', 'sorcerer’s', 'stone'],\n",
              " ['by', 'j', 'k', 'rowling']]"
            ]
          },
          "metadata": {},
          "execution_count": 6
        }
      ],
      "source": [
        "# Demos un vistazo\n",
        "sentence_tokens[:2]"
      ]
    },
    {
      "cell_type": "markdown",
      "metadata": {
        "id": "BaXV6nlHr5Aa"
      },
      "source": [
        "### 2 - Crear los vectores (word2vec)"
      ]
    },
    {
      "cell_type": "code",
      "execution_count": 7,
      "metadata": {
        "id": "OSb0v7h8r7hK"
      },
      "outputs": [],
      "source": [
        "from gensim.models.callbacks import CallbackAny2Vec\n",
        "# Durante el entrenamiento gensim por defecto no informa el \"loss\" en cada época\n",
        "# Sobrecargamos el callback para poder tener esta información\n",
        "class callback(CallbackAny2Vec):\n",
        "    \"\"\"\n",
        "    Callback to print loss after each epoch\n",
        "    \"\"\"\n",
        "    def __init__(self):\n",
        "        self.epoch = 0\n",
        "\n",
        "    def on_epoch_end(self, model):\n",
        "        loss = model.get_latest_training_loss()\n",
        "        if self.epoch == 0:\n",
        "            print('Loss after epoch {}: {}'.format(self.epoch, loss))\n",
        "        else:\n",
        "            print('Loss after epoch {}: {}'.format(self.epoch, loss- self.loss_previous_step))\n",
        "        self.epoch += 1\n",
        "        self.loss_previous_step = loss"
      ]
    },
    {
      "cell_type": "code",
      "execution_count": 8,
      "metadata": {
        "id": "i0wnDdv9sJ47"
      },
      "outputs": [],
      "source": [
        "# Crearmos el modelo generador de vectores\n",
        "# En este caso utilizaremos la estructura modelo Skipgram\n",
        "w2v_model = Word2Vec(min_count=5,    # frecuencia mínima de palabra para incluirla en el vocabulario\n",
        "                     window=2,       # cant de palabras antes y desp de la predicha\n",
        "                     vector_size=300,       # dimensionalidad de los vectores\n",
        "                     negative=20,    # cantidad de negative samples... 0 es no se usa\n",
        "                     workers=1,      # si tienen más cores pueden cambiar este valor\n",
        "                     sg=1)           # modelo 0:CBOW  1:skipgram"
      ]
    },
    {
      "cell_type": "code",
      "execution_count": 9,
      "metadata": {
        "id": "5lTt8wErsf17"
      },
      "outputs": [],
      "source": [
        "# Obtener el vocabulario con los tokens\n",
        "w2v_model.build_vocab(sentence_tokens)"
      ]
    },
    {
      "cell_type": "code",
      "execution_count": 10,
      "metadata": {
        "id": "TNc9qt4os5AT",
        "outputId": "2188e49e-8212-4858-d7b2-d18c6f55e488",
        "colab": {
          "base_uri": "https://localhost:8080/"
        }
      },
      "outputs": [
        {
          "output_type": "stream",
          "name": "stdout",
          "text": [
            "Cantidad de docs en el corpus: 3000\n"
          ]
        }
      ],
      "source": [
        "# Cantidad de filas/docs encontradas en el corpus\n",
        "print(\"Cantidad de docs en el corpus:\", w2v_model.corpus_count)"
      ]
    },
    {
      "cell_type": "code",
      "execution_count": 11,
      "metadata": {
        "id": "idw9cHF3tSMl",
        "colab": {
          "base_uri": "https://localhost:8080/"
        },
        "outputId": "cf290c6c-3642-4b31-deb2-e7e1305dce13"
      },
      "outputs": [
        {
          "output_type": "stream",
          "name": "stdout",
          "text": [
            "Cantidad de words distintas en el corpus: 1784\n"
          ]
        }
      ],
      "source": [
        "# Cantidad de words encontradas en el corpus\n",
        "print(\"Cantidad de words distintas en el corpus:\", len(w2v_model.wv))"
      ]
    },
    {
      "cell_type": "markdown",
      "metadata": {
        "id": "fC9mZ8DPk-UC"
      },
      "source": [
        "### 3 - Entrenar el modelo generador"
      ]
    },
    {
      "cell_type": "code",
      "execution_count": 12,
      "metadata": {
        "id": "QSp-x0PAsq56",
        "colab": {
          "base_uri": "https://localhost:8080/"
        },
        "outputId": "f89027d7-a457-4fab-dd1c-c95db76e3bd1"
      },
      "outputs": [
        {
          "output_type": "stream",
          "name": "stdout",
          "text": [
            "Loss after epoch 0: 770813.9375\n",
            "Loss after epoch 1: 557863.9375\n",
            "Loss after epoch 2: 518398.0\n",
            "Loss after epoch 3: 476998.125\n",
            "Loss after epoch 4: 441338.75\n",
            "Loss after epoch 5: 438446.0\n",
            "Loss after epoch 6: 434947.0\n",
            "Loss after epoch 7: 432904.5\n",
            "Loss after epoch 8: 411438.25\n",
            "Loss after epoch 9: 402255.0\n",
            "Loss after epoch 10: 398639.5\n",
            "Loss after epoch 11: 397073.0\n",
            "Loss after epoch 12: 394334.5\n",
            "Loss after epoch 13: 392841.5\n",
            "Loss after epoch 14: 390505.5\n",
            "Loss after epoch 15: 387534.5\n",
            "Loss after epoch 16: 387222.5\n",
            "Loss after epoch 17: 384380.5\n",
            "Loss after epoch 18: 383487.0\n",
            "Loss after epoch 19: 370723.0\n"
          ]
        },
        {
          "output_type": "execute_result",
          "data": {
            "text/plain": [
              "(1055498, 1619300)"
            ]
          },
          "metadata": {},
          "execution_count": 12
        }
      ],
      "source": [
        "# Entrenamos el modelo generador de vectores\n",
        "# Utilizamos nuestro callback\n",
        "w2v_model.train(sentence_tokens,\n",
        "                 total_examples=w2v_model.corpus_count,\n",
        "                 epochs=20,\n",
        "                 compute_loss = True,\n",
        "                 callbacks=[callback()]\n",
        "                 )"
      ]
    },
    {
      "cell_type": "markdown",
      "metadata": {
        "id": "ddT9NVuNlCAe"
      },
      "source": [
        "### 4 - Ensayar"
      ]
    },
    {
      "cell_type": "code",
      "execution_count": 13,
      "metadata": {
        "id": "6cHN9xGLuPEm",
        "colab": {
          "base_uri": "https://localhost:8080/"
        },
        "outputId": "1fa3bd5c-fb3d-436c-af8c-f8e753d95e01"
      },
      "outputs": [
        {
          "output_type": "execute_result",
          "data": {
            "text/plain": [
              "[('he', 0.6944339871406555),\n",
              " ('ron', 0.6777154207229614),\n",
              " ('eagerly', 0.6712502837181091),\n",
              " ('yell', 0.6676045656204224),\n",
              " ('finally', 0.6640855669975281),\n",
              " ('goblin', 0.655276358127594),\n",
              " ('excitedly', 0.6474297642707825),\n",
              " ('finnigan', 0.6440061330795288),\n",
              " ('together', 0.6428718566894531),\n",
              " ('everybody', 0.6422857046127319)]"
            ]
          },
          "metadata": {},
          "execution_count": 13
        }
      ],
      "source": [
        "# Palabras que MÁS se relacionan con...:\n",
        "w2v_model.wv.most_similar(positive=[\"harry\"], topn=10)"
      ]
    },
    {
      "cell_type": "code",
      "source": [
        "# Palabras que MÁS se relacionan con...:\n",
        "w2v_model.wv.most_similar(positive=[\"ron\"], topn=10)"
      ],
      "metadata": {
        "id": "CmIP_Lp4fUJc",
        "outputId": "e3c1c562-6bcd-4c01-e951-7ad89e153b39",
        "colab": {
          "base_uri": "https://localhost:8080/"
        }
      },
      "execution_count": 21,
      "outputs": [
        {
          "output_type": "execute_result",
          "data": {
            "text/plain": [
              "[('anxiously', 0.7165364623069763),\n",
              " ('nervously', 0.69289630651474),\n",
              " ('“thanks', 0.6891520619392395),\n",
              " ('harry', 0.6777154803276062),\n",
              " ('excitedly', 0.6753511428833008),\n",
              " ('finally', 0.672845721244812),\n",
              " ('eagerly', 0.6642279028892517),\n",
              " ('“hagrid', 0.661038875579834),\n",
              " ('percy', 0.6595354080200195),\n",
              " ('miserably', 0.6556795239448547)]"
            ]
          },
          "metadata": {},
          "execution_count": 21
        }
      ]
    },
    {
      "cell_type": "code",
      "source": [
        "# Palabras que MÁS se relacionan con...:\n",
        "w2v_model.wv.most_similar(positive=[\"hermione\"], topn=10)"
      ],
      "metadata": {
        "id": "6Po7VFE5fYFB",
        "outputId": "4d2989c2-dd92-4f33-ced1-3e74f16f300a",
        "colab": {
          "base_uri": "https://localhost:8080/"
        }
      },
      "execution_count": 22,
      "outputs": [
        {
          "output_type": "execute_result",
          "data": {
            "text/plain": [
              "[('eagerly', 0.6431689262390137),\n",
              " ('excitedly', 0.6370903849601746),\n",
              " ('finally', 0.6200612187385559),\n",
              " ('“snape’s', 0.6160683035850525),\n",
              " ('ron', 0.6000311374664307),\n",
              " ('fang', 0.5993953943252563),\n",
              " ('cheer', 0.5969716310501099),\n",
              " ('harry', 0.5921779870986938),\n",
              " ('anxiously', 0.5921298861503601),\n",
              " ('dean', 0.5918468236923218)]"
            ]
          },
          "metadata": {},
          "execution_count": 22
        }
      ]
    },
    {
      "cell_type": "code",
      "execution_count": 14,
      "metadata": {
        "id": "47HiU5gdkdMq",
        "colab": {
          "base_uri": "https://localhost:8080/"
        },
        "outputId": "8b7d0cb0-1149-42fb-ae47-eff7f7eb20c6"
      },
      "outputs": [
        {
          "output_type": "execute_result",
          "data": {
            "text/plain": [
              "[('or', -0.0506947785615921),\n",
              " ('full', -0.05906566232442856),\n",
              " ('dark', -0.08370140939950943),\n",
              " ('made', -0.12167414277791977),\n",
              " ('my', -0.12480951100587845),\n",
              " ('by', -0.12577562034130096),\n",
              " ('with', -0.1309216022491455),\n",
              " ('common', -0.13498744368553162),\n",
              " ('cup', -0.14298312366008759),\n",
              " ('in', -0.15101204812526703)]"
            ]
          },
          "metadata": {},
          "execution_count": 14
        }
      ],
      "source": [
        "# Palabras que MENOS se relacionan con...:\n",
        "w2v_model.wv.most_similar(negative=[\"hagrid\"], topn=10)"
      ]
    },
    {
      "cell_type": "code",
      "execution_count": 23,
      "metadata": {
        "id": "DT4Rvno2mD65",
        "colab": {
          "base_uri": "https://localhost:8080/"
        },
        "outputId": "574fbab4-6647-4b9e-809c-2d79ec3fd08d"
      },
      "outputs": [
        {
          "output_type": "execute_result",
          "data": {
            "text/plain": [
              "[('“sorry', 0.7012707591056824),\n",
              " ('mcgonagall', 0.6963121294975281),\n",
              " ('quirrell', 0.6865072250366211),\n",
              " ('flitwick', 0.6752884387969971),\n",
              " ('“everyone', 0.6594535112380981),\n",
              " ('mcgonagall’s', 0.6557175517082214),\n",
              " ('“yeah', 0.6502814888954163),\n",
              " ('“welcome', 0.6490548253059387),\n",
              " ('joking', 0.6487786173820496),\n",
              " ('voldemort', 0.648356556892395)]"
            ]
          },
          "metadata": {},
          "execution_count": 23
        }
      ],
      "source": [
        "# Palabras que MÁS se relacionan con...:\n",
        "w2v_model.wv.most_similar(positive=[\"dumbledore\"], topn=10)"
      ]
    },
    {
      "cell_type": "code",
      "execution_count": 24,
      "metadata": {
        "id": "XPLDPgzBmQXt",
        "colab": {
          "base_uri": "https://localhost:8080/"
        },
        "outputId": "12df7e90-e0fb-43df-a001-43a283ca9fcb"
      },
      "outputs": [
        {
          "output_type": "execute_result",
          "data": {
            "text/plain": [
              "[('diagon', 0.9381645917892456),\n",
              " ('safely', 0.8960221409797668),\n",
              " ('herself', 0.8823679685592651),\n",
              " ('road', 0.867967963218689),\n",
              " ('scrambled', 0.8678065538406372)]"
            ]
          },
          "metadata": {},
          "execution_count": 24
        }
      ],
      "source": [
        "# Palabras que MÁS se relacionan con...:\n",
        "w2v_model.wv.most_similar(positive=[\"alley\"], topn=5)"
      ]
    },
    {
      "cell_type": "markdown",
      "metadata": {
        "id": "_g8UVWe6lFmh"
      },
      "source": [
        "### 5 - Visualizar agrupación de vectores"
      ]
    },
    {
      "cell_type": "code",
      "execution_count": 17,
      "metadata": {
        "id": "pDxEVXAivjr9"
      },
      "outputs": [],
      "source": [
        "from sklearn.decomposition import IncrementalPCA\n",
        "from sklearn.manifold import TSNE\n",
        "import numpy as np\n",
        "\n",
        "def reduce_dimensions(model):\n",
        "    num_dimensions = 2\n",
        "\n",
        "    vectors = np.asarray(model.wv.vectors)\n",
        "    labels = np.asarray(model.wv.index_to_key)\n",
        "\n",
        "    tsne = TSNE(n_components=num_dimensions, random_state=0)\n",
        "    vectors = tsne.fit_transform(vectors)\n",
        "\n",
        "    x_vals = [v[0] for v in vectors]\n",
        "    y_vals = [v[1] for v in vectors]\n",
        "    return x_vals, y_vals, labels"
      ]
    },
    {
      "cell_type": "code",
      "execution_count": 18,
      "metadata": {
        "id": "NCCXtDpcugmd",
        "colab": {
          "base_uri": "https://localhost:8080/",
          "height": 542
        },
        "outputId": "6319abd1-0a53-4f48-e2fb-2bfed793186d"
      },
      "outputs": [
        {
          "output_type": "display_data",
          "data": {
            "text/html": [
              "<html>\n",
              "<head><meta charset=\"utf-8\" /></head>\n",
              "<body>\n",
              "    <div>            <script src=\"https://cdnjs.cloudflare.com/ajax/libs/mathjax/2.7.5/MathJax.js?config=TeX-AMS-MML_SVG\"></script><script type=\"text/javascript\">if (window.MathJax && window.MathJax.Hub && window.MathJax.Hub.Config) {window.MathJax.Hub.Config({SVG: {font: \"STIX-Web\"}});}</script>                <script type=\"text/javascript\">window.PlotlyConfig = {MathJaxConfig: 'local'};</script>\n",
              "        <script charset=\"utf-8\" src=\"https://cdn.plot.ly/plotly-2.24.1.min.js\"></script>                <div id=\"511300dc-6afb-429b-8692-20f115b3cad2\" class=\"plotly-graph-div\" style=\"height:525px; width:100%;\"></div>            <script type=\"text/javascript\">                                    window.PLOTLYENV=window.PLOTLYENV || {};                                    if (document.getElementById(\"511300dc-6afb-429b-8692-20f115b3cad2\")) {                    Plotly.newPlot(                        \"511300dc-6afb-429b-8692-20f115b3cad2\",                        [{\"hovertemplate\":\"x=%{x}\\u003cbr\\u003ey=%{y}\\u003cbr\\u003etext=%{text}\\u003cextra\\u003e\\u003c\\u002fextra\\u003e\",\"legendgroup\":\"\",\"marker\":{\"color\":\"#636efa\",\"symbol\":\"circle\"},\"mode\":\"markers+text\",\"name\":\"\",\"orientation\":\"v\",\"showlegend\":false,\"text\":[\"the\",\"\\u201d\",\"and\",\"to\",\"a\",\"he\",\"of\",\"harry\",\"was\",\"it\",\"in\",\"his\",\"you\",\"said\",\"\\u2014\",\"had\",\"on\",\"at\",\"they\",\"that\",\"as\",\"him\",\"i\",\"but\",\"with\",\"ron\",\"all\",\"out\",\"up\",\"for\",\"be\",\"them\",\"hagrid\",\"were\",\"have\",\"what\",\"there\",\"back\",\"hermione\",\"one\",\"from\",\"this\",\"not\",\"if\",\"she\",\"into\",\"about\",\"their\",\"been\",\"me\",\"so\",\"know\",\"off\",\"didn\\u2019t\",\"like\",\"got\",\"could\",\"get\",\"\\u201ci\",\"down\",\"her\",\"when\",\"who\",\"over\",\"professor\",\"looked\",\"just\",\"very\",\"is\",\"see\",\"then\",\"no\",\"by\",\"do\",\"your\",\"are\",\"around\",\"now\",\"dumbledore\",\"he\\u2019d\",\"snape\",\"going\",\"an\",\"through\",\"something\",\"we\",\"uncle\",\"think\",\"go\",\"time\",\"right\",\"don\\u2019t\",\"never\",\"dudley\",\"first\",\"how\",\"harry\\u2019s\",\"look\",\"looking\",\"more\",\"here\",\"malfoy\",\"it\\u2019s\",\"only\",\"before\",\"eyes\",\"door\",\"or\",\"would\",\"even\",\"couldn\\u2019t\",\"vernon\",\"two\",\"too\",\"again\",\"head\",\"\\u2014\\u201d\",\"neville\",\"my\",\"yeh\",\"next\",\"mcgonagall\",\"thought\",\"way\",\"than\",\"people\",\"where\",\"face\",\"told\",\"did\",\"other\",\"room\",\"still\",\"quirrell\",\"though\",\"will\",\"which\",\"because\",\"last\",\"potter\",\"its\",\"\\u201cyou\",\"an\\u2019\",\"left\",\"boy\",\"us\",\"gryffindor\",\"mr\",\"behind\",\"come\",\"some\",\"ter\",\"turned\",\"house\",\"wasn\\u2019t\",\"much\",\"can\",\"heard\",\"came\",\"stone\",\"three\",\"hogwarts\",\"i\\u2019m\",\"once\",\"seemed\",\"good\",\"say\",\"long\",\"away\",\"toward\",\"anything\",\"went\",\"great\",\"little\",\"hand\",\"really\",\"suddenly\",\"found\",\"bit\",\"want\",\"tell\",\"made\",\"school\",\"trying\",\"well\",\"himself\",\"after\",\"aunt\",\"knew\",\"tried\",\"saw\",\"\\u201cbut\",\"dark\",\"wand\",\"any\",\"\\u201cwhat\",\"put\",\"took\",\"while\",\"old\"],\"x\":[27.427900314331055,-11.825021743774414,12.481048583984375,-25.56222915649414,13.156506538391113,-4.245278358459473,12.3446044921875,-5.35834264755249,-14.578476905822754,-14.72465991973877,12.31095027923584,23.10051155090332,-29.918760299682617,-11.482203483581543,-25.740575790405273,-16.821918487548828,15.078452110290527,3.7264723777770996,5.379953861236572,-13.778495788574219,9.745070457458496,7.482877254486084,-29.607839584350586,-15.165573120117188,19.77245330810547,-9.945141792297363,-8.790549278259277,18.27840232849121,6.235657691955566,-4.893470764160156,-20.844568252563477,14.480510711669922,-11.956421852111816,-8.586641311645508,-23.727191925048828,-24.074573516845703,-9.753458976745605,19.761096954345703,-9.32947063446045,-6.029479503631592,13.692214965820312,-14.783733367919922,-20.2769832611084,-34.67167663574219,-4.398205280303955,36.70724105834961,-13.09035587310791,26.007802963256836,-19.70414161682129,-25.243249893188477,-26.70221710205078,-28.808870315551758,30.82186508178711,-35.195491790771484,-7.57317590713501,-24.994478225708008,-33.924400329589844,-28.0957088470459,-29.538766860961914,34.855690002441406,21.837135314941406,-5.085849285125732,-6.245478630065918,26.994651794433594,-11.944629669189453,8.22541332244873,-22.107511520385742,-10.79102897644043,-20.470338821411133,-32.14064407348633,4.9413228034973145,-17.2718448638916,8.817018508911133,-31.965213775634766,-15.447425842285156,-26.7406063079834,16.065956115722656,-10.614073753356934,-14.899523735046387,-24.57323455810547,-7.904431343078613,-18.07499122619629,28.608850479125977,36.73074722290039,-18.256710052490234,-30.027082443237305,1.1877225637435913,-30.9241943359375,-27.772192001342773,-4.709893703460693,-12.276948928833008,-32.80195617675781,-24.412263870239258,1.2545260190963745,-4.580117225646973,-35.905792236328125,23.137094497680664,-13.119003295898438,10.231840133666992,-5.446061134338379,-13.955354690551758,-2.540442943572998,-18.581613540649414,-15.701992988586426,-21.849008560180664,21.007638931274414,34.8775749206543,-21.967008590698242,-35.5753173828125,-20.3509578704834,-35.52569580078125,-0.4734693467617035,8.204920768737793,-16.07609748840332,-2.482357978820801,17.06847381591797,-26.270320892333984,-7.052560806274414,-14.602277755737305,-28.43019676208496,8.618194580078125,-9.862525939941406,-15.663944244384766,21.116514205932617,-7.093898773193359,9.830195426940918,0.014918527565896511,18.082157135009766,-26.52767562866211,-34.64915084838867,9.752676010131836,32.630977630615234,1.8896336555480957,-8.61851692199707,10.71696949005127,-33.59093475341797,12.914223670959473,-12.017756462097168,-1.9126042127609253,-11.156278610229492,23.340543746948242,-29.580774307250977,-26.84718894958496,21.51108741760254,-8.708444595336914,-17.013872146606445,-2.345646619796753,-4.359971046447754,25.001157760620117,-38.52781295776367,-1.5123182535171509,-31.097148895263672,34.52741622924805,-3.212679386138916,-14.23027515411377,-15.557910919189453,-32.950408935546875,-19.16542625427246,26.052143096923828,-35.2936897277832,10.979660034179688,-8.073626518249512,-18.080425262451172,4.378428936004639,-20.091421127319336,-13.434540748596191,-33.18018341064453,25.030149459838867,16.051631927490234,37.00013732910156,-36.39102554321289,33.60760498046875,34.808597564697266,17.143983840942383,15.882905006408691,-24.335756301879883,-5.346643447875977,-19.281312942504883,0.13995608687400818,-32.572975158691406,-31.763944625854492,0.062491074204444885,3.1479408740997314,-20.50065040588379,-20.546632766723633,6.545263767242432,5.817720890045166,0.9163441061973572,-20.859254837036133,-28.222501754760742,9.737837791442871,-22.693933486938477,27.232816696166992,14.841767311096191,-23.072561264038086,-23.704673767089844,9.749283790588379,5.692290306091309,3.6426265239715576,3.9684324264526367],\"xaxis\":\"x\",\"y\":[-7.901895999908447,15.087346076965332,8.167712211608887,-9.680288314819336,-18.82042121887207,9.880910873413086,-11.783540725708008,13.754036903381348,3.065079689025879,-2.546856641769409,0.37389078736305237,19.756786346435547,10.836297035217285,18.587196350097656,7.58964204788208,-23.425870895385742,1.9647879600524902,23.318696975708008,-25.217124938964844,-12.797660827636719,-23.348018646240234,12.175814628601074,2.7988810539245605,-3.901285409927368,3.573591470718384,14.624472618103027,-5.123756408691406,-8.629036903381348,4.996969699859619,-7.802320957183838,-2.6415295600891113,-11.320850372314453,13.990447044372559,-20.82667350769043,-13.70950698852539,7.734963893890381,-12.44141960144043,-14.294929504394531,13.917689323425293,0.4533752202987671,0.9245863556861877,7.027145862579346,5.911584377288818,-2.7188925743103027,10.075368881225586,-5.983633041381836,7.417613983154297,8.298842430114746,-23.692045211791992,-0.46320095658302307,-19.299968719482422,6.265212535858154,-13.695104598999023,5.593471050262451,-27.19452667236328,-24.19762420654297,4.046724319458008,-7.8603715896606445,12.985569953918457,-3.9156367778778076,20.43508529663086,12.004446983337402,7.330189228057861,-13.852096557617188,23.8167724609375,23.67205047607422,-24.251605987548828,-24.142934799194336,17.69527244567871,-10.307355880737305,5.6314897537231445,1.4470362663269043,-1.2367587089538574,-1.9926278591156006,1.1185905933380127,9.789108276367188,11.587632179260254,5.144430160522461,17.104595184326172,-16.156963348388672,24.54001235961914,-11.383783340454102,18.26486587524414,-2.86413836479187,-9.315155029296875,11.384570121765137,18.84660530090332,7.724460124969482,-10.762395858764648,-23.508773803710938,4.153805732727051,5.988633155822754,-21.06036949157715,15.562779426574707,-3.4430625438690186,-3.6893484592437744,19.808229446411133,-1.7918083667755127,24.686983108520508,-13.605222702026367,4.878629684448242,21.288864135742188,3.6311628818511963,-0.7119311690330505,-22.654430389404297,14.330973625183105,-0.2372974306344986,-13.747536659240723,3.1724796295166016,-15.003912925720215,4.805748462677002,19.200895309448242,-13.142796516418457,-9.478928565979004,8.556316375732422,17.35481834411621,0.5197156667709351,14.337181091308594,1.2295461893081665,2.2621729373931885,2.4516549110412598,23.930395126342773,-20.815887451171875,-12.950457572937012,-14.209177017211914,-17.126522064208984,4.799874305725098,14.125967025756836,13.142036437988281,6.558536529541016,-13.12575626373291,-9.999550819396973,1.6291967630386353,24.31624412536621,-24.632234573364258,1.3124735355377197,-9.64582347869873,-16.94615364074707,-10.780324935913086,7.146852016448975,18.45707130432129,12.651394844055176,6.236303806304932,-19.361064910888672,20.303958892822266,-0.16432403028011322,-6.380538463592529,27.73727035522461,-12.485197067260742,-4.863288879394531,-13.115043640136719,1.8051257133483887,5.649370193481445,-3.5369298458099365,3.045342445373535,-18.11467170715332,4.497641563415527,-21.79145050048828,-6.25078010559082,-16.41349983215332,-15.287527084350586,-2.0293731689453125,4.033615589141846,-21.860618591308594,-10.189728736877441,-18.130643844604492,-5.662437438964844,10.517555236816406,13.243303298950195,-4.962207317352295,-1.66490638256073,6.626952171325684,-7.918656349182129,2.0254056453704834,17.569171905517578,11.544565200805664,21.8399715423584,-19.54222869873047,-19.518802642822266,7.723199844360352,-5.223046779632568,13.748061180114746,-17.624465942382812,-11.183649063110352,12.151439666748047,11.630050659179688,-0.023259781301021576,16.140804290771484,-20.22641944885254,-22.320926666259766,18.37189483642578,10.331445693969727,-11.258557319641113,14.882288932800293,-11.597139358520508,7.570611953735352,-7.015551567077637,15.665550231933594,17.680896759033203,-6.251885890960693],\"yaxis\":\"y\",\"type\":\"scatter\"}],                        {\"template\":{\"data\":{\"histogram2dcontour\":[{\"type\":\"histogram2dcontour\",\"colorbar\":{\"outlinewidth\":0,\"ticks\":\"\"},\"colorscale\":[[0.0,\"#0d0887\"],[0.1111111111111111,\"#46039f\"],[0.2222222222222222,\"#7201a8\"],[0.3333333333333333,\"#9c179e\"],[0.4444444444444444,\"#bd3786\"],[0.5555555555555556,\"#d8576b\"],[0.6666666666666666,\"#ed7953\"],[0.7777777777777778,\"#fb9f3a\"],[0.8888888888888888,\"#fdca26\"],[1.0,\"#f0f921\"]]}],\"choropleth\":[{\"type\":\"choropleth\",\"colorbar\":{\"outlinewidth\":0,\"ticks\":\"\"}}],\"histogram2d\":[{\"type\":\"histogram2d\",\"colorbar\":{\"outlinewidth\":0,\"ticks\":\"\"},\"colorscale\":[[0.0,\"#0d0887\"],[0.1111111111111111,\"#46039f\"],[0.2222222222222222,\"#7201a8\"],[0.3333333333333333,\"#9c179e\"],[0.4444444444444444,\"#bd3786\"],[0.5555555555555556,\"#d8576b\"],[0.6666666666666666,\"#ed7953\"],[0.7777777777777778,\"#fb9f3a\"],[0.8888888888888888,\"#fdca26\"],[1.0,\"#f0f921\"]]}],\"heatmap\":[{\"type\":\"heatmap\",\"colorbar\":{\"outlinewidth\":0,\"ticks\":\"\"},\"colorscale\":[[0.0,\"#0d0887\"],[0.1111111111111111,\"#46039f\"],[0.2222222222222222,\"#7201a8\"],[0.3333333333333333,\"#9c179e\"],[0.4444444444444444,\"#bd3786\"],[0.5555555555555556,\"#d8576b\"],[0.6666666666666666,\"#ed7953\"],[0.7777777777777778,\"#fb9f3a\"],[0.8888888888888888,\"#fdca26\"],[1.0,\"#f0f921\"]]}],\"heatmapgl\":[{\"type\":\"heatmapgl\",\"colorbar\":{\"outlinewidth\":0,\"ticks\":\"\"},\"colorscale\":[[0.0,\"#0d0887\"],[0.1111111111111111,\"#46039f\"],[0.2222222222222222,\"#7201a8\"],[0.3333333333333333,\"#9c179e\"],[0.4444444444444444,\"#bd3786\"],[0.5555555555555556,\"#d8576b\"],[0.6666666666666666,\"#ed7953\"],[0.7777777777777778,\"#fb9f3a\"],[0.8888888888888888,\"#fdca26\"],[1.0,\"#f0f921\"]]}],\"contourcarpet\":[{\"type\":\"contourcarpet\",\"colorbar\":{\"outlinewidth\":0,\"ticks\":\"\"}}],\"contour\":[{\"type\":\"contour\",\"colorbar\":{\"outlinewidth\":0,\"ticks\":\"\"},\"colorscale\":[[0.0,\"#0d0887\"],[0.1111111111111111,\"#46039f\"],[0.2222222222222222,\"#7201a8\"],[0.3333333333333333,\"#9c179e\"],[0.4444444444444444,\"#bd3786\"],[0.5555555555555556,\"#d8576b\"],[0.6666666666666666,\"#ed7953\"],[0.7777777777777778,\"#fb9f3a\"],[0.8888888888888888,\"#fdca26\"],[1.0,\"#f0f921\"]]}],\"surface\":[{\"type\":\"surface\",\"colorbar\":{\"outlinewidth\":0,\"ticks\":\"\"},\"colorscale\":[[0.0,\"#0d0887\"],[0.1111111111111111,\"#46039f\"],[0.2222222222222222,\"#7201a8\"],[0.3333333333333333,\"#9c179e\"],[0.4444444444444444,\"#bd3786\"],[0.5555555555555556,\"#d8576b\"],[0.6666666666666666,\"#ed7953\"],[0.7777777777777778,\"#fb9f3a\"],[0.8888888888888888,\"#fdca26\"],[1.0,\"#f0f921\"]]}],\"mesh3d\":[{\"type\":\"mesh3d\",\"colorbar\":{\"outlinewidth\":0,\"ticks\":\"\"}}],\"scatter\":[{\"fillpattern\":{\"fillmode\":\"overlay\",\"size\":10,\"solidity\":0.2},\"type\":\"scatter\"}],\"parcoords\":[{\"type\":\"parcoords\",\"line\":{\"colorbar\":{\"outlinewidth\":0,\"ticks\":\"\"}}}],\"scatterpolargl\":[{\"type\":\"scatterpolargl\",\"marker\":{\"colorbar\":{\"outlinewidth\":0,\"ticks\":\"\"}}}],\"bar\":[{\"error_x\":{\"color\":\"#2a3f5f\"},\"error_y\":{\"color\":\"#2a3f5f\"},\"marker\":{\"line\":{\"color\":\"#E5ECF6\",\"width\":0.5},\"pattern\":{\"fillmode\":\"overlay\",\"size\":10,\"solidity\":0.2}},\"type\":\"bar\"}],\"scattergeo\":[{\"type\":\"scattergeo\",\"marker\":{\"colorbar\":{\"outlinewidth\":0,\"ticks\":\"\"}}}],\"scatterpolar\":[{\"type\":\"scatterpolar\",\"marker\":{\"colorbar\":{\"outlinewidth\":0,\"ticks\":\"\"}}}],\"histogram\":[{\"marker\":{\"pattern\":{\"fillmode\":\"overlay\",\"size\":10,\"solidity\":0.2}},\"type\":\"histogram\"}],\"scattergl\":[{\"type\":\"scattergl\",\"marker\":{\"colorbar\":{\"outlinewidth\":0,\"ticks\":\"\"}}}],\"scatter3d\":[{\"type\":\"scatter3d\",\"line\":{\"colorbar\":{\"outlinewidth\":0,\"ticks\":\"\"}},\"marker\":{\"colorbar\":{\"outlinewidth\":0,\"ticks\":\"\"}}}],\"scattermapbox\":[{\"type\":\"scattermapbox\",\"marker\":{\"colorbar\":{\"outlinewidth\":0,\"ticks\":\"\"}}}],\"scatterternary\":[{\"type\":\"scatterternary\",\"marker\":{\"colorbar\":{\"outlinewidth\":0,\"ticks\":\"\"}}}],\"scattercarpet\":[{\"type\":\"scattercarpet\",\"marker\":{\"colorbar\":{\"outlinewidth\":0,\"ticks\":\"\"}}}],\"carpet\":[{\"aaxis\":{\"endlinecolor\":\"#2a3f5f\",\"gridcolor\":\"white\",\"linecolor\":\"white\",\"minorgridcolor\":\"white\",\"startlinecolor\":\"#2a3f5f\"},\"baxis\":{\"endlinecolor\":\"#2a3f5f\",\"gridcolor\":\"white\",\"linecolor\":\"white\",\"minorgridcolor\":\"white\",\"startlinecolor\":\"#2a3f5f\"},\"type\":\"carpet\"}],\"table\":[{\"cells\":{\"fill\":{\"color\":\"#EBF0F8\"},\"line\":{\"color\":\"white\"}},\"header\":{\"fill\":{\"color\":\"#C8D4E3\"},\"line\":{\"color\":\"white\"}},\"type\":\"table\"}],\"barpolar\":[{\"marker\":{\"line\":{\"color\":\"#E5ECF6\",\"width\":0.5},\"pattern\":{\"fillmode\":\"overlay\",\"size\":10,\"solidity\":0.2}},\"type\":\"barpolar\"}],\"pie\":[{\"automargin\":true,\"type\":\"pie\"}]},\"layout\":{\"autotypenumbers\":\"strict\",\"colorway\":[\"#636efa\",\"#EF553B\",\"#00cc96\",\"#ab63fa\",\"#FFA15A\",\"#19d3f3\",\"#FF6692\",\"#B6E880\",\"#FF97FF\",\"#FECB52\"],\"font\":{\"color\":\"#2a3f5f\"},\"hovermode\":\"closest\",\"hoverlabel\":{\"align\":\"left\"},\"paper_bgcolor\":\"white\",\"plot_bgcolor\":\"#E5ECF6\",\"polar\":{\"bgcolor\":\"#E5ECF6\",\"angularaxis\":{\"gridcolor\":\"white\",\"linecolor\":\"white\",\"ticks\":\"\"},\"radialaxis\":{\"gridcolor\":\"white\",\"linecolor\":\"white\",\"ticks\":\"\"}},\"ternary\":{\"bgcolor\":\"#E5ECF6\",\"aaxis\":{\"gridcolor\":\"white\",\"linecolor\":\"white\",\"ticks\":\"\"},\"baxis\":{\"gridcolor\":\"white\",\"linecolor\":\"white\",\"ticks\":\"\"},\"caxis\":{\"gridcolor\":\"white\",\"linecolor\":\"white\",\"ticks\":\"\"}},\"coloraxis\":{\"colorbar\":{\"outlinewidth\":0,\"ticks\":\"\"}},\"colorscale\":{\"sequential\":[[0.0,\"#0d0887\"],[0.1111111111111111,\"#46039f\"],[0.2222222222222222,\"#7201a8\"],[0.3333333333333333,\"#9c179e\"],[0.4444444444444444,\"#bd3786\"],[0.5555555555555556,\"#d8576b\"],[0.6666666666666666,\"#ed7953\"],[0.7777777777777778,\"#fb9f3a\"],[0.8888888888888888,\"#fdca26\"],[1.0,\"#f0f921\"]],\"sequentialminus\":[[0.0,\"#0d0887\"],[0.1111111111111111,\"#46039f\"],[0.2222222222222222,\"#7201a8\"],[0.3333333333333333,\"#9c179e\"],[0.4444444444444444,\"#bd3786\"],[0.5555555555555556,\"#d8576b\"],[0.6666666666666666,\"#ed7953\"],[0.7777777777777778,\"#fb9f3a\"],[0.8888888888888888,\"#fdca26\"],[1.0,\"#f0f921\"]],\"diverging\":[[0,\"#8e0152\"],[0.1,\"#c51b7d\"],[0.2,\"#de77ae\"],[0.3,\"#f1b6da\"],[0.4,\"#fde0ef\"],[0.5,\"#f7f7f7\"],[0.6,\"#e6f5d0\"],[0.7,\"#b8e186\"],[0.8,\"#7fbc41\"],[0.9,\"#4d9221\"],[1,\"#276419\"]]},\"xaxis\":{\"gridcolor\":\"white\",\"linecolor\":\"white\",\"ticks\":\"\",\"title\":{\"standoff\":15},\"zerolinecolor\":\"white\",\"automargin\":true,\"zerolinewidth\":2},\"yaxis\":{\"gridcolor\":\"white\",\"linecolor\":\"white\",\"ticks\":\"\",\"title\":{\"standoff\":15},\"zerolinecolor\":\"white\",\"automargin\":true,\"zerolinewidth\":2},\"scene\":{\"xaxis\":{\"backgroundcolor\":\"#E5ECF6\",\"gridcolor\":\"white\",\"linecolor\":\"white\",\"showbackground\":true,\"ticks\":\"\",\"zerolinecolor\":\"white\",\"gridwidth\":2},\"yaxis\":{\"backgroundcolor\":\"#E5ECF6\",\"gridcolor\":\"white\",\"linecolor\":\"white\",\"showbackground\":true,\"ticks\":\"\",\"zerolinecolor\":\"white\",\"gridwidth\":2},\"zaxis\":{\"backgroundcolor\":\"#E5ECF6\",\"gridcolor\":\"white\",\"linecolor\":\"white\",\"showbackground\":true,\"ticks\":\"\",\"zerolinecolor\":\"white\",\"gridwidth\":2}},\"shapedefaults\":{\"line\":{\"color\":\"#2a3f5f\"}},\"annotationdefaults\":{\"arrowcolor\":\"#2a3f5f\",\"arrowhead\":0,\"arrowwidth\":1},\"geo\":{\"bgcolor\":\"white\",\"landcolor\":\"#E5ECF6\",\"subunitcolor\":\"white\",\"showland\":true,\"showlakes\":true,\"lakecolor\":\"white\"},\"title\":{\"x\":0.05},\"mapbox\":{\"style\":\"light\"}}},\"xaxis\":{\"anchor\":\"y\",\"domain\":[0.0,1.0],\"title\":{\"text\":\"x\"}},\"yaxis\":{\"anchor\":\"x\",\"domain\":[0.0,1.0],\"title\":{\"text\":\"y\"}},\"legend\":{\"tracegroupgap\":0},\"margin\":{\"t\":60}},                        {\"responsive\": true}                    ).then(function(){\n",
              "                            \n",
              "var gd = document.getElementById('511300dc-6afb-429b-8692-20f115b3cad2');\n",
              "var x = new MutationObserver(function (mutations, observer) {{\n",
              "        var display = window.getComputedStyle(gd).display;\n",
              "        if (!display || display === 'none') {{\n",
              "            console.log([gd, 'removed!']);\n",
              "            Plotly.purge(gd);\n",
              "            observer.disconnect();\n",
              "        }}\n",
              "}});\n",
              "\n",
              "// Listen for the removal of the full notebook cells\n",
              "var notebookContainer = gd.closest('#notebook-container');\n",
              "if (notebookContainer) {{\n",
              "    x.observe(notebookContainer, {childList: true});\n",
              "}}\n",
              "\n",
              "// Listen for the clearing of the current output cell\n",
              "var outputEl = gd.closest('.output');\n",
              "if (outputEl) {{\n",
              "    x.observe(outputEl, {childList: true});\n",
              "}}\n",
              "\n",
              "                        })                };                            </script>        </div>\n",
              "</body>\n",
              "</html>"
            ]
          },
          "metadata": {}
        }
      ],
      "source": [
        "# Graficar los embedddings en 2D\n",
        "import plotly.graph_objects as go\n",
        "import plotly.express as px\n",
        "\n",
        "x_vals, y_vals, labels = reduce_dimensions(w2v_model)\n",
        "\n",
        "MAX_WORDS=200\n",
        "fig = px.scatter(x=x_vals[:MAX_WORDS], y=y_vals[:MAX_WORDS], text=labels[:MAX_WORDS])\n",
        "fig.show(renderer=\"colab\") # esto para plotly en colab"
      ]
    },
    {
      "cell_type": "markdown",
      "metadata": {
        "id": "yMM_SHSaZ9N-"
      },
      "source": [
        "### Alumno"
      ]
    },
    {
      "cell_type": "markdown",
      "metadata": {
        "id": "WivQZ3ZCZ9N_"
      },
      "source": [
        "- Crear sus propios vectores con Gensim basado en lo visto en clase con otro dataset.\n",
        "- Probar términos de interés y explicar similitudes en el espacio de embeddings (sacar conclusiones entre palabras similitudes y diferencias).\n",
        "- Graficarlos.\n",
        "- Obtener conclusiones."
      ]
    },
    {
      "cell_type": "markdown",
      "source": [
        "### Cambios realizados\n",
        "\n",
        "\n",
        "*   Se utilizo como texto a analizar el libro Harry Potter and th Sorcerer's Stone.\n",
        "*   Se analizaron distintos terminos relacionados con el libro.\n"
      ],
      "metadata": {
        "id": "Scwj1fkjdaED"
      }
    },
    {
      "cell_type": "markdown",
      "source": [
        "### Conclusiones\n",
        "\n",
        "*  Al buscar las palabras relacionadas con \"alley\" (callejón) devuelve como mas relacionada \"diagon\" que es el nombre del callejón en el libro.\n",
        "*  Al buscar las palabras relacionadas con los nombres de los personajes principales (Harry Ron, Hermione) aparecen los nombres de los otros. Esto también se puede ver reflejado en la representación gráfica.\n",
        "\n",
        "  ![image.png](data:image/png;base64,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)\n",
        "*   En la representacion grafica tambien se puede ver que cerca de la palabra \"professor\" se encuentran los nombres de los profesores de la escuela.\n",
        "\n",
        "  ![image.png](data:image/png;base64,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)\n",
        "\n"
      ],
      "metadata": {
        "id": "f0NetjO2gXhU"
      }
    }
  ],
  "metadata": {
    "colab": {
      "provenance": [],
      "include_colab_link": true
    },
    "kernelspec": {
      "display_name": "Python 3 (ipykernel)",
      "language": "python",
      "name": "python3"
    },
    "language_info": {
      "codemirror_mode": {
        "name": "ipython",
        "version": 3
      },
      "file_extension": ".py",
      "mimetype": "text/x-python",
      "name": "python",
      "nbconvert_exporter": "python",
      "pygments_lexer": "ipython3",
      "version": "3.10.6"
    }
  },
  "nbformat": 4,
  "nbformat_minor": 0
}