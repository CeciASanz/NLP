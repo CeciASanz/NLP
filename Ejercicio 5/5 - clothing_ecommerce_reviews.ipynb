{
  "nbformat": 4,
  "nbformat_minor": 0,
  "metadata": {
    "colab": {
      "provenance": [],
      "include_colab_link": true
    },
    "kernelspec": {
      "name": "python3",
      "display_name": "Python 3"
    },
    "language_info": {
      "name": "python"
    },
    "accelerator": "GPU"
  },
  "cells": [
    {
      "cell_type": "markdown",
      "metadata": {
        "id": "view-in-github",
        "colab_type": "text"
      },
      "source": [
        "<a href=\"https://colab.research.google.com/github/CeciASanz/NLP/blob/main/Ejercicio%205/5%20-%20clothing_ecommerce_reviews.ipynb\" target=\"_parent\"><img src=\"https://colab.research.google.com/assets/colab-badge.svg\" alt=\"Open In Colab\"/></a>"
      ]
    },
    {
      "cell_type": "markdown",
      "metadata": {
        "id": "kBLpTr7plguX"
      },
      "source": [
        "<img src=\"https://github.com/hernancontigiani/ceia_memorias_especializacion/raw/master/Figures/logoFIUBA.jpg\" width=\"500\" align=\"center\">\n",
        "\n",
        "\n",
        "# Procesamiento de lenguaje natural\n",
        "## Sentiment analysis con Embeddings + LSTM"
      ]
    },
    {
      "cell_type": "markdown",
      "metadata": {
        "id": "9W6nuajhlqZD"
      },
      "source": [
        "### Objetivo\n",
        "El objetivo es utilizar las críticas de compradores de ropa para que el sistema determine la evaluación del comprador y su crítica (cuantas estrellas le asigna al producto)."
      ]
    },
    {
      "cell_type": "code",
      "source": [
        "!pip install --upgrade --no-cache-dir gdown --quiet"
      ],
      "metadata": {
        "id": "i6zvzv3qZ6xS"
      },
      "execution_count": 82,
      "outputs": []
    },
    {
      "cell_type": "code",
      "metadata": {
        "id": "hCpOVzJdl8_p"
      },
      "source": [
        "import numpy as np\n",
        "import random\n",
        "import io\n",
        "import pickle\n",
        "import pandas as pd\n",
        "\n",
        "import matplotlib.pyplot as plt\n",
        "import seaborn as sns\n",
        "\n",
        "import tensorflow as tf\n",
        "from tensorflow import keras\n",
        "from tensorflow.keras import layers\n",
        "\n",
        "from keras.utils.np_utils import to_categorical\n",
        "from tensorflow.keras.utils import pad_sequences\n",
        "from keras.models import Sequential\n",
        "from keras.layers import Dense\n",
        "from keras.layers import LSTM\n",
        "from keras.layers import Embedding"
      ],
      "execution_count": 83,
      "outputs": []
    },
    {
      "cell_type": "markdown",
      "metadata": {
        "id": "8UPeRkrAmbF3"
      },
      "source": [
        "### Datos\n",
        "Utilizaremos como dataset críticas de compradores de ropa (eCommerce) los cuales puntuaron a cada prenda con un puntaje de 1 a 5 estrellas.\\\n",
        "Referencia del dataset: [LINK](https://www.kaggle.com/nicapotato/womens-ecommerce-clothing-reviews/version/1)"
      ]
    },
    {
      "cell_type": "code",
      "source": [
        "# Descargar la carpeta de dataset\n",
        "import os\n",
        "import platform\n",
        "if platform.system() == 'Windows':\n",
        "    !curl https://raw.githubusercontent.com/CeciASanz/NLP/main/Ejercicio%205/clothing_ecommerce_reviews.csv\n",
        "else:\n",
        "    !wget clothing_ecommerce_reviews.csv https://raw.githubusercontent.com/CeciASanz/NLP/main/Ejercicio%205/clothing_ecommerce_reviews.csv"
      ],
      "metadata": {
        "colab": {
          "base_uri": "https://localhost:8080/"
        },
        "id": "OWS7gCS9_vwZ",
        "outputId": "311d29b8-971e-40d3-cd51-99a158a532a2"
      },
      "execution_count": 84,
      "outputs": [
        {
          "output_type": "stream",
          "name": "stdout",
          "text": [
            "--2023-08-29 02:18:43--  http://clothing_ecommerce_reviews.csv/\n",
            "Resolving clothing_ecommerce_reviews.csv (clothing_ecommerce_reviews.csv)... failed: Name or service not known.\n",
            "wget: unable to resolve host address ‘clothing_ecommerce_reviews.csv’\n",
            "--2023-08-29 02:18:43--  https://raw.githubusercontent.com/CeciASanz/NLP/main/Ejercicio%205/clothing_ecommerce_reviews.csv\n",
            "Resolving raw.githubusercontent.com (raw.githubusercontent.com)... 185.199.108.133, 185.199.109.133, 185.199.110.133, ...\n",
            "Connecting to raw.githubusercontent.com (raw.githubusercontent.com)|185.199.108.133|:443... connected.\n",
            "HTTP request sent, awaiting response... 200 OK\n",
            "Length: 8480236 (8.1M) [text/plain]\n",
            "Saving to: ‘clothing_ecommerce_reviews.csv.2’\n",
            "\n",
            "clothing_ecommerce_ 100%[===================>]   8.09M  --.-KB/s    in 0.09s   \n",
            "\n",
            "2023-08-29 02:18:43 (89.1 MB/s) - ‘clothing_ecommerce_reviews.csv.2’ saved [8480236/8480236]\n",
            "\n",
            "FINISHED --2023-08-29 02:18:43--\n",
            "Total wall clock time: 0.4s\n",
            "Downloaded: 1 files, 8.1M in 0.09s (89.1 MB/s)\n"
          ]
        }
      ]
    },
    {
      "cell_type": "code",
      "metadata": {
        "id": "o-SV1P3dnD1J",
        "colab": {
          "base_uri": "https://localhost:8080/",
          "height": 362
        },
        "outputId": "d6a0336c-5d36-40a7-e093-99dae906bbf1"
      },
      "source": [
        "# Armar el dataset\n",
        "df = pd.read_csv('clothing_ecommerce_reviews.csv')\n",
        "df.drop(columns = ['Unnamed: 0'], inplace = True)\n",
        "df.head()"
      ],
      "execution_count": 85,
      "outputs": [
        {
          "output_type": "execute_result",
          "data": {
            "text/plain": [
              "   Clothing ID  Age                    Title  \\\n",
              "0          767   33                      NaN   \n",
              "1         1080   34                      NaN   \n",
              "2         1077   60  Some major design flaws   \n",
              "3         1049   50         My favorite buy!   \n",
              "4          847   47         Flattering shirt   \n",
              "\n",
              "                                         Review Text  Rating  Recommended IND  \\\n",
              "0  Absolutely wonderful - silky and sexy and comf...       4                1   \n",
              "1  Love this dress!  it's sooo pretty.  i happene...       5                1   \n",
              "2  I had such high hopes for this dress and reall...       3                0   \n",
              "3  I love, love, love this jumpsuit. it's fun, fl...       5                1   \n",
              "4  This shirt is very flattering to all due to th...       5                1   \n",
              "\n",
              "   Positive Feedback Count   Division Name Department Name Class Name  \n",
              "0                        0       Initmates        Intimate  Intimates  \n",
              "1                        4         General         Dresses    Dresses  \n",
              "2                        0         General         Dresses    Dresses  \n",
              "3                        0  General Petite         Bottoms      Pants  \n",
              "4                        6         General            Tops    Blouses  "
            ],
            "text/html": [
              "\n",
              "  <div id=\"df-ff5a46a9-60d8-4ce4-be67-e721fac21a88\" class=\"colab-df-container\">\n",
              "    <div>\n",
              "<style scoped>\n",
              "    .dataframe tbody tr th:only-of-type {\n",
              "        vertical-align: middle;\n",
              "    }\n",
              "\n",
              "    .dataframe tbody tr th {\n",
              "        vertical-align: top;\n",
              "    }\n",
              "\n",
              "    .dataframe thead th {\n",
              "        text-align: right;\n",
              "    }\n",
              "</style>\n",
              "<table border=\"1\" class=\"dataframe\">\n",
              "  <thead>\n",
              "    <tr style=\"text-align: right;\">\n",
              "      <th></th>\n",
              "      <th>Clothing ID</th>\n",
              "      <th>Age</th>\n",
              "      <th>Title</th>\n",
              "      <th>Review Text</th>\n",
              "      <th>Rating</th>\n",
              "      <th>Recommended IND</th>\n",
              "      <th>Positive Feedback Count</th>\n",
              "      <th>Division Name</th>\n",
              "      <th>Department Name</th>\n",
              "      <th>Class Name</th>\n",
              "    </tr>\n",
              "  </thead>\n",
              "  <tbody>\n",
              "    <tr>\n",
              "      <th>0</th>\n",
              "      <td>767</td>\n",
              "      <td>33</td>\n",
              "      <td>NaN</td>\n",
              "      <td>Absolutely wonderful - silky and sexy and comf...</td>\n",
              "      <td>4</td>\n",
              "      <td>1</td>\n",
              "      <td>0</td>\n",
              "      <td>Initmates</td>\n",
              "      <td>Intimate</td>\n",
              "      <td>Intimates</td>\n",
              "    </tr>\n",
              "    <tr>\n",
              "      <th>1</th>\n",
              "      <td>1080</td>\n",
              "      <td>34</td>\n",
              "      <td>NaN</td>\n",
              "      <td>Love this dress!  it's sooo pretty.  i happene...</td>\n",
              "      <td>5</td>\n",
              "      <td>1</td>\n",
              "      <td>4</td>\n",
              "      <td>General</td>\n",
              "      <td>Dresses</td>\n",
              "      <td>Dresses</td>\n",
              "    </tr>\n",
              "    <tr>\n",
              "      <th>2</th>\n",
              "      <td>1077</td>\n",
              "      <td>60</td>\n",
              "      <td>Some major design flaws</td>\n",
              "      <td>I had such high hopes for this dress and reall...</td>\n",
              "      <td>3</td>\n",
              "      <td>0</td>\n",
              "      <td>0</td>\n",
              "      <td>General</td>\n",
              "      <td>Dresses</td>\n",
              "      <td>Dresses</td>\n",
              "    </tr>\n",
              "    <tr>\n",
              "      <th>3</th>\n",
              "      <td>1049</td>\n",
              "      <td>50</td>\n",
              "      <td>My favorite buy!</td>\n",
              "      <td>I love, love, love this jumpsuit. it's fun, fl...</td>\n",
              "      <td>5</td>\n",
              "      <td>1</td>\n",
              "      <td>0</td>\n",
              "      <td>General Petite</td>\n",
              "      <td>Bottoms</td>\n",
              "      <td>Pants</td>\n",
              "    </tr>\n",
              "    <tr>\n",
              "      <th>4</th>\n",
              "      <td>847</td>\n",
              "      <td>47</td>\n",
              "      <td>Flattering shirt</td>\n",
              "      <td>This shirt is very flattering to all due to th...</td>\n",
              "      <td>5</td>\n",
              "      <td>1</td>\n",
              "      <td>6</td>\n",
              "      <td>General</td>\n",
              "      <td>Tops</td>\n",
              "      <td>Blouses</td>\n",
              "    </tr>\n",
              "  </tbody>\n",
              "</table>\n",
              "</div>\n",
              "    <div class=\"colab-df-buttons\">\n",
              "\n",
              "  <div class=\"colab-df-container\">\n",
              "    <button class=\"colab-df-convert\" onclick=\"convertToInteractive('df-ff5a46a9-60d8-4ce4-be67-e721fac21a88')\"\n",
              "            title=\"Convert this dataframe to an interactive table.\"\n",
              "            style=\"display:none;\">\n",
              "\n",
              "  <svg xmlns=\"http://www.w3.org/2000/svg\" height=\"24px\" viewBox=\"0 -960 960 960\">\n",
              "    <path d=\"M120-120v-720h720v720H120Zm60-500h600v-160H180v160Zm220 220h160v-160H400v160Zm0 220h160v-160H400v160ZM180-400h160v-160H180v160Zm440 0h160v-160H620v160ZM180-180h160v-160H180v160Zm440 0h160v-160H620v160Z\"/>\n",
              "  </svg>\n",
              "    </button>\n",
              "\n",
              "  <style>\n",
              "    .colab-df-container {\n",
              "      display:flex;\n",
              "      gap: 12px;\n",
              "    }\n",
              "\n",
              "    .colab-df-convert {\n",
              "      background-color: #E8F0FE;\n",
              "      border: none;\n",
              "      border-radius: 50%;\n",
              "      cursor: pointer;\n",
              "      display: none;\n",
              "      fill: #1967D2;\n",
              "      height: 32px;\n",
              "      padding: 0 0 0 0;\n",
              "      width: 32px;\n",
              "    }\n",
              "\n",
              "    .colab-df-convert:hover {\n",
              "      background-color: #E2EBFA;\n",
              "      box-shadow: 0px 1px 2px rgba(60, 64, 67, 0.3), 0px 1px 3px 1px rgba(60, 64, 67, 0.15);\n",
              "      fill: #174EA6;\n",
              "    }\n",
              "\n",
              "    .colab-df-buttons div {\n",
              "      margin-bottom: 4px;\n",
              "    }\n",
              "\n",
              "    [theme=dark] .colab-df-convert {\n",
              "      background-color: #3B4455;\n",
              "      fill: #D2E3FC;\n",
              "    }\n",
              "\n",
              "    [theme=dark] .colab-df-convert:hover {\n",
              "      background-color: #434B5C;\n",
              "      box-shadow: 0px 1px 3px 1px rgba(0, 0, 0, 0.15);\n",
              "      filter: drop-shadow(0px 1px 2px rgba(0, 0, 0, 0.3));\n",
              "      fill: #FFFFFF;\n",
              "    }\n",
              "  </style>\n",
              "\n",
              "    <script>\n",
              "      const buttonEl =\n",
              "        document.querySelector('#df-ff5a46a9-60d8-4ce4-be67-e721fac21a88 button.colab-df-convert');\n",
              "      buttonEl.style.display =\n",
              "        google.colab.kernel.accessAllowed ? 'block' : 'none';\n",
              "\n",
              "      async function convertToInteractive(key) {\n",
              "        const element = document.querySelector('#df-ff5a46a9-60d8-4ce4-be67-e721fac21a88');\n",
              "        const dataTable =\n",
              "          await google.colab.kernel.invokeFunction('convertToInteractive',\n",
              "                                                    [key], {});\n",
              "        if (!dataTable) return;\n",
              "\n",
              "        const docLinkHtml = 'Like what you see? Visit the ' +\n",
              "          '<a target=\"_blank\" href=https://colab.research.google.com/notebooks/data_table.ipynb>data table notebook</a>'\n",
              "          + ' to learn more about interactive tables.';\n",
              "        element.innerHTML = '';\n",
              "        dataTable['output_type'] = 'display_data';\n",
              "        await google.colab.output.renderOutput(dataTable, element);\n",
              "        const docLink = document.createElement('div');\n",
              "        docLink.innerHTML = docLinkHtml;\n",
              "        element.appendChild(docLink);\n",
              "      }\n",
              "    </script>\n",
              "  </div>\n",
              "\n",
              "\n",
              "<div id=\"df-ba9b6df7-849a-41cb-887a-b03772019f07\">\n",
              "  <button class=\"colab-df-quickchart\" onclick=\"quickchart('df-ba9b6df7-849a-41cb-887a-b03772019f07')\"\n",
              "            title=\"Suggest charts.\"\n",
              "            style=\"display:none;\">\n",
              "\n",
              "<svg xmlns=\"http://www.w3.org/2000/svg\" height=\"24px\"viewBox=\"0 0 24 24\"\n",
              "     width=\"24px\">\n",
              "    <g>\n",
              "        <path d=\"M19 3H5c-1.1 0-2 .9-2 2v14c0 1.1.9 2 2 2h14c1.1 0 2-.9 2-2V5c0-1.1-.9-2-2-2zM9 17H7v-7h2v7zm4 0h-2V7h2v10zm4 0h-2v-4h2v4z\"/>\n",
              "    </g>\n",
              "</svg>\n",
              "  </button>\n",
              "\n",
              "<style>\n",
              "  .colab-df-quickchart {\n",
              "    background-color: #E8F0FE;\n",
              "    border: none;\n",
              "    border-radius: 50%;\n",
              "    cursor: pointer;\n",
              "    display: none;\n",
              "    fill: #1967D2;\n",
              "    height: 32px;\n",
              "    padding: 0 0 0 0;\n",
              "    width: 32px;\n",
              "  }\n",
              "\n",
              "  .colab-df-quickchart:hover {\n",
              "    background-color: #E2EBFA;\n",
              "    box-shadow: 0px 1px 2px rgba(60, 64, 67, 0.3), 0px 1px 3px 1px rgba(60, 64, 67, 0.15);\n",
              "    fill: #174EA6;\n",
              "  }\n",
              "\n",
              "  [theme=dark] .colab-df-quickchart {\n",
              "    background-color: #3B4455;\n",
              "    fill: #D2E3FC;\n",
              "  }\n",
              "\n",
              "  [theme=dark] .colab-df-quickchart:hover {\n",
              "    background-color: #434B5C;\n",
              "    box-shadow: 0px 1px 3px 1px rgba(0, 0, 0, 0.15);\n",
              "    filter: drop-shadow(0px 1px 2px rgba(0, 0, 0, 0.3));\n",
              "    fill: #FFFFFF;\n",
              "  }\n",
              "</style>\n",
              "\n",
              "  <script>\n",
              "    async function quickchart(key) {\n",
              "      const charts = await google.colab.kernel.invokeFunction(\n",
              "          'suggestCharts', [key], {});\n",
              "    }\n",
              "    (() => {\n",
              "      let quickchartButtonEl =\n",
              "        document.querySelector('#df-ba9b6df7-849a-41cb-887a-b03772019f07 button');\n",
              "      quickchartButtonEl.style.display =\n",
              "        google.colab.kernel.accessAllowed ? 'block' : 'none';\n",
              "    })();\n",
              "  </script>\n",
              "</div>\n",
              "    </div>\n",
              "  </div>\n"
            ]
          },
          "metadata": {},
          "execution_count": 85
        }
      ]
    },
    {
      "cell_type": "markdown",
      "metadata": {
        "id": "q-OwSePKm-FK"
      },
      "source": [
        "### 1 - Limpieza de datos\n",
        "Alumno:\n",
        "- Del dataset unicamente utilizar las columnas \"Review Text\" y \"Rating.\n",
        "- Tranformar el rating 1-5 a una escala numérica de 0 a 4.\n",
        "\n"
      ]
    },
    {
      "cell_type": "code",
      "metadata": {
        "id": "-hc7-AmYnPC3",
        "colab": {
          "base_uri": "https://localhost:8080/",
          "height": 206
        },
        "outputId": "ad085fa9-e678-4f0b-8f3f-4cd116cf383f"
      },
      "source": [
        "df_reviews = df.loc[:, ['Review Text', 'Rating']].dropna()\n",
        "df_reviews['Rating'] = df_reviews['Rating'] - 1\n",
        "df_reviews.head()"
      ],
      "execution_count": 86,
      "outputs": [
        {
          "output_type": "execute_result",
          "data": {
            "text/plain": [
              "                                         Review Text  Rating\n",
              "0  Absolutely wonderful - silky and sexy and comf...       3\n",
              "1  Love this dress!  it's sooo pretty.  i happene...       4\n",
              "2  I had such high hopes for this dress and reall...       2\n",
              "3  I love, love, love this jumpsuit. it's fun, fl...       4\n",
              "4  This shirt is very flattering to all due to th...       4"
            ],
            "text/html": [
              "\n",
              "  <div id=\"df-bbb0bc45-bad0-4643-8a51-de5b1301e888\" class=\"colab-df-container\">\n",
              "    <div>\n",
              "<style scoped>\n",
              "    .dataframe tbody tr th:only-of-type {\n",
              "        vertical-align: middle;\n",
              "    }\n",
              "\n",
              "    .dataframe tbody tr th {\n",
              "        vertical-align: top;\n",
              "    }\n",
              "\n",
              "    .dataframe thead th {\n",
              "        text-align: right;\n",
              "    }\n",
              "</style>\n",
              "<table border=\"1\" class=\"dataframe\">\n",
              "  <thead>\n",
              "    <tr style=\"text-align: right;\">\n",
              "      <th></th>\n",
              "      <th>Review Text</th>\n",
              "      <th>Rating</th>\n",
              "    </tr>\n",
              "  </thead>\n",
              "  <tbody>\n",
              "    <tr>\n",
              "      <th>0</th>\n",
              "      <td>Absolutely wonderful - silky and sexy and comf...</td>\n",
              "      <td>3</td>\n",
              "    </tr>\n",
              "    <tr>\n",
              "      <th>1</th>\n",
              "      <td>Love this dress!  it's sooo pretty.  i happene...</td>\n",
              "      <td>4</td>\n",
              "    </tr>\n",
              "    <tr>\n",
              "      <th>2</th>\n",
              "      <td>I had such high hopes for this dress and reall...</td>\n",
              "      <td>2</td>\n",
              "    </tr>\n",
              "    <tr>\n",
              "      <th>3</th>\n",
              "      <td>I love, love, love this jumpsuit. it's fun, fl...</td>\n",
              "      <td>4</td>\n",
              "    </tr>\n",
              "    <tr>\n",
              "      <th>4</th>\n",
              "      <td>This shirt is very flattering to all due to th...</td>\n",
              "      <td>4</td>\n",
              "    </tr>\n",
              "  </tbody>\n",
              "</table>\n",
              "</div>\n",
              "    <div class=\"colab-df-buttons\">\n",
              "\n",
              "  <div class=\"colab-df-container\">\n",
              "    <button class=\"colab-df-convert\" onclick=\"convertToInteractive('df-bbb0bc45-bad0-4643-8a51-de5b1301e888')\"\n",
              "            title=\"Convert this dataframe to an interactive table.\"\n",
              "            style=\"display:none;\">\n",
              "\n",
              "  <svg xmlns=\"http://www.w3.org/2000/svg\" height=\"24px\" viewBox=\"0 -960 960 960\">\n",
              "    <path d=\"M120-120v-720h720v720H120Zm60-500h600v-160H180v160Zm220 220h160v-160H400v160Zm0 220h160v-160H400v160ZM180-400h160v-160H180v160Zm440 0h160v-160H620v160ZM180-180h160v-160H180v160Zm440 0h160v-160H620v160Z\"/>\n",
              "  </svg>\n",
              "    </button>\n",
              "\n",
              "  <style>\n",
              "    .colab-df-container {\n",
              "      display:flex;\n",
              "      gap: 12px;\n",
              "    }\n",
              "\n",
              "    .colab-df-convert {\n",
              "      background-color: #E8F0FE;\n",
              "      border: none;\n",
              "      border-radius: 50%;\n",
              "      cursor: pointer;\n",
              "      display: none;\n",
              "      fill: #1967D2;\n",
              "      height: 32px;\n",
              "      padding: 0 0 0 0;\n",
              "      width: 32px;\n",
              "    }\n",
              "\n",
              "    .colab-df-convert:hover {\n",
              "      background-color: #E2EBFA;\n",
              "      box-shadow: 0px 1px 2px rgba(60, 64, 67, 0.3), 0px 1px 3px 1px rgba(60, 64, 67, 0.15);\n",
              "      fill: #174EA6;\n",
              "    }\n",
              "\n",
              "    .colab-df-buttons div {\n",
              "      margin-bottom: 4px;\n",
              "    }\n",
              "\n",
              "    [theme=dark] .colab-df-convert {\n",
              "      background-color: #3B4455;\n",
              "      fill: #D2E3FC;\n",
              "    }\n",
              "\n",
              "    [theme=dark] .colab-df-convert:hover {\n",
              "      background-color: #434B5C;\n",
              "      box-shadow: 0px 1px 3px 1px rgba(0, 0, 0, 0.15);\n",
              "      filter: drop-shadow(0px 1px 2px rgba(0, 0, 0, 0.3));\n",
              "      fill: #FFFFFF;\n",
              "    }\n",
              "  </style>\n",
              "\n",
              "    <script>\n",
              "      const buttonEl =\n",
              "        document.querySelector('#df-bbb0bc45-bad0-4643-8a51-de5b1301e888 button.colab-df-convert');\n",
              "      buttonEl.style.display =\n",
              "        google.colab.kernel.accessAllowed ? 'block' : 'none';\n",
              "\n",
              "      async function convertToInteractive(key) {\n",
              "        const element = document.querySelector('#df-bbb0bc45-bad0-4643-8a51-de5b1301e888');\n",
              "        const dataTable =\n",
              "          await google.colab.kernel.invokeFunction('convertToInteractive',\n",
              "                                                    [key], {});\n",
              "        if (!dataTable) return;\n",
              "\n",
              "        const docLinkHtml = 'Like what you see? Visit the ' +\n",
              "          '<a target=\"_blank\" href=https://colab.research.google.com/notebooks/data_table.ipynb>data table notebook</a>'\n",
              "          + ' to learn more about interactive tables.';\n",
              "        element.innerHTML = '';\n",
              "        dataTable['output_type'] = 'display_data';\n",
              "        await google.colab.output.renderOutput(dataTable, element);\n",
              "        const docLink = document.createElement('div');\n",
              "        docLink.innerHTML = docLinkHtml;\n",
              "        element.appendChild(docLink);\n",
              "      }\n",
              "    </script>\n",
              "  </div>\n",
              "\n",
              "\n",
              "<div id=\"df-ab34fc88-2a4f-4238-ac6a-3a91278a2660\">\n",
              "  <button class=\"colab-df-quickchart\" onclick=\"quickchart('df-ab34fc88-2a4f-4238-ac6a-3a91278a2660')\"\n",
              "            title=\"Suggest charts.\"\n",
              "            style=\"display:none;\">\n",
              "\n",
              "<svg xmlns=\"http://www.w3.org/2000/svg\" height=\"24px\"viewBox=\"0 0 24 24\"\n",
              "     width=\"24px\">\n",
              "    <g>\n",
              "        <path d=\"M19 3H5c-1.1 0-2 .9-2 2v14c0 1.1.9 2 2 2h14c1.1 0 2-.9 2-2V5c0-1.1-.9-2-2-2zM9 17H7v-7h2v7zm4 0h-2V7h2v10zm4 0h-2v-4h2v4z\"/>\n",
              "    </g>\n",
              "</svg>\n",
              "  </button>\n",
              "\n",
              "<style>\n",
              "  .colab-df-quickchart {\n",
              "    background-color: #E8F0FE;\n",
              "    border: none;\n",
              "    border-radius: 50%;\n",
              "    cursor: pointer;\n",
              "    display: none;\n",
              "    fill: #1967D2;\n",
              "    height: 32px;\n",
              "    padding: 0 0 0 0;\n",
              "    width: 32px;\n",
              "  }\n",
              "\n",
              "  .colab-df-quickchart:hover {\n",
              "    background-color: #E2EBFA;\n",
              "    box-shadow: 0px 1px 2px rgba(60, 64, 67, 0.3), 0px 1px 3px 1px rgba(60, 64, 67, 0.15);\n",
              "    fill: #174EA6;\n",
              "  }\n",
              "\n",
              "  [theme=dark] .colab-df-quickchart {\n",
              "    background-color: #3B4455;\n",
              "    fill: #D2E3FC;\n",
              "  }\n",
              "\n",
              "  [theme=dark] .colab-df-quickchart:hover {\n",
              "    background-color: #434B5C;\n",
              "    box-shadow: 0px 1px 3px 1px rgba(0, 0, 0, 0.15);\n",
              "    filter: drop-shadow(0px 1px 2px rgba(0, 0, 0, 0.3));\n",
              "    fill: #FFFFFF;\n",
              "  }\n",
              "</style>\n",
              "\n",
              "  <script>\n",
              "    async function quickchart(key) {\n",
              "      const charts = await google.colab.kernel.invokeFunction(\n",
              "          'suggestCharts', [key], {});\n",
              "    }\n",
              "    (() => {\n",
              "      let quickchartButtonEl =\n",
              "        document.querySelector('#df-ab34fc88-2a4f-4238-ac6a-3a91278a2660 button');\n",
              "      quickchartButtonEl.style.display =\n",
              "        google.colab.kernel.accessAllowed ? 'block' : 'none';\n",
              "    })();\n",
              "  </script>\n",
              "</div>\n",
              "    </div>\n",
              "  </div>\n"
            ]
          },
          "metadata": {},
          "execution_count": 86
        }
      ]
    },
    {
      "cell_type": "code",
      "metadata": {
        "id": "sZtvASVOn3ty"
      },
      "source": [
        "# Alumno: Observar como está distribuido el dataset respecto a la columna Rating\n",
        "# es decir, observar que tan balanceado se encuentra respecot a cada clase"
      ],
      "execution_count": 87,
      "outputs": []
    },
    {
      "cell_type": "code",
      "source": [
        "df_reviews['Rating'].value_counts()"
      ],
      "metadata": {
        "colab": {
          "base_uri": "https://localhost:8080/"
        },
        "id": "xarb9zQgANQr",
        "outputId": "61579910-e850-47d0-aad4-5503e4a672ab"
      },
      "execution_count": 88,
      "outputs": [
        {
          "output_type": "execute_result",
          "data": {
            "text/plain": [
              "4    12540\n",
              "3     4908\n",
              "2     2823\n",
              "1     1549\n",
              "0      821\n",
              "Name: Rating, dtype: int64"
            ]
          },
          "metadata": {},
          "execution_count": 88
        }
      ]
    },
    {
      "cell_type": "code",
      "source": [
        "#Agrupo las columnas 0 y 1, las columnas 2 y 3 y reasigno los valores"
      ],
      "metadata": {
        "id": "ugA7dJy8tJ0z"
      },
      "execution_count": 89,
      "outputs": []
    },
    {
      "cell_type": "code",
      "source": [
        "mapping = {0: 0, 1: 0, 2: 1, 3: 1, 4: 2}\n",
        "df_reviews['Rating'] = df_reviews['Rating'].replace(mapping)"
      ],
      "metadata": {
        "id": "fxQpQRLTtpTB"
      },
      "execution_count": 90,
      "outputs": []
    },
    {
      "cell_type": "code",
      "source": [
        "df_reviews['Rating'].value_counts()"
      ],
      "metadata": {
        "colab": {
          "base_uri": "https://localhost:8080/"
        },
        "id": "UP3R1oDruXk6",
        "outputId": "efa22ac9-d23d-4d6d-a029-00520b58e407"
      },
      "execution_count": 91,
      "outputs": [
        {
          "output_type": "execute_result",
          "data": {
            "text/plain": [
              "2    12540\n",
              "1     7731\n",
              "0     2370\n",
              "Name: Rating, dtype: int64"
            ]
          },
          "metadata": {},
          "execution_count": 91
        }
      ]
    },
    {
      "cell_type": "code",
      "metadata": {
        "id": "gVJ_RVi4o1h3"
      },
      "source": [
        "# Alumno: tomar la columna de las review y almacenarlo todo en un vector numpy de reviews"
      ],
      "execution_count": 92,
      "outputs": []
    },
    {
      "cell_type": "code",
      "source": [
        "text_sequences = df_reviews['Review Text'].values"
      ],
      "metadata": {
        "id": "pbNd_mMgAl8M"
      },
      "execution_count": 93,
      "outputs": []
    },
    {
      "cell_type": "code",
      "metadata": {
        "id": "4nT5Un_co65Q"
      },
      "source": [
        "# Alumno: Cuantas reviews (rows) hay para evaluar?"
      ],
      "execution_count": 94,
      "outputs": []
    },
    {
      "cell_type": "code",
      "source": [
        "text_sequences.shape"
      ],
      "metadata": {
        "colab": {
          "base_uri": "https://localhost:8080/"
        },
        "id": "P1evkPWkAvBN",
        "outputId": "25431184-599d-442d-9acc-5146c8039134"
      },
      "execution_count": 95,
      "outputs": [
        {
          "output_type": "execute_result",
          "data": {
            "text/plain": [
              "(22641,)"
            ]
          },
          "metadata": {},
          "execution_count": 95
        }
      ]
    },
    {
      "cell_type": "code",
      "metadata": {
        "id": "HP5uN9tqpHu_"
      },
      "source": [
        "# Alumno: Concatenar todas las reviews para armar el corpus"
      ],
      "execution_count": 96,
      "outputs": []
    },
    {
      "cell_type": "code",
      "source": [
        "corpus = ' '.join(text_sequences)"
      ],
      "metadata": {
        "id": "z6Qgd7ZZEoAS"
      },
      "execution_count": 97,
      "outputs": []
    },
    {
      "cell_type": "code",
      "metadata": {
        "id": "FEzmePgdpf74"
      },
      "source": [
        "# Alumno: ¿Cuál es la longitud de ese corpus?"
      ],
      "execution_count": 98,
      "outputs": []
    },
    {
      "cell_type": "code",
      "source": [
        "len(corpus)"
      ],
      "metadata": {
        "colab": {
          "base_uri": "https://localhost:8080/"
        },
        "id": "HYAvGiWjSS9i",
        "outputId": "f29b6c3b-1f07-48e5-a532-c223ca07a2ea"
      },
      "execution_count": 99,
      "outputs": [
        {
          "output_type": "execute_result",
          "data": {
            "text/plain": [
              "7008431"
            ]
          },
          "metadata": {},
          "execution_count": 99
        }
      ]
    },
    {
      "cell_type": "code",
      "metadata": {
        "id": "MYeJLdDmpvOe"
      },
      "source": [
        "# Alumno: Utilizar \"text_to_word_sequence\" para separar las palabras en tokens\n",
        "# recordar que text_to_word_sequence automaticamente quita los signos de puntuacion y pasa el texto a lowercase\n",
        "from keras.preprocessing.text import text_to_word_sequence\n",
        "tokens = text_to_word_sequence(corpus)"
      ],
      "execution_count": 100,
      "outputs": []
    },
    {
      "cell_type": "code",
      "metadata": {
        "id": "M6L-fnWAp_lA"
      },
      "source": [
        "# Alumno: Dar un vistazo a los primeros 20 tokens/palabras"
      ],
      "execution_count": 101,
      "outputs": []
    },
    {
      "cell_type": "code",
      "source": [
        "tokens[:20]"
      ],
      "metadata": {
        "colab": {
          "base_uri": "https://localhost:8080/"
        },
        "id": "5lUNOHn0vDF3",
        "outputId": "025a8e7e-9c5c-4d36-b803-4a5eec069a15"
      },
      "execution_count": 102,
      "outputs": [
        {
          "output_type": "execute_result",
          "data": {
            "text/plain": [
              "['absolutely',\n",
              " 'wonderful',\n",
              " 'silky',\n",
              " 'and',\n",
              " 'sexy',\n",
              " 'and',\n",
              " 'comfortable',\n",
              " 'love',\n",
              " 'this',\n",
              " 'dress',\n",
              " \"it's\",\n",
              " 'sooo',\n",
              " 'pretty',\n",
              " 'i',\n",
              " 'happened',\n",
              " 'to',\n",
              " 'find',\n",
              " 'it',\n",
              " 'in',\n",
              " 'a']"
            ]
          },
          "metadata": {},
          "execution_count": 102
        }
      ]
    },
    {
      "cell_type": "code",
      "metadata": {
        "id": "-8QgwwMUqG0d"
      },
      "source": [
        "# Alumno: ¿Cuántos tokens/palabras hay?"
      ],
      "execution_count": 103,
      "outputs": []
    },
    {
      "cell_type": "code",
      "source": [
        "len(tokens)"
      ],
      "metadata": {
        "colab": {
          "base_uri": "https://localhost:8080/"
        },
        "id": "8ujbU7McvEkK",
        "outputId": "ac70567c-34c3-4482-dea3-3d72d0e0c5bd"
      },
      "execution_count": 104,
      "outputs": [
        {
          "output_type": "execute_result",
          "data": {
            "text/plain": [
              "1369118"
            ]
          },
          "metadata": {},
          "execution_count": 104
        }
      ]
    },
    {
      "cell_type": "code",
      "metadata": {
        "id": "TFukNZdOsZ8_"
      },
      "source": [
        "# Alumno: Tokenizar las palabras con el Tokenizer de Keras\n",
        "# Definir una máxima cantidad de palabras a utilizar:\n",
        "# num_words --> the maximum number of words to keep, based on word frequency.\n",
        "# Only the most common num_words-1 words will be kept.\n",
        "from keras.preprocessing.text import Tokenizer\n",
        "num_words = 2000\n",
        "vocab_size = num_words\n",
        "tok = Tokenizer(num_words=2000)\n",
        "tok.fit_on_texts(tokens)"
      ],
      "execution_count": 105,
      "outputs": []
    },
    {
      "cell_type": "code",
      "metadata": {
        "id": "JnR1tlqZy94X"
      },
      "source": [
        "# Alumno: Obtener el diccionario de palabra (word) a índice\n",
        "# y observar la cantidad total del vocabulario"
      ],
      "execution_count": 106,
      "outputs": []
    },
    {
      "cell_type": "code",
      "source": [
        "word_index = tok.word_index\n",
        "print(f'tamaño de vocabulario : {len(word_index)}')"
      ],
      "metadata": {
        "colab": {
          "base_uri": "https://localhost:8080/"
        },
        "id": "ePFtT8zBvatu",
        "outputId": "85b9cee7-b590-4c2b-e9db-34f40bd55b7a"
      },
      "execution_count": 107,
      "outputs": [
        {
          "output_type": "stream",
          "name": "stdout",
          "text": [
            "tamaño de vocabulario : 14740\n"
          ]
        }
      ]
    },
    {
      "cell_type": "code",
      "metadata": {
        "id": "AvWzzSretQXf"
      },
      "source": [
        "# Alumno: Convertir las palabras/tokens a números"
      ],
      "execution_count": 108,
      "outputs": []
    },
    {
      "cell_type": "code",
      "source": [
        "sequences = tok.texts_to_sequences(text_sequences)"
      ],
      "metadata": {
        "id": "31JLK6Il2njS"
      },
      "execution_count": 109,
      "outputs": []
    },
    {
      "cell_type": "code",
      "metadata": {
        "id": "za73M5SRtbrP"
      },
      "source": [
        "# Alumno: Determinar cual es la oración más larga"
      ],
      "execution_count": 110,
      "outputs": []
    },
    {
      "cell_type": "code",
      "source": [
        "seqs_lenght = [len(s) for s in sequences]\n",
        "print(f'el máximo es {max(seqs_lenght)}')"
      ],
      "metadata": {
        "colab": {
          "base_uri": "https://localhost:8080/"
        },
        "id": "5U9ZwGFk2ubO",
        "outputId": "d9608da6-c4b1-478e-8af3-9c97b45023eb"
      },
      "execution_count": 111,
      "outputs": [
        {
          "output_type": "stream",
          "name": "stdout",
          "text": [
            "el máximo es 115\n"
          ]
        }
      ]
    },
    {
      "cell_type": "code",
      "source": [
        "plt.figure()\n",
        "plt.hist(seqs_lenght,bins=100)"
      ],
      "metadata": {
        "colab": {
          "base_uri": "https://localhost:8080/",
          "height": 847
        },
        "id": "kGTJ_8252xoo",
        "outputId": "a83257cc-3413-46b2-a5ca-6bf4d1f591c6"
      },
      "execution_count": 112,
      "outputs": [
        {
          "output_type": "execute_result",
          "data": {
            "text/plain": [
              "(array([ 21.,  15.,  26.,  22.,  39.,  54.,  78., 292., 148., 133., 189.,\n",
              "        168., 201., 185., 183., 385., 207., 230., 222., 228., 238., 230.,\n",
              "        259., 499., 249., 267., 251., 283., 236., 259., 503., 259., 287.,\n",
              "        269., 291., 298., 258., 242., 499., 266., 248., 229., 270., 232.,\n",
              "        227., 246., 506., 254., 226., 226., 241., 236., 235., 455., 215.,\n",
              "        221., 227., 219., 197., 201., 191., 404., 170., 204., 193., 179.,\n",
              "        185., 189., 175., 431., 214., 219., 245., 216., 277., 288., 606.,\n",
              "        336., 337., 367., 366., 383., 349., 315., 624., 229., 234., 180.,\n",
              "        131., 105.,  62.,  49.,  64.,  21.,   6.,   9.,   2.,   4.,   1.,\n",
              "          1.]),\n",
              " array([  2.  ,   3.13,   4.26,   5.39,   6.52,   7.65,   8.78,   9.91,\n",
              "         11.04,  12.17,  13.3 ,  14.43,  15.56,  16.69,  17.82,  18.95,\n",
              "         20.08,  21.21,  22.34,  23.47,  24.6 ,  25.73,  26.86,  27.99,\n",
              "         29.12,  30.25,  31.38,  32.51,  33.64,  34.77,  35.9 ,  37.03,\n",
              "         38.16,  39.29,  40.42,  41.55,  42.68,  43.81,  44.94,  46.07,\n",
              "         47.2 ,  48.33,  49.46,  50.59,  51.72,  52.85,  53.98,  55.11,\n",
              "         56.24,  57.37,  58.5 ,  59.63,  60.76,  61.89,  63.02,  64.15,\n",
              "         65.28,  66.41,  67.54,  68.67,  69.8 ,  70.93,  72.06,  73.19,\n",
              "         74.32,  75.45,  76.58,  77.71,  78.84,  79.97,  81.1 ,  82.23,\n",
              "         83.36,  84.49,  85.62,  86.75,  87.88,  89.01,  90.14,  91.27,\n",
              "         92.4 ,  93.53,  94.66,  95.79,  96.92,  98.05,  99.18, 100.31,\n",
              "        101.44, 102.57, 103.7 , 104.83, 105.96, 107.09, 108.22, 109.35,\n",
              "        110.48, 111.61, 112.74, 113.87, 115.  ]),\n",
              " <BarContainer object of 100 artists>)"
            ]
          },
          "metadata": {},
          "execution_count": 112
        },
        {
          "output_type": "display_data",
          "data": {
            "text/plain": [
              "<Figure size 640x480 with 1 Axes>"
            ],
            "image/png": "[encoded data removed]"
          },
          "metadata": {}
        }
      ]
    },
    {
      "cell_type": "code",
      "metadata": {
        "id": "oCkO9Wc9tls1"
      },
      "source": [
        "# Alumno: Realizar padding de las sentencias al mismo tamaño\n",
        "# tomando de referencia la máxima sentencia\n",
        "from tensorflow.keras.utils import pad_sequences\n",
        "maxlen = 115\n",
        "X = pad_sequences(sequences, padding='pre', maxlen=maxlen)"
      ],
      "execution_count": 113,
      "outputs": []
    },
    {
      "cell_type": "code",
      "metadata": {
        "id": "kGHHabVdt_aa",
        "colab": {
          "base_uri": "https://localhost:8080/"
        },
        "outputId": "ffb68598-37e1-4b7f-8942-89b6692b3b7d"
      },
      "source": [
        "# Alumno: Observar las dimensiones de la variable input\n",
        "X.shape"
      ],
      "execution_count": 114,
      "outputs": [
        {
          "output_type": "execute_result",
          "data": {
            "text/plain": [
              "(22641, 115)"
            ]
          },
          "metadata": {},
          "execution_count": 114
        }
      ]
    },
    {
      "cell_type": "code",
      "metadata": {
        "id": "llVM-tzQo9_F"
      },
      "source": [
        "# Alumno tomar la columna rating y alcemacenarla en una variable \"y\" transformada a oneHotEncoding\n",
        "# Su shape debe ser equivalente la cantidad de rows del corpus y a la cantidad\n",
        "# de clases que se deseen predecir (en este ejemplo son 5)"
      ],
      "execution_count": 115,
      "outputs": []
    },
    {
      "cell_type": "code",
      "source": [
        "y = to_categorical(df_reviews['Rating'])\n",
        "y.shape"
      ],
      "metadata": {
        "colab": {
          "base_uri": "https://localhost:8080/"
        },
        "id": "lixLKj9q393p",
        "outputId": "bf0ae374-da9f-4b33-de3c-e6c2ca27845f"
      },
      "execution_count": 116,
      "outputs": [
        {
          "output_type": "execute_result",
          "data": {
            "text/plain": [
              "(22641, 3)"
            ]
          },
          "metadata": {},
          "execution_count": 116
        }
      ]
    },
    {
      "cell_type": "code",
      "metadata": {
        "id": "Rmz9A6n4uK4V"
      },
      "source": [
        "# Alumno: Dividir los datos en train y test\n",
        "from sklearn.model_selection import train_test_split\n",
        "X_train, X_test, y_train, y_test = train_test_split(X, y, test_size=0.2, random_state=42)"
      ],
      "execution_count": 117,
      "outputs": []
    },
    {
      "cell_type": "code",
      "source": [
        "#Realizo un oversabling para balacear las clases\n",
        "from imblearn.over_sampling import RandomOverSampler\n",
        "\n",
        "oversampler=RandomOverSampler();\n",
        "X_train_os,y_train_os=oversampler.fit_resample(X_train,y_train);"
      ],
      "metadata": {
        "id": "ddapYuo3nlmX"
      },
      "execution_count": 118,
      "outputs": []
    },
    {
      "cell_type": "code",
      "source": [
        "pd.DataFrame(y_train_os).value_counts()"
      ],
      "metadata": {
        "colab": {
          "base_uri": "https://localhost:8080/"
        },
        "id": "_rG2dhbgow4x",
        "outputId": "735ba13f-ee4c-46d2-ca30-15f6594486cd"
      },
      "execution_count": 119,
      "outputs": [
        {
          "output_type": "execute_result",
          "data": {
            "text/plain": [
              "0  1  2\n",
              "0  0  1    9995\n",
              "   1  0    9995\n",
              "1  0  0    9995\n",
              "dtype: int64"
            ]
          },
          "metadata": {},
          "execution_count": 119
        }
      ]
    },
    {
      "cell_type": "code",
      "metadata": {
        "id": "EcDPlhEouQ9E"
      },
      "source": [
        "# Alumno: determinar la dimensiones de entrada y salida"
      ],
      "execution_count": 120,
      "outputs": []
    },
    {
      "cell_type": "code",
      "source": [
        "in_shape = X_train_os.shape[1] # max input sentence len\n",
        "out_shape = 3 # multiclass classification\n",
        "print(\"in_shape\", in_shape, \", out_shape\", out_shape)"
      ],
      "metadata": {
        "colab": {
          "base_uri": "https://localhost:8080/"
        },
        "id": "pMmvySFS4Vad",
        "outputId": "17a88b6a-7957-4f50-cf76-3324756ce6ad"
      },
      "execution_count": 121,
      "outputs": [
        {
          "output_type": "stream",
          "name": "stdout",
          "text": [
            "in_shape 115 , out_shape 3\n"
          ]
        }
      ]
    },
    {
      "cell_type": "markdown",
      "metadata": {
        "id": "NpbQHExL6OTu"
      },
      "source": [
        "### 2 - Entrenar el modelo con Embeddings + LSTM"
      ]
    },
    {
      "cell_type": "code",
      "metadata": {
        "id": "NUkuWBsM6cx3"
      },
      "source": [
        "# Alumno: Entrene su modelo con LSTM entrenando sus propios embeddings\n",
        "# o utilizando embeddings pre-entrenados.\n",
        "from keras.layers import LSTM\n",
        "from keras.layers import Embedding\n",
        "from keras.layers import Dropout\n",
        "from keras.layers import Bidirectional\n",
        "from tensorflow.keras import backend as K"
      ],
      "execution_count": 122,
      "outputs": []
    },
    {
      "cell_type": "code",
      "source": [
        "def custom_f1_score(y_true, y_pred):\n",
        "    # Define the true positives, false positives and false negatives\n",
        "    tp = K.sum(K.round(K.clip(y_true * y_pred, 0, 1)))\n",
        "    fp = K.sum(K.round(K.clip(y_pred - y_true, 0, 1)))\n",
        "    fn = K.sum(K.round(K.clip(y_true - y_pred, 0, 1)))\n",
        "\n",
        "    # Calculate the precision and recall\n",
        "    precision = tp / (tp + fp + K.epsilon())\n",
        "    recall = tp / (tp + fn + K.epsilon())\n",
        "\n",
        "    # Calculate the F1 score\n",
        "    f1_score = 2 * ((precision * recall) / (precision + recall + K.epsilon()))\n",
        "\n",
        "    return f1_score"
      ],
      "metadata": {
        "id": "oDhZBFX7DPkA"
      },
      "execution_count": 123,
      "outputs": []
    },
    {
      "cell_type": "code",
      "source": [
        "model = Sequential()\n",
        "# input_dim = vocab_size (max n_words)\n",
        "# input_length = setencias con padding a 200\n",
        "# output_dim = 50 --> crear embeddings de tamaño 50\n",
        "model.add(Embedding(input_dim=vocab_size+1, output_dim=10, input_length=in_shape))\n",
        "model.add(LSTM(units=64, return_sequences=True))\n",
        "model.add(Dropout(0.2))\n",
        "model.add(LSTM(units=64)) # La última capa LSTM no lleva return_sequences\n",
        "\n",
        "model.add(Dense(units=128, activation='relu'))\n",
        "model.add(Dropout(rate=0.2))\n",
        "model.add(Dense(units=out_shape, activation='softmax'))\n",
        "\n",
        "model.compile(optimizer=\"adam\",\n",
        "              loss='categorical_crossentropy',\n",
        "              metrics=[custom_f1_score])\n",
        "\n",
        "model.summary()"
      ],
      "metadata": {
        "colab": {
          "base_uri": "https://localhost:8080/"
        },
        "id": "Vo05CgbH456w",
        "outputId": "a6bc19b4-f2c2-4575-e88d-0529e64853da"
      },
      "execution_count": 124,
      "outputs": [
        {
          "output_type": "stream",
          "name": "stdout",
          "text": [
            "Model: \"sequential_4\"\n",
            "_________________________________________________________________\n",
            " Layer (type)                Output Shape              Param #   \n",
            "=================================================================\n",
            " embedding_4 (Embedding)     (None, 115, 10)           20010     \n",
            "                                                                 \n",
            " lstm_8 (LSTM)               (None, 115, 64)           19200     \n",
            "                                                                 \n",
            " dropout_8 (Dropout)         (None, 115, 64)           0         \n",
            "                                                                 \n",
            " lstm_9 (LSTM)               (None, 64)                33024     \n",
            "                                                                 \n",
            " dense_8 (Dense)             (None, 128)               8320      \n",
            "                                                                 \n",
            " dropout_9 (Dropout)         (None, 128)               0         \n",
            "                                                                 \n",
            " dense_9 (Dense)             (None, 3)                 387       \n",
            "                                                                 \n",
            "=================================================================\n",
            "Total params: 80,941\n",
            "Trainable params: 80,941\n",
            "Non-trainable params: 0\n",
            "_________________________________________________________________\n"
          ]
        }
      ]
    },
    {
      "cell_type": "code",
      "source": [
        "\n",
        "hist = model.fit(X_train_os, y_train_os, epochs=50, validation_split=0.2)"
      ],
      "metadata": {
        "colab": {
          "base_uri": "https://localhost:8080/"
        },
        "id": "41X8NeoxEal2",
        "outputId": "13796b6c-a618-4480-d5ee-a814d199404d"
      },
      "execution_count": 125,
      "outputs": [
        {
          "output_type": "stream",
          "name": "stdout",
          "text": [
            "Epoch 1/50\n",
            "750/750 [==============================] - 41s 44ms/step - loss: 0.7403 - custom_f1_score: 0.5997 - val_loss: 0.9215 - val_custom_f1_score: 0.3525\n",
            "Epoch 2/50\n",
            "750/750 [==============================] - 14s 18ms/step - loss: 0.6091 - custom_f1_score: 0.7220 - val_loss: 0.7499 - val_custom_f1_score: 0.5389\n",
            "Epoch 3/50\n",
            "750/750 [==============================] - 12s 16ms/step - loss: 0.5643 - custom_f1_score: 0.7514 - val_loss: 0.8445 - val_custom_f1_score: 0.5605\n",
            "Epoch 4/50\n",
            "750/750 [==============================] - 11s 15ms/step - loss: 0.5221 - custom_f1_score: 0.7745 - val_loss: 0.7778 - val_custom_f1_score: 0.6439\n",
            "Epoch 5/50\n",
            "750/750 [==============================] - 13s 17ms/step - loss: 0.4885 - custom_f1_score: 0.7911 - val_loss: 0.6005 - val_custom_f1_score: 0.7370\n",
            "Epoch 6/50\n",
            "750/750 [==============================] - 12s 15ms/step - loss: 0.4512 - custom_f1_score: 0.8094 - val_loss: 0.6431 - val_custom_f1_score: 0.6736\n",
            "Epoch 7/50\n",
            "750/750 [==============================] - 11s 15ms/step - loss: 0.4230 - custom_f1_score: 0.8252 - val_loss: 0.8058 - val_custom_f1_score: 0.6493\n",
            "Epoch 8/50\n",
            "750/750 [==============================] - 11s 15ms/step - loss: 0.4024 - custom_f1_score: 0.8342 - val_loss: 0.4255 - val_custom_f1_score: 0.8127\n",
            "Epoch 9/50\n",
            "750/750 [==============================] - 11s 14ms/step - loss: 0.3777 - custom_f1_score: 0.8448 - val_loss: 0.6040 - val_custom_f1_score: 0.7336\n",
            "Epoch 10/50\n",
            "750/750 [==============================] - 12s 17ms/step - loss: 0.3806 - custom_f1_score: 0.8464 - val_loss: 0.4311 - val_custom_f1_score: 0.8255\n",
            "Epoch 11/50\n",
            "750/750 [==============================] - 11s 15ms/step - loss: 0.3521 - custom_f1_score: 0.8582 - val_loss: 0.5220 - val_custom_f1_score: 0.7439\n",
            "Epoch 12/50\n",
            "750/750 [==============================] - 11s 14ms/step - loss: 0.3362 - custom_f1_score: 0.8643 - val_loss: 0.4939 - val_custom_f1_score: 0.7729\n",
            "Epoch 13/50\n",
            "750/750 [==============================] - 11s 14ms/step - loss: 0.3267 - custom_f1_score: 0.8679 - val_loss: 0.4762 - val_custom_f1_score: 0.7709\n",
            "Epoch 14/50\n",
            "750/750 [==============================] - 10s 14ms/step - loss: 0.3191 - custom_f1_score: 0.8697 - val_loss: 0.3749 - val_custom_f1_score: 0.8348\n",
            "Epoch 15/50\n",
            "750/750 [==============================] - 11s 14ms/step - loss: 0.3052 - custom_f1_score: 0.8787 - val_loss: 0.3885 - val_custom_f1_score: 0.8291\n",
            "Epoch 16/50\n",
            "750/750 [==============================] - 11s 15ms/step - loss: 0.3045 - custom_f1_score: 0.8798 - val_loss: 0.4280 - val_custom_f1_score: 0.8046\n",
            "Epoch 17/50\n",
            "750/750 [==============================] - 11s 14ms/step - loss: 0.2924 - custom_f1_score: 0.8833 - val_loss: 0.3889 - val_custom_f1_score: 0.8403\n",
            "Epoch 18/50\n",
            "750/750 [==============================] - 11s 14ms/step - loss: 0.2832 - custom_f1_score: 0.8850 - val_loss: 0.3430 - val_custom_f1_score: 0.8568\n",
            "Epoch 19/50\n",
            "750/750 [==============================] - 10s 13ms/step - loss: 0.2730 - custom_f1_score: 0.8915 - val_loss: 0.4343 - val_custom_f1_score: 0.7869\n",
            "Epoch 20/50\n",
            "750/750 [==============================] - 10s 14ms/step - loss: 0.2657 - custom_f1_score: 0.8943 - val_loss: 0.2710 - val_custom_f1_score: 0.8826\n",
            "Epoch 21/50\n",
            "750/750 [==============================] - 10s 14ms/step - loss: 0.2563 - custom_f1_score: 0.8985 - val_loss: 0.3307 - val_custom_f1_score: 0.8603\n",
            "Epoch 22/50\n",
            "750/750 [==============================] - 11s 14ms/step - loss: 0.2450 - custom_f1_score: 0.9033 - val_loss: 0.3146 - val_custom_f1_score: 0.8677\n",
            "Epoch 23/50\n",
            "750/750 [==============================] - 11s 14ms/step - loss: 0.2437 - custom_f1_score: 0.9034 - val_loss: 0.2446 - val_custom_f1_score: 0.9006\n",
            "Epoch 24/50\n",
            "750/750 [==============================] - 11s 14ms/step - loss: 0.2310 - custom_f1_score: 0.9103 - val_loss: 0.2706 - val_custom_f1_score: 0.8861\n",
            "Epoch 25/50\n",
            "750/750 [==============================] - 10s 14ms/step - loss: 0.2298 - custom_f1_score: 0.9096 - val_loss: 0.3574 - val_custom_f1_score: 0.8260\n",
            "Epoch 26/50\n",
            "750/750 [==============================] - 12s 16ms/step - loss: 0.2109 - custom_f1_score: 0.9182 - val_loss: 0.2403 - val_custom_f1_score: 0.8878\n",
            "Epoch 27/50\n",
            "750/750 [==============================] - 12s 16ms/step - loss: 0.2123 - custom_f1_score: 0.9180 - val_loss: 0.3082 - val_custom_f1_score: 0.8561\n",
            "Epoch 28/50\n",
            "750/750 [==============================] - 10s 13ms/step - loss: 0.2037 - custom_f1_score: 0.9213 - val_loss: 0.3433 - val_custom_f1_score: 0.8428\n",
            "Epoch 29/50\n",
            "750/750 [==============================] - 10s 14ms/step - loss: 0.1955 - custom_f1_score: 0.9250 - val_loss: 0.1910 - val_custom_f1_score: 0.9123\n",
            "Epoch 30/50\n",
            "750/750 [==============================] - 11s 15ms/step - loss: 0.1947 - custom_f1_score: 0.9264 - val_loss: 0.2623 - val_custom_f1_score: 0.8720\n",
            "Epoch 31/50\n",
            "750/750 [==============================] - 11s 15ms/step - loss: 0.1737 - custom_f1_score: 0.9334 - val_loss: 0.1618 - val_custom_f1_score: 0.9341\n",
            "Epoch 32/50\n",
            "750/750 [==============================] - 11s 14ms/step - loss: 0.1673 - custom_f1_score: 0.9378 - val_loss: 0.2061 - val_custom_f1_score: 0.9066\n",
            "Epoch 33/50\n",
            "750/750 [==============================] - 11s 14ms/step - loss: 0.1659 - custom_f1_score: 0.9369 - val_loss: 0.2131 - val_custom_f1_score: 0.8900\n",
            "Epoch 34/50\n",
            "750/750 [==============================] - 11s 14ms/step - loss: 0.1699 - custom_f1_score: 0.9362 - val_loss: 0.2178 - val_custom_f1_score: 0.8990\n",
            "Epoch 35/50\n",
            "750/750 [==============================] - 10s 13ms/step - loss: 0.1441 - custom_f1_score: 0.9486 - val_loss: 0.1787 - val_custom_f1_score: 0.9222\n",
            "Epoch 36/50\n",
            "750/750 [==============================] - 10s 13ms/step - loss: 0.1464 - custom_f1_score: 0.9470 - val_loss: 0.2594 - val_custom_f1_score: 0.8927\n",
            "Epoch 37/50\n",
            "750/750 [==============================] - 10s 14ms/step - loss: 0.1446 - custom_f1_score: 0.9478 - val_loss: 0.2592 - val_custom_f1_score: 0.8933\n",
            "Epoch 38/50\n",
            "750/750 [==============================] - 11s 14ms/step - loss: 0.1364 - custom_f1_score: 0.9507 - val_loss: 0.1560 - val_custom_f1_score: 0.9309\n",
            "Epoch 39/50\n",
            "750/750 [==============================] - 10s 14ms/step - loss: 0.1414 - custom_f1_score: 0.9477 - val_loss: 0.1256 - val_custom_f1_score: 0.9421\n",
            "Epoch 40/50\n",
            "750/750 [==============================] - 10s 14ms/step - loss: 0.1128 - custom_f1_score: 0.9598 - val_loss: 0.1347 - val_custom_f1_score: 0.9320\n",
            "Epoch 41/50\n",
            "750/750 [==============================] - 11s 14ms/step - loss: 0.1119 - custom_f1_score: 0.9599 - val_loss: 0.2070 - val_custom_f1_score: 0.9034\n",
            "Epoch 42/50\n",
            "750/750 [==============================] - 10s 14ms/step - loss: 0.1137 - custom_f1_score: 0.9590 - val_loss: 0.1753 - val_custom_f1_score: 0.9210\n",
            "Epoch 43/50\n",
            "750/750 [==============================] - 10s 13ms/step - loss: 0.1067 - custom_f1_score: 0.9630 - val_loss: 0.1004 - val_custom_f1_score: 0.9534\n",
            "Epoch 44/50\n",
            "750/750 [==============================] - 10s 13ms/step - loss: 0.0988 - custom_f1_score: 0.9641 - val_loss: 0.0806 - val_custom_f1_score: 0.9624\n",
            "Epoch 45/50\n",
            "750/750 [==============================] - 10s 14ms/step - loss: 0.0942 - custom_f1_score: 0.9665 - val_loss: 0.1368 - val_custom_f1_score: 0.9379\n",
            "Epoch 46/50\n",
            "750/750 [==============================] - 10s 14ms/step - loss: 0.0926 - custom_f1_score: 0.9674 - val_loss: 0.1042 - val_custom_f1_score: 0.9495\n",
            "Epoch 47/50\n",
            "750/750 [==============================] - 11s 15ms/step - loss: 0.0977 - custom_f1_score: 0.9652 - val_loss: 0.0922 - val_custom_f1_score: 0.9560\n",
            "Epoch 48/50\n",
            "750/750 [==============================] - 10s 14ms/step - loss: 0.0823 - custom_f1_score: 0.9701 - val_loss: 0.0669 - val_custom_f1_score: 0.9664\n",
            "Epoch 49/50\n",
            "750/750 [==============================] - 10s 14ms/step - loss: 0.0830 - custom_f1_score: 0.9711 - val_loss: 0.0798 - val_custom_f1_score: 0.9670\n",
            "Epoch 50/50\n",
            "750/750 [==============================] - 10s 14ms/step - loss: 0.0782 - custom_f1_score: 0.9720 - val_loss: 0.0849 - val_custom_f1_score: 0.9686\n"
          ]
        }
      ]
    },
    {
      "cell_type": "code",
      "source": [
        "import matplotlib.pyplot as plt\n",
        "import seaborn as sns\n",
        "epoch_count = range(1, len(hist.history['custom_f1_score']) + 1)\n",
        "sns.lineplot(x=epoch_count,  y=hist.history['custom_f1_score'], label='train')\n",
        "sns.lineplot(x=epoch_count,  y=hist.history['val_custom_f1_score'], label='valid')\n",
        "plt.show()"
      ],
      "metadata": {
        "colab": {
          "base_uri": "https://localhost:8080/",
          "height": 434
        },
        "id": "fjyS95sDFD3b",
        "outputId": "25a01ca6-95b1-470f-9202-3d0a7943c9a8"
      },
      "execution_count": 126,
      "outputs": [
        {
          "output_type": "display_data",
          "data": {
            "text/plain": [
              "<Figure size 640x480 with 1 Axes>"
            ],
            "image/png": "[encoded data removed]"
          },
          "metadata": {}
        }
      ]
    },
    {
      "cell_type": "code",
      "source": [
        "model.evaluate(X_test, y_test)"
      ],
      "metadata": {
        "colab": {
          "base_uri": "https://localhost:8080/"
        },
        "id": "ncUTXSJSGK-j",
        "outputId": "19cecea7-bacb-4d21-dbfe-4a75ac24d72c"
      },
      "execution_count": 127,
      "outputs": [
        {
          "output_type": "stream",
          "name": "stdout",
          "text": [
            "142/142 [==============================] - 2s 6ms/step - loss: 2.2336 - custom_f1_score: 0.6555\n"
          ]
        },
        {
          "output_type": "execute_result",
          "data": {
            "text/plain": [
              "[2.2335827350616455, 0.6554921269416809]"
            ]
          },
          "metadata": {},
          "execution_count": 127
        }
      ]
    },
    {
      "cell_type": "markdown",
      "source": [
        "### Cambios realizados\n",
        "* En la columna de rating a los valores 0 y 1 les asigne el valor 0, a los valores 2 y 3 el 1 y a el valor 5 el 2\n",
        "* Como la distribución de valores estaba desbalanceada realice un Oversampling\n",
        "* Utilice categorical crossentropy para el loss y F1Score para la métrica"
      ],
      "metadata": {
        "id": "DFawVx2dur2v"
      }
    }
  ]
}